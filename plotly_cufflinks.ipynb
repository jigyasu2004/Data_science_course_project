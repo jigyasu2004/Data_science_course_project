{
 "cells": [
  {
   "cell_type": "code",
   "execution_count": 37,
   "id": "d7471b71-de20-4539-afbc-e785512a667b",
   "metadata": {},
   "outputs": [],
   "source": [
    "import pandas as pd\n",
    "import numpy as np\n",
    "from plotly import __version__"
   ]
  },
  {
   "cell_type": "code",
   "execution_count": 38,
   "id": "9ecd0df7-23b8-4acd-a5d4-df63ab214d96",
   "metadata": {},
   "outputs": [],
   "source": [
    "import cufflinks as cf"
   ]
  },
  {
   "cell_type": "code",
   "execution_count": 39,
   "id": "d82d7dec-d400-42f7-a0f6-3b46dd21d38f",
   "metadata": {},
   "outputs": [],
   "source": [
    "from plotly.offline import download_plotlyjs,init_notebook_mode,plot,iplot"
   ]
  },
  {
   "cell_type": "code",
   "execution_count": 40,
   "id": "7e3048f9-edf1-44be-97ab-57894ff5eee5",
   "metadata": {},
   "outputs": [
    {
     "data": {
      "text/html": [
       "        <script type=\"text/javascript\">\n",
       "        window.PlotlyConfig = {MathJaxConfig: 'local'};\n",
       "        if (window.MathJax && window.MathJax.Hub && window.MathJax.Hub.Config) {window.MathJax.Hub.Config({SVG: {font: \"STIX-Web\"}});}\n",
       "        if (typeof require !== 'undefined') {\n",
       "        require.undef(\"plotly\");\n",
       "        requirejs.config({\n",
       "            paths: {\n",
       "                'plotly': ['https://cdn.plot.ly/plotly-2.34.0.min']\n",
       "            }\n",
       "        });\n",
       "        require(['plotly'], function(Plotly) {\n",
       "            window._Plotly = Plotly;\n",
       "        });\n",
       "        }\n",
       "        </script>\n",
       "        "
      ]
     },
     "metadata": {},
     "output_type": "display_data"
    }
   ],
   "source": [
    "init_notebook_mode(connected=True)"
   ]
  },
  {
   "cell_type": "code",
   "execution_count": 41,
   "id": "07df7f3e-3ba7-4f63-98a1-a09037b670c6",
   "metadata": {},
   "outputs": [
    {
     "data": {
      "text/html": [
       "        <script type=\"text/javascript\">\n",
       "        window.PlotlyConfig = {MathJaxConfig: 'local'};\n",
       "        if (window.MathJax && window.MathJax.Hub && window.MathJax.Hub.Config) {window.MathJax.Hub.Config({SVG: {font: \"STIX-Web\"}});}\n",
       "        if (typeof require !== 'undefined') {\n",
       "        require.undef(\"plotly\");\n",
       "        requirejs.config({\n",
       "            paths: {\n",
       "                'plotly': ['https://cdn.plot.ly/plotly-2.34.0.min']\n",
       "            }\n",
       "        });\n",
       "        require(['plotly'], function(Plotly) {\n",
       "            window._Plotly = Plotly;\n",
       "        });\n",
       "        }\n",
       "        </script>\n",
       "        "
      ]
     },
     "metadata": {},
     "output_type": "display_data"
    }
   ],
   "source": [
    "cf.go_offline()"
   ]
  },
  {
   "cell_type": "code",
   "execution_count": 42,
   "id": "70256db9-1708-4b8c-a207-5330dcac5fda",
   "metadata": {},
   "outputs": [],
   "source": [
    "df = pd.DataFrame(np.random.randn(100,4), columns = 'A B C D'.split())"
   ]
  },
  {
   "cell_type": "code",
   "execution_count": 43,
   "id": "be075ebc-48ee-4b44-8a94-ca8073acbbde",
   "metadata": {},
   "outputs": [
    {
     "data": {
      "text/html": [
       "<div>\n",
       "<style scoped>\n",
       "    .dataframe tbody tr th:only-of-type {\n",
       "        vertical-align: middle;\n",
       "    }\n",
       "\n",
       "    .dataframe tbody tr th {\n",
       "        vertical-align: top;\n",
       "    }\n",
       "\n",
       "    .dataframe thead th {\n",
       "        text-align: right;\n",
       "    }\n",
       "</style>\n",
       "<table border=\"1\" class=\"dataframe\">\n",
       "  <thead>\n",
       "    <tr style=\"text-align: right;\">\n",
       "      <th></th>\n",
       "      <th>A</th>\n",
       "      <th>B</th>\n",
       "      <th>C</th>\n",
       "      <th>D</th>\n",
       "    </tr>\n",
       "  </thead>\n",
       "  <tbody>\n",
       "    <tr>\n",
       "      <th>0</th>\n",
       "      <td>-1.300106</td>\n",
       "      <td>0.921164</td>\n",
       "      <td>-0.754883</td>\n",
       "      <td>0.687970</td>\n",
       "    </tr>\n",
       "    <tr>\n",
       "      <th>1</th>\n",
       "      <td>-0.465309</td>\n",
       "      <td>-0.452865</td>\n",
       "      <td>-0.210250</td>\n",
       "      <td>1.929664</td>\n",
       "    </tr>\n",
       "    <tr>\n",
       "      <th>2</th>\n",
       "      <td>-0.109504</td>\n",
       "      <td>1.507295</td>\n",
       "      <td>1.235265</td>\n",
       "      <td>1.605204</td>\n",
       "    </tr>\n",
       "    <tr>\n",
       "      <th>3</th>\n",
       "      <td>-2.529412</td>\n",
       "      <td>-0.094152</td>\n",
       "      <td>1.428087</td>\n",
       "      <td>-0.274757</td>\n",
       "    </tr>\n",
       "    <tr>\n",
       "      <th>4</th>\n",
       "      <td>1.459277</td>\n",
       "      <td>1.000210</td>\n",
       "      <td>0.540006</td>\n",
       "      <td>-0.488574</td>\n",
       "    </tr>\n",
       "  </tbody>\n",
       "</table>\n",
       "</div>"
      ],
      "text/plain": [
       "          A         B         C         D\n",
       "0 -1.300106  0.921164 -0.754883  0.687970\n",
       "1 -0.465309 -0.452865 -0.210250  1.929664\n",
       "2 -0.109504  1.507295  1.235265  1.605204\n",
       "3 -2.529412 -0.094152  1.428087 -0.274757\n",
       "4  1.459277  1.000210  0.540006 -0.488574"
      ]
     },
     "execution_count": 43,
     "metadata": {},
     "output_type": "execute_result"
    }
   ],
   "source": [
    "df.head()"
   ]
  },
  {
   "cell_type": "code",
   "execution_count": 44,
   "id": "3bfc84ba-6c72-4bf5-b611-7834b424a8d8",
   "metadata": {},
   "outputs": [],
   "source": [
    "df2 = pd.DataFrame({'Category':['A','B','C'],'Values':[32,43,50]})"
   ]
  },
  {
   "cell_type": "code",
   "execution_count": 45,
   "id": "090f459e-a134-4f34-b666-680b2c8e9ad3",
   "metadata": {},
   "outputs": [
    {
     "data": {
      "text/html": [
       "<div>\n",
       "<style scoped>\n",
       "    .dataframe tbody tr th:only-of-type {\n",
       "        vertical-align: middle;\n",
       "    }\n",
       "\n",
       "    .dataframe tbody tr th {\n",
       "        vertical-align: top;\n",
       "    }\n",
       "\n",
       "    .dataframe thead th {\n",
       "        text-align: right;\n",
       "    }\n",
       "</style>\n",
       "<table border=\"1\" class=\"dataframe\">\n",
       "  <thead>\n",
       "    <tr style=\"text-align: right;\">\n",
       "      <th></th>\n",
       "      <th>Category</th>\n",
       "      <th>Values</th>\n",
       "    </tr>\n",
       "  </thead>\n",
       "  <tbody>\n",
       "    <tr>\n",
       "      <th>0</th>\n",
       "      <td>A</td>\n",
       "      <td>32</td>\n",
       "    </tr>\n",
       "    <tr>\n",
       "      <th>1</th>\n",
       "      <td>B</td>\n",
       "      <td>43</td>\n",
       "    </tr>\n",
       "    <tr>\n",
       "      <th>2</th>\n",
       "      <td>C</td>\n",
       "      <td>50</td>\n",
       "    </tr>\n",
       "  </tbody>\n",
       "</table>\n",
       "</div>"
      ],
      "text/plain": [
       "  Category  Values\n",
       "0        A      32\n",
       "1        B      43\n",
       "2        C      50"
      ]
     },
     "execution_count": 45,
     "metadata": {},
     "output_type": "execute_result"
    }
   ],
   "source": [
    "df2"
   ]
  },
  {
   "cell_type": "code",
   "execution_count": 46,
   "id": "073a0ff1-cd38-455d-beb3-1ee25d07100e",
   "metadata": {},
   "outputs": [
    {
     "data": {
      "text/plain": [
       "<Axes: >"
      ]
     },
     "execution_count": 46,
     "metadata": {},
     "output_type": "execute_result"
    },
    {
     "data": {
      "image/png": "[encoded data removed]",
      "text/plain": [
       "<Figure size 640x480 with 1 Axes>"
      ]
     },
     "metadata": {},
     "output_type": "display_data"
    }
   ],
   "source": [
    "df.plot()"
   ]
  },
  {
   "cell_type": "code",
   "execution_count": 47,
   "id": "a1abbbaa-af4a-4b99-ab4f-5476f59a6260",
   "metadata": {},
   "outputs": [
    {
     "data": {
      "application/vnd.plotly.v1+json": {
       "config": {
        "linkText": "Export to plot.ly",
        "plotlyServerURL": "https://plot.ly",
        "showLink": true
       },
       "data": [
        {
         "line": {
          "color": "rgba(255, 153, 51, 1.0)",
          "dash": "solid",
          "shape": "linear",
          "width": 1.3
         },
         "mode": "lines",
         "name": "A",
         "text": "",
         "type": "scatter",
         "x": [
          0,
          1,
          2,
          3,
          4,
          5,
          6,
          7,
          8,
          9,
          10,
          11,
          12,
          13,
          14,
          15,
          16,
          17,
          18,
          19,
          20,
          21,
          22,
          23,
          24,
          25,
          26,
          27,
          28,
          29,
          30,
          31,
          32,
          33,
          34,
          35,
          36,
          37,
          38,
          39,
          40,
          41,
          42,
          43,
          44,
          45,
          46,
          47,
          48,
          49,
          50,
          51,
          52,
          53,
          54,
          55,
          56,
          57,
          58,
          59,
          60,
          61,
          62,
          63,
          64,
          65,
          66,
          67,
          68,
          69,
          70,
          71,
          72,
          73,
          74,
          75,
          76,
          77,
          78,
          79,
          80,
          81,
          82,
          83,
          84,
          85,
          86,
          87,
          88,
          89,
          90,
          91,
          92,
          93,
          94,
          95,
          96,
          97,
          98,
          99
         ],
         "y": [
          -1.3001058810112465,
          -0.46530946050785577,
          -0.10950361487242674,
          -2.5294117773642872,
          1.4592767272081206,
          0.7670306517873596,
          -0.6516291878969268,
          0.4104823796917037,
          -0.544649856021266,
          0.8881688549775284,
          0.532315391270855,
          -1.5068091892635043,
          0.9579907601008844,
          0.15737330511787645,
          0.3603592835733318,
          -0.6824999608142553,
          0.6184689337730324,
          -0.2569434735665441,
          1.9346115857987043,
          1.2589983024560878,
          -0.002111599045755978,
          -1.3490529580186015,
          1.0451730254996596,
          1.1319992170010402,
          0.047014169746154084,
          -0.2550073591224525,
          -0.39995720360484927,
          -1.4458849143543648,
          -0.3862220530025955,
          0.26560783039456504,
          0.150885820629637,
          -1.5682605363009903,
          0.968091451793801,
          0.3787436367196607,
          -1.3771783390048689,
          0.9592045069196298,
          -0.3241273752234432,
          -0.03019526395473516,
          -0.2081948139585612,
          0.8644302805595135,
          -0.33780970298210705,
          0.7043957270494225,
          -0.46245433881706893,
          -0.37007331609432986,
          0.43456570476717754,
          0.2566116284695562,
          -0.7372810068742501,
          -0.18223889085387784,
          -0.8465791446343268,
          0.2717256558836371,
          1.6455028927346265,
          1.3193189133051533,
          0.18604036223398376,
          -0.17375253641896074,
          -0.033510871685691467,
          -1.7264768352173898,
          -0.12396039765034247,
          0.7164036162252534,
          -1.3583568423607228,
          0.7535029498080489,
          -0.9668281303137861,
          -0.322493160471488,
          0.44555634683543205,
          0.05648456164821221,
          -2.148347844803425,
          1.7860718076761208,
          -1.5116173635175172,
          0.9608624590930857,
          1.7010533335406506,
          1.6936039502170883,
          1.182270008122812,
          1.2257195501445006,
          1.5507635887516797,
          -0.2586530668969108,
          0.23550600076294134,
          0.69619731625886,
          0.3992069551279182,
          -0.8630895110192605,
          -1.6535368987079742,
          0.2985511324042734,
          0.23027020044104454,
          0.03500911805698938,
          -0.7343768497618143,
          0.4060420213841534,
          1.7514127712284566,
          0.36907900713205327,
          -0.6361125952209186,
          0.4021335199898844,
          -0.07938530683597056,
          -1.5830883082184337,
          0.08035389910120652,
          -1.174668326667251,
          -1.4107028887293993,
          2.160528395157838,
          -0.7690733279906413,
          -1.8916286119365846,
          -1.9827422273601996,
          -0.37697015679945955,
          1.5268484627356618,
          1.8331079406695325
         ]
        },
        {
         "line": {
          "color": "rgba(55, 128, 191, 1.0)",
          "dash": "solid",
          "shape": "linear",
          "width": 1.3
         },
         "mode": "lines",
         "name": "B",
         "text": "",
         "type": "scatter",
         "x": [
          0,
          1,
          2,
          3,
          4,
          5,
          6,
          7,
          8,
          9,
          10,
          11,
          12,
          13,
          14,
          15,
          16,
          17,
          18,
          19,
          20,
          21,
          22,
          23,
          24,
          25,
          26,
          27,
          28,
          29,
          30,
          31,
          32,
          33,
          34,
          35,
          36,
          37,
          38,
          39,
          40,
          41,
          42,
          43,
          44,
          45,
          46,
          47,
          48,
          49,
          50,
          51,
          52,
          53,
          54,
          55,
          56,
          57,
          58,
          59,
          60,
          61,
          62,
          63,
          64,
          65,
          66,
          67,
          68,
          69,
          70,
          71,
          72,
          73,
          74,
          75,
          76,
          77,
          78,
          79,
          80,
          81,
          82,
          83,
          84,
          85,
          86,
          87,
          88,
          89,
          90,
          91,
          92,
          93,
          94,
          95,
          96,
          97,
          98,
          99
         ],
         "y": [
          0.9211641716514989,
          -0.45286454767699247,
          1.507295301443652,
          -0.0941522142867107,
          1.0002103275899614,
          -1.378247564019476,
          1.1071077601553698,
          -0.1749210111934675,
          0.05254161319828364,
          0.5434960505964225,
          0.4914754597583844,
          0.08639312661549127,
          -0.3895097816466638,
          -0.7134520817388416,
          -1.5151320380590865,
          -1.061247871421113,
          -1.740012495008272,
          2.396636405128658,
          0.6886980402718053,
          -1.0869908846099534,
          3.1527553998912676,
          1.1297788257980361,
          -0.22296840108121435,
          -0.9768576135672864,
          0.6896328557342014,
          0.3492069340060777,
          1.0185621203763817,
          -0.4731562100651628,
          -1.0426531668877301,
          0.747520562731134,
          -1.356168168969613,
          0.9591007490643529,
          0.03464059124711555,
          0.8869071025578134,
          1.0716855389989757,
          -0.3565456913445454,
          0.63956648842299,
          -1.8995974784062335,
          1.072432650879506,
          -0.11959101232312604,
          -2.008786203767708,
          0.5898566311949867,
          -0.9909648084576543,
          -0.19357053279487754,
          0.8278278906390226,
          0.04723495572859634,
          1.2622857687793614,
          -1.3360667163117597,
          -1.715070973207002,
          0.20481641538559578,
          0.48231432087778275,
          -0.33506691073340156,
          -1.4717912658279217,
          2.179817589278003,
          -0.3205460771605975,
          1.1922165355265868,
          0.6776936269630355,
          -0.8255555594874866,
          -0.3076137910284783,
          0.04577378404974291,
          0.5908813177742992,
          -0.0867135795721074,
          0.5594072519618621,
          -0.1413001202249238,
          1.7384340424803102,
          -2.4492080768855287,
          -0.7887547190464445,
          -1.2518677215899865,
          -0.6487098819154417,
          -0.28465106194768164,
          -1.1357631521479223,
          -1.4106670327708521,
          1.750481229903767,
          0.11584052481397858,
          0.7843671952305441,
          -1.8804236899463251,
          -0.4204697864425212,
          0.6987164435896369,
          2.1934276816037603,
          -0.5369306398733962,
          0.6848798903880331,
          0.033325477891684926,
          0.41516603128137797,
          0.1883920208711664,
          -0.012559303210577832,
          1.1243442155693069,
          -0.9201746380248,
          0.21929955502170842,
          0.6079496486264784,
          -0.28364880324262076,
          -1.0678607990897728,
          0.24538008674681774,
          0.0873868707722896,
          -0.029322832699304503,
          -0.4378358450539327,
          -0.6042258584836061,
          0.20698967658156647,
          0.6947256431567338,
          0.7779904885055057,
          -0.6478925945026229
         ]
        },
        {
         "line": {
          "color": "rgba(50, 171, 96, 1.0)",
          "dash": "solid",
          "shape": "linear",
          "width": 1.3
         },
         "mode": "lines",
         "name": "C",
         "text": "",
         "type": "scatter",
         "x": [
          0,
          1,
          2,
          3,
          4,
          5,
          6,
          7,
          8,
          9,
          10,
          11,
          12,
          13,
          14,
          15,
          16,
          17,
          18,
          19,
          20,
          21,
          22,
          23,
          24,
          25,
          26,
          27,
          28,
          29,
          30,
          31,
          32,
          33,
          34,
          35,
          36,
          37,
          38,
          39,
          40,
          41,
          42,
          43,
          44,
          45,
          46,
          47,
          48,
          49,
          50,
          51,
          52,
          53,
          54,
          55,
          56,
          57,
          58,
          59,
          60,
          61,
          62,
          63,
          64,
          65,
          66,
          67,
          68,
          69,
          70,
          71,
          72,
          73,
          74,
          75,
          76,
          77,
          78,
          79,
          80,
          81,
          82,
          83,
          84,
          85,
          86,
          87,
          88,
          89,
          90,
          91,
          92,
          93,
          94,
          95,
          96,
          97,
          98,
          99
         ],
         "y": [
          -0.7548830349886892,
          -0.21025012996068543,
          1.2352651555762282,
          1.4280874484354498,
          0.5400061602152736,
          0.7421658962796771,
          -1.2871317054810116,
          -1.086702411150145,
          0.860597318565647,
          -0.8984767674269208,
          -0.6408400275949473,
          -0.6231139538182842,
          0.47686903227366845,
          -0.5222404653859912,
          0.3354629916344037,
          -0.24050798806498722,
          0.6050327644468665,
          1.2635935190460732,
          1.2009303023577158,
          0.75323343824523,
          1.9002559625024293,
          -0.698911480006405,
          0.6342777756638287,
          0.782101530600702,
          0.2826826324448284,
          -1.65690738769774,
          0.8482634507806942,
          -0.15255465355947787,
          0.11148134395957575,
          0.0987925919572817,
          -1.335918856608248,
          -0.5171091631329664,
          -0.6235718298722012,
          0.5671776731265588,
          0.7392274828088145,
          1.8246388745890942,
          -1.7550304206276457,
          1.4380939214946005,
          0.3704705330528845,
          -2.3040552958867857,
          -0.8847028176484736,
          2.16830658252528,
          -0.37581194386627764,
          -0.5507322649834541,
          -0.604291095646759,
          0.38305507436058606,
          0.27940153522987454,
          -0.8218740197657894,
          -0.9020323486632497,
          -0.5335213373613528,
          -0.6816958257254734,
          -1.1288155740351409,
          -0.6728835483739168,
          0.0015628204689170067,
          -0.3866864643043815,
          1.2637054262050744,
          0.7847528841415734,
          -2.2486306836040226,
          -0.8495306418174259,
          1.072795682479761,
          1.1622834320328934,
          1.880740416617544,
          -0.9614376024908567,
          0.5747129310943649,
          -1.418783387845243,
          -1.014058202020123,
          1.7466971000376088,
          -0.21544442930199195,
          0.6192118352024711,
          -1.1695836861919342,
          1.012142707000702,
          0.05983995345276081,
          -0.491641080448236,
          -1.3083796927261002,
          -0.03895856609795862,
          -0.41312925986321747,
          1.6044693479974013,
          0.5132267837206526,
          0.6662885589034524,
          -0.6347185479364806,
          -0.8320016047643972,
          -0.11754002811826937,
          0.3122964949147765,
          0.9400548558386398,
          -0.8814784679609134,
          -1.005925134302546,
          -0.05209966060511078,
          -0.5298779532186032,
          -0.7137525095401087,
          -0.4183102056268815,
          0.272081345826888,
          0.2518002303128945,
          -0.30563307552559893,
          1.7234015083694751,
          -2.453198806238153,
          0.021786832966030456,
          -0.8167479247997417,
          -0.12583827523964378,
          0.5536552541427264,
          1.3131382588613076
         ]
        },
        {
         "line": {
          "color": "rgba(128, 0, 128, 1.0)",
          "dash": "solid",
          "shape": "linear",
          "width": 1.3
         },
         "mode": "lines",
         "name": "D",
         "text": "",
         "type": "scatter",
         "x": [
          0,
          1,
          2,
          3,
          4,
          5,
          6,
          7,
          8,
          9,
          10,
          11,
          12,
          13,
          14,
          15,
          16,
          17,
          18,
          19,
          20,
          21,
          22,
          23,
          24,
          25,
          26,
          27,
          28,
          29,
          30,
          31,
          32,
          33,
          34,
          35,
          36,
          37,
          38,
          39,
          40,
          41,
          42,
          43,
          44,
          45,
          46,
          47,
          48,
          49,
          50,
          51,
          52,
          53,
          54,
          55,
          56,
          57,
          58,
          59,
          60,
          61,
          62,
          63,
          64,
          65,
          66,
          67,
          68,
          69,
          70,
          71,
          72,
          73,
          74,
          75,
          76,
          77,
          78,
          79,
          80,
          81,
          82,
          83,
          84,
          85,
          86,
          87,
          88,
          89,
          90,
          91,
          92,
          93,
          94,
          95,
          96,
          97,
          98,
          99
         ],
         "y": [
          0.6879702910040386,
          1.9296641599147613,
          1.605203738169053,
          -0.27475740903725904,
          -0.48857368306328236,
          0.11867721885104326,
          -0.5957564278731469,
          -0.8802758275526458,
          0.3559182615898839,
          -0.16560452313374283,
          0.021679418300028095,
          2.866646801937248,
          -0.5081544824303301,
          0.8749323691754335,
          -0.5165040222305178,
          0.717581421811411,
          0.7544813533790324,
          -1.1403519744574675,
          0.40899113253188263,
          -0.16362679795392332,
          -2.001950845646434,
          -1.3822838604818846,
          0.5019233674462837,
          -1.2317468986761018,
          -0.4984692451216619,
          -0.9260932824809281,
          0.4756749714755795,
          -0.6610918541178473,
          -0.047025359043997114,
          1.1926598744329326,
          -0.789444500385222,
          -0.5772999713177753,
          0.847124999267147,
          1.3332205718333998,
          2.798317502397506,
          -0.9765356054498182,
          0.04560028789291612,
          0.2044882924040595,
          -0.16494655814429118,
          0.5780118673346288,
          0.8163774564251717,
          1.0083760451480759,
          1.1216772504759176,
          -0.08563326378149083,
          -1.8579749003690214,
          0.729215363114337,
          1.0215636398642896,
          0.7981023441296847,
          -0.24764319032250995,
          -0.7919913853124132,
          0.15279832094873147,
          3.664677996254644,
          0.9452424189905382,
          -0.8875328468762946,
          -1.8163865198910745,
          1.2101978053083184,
          1.5064002643992576,
          -1.3572287092905801,
          -0.09901607009287665,
          1.855874733308549,
          -1.260924487842629,
          -0.5809057553348415,
          0.5712842099893681,
          0.5934262272025093,
          0.7261103511679504,
          1.7716788696112329,
          -0.8585799524176165,
          -0.8276542603663256,
          0.46723607807832956,
          -0.31407654661347245,
          3.1099939087060817,
          2.0870892126355534,
          -0.5438964402056768,
          0.5008965695334181,
          -0.8919925358586309,
          0.7663648088632004,
          -0.5737294539903666,
          -0.5488882467487303,
          0.12390242547350015,
          -0.7003682246363913,
          -1.1216107146043515,
          0.8856932776759999,
          -0.7455311437728359,
          0.9144123878063805,
          0.3959444901852964,
          -0.32064900755999337,
          0.672482436312941,
          0.5376036961559703,
          1.1356780926372063,
          0.24838399859909138,
          0.010232964532375675,
          -0.6659170479314745,
          1.646909083590659,
          -0.6960373497596587,
          2.0698649948777845,
          -0.9517655425945232,
          2.3267086237385133,
          -0.9817523326060503,
          1.5682033936279967,
          -0.021923817085274817
         ]
        }
       ],
       "layout": {
        "autosize": true,
        "legend": {
         "bgcolor": "#F5F6F9",
         "font": {
          "color": "#4D5663"
         }
        },
        "paper_bgcolor": "#F5F6F9",
        "plot_bgcolor": "#F5F6F9",
        "template": {
         "data": {
          "bar": [
           {
            "error_x": {
             "color": "#2a3f5f"
            },
            "error_y": {
             "color": "#2a3f5f"
            },
            "marker": {
             "line": {
              "color": "#E5ECF6",
              "width": 0.5
             },
             "pattern": {
              "fillmode": "overlay",
              "size": 10,
              "solidity": 0.2
             }
            },
            "type": "bar"
           }
          ],
          "barpolar": [
           {
            "marker": {
             "line": {
              "color": "#E5ECF6",
              "width": 0.5
             },
             "pattern": {
              "fillmode": "overlay",
              "size": 10,
              "solidity": 0.2
             }
            },
            "type": "barpolar"
           }
          ],
          "carpet": [
           {
            "aaxis": {
             "endlinecolor": "#2a3f5f",
             "gridcolor": "white",
             "linecolor": "white",
             "minorgridcolor": "white",
             "startlinecolor": "#2a3f5f"
            },
            "baxis": {
             "endlinecolor": "#2a3f5f",
             "gridcolor": "white",
             "linecolor": "white",
             "minorgridcolor": "white",
             "startlinecolor": "#2a3f5f"
            },
            "type": "carpet"
           }
          ],
          "choropleth": [
           {
            "colorbar": {
             "outlinewidth": 0,
             "ticks": ""
            },
            "type": "choropleth"
           }
          ],
          "contour": [
           {
            "colorbar": {
             "outlinewidth": 0,
             "ticks": ""
            },
            "colorscale": [
             [
              0,
              "#0d0887"
             ],
             [
              0.1111111111111111,
              "#46039f"
             ],
             [
              0.2222222222222222,
              "#7201a8"
             ],
             [
              0.3333333333333333,
              "#9c179e"
             ],
             [
              0.4444444444444444,
              "#bd3786"
             ],
             [
              0.5555555555555556,
              "#d8576b"
             ],
             [
              0.6666666666666666,
              "#ed7953"
             ],
             [
              0.7777777777777778,
              "#fb9f3a"
             ],
             [
              0.8888888888888888,
              "#fdca26"
             ],
             [
              1,
              "#f0f921"
             ]
            ],
            "type": "contour"
           }
          ],
          "contourcarpet": [
           {
            "colorbar": {
             "outlinewidth": 0,
             "ticks": ""
            },
            "type": "contourcarpet"
           }
          ],
          "heatmap": [
           {
            "colorbar": {
             "outlinewidth": 0,
             "ticks": ""
            },
            "colorscale": [
             [
              0,
              "#0d0887"
             ],
             [
              0.1111111111111111,
              "#46039f"
             ],
             [
              0.2222222222222222,
              "#7201a8"
             ],
             [
              0.3333333333333333,
              "#9c179e"
             ],
             [
              0.4444444444444444,
              "#bd3786"
             ],
             [
              0.5555555555555556,
              "#d8576b"
             ],
             [
              0.6666666666666666,
              "#ed7953"
             ],
             [
              0.7777777777777778,
              "#fb9f3a"
             ],
             [
              0.8888888888888888,
              "#fdca26"
             ],
             [
              1,
              "#f0f921"
             ]
            ],
            "type": "heatmap"
           }
          ],
          "heatmapgl": [
           {
            "colorbar": {
             "outlinewidth": 0,
             "ticks": ""
            },
            "colorscale": [
             [
              0,
              "#0d0887"
             ],
             [
              0.1111111111111111,
              "#46039f"
             ],
             [
              0.2222222222222222,
              "#7201a8"
             ],
             [
              0.3333333333333333,
              "#9c179e"
             ],
             [
              0.4444444444444444,
              "#bd3786"
             ],
             [
              0.5555555555555556,
              "#d8576b"
             ],
             [
              0.6666666666666666,
              "#ed7953"
             ],
             [
              0.7777777777777778,
              "#fb9f3a"
             ],
             [
              0.8888888888888888,
              "#fdca26"
             ],
             [
              1,
              "#f0f921"
             ]
            ],
            "type": "heatmapgl"
           }
          ],
          "histogram": [
           {
            "marker": {
             "pattern": {
              "fillmode": "overlay",
              "size": 10,
              "solidity": 0.2
             }
            },
            "type": "histogram"
           }
          ],
          "histogram2d": [
           {
            "colorbar": {
             "outlinewidth": 0,
             "ticks": ""
            },
            "colorscale": [
             [
              0,
              "#0d0887"
             ],
             [
              0.1111111111111111,
              "#46039f"
             ],
             [
              0.2222222222222222,
              "#7201a8"
             ],
             [
              0.3333333333333333,
              "#9c179e"
             ],
             [
              0.4444444444444444,
              "#bd3786"
             ],
             [
              0.5555555555555556,
              "#d8576b"
             ],
             [
              0.6666666666666666,
              "#ed7953"
             ],
             [
              0.7777777777777778,
              "#fb9f3a"
             ],
             [
              0.8888888888888888,
              "#fdca26"
             ],
             [
              1,
              "#f0f921"
             ]
            ],
            "type": "histogram2d"
           }
          ],
          "histogram2dcontour": [
           {
            "colorbar": {
             "outlinewidth": 0,
             "ticks": ""
            },
            "colorscale": [
             [
              0,
              "#0d0887"
             ],
             [
              0.1111111111111111,
              "#46039f"
             ],
             [
              0.2222222222222222,
              "#7201a8"
             ],
             [
              0.3333333333333333,
              "#9c179e"
             ],
             [
              0.4444444444444444,
              "#bd3786"
             ],
             [
              0.5555555555555556,
              "#d8576b"
             ],
             [
              0.6666666666666666,
              "#ed7953"
             ],
             [
              0.7777777777777778,
              "#fb9f3a"
             ],
             [
              0.8888888888888888,
              "#fdca26"
             ],
             [
              1,
              "#f0f921"
             ]
            ],
            "type": "histogram2dcontour"
           }
          ],
          "mesh3d": [
           {
            "colorbar": {
             "outlinewidth": 0,
             "ticks": ""
            },
            "type": "mesh3d"
           }
          ],
          "parcoords": [
           {
            "line": {
             "colorbar": {
              "outlinewidth": 0,
              "ticks": ""
             }
            },
            "type": "parcoords"
           }
          ],
          "pie": [
           {
            "automargin": true,
            "type": "pie"
           }
          ],
          "scatter": [
           {
            "fillpattern": {
             "fillmode": "overlay",
             "size": 10,
             "solidity": 0.2
            },
            "type": "scatter"
           }
          ],
          "scatter3d": [
           {
            "line": {
             "colorbar": {
              "outlinewidth": 0,
              "ticks": ""
             }
            },
            "marker": {
             "colorbar": {
              "outlinewidth": 0,
              "ticks": ""
             }
            },
            "type": "scatter3d"
           }
          ],
          "scattercarpet": [
           {
            "marker": {
             "colorbar": {
              "outlinewidth": 0,
              "ticks": ""
             }
            },
            "type": "scattercarpet"
           }
          ],
          "scattergeo": [
           {
            "marker": {
             "colorbar": {
              "outlinewidth": 0,
              "ticks": ""
             }
            },
            "type": "scattergeo"
           }
          ],
          "scattergl": [
           {
            "marker": {
             "colorbar": {
              "outlinewidth": 0,
              "ticks": ""
             }
            },
            "type": "scattergl"
           }
          ],
          "scattermapbox": [
           {
            "marker": {
             "colorbar": {
              "outlinewidth": 0,
              "ticks": ""
             }
            },
            "type": "scattermapbox"
           }
          ],
          "scatterpolar": [
           {
            "marker": {
             "colorbar": {
              "outlinewidth": 0,
              "ticks": ""
             }
            },
            "type": "scatterpolar"
           }
          ],
          "scatterpolargl": [
           {
            "marker": {
             "colorbar": {
              "outlinewidth": 0,
              "ticks": ""
             }
            },
            "type": "scatterpolargl"
           }
          ],
          "scatterternary": [
           {
            "marker": {
             "colorbar": {
              "outlinewidth": 0,
              "ticks": ""
             }
            },
            "type": "scatterternary"
           }
          ],
          "surface": [
           {
            "colorbar": {
             "outlinewidth": 0,
             "ticks": ""
            },
            "colorscale": [
             [
              0,
              "#0d0887"
             ],
             [
              0.1111111111111111,
              "#46039f"
             ],
             [
              0.2222222222222222,
              "#7201a8"
             ],
             [
              0.3333333333333333,
              "#9c179e"
             ],
             [
              0.4444444444444444,
              "#bd3786"
             ],
             [
              0.5555555555555556,
              "#d8576b"
             ],
             [
              0.6666666666666666,
              "#ed7953"
             ],
             [
              0.7777777777777778,
              "#fb9f3a"
             ],
             [
              0.8888888888888888,
              "#fdca26"
             ],
             [
              1,
              "#f0f921"
             ]
            ],
            "type": "surface"
           }
          ],
          "table": [
           {
            "cells": {
             "fill": {
              "color": "#EBF0F8"
             },
             "line": {
              "color": "white"
             }
            },
            "header": {
             "fill": {
              "color": "#C8D4E3"
             },
             "line": {
              "color": "white"
             }
            },
            "type": "table"
           }
          ]
         },
         "layout": {
          "annotationdefaults": {
           "arrowcolor": "#2a3f5f",
           "arrowhead": 0,
           "arrowwidth": 1
          },
          "autotypenumbers": "strict",
          "coloraxis": {
           "colorbar": {
            "outlinewidth": 0,
            "ticks": ""
           }
          },
          "colorscale": {
           "diverging": [
            [
             0,
             "#8e0152"
            ],
            [
             0.1,
             "#c51b7d"
            ],
            [
             0.2,
             "#de77ae"
            ],
            [
             0.3,
             "#f1b6da"
            ],
            [
             0.4,
             "#fde0ef"
            ],
            [
             0.5,
             "#f7f7f7"
            ],
            [
             0.6,
             "#e6f5d0"
            ],
            [
             0.7,
             "#b8e186"
            ],
            [
             0.8,
             "#7fbc41"
            ],
            [
             0.9,
             "#4d9221"
            ],
            [
             1,
             "#276419"
            ]
           ],
           "sequential": [
            [
             0,
             "#0d0887"
            ],
            [
             0.1111111111111111,
             "#46039f"
            ],
            [
             0.2222222222222222,
             "#7201a8"
            ],
            [
             0.3333333333333333,
             "#9c179e"
            ],
            [
             0.4444444444444444,
             "#bd3786"
            ],
            [
             0.5555555555555556,
             "#d8576b"
            ],
            [
             0.6666666666666666,
             "#ed7953"
            ],
            [
             0.7777777777777778,
             "#fb9f3a"
            ],
            [
             0.8888888888888888,
             "#fdca26"
            ],
            [
             1,
             "#f0f921"
            ]
           ],
           "sequentialminus": [
            [
             0,
             "#0d0887"
            ],
            [
             0.1111111111111111,
             "#46039f"
            ],
            [
             0.2222222222222222,
             "#7201a8"
            ],
            [
             0.3333333333333333,
             "#9c179e"
            ],
            [
             0.4444444444444444,
             "#bd3786"
            ],
            [
             0.5555555555555556,
             "#d8576b"
            ],
            [
             0.6666666666666666,
             "#ed7953"
            ],
            [
             0.7777777777777778,
             "#fb9f3a"
            ],
            [
             0.8888888888888888,
             "#fdca26"
            ],
            [
             1,
             "#f0f921"
            ]
           ]
          },
          "colorway": [
           "#636efa",
           "#EF553B",
           "#00cc96",
           "#ab63fa",
           "#FFA15A",
           "#19d3f3",
           "#FF6692",
           "#B6E880",
           "#FF97FF",
           "#FECB52"
          ],
          "font": {
           "color": "#2a3f5f"
          },
          "geo": {
           "bgcolor": "white",
           "lakecolor": "white",
           "landcolor": "#E5ECF6",
           "showlakes": true,
           "showland": true,
           "subunitcolor": "white"
          },
          "hoverlabel": {
           "align": "left"
          },
          "hovermode": "closest",
          "mapbox": {
           "style": "light"
          },
          "paper_bgcolor": "white",
          "plot_bgcolor": "#E5ECF6",
          "polar": {
           "angularaxis": {
            "gridcolor": "white",
            "linecolor": "white",
            "ticks": ""
           },
           "bgcolor": "#E5ECF6",
           "radialaxis": {
            "gridcolor": "white",
            "linecolor": "white",
            "ticks": ""
           }
          },
          "scene": {
           "xaxis": {
            "backgroundcolor": "#E5ECF6",
            "gridcolor": "white",
            "gridwidth": 2,
            "linecolor": "white",
            "showbackground": true,
            "ticks": "",
            "zerolinecolor": "white"
           },
           "yaxis": {
            "backgroundcolor": "#E5ECF6",
            "gridcolor": "white",
            "gridwidth": 2,
            "linecolor": "white",
            "showbackground": true,
            "ticks": "",
            "zerolinecolor": "white"
           },
           "zaxis": {
            "backgroundcolor": "#E5ECF6",
            "gridcolor": "white",
            "gridwidth": 2,
            "linecolor": "white",
            "showbackground": true,
            "ticks": "",
            "zerolinecolor": "white"
           }
          },
          "shapedefaults": {
           "line": {
            "color": "#2a3f5f"
           }
          },
          "ternary": {
           "aaxis": {
            "gridcolor": "white",
            "linecolor": "white",
            "ticks": ""
           },
           "baxis": {
            "gridcolor": "white",
            "linecolor": "white",
            "ticks": ""
           },
           "bgcolor": "#E5ECF6",
           "caxis": {
            "gridcolor": "white",
            "linecolor": "white",
            "ticks": ""
           }
          },
          "title": {
           "x": 0.05
          },
          "xaxis": {
           "automargin": true,
           "gridcolor": "white",
           "linecolor": "white",
           "ticks": "",
           "title": {
            "standoff": 15
           },
           "zerolinecolor": "white",
           "zerolinewidth": 2
          },
          "yaxis": {
           "automargin": true,
           "gridcolor": "white",
           "linecolor": "white",
           "ticks": "",
           "title": {
            "standoff": 15
           },
           "zerolinecolor": "white",
           "zerolinewidth": 2
          }
         }
        },
        "title": {
         "font": {
          "color": "#4D5663"
         }
        },
        "xaxis": {
         "autorange": true,
         "gridcolor": "#E1E5ED",
         "range": [
          0,
          99
         ],
         "showgrid": true,
         "tickfont": {
          "color": "#4D5663"
         },
         "title": {
          "font": {
           "color": "#4D5663"
          },
          "text": ""
         },
         "type": "linear",
         "zerolinecolor": "#E1E5ED"
        },
        "yaxis": {
         "autorange": true,
         "gridcolor": "#E1E5ED",
         "range": [
          -2.8735278758986724,
          4.008794094789029
         ],
         "showgrid": true,
         "tickfont": {
          "color": "#4D5663"
         },
         "title": {
          "font": {
           "color": "#4D5663"
          },
          "text": ""
         },
         "type": "linear",
         "zerolinecolor": "#E1E5ED"
        }
       }
      },
      "image/png": "[encoded data removed]",
      "text/html": [
       "<div>                            <div id=\"2d094da5-38cf-4031-8485-459b968a6cdb\" class=\"plotly-graph-div\" style=\"height:525px; width:100%;\"></div>            <script type=\"text/javascript\">                require([\"plotly\"], function(Plotly) {                    window.PLOTLYENV=window.PLOTLYENV || {};\n",
       "                    window.PLOTLYENV.BASE_URL='https://plot.ly';                                    if (document.getElementById(\"2d094da5-38cf-4031-8485-459b968a6cdb\")) {                    Plotly.newPlot(                        \"2d094da5-38cf-4031-8485-459b968a6cdb\",                        [{\"line\":{\"color\":\"rgba(255, 153, 51, 1.0)\",\"dash\":\"solid\",\"shape\":\"linear\",\"width\":1.3},\"mode\":\"lines\",\"name\":\"A\",\"text\":\"\",\"x\":[0,1,2,3,4,5,6,7,8,9,10,11,12,13,14,15,16,17,18,19,20,21,22,23,24,25,26,27,28,29,30,31,32,33,34,35,36,37,38,39,40,41,42,43,44,45,46,47,48,49,50,51,52,53,54,55,56,57,58,59,60,61,62,63,64,65,66,67,68,69,70,71,72,73,74,75,76,77,78,79,80,81,82,83,84,85,86,87,88,89,90,91,92,93,94,95,96,97,98,99],\"y\":[-1.3001058810112465,-0.46530946050785577,-0.10950361487242674,-2.5294117773642872,1.4592767272081206,0.7670306517873596,-0.6516291878969268,0.4104823796917037,-0.544649856021266,0.8881688549775284,0.532315391270855,-1.5068091892635043,0.9579907601008844,0.15737330511787645,0.3603592835733318,-0.6824999608142553,0.6184689337730324,-0.2569434735665441,1.9346115857987043,1.2589983024560878,-0.002111599045755978,-1.3490529580186015,1.0451730254996596,1.1319992170010402,0.047014169746154084,-0.2550073591224525,-0.39995720360484927,-1.4458849143543648,-0.3862220530025955,0.26560783039456504,0.150885820629637,-1.5682605363009903,0.968091451793801,0.3787436367196607,-1.3771783390048689,0.9592045069196298,-0.3241273752234432,-0.03019526395473516,-0.2081948139585612,0.8644302805595135,-0.33780970298210705,0.7043957270494225,-0.46245433881706893,-0.37007331609432986,0.43456570476717754,0.2566116284695562,-0.7372810068742501,-0.18223889085387784,-0.8465791446343268,0.2717256558836371,1.6455028927346265,1.3193189133051533,0.18604036223398376,-0.17375253641896074,-0.033510871685691467,-1.7264768352173898,-0.12396039765034247,0.7164036162252534,-1.3583568423607228,0.7535029498080489,-0.9668281303137861,-0.322493160471488,0.44555634683543205,0.05648456164821221,-2.148347844803425,1.7860718076761208,-1.5116173635175172,0.9608624590930857,1.7010533335406506,1.6936039502170883,1.182270008122812,1.2257195501445006,1.5507635887516797,-0.2586530668969108,0.23550600076294134,0.69619731625886,0.3992069551279182,-0.8630895110192605,-1.6535368987079742,0.2985511324042734,0.23027020044104454,0.03500911805698938,-0.7343768497618143,0.4060420213841534,1.7514127712284566,0.36907900713205327,-0.6361125952209186,0.4021335199898844,-0.07938530683597056,-1.5830883082184337,0.08035389910120652,-1.174668326667251,-1.4107028887293993,2.160528395157838,-0.7690733279906413,-1.8916286119365846,-1.9827422273601996,-0.37697015679945955,1.5268484627356618,1.8331079406695325],\"type\":\"scatter\"},{\"line\":{\"color\":\"rgba(55, 128, 191, 1.0)\",\"dash\":\"solid\",\"shape\":\"linear\",\"width\":1.3},\"mode\":\"lines\",\"name\":\"B\",\"text\":\"\",\"x\":[0,1,2,3,4,5,6,7,8,9,10,11,12,13,14,15,16,17,18,19,20,21,22,23,24,25,26,27,28,29,30,31,32,33,34,35,36,37,38,39,40,41,42,43,44,45,46,47,48,49,50,51,52,53,54,55,56,57,58,59,60,61,62,63,64,65,66,67,68,69,70,71,72,73,74,75,76,77,78,79,80,81,82,83,84,85,86,87,88,89,90,91,92,93,94,95,96,97,98,99],\"y\":[0.9211641716514989,-0.45286454767699247,1.507295301443652,-0.0941522142867107,1.0002103275899614,-1.378247564019476,1.1071077601553698,-0.1749210111934675,0.05254161319828364,0.5434960505964225,0.4914754597583844,0.08639312661549127,-0.3895097816466638,-0.7134520817388416,-1.5151320380590865,-1.061247871421113,-1.740012495008272,2.396636405128658,0.6886980402718053,-1.0869908846099534,3.1527553998912676,1.1297788257980361,-0.22296840108121435,-0.9768576135672864,0.6896328557342014,0.3492069340060777,1.0185621203763817,-0.4731562100651628,-1.0426531668877301,0.747520562731134,-1.356168168969613,0.9591007490643529,0.03464059124711555,0.8869071025578134,1.0716855389989757,-0.3565456913445454,0.63956648842299,-1.8995974784062335,1.072432650879506,-0.11959101232312604,-2.008786203767708,0.5898566311949867,-0.9909648084576543,-0.19357053279487754,0.8278278906390226,0.04723495572859634,1.2622857687793614,-1.3360667163117597,-1.715070973207002,0.20481641538559578,0.48231432087778275,-0.33506691073340156,-1.4717912658279217,2.179817589278003,-0.3205460771605975,1.1922165355265868,0.6776936269630355,-0.8255555594874866,-0.3076137910284783,0.04577378404974291,0.5908813177742992,-0.0867135795721074,0.5594072519618621,-0.1413001202249238,1.7384340424803102,-2.4492080768855287,-0.7887547190464445,-1.2518677215899865,-0.6487098819154417,-0.28465106194768164,-1.1357631521479223,-1.4106670327708521,1.750481229903767,0.11584052481397858,0.7843671952305441,-1.8804236899463251,-0.4204697864425212,0.6987164435896369,2.1934276816037603,-0.5369306398733962,0.6848798903880331,0.033325477891684926,0.41516603128137797,0.1883920208711664,-0.012559303210577832,1.1243442155693069,-0.9201746380248,0.21929955502170842,0.6079496486264784,-0.28364880324262076,-1.0678607990897728,0.24538008674681774,0.0873868707722896,-0.029322832699304503,-0.4378358450539327,-0.6042258584836061,0.20698967658156647,0.6947256431567338,0.7779904885055057,-0.6478925945026229],\"type\":\"scatter\"},{\"line\":{\"color\":\"rgba(50, 171, 96, 1.0)\",\"dash\":\"solid\",\"shape\":\"linear\",\"width\":1.3},\"mode\":\"lines\",\"name\":\"C\",\"text\":\"\",\"x\":[0,1,2,3,4,5,6,7,8,9,10,11,12,13,14,15,16,17,18,19,20,21,22,23,24,25,26,27,28,29,30,31,32,33,34,35,36,37,38,39,40,41,42,43,44,45,46,47,48,49,50,51,52,53,54,55,56,57,58,59,60,61,62,63,64,65,66,67,68,69,70,71,72,73,74,75,76,77,78,79,80,81,82,83,84,85,86,87,88,89,90,91,92,93,94,95,96,97,98,99],\"y\":[-0.7548830349886892,-0.21025012996068543,1.2352651555762282,1.4280874484354498,0.5400061602152736,0.7421658962796771,-1.2871317054810116,-1.086702411150145,0.860597318565647,-0.8984767674269208,-0.6408400275949473,-0.6231139538182842,0.47686903227366845,-0.5222404653859912,0.3354629916344037,-0.24050798806498722,0.6050327644468665,1.2635935190460732,1.2009303023577158,0.75323343824523,1.9002559625024293,-0.698911480006405,0.6342777756638287,0.782101530600702,0.2826826324448284,-1.65690738769774,0.8482634507806942,-0.15255465355947787,0.11148134395957575,0.0987925919572817,-1.335918856608248,-0.5171091631329664,-0.6235718298722012,0.5671776731265588,0.7392274828088145,1.8246388745890942,-1.7550304206276457,1.4380939214946005,0.3704705330528845,-2.3040552958867857,-0.8847028176484736,2.16830658252528,-0.37581194386627764,-0.5507322649834541,-0.604291095646759,0.38305507436058606,0.27940153522987454,-0.8218740197657894,-0.9020323486632497,-0.5335213373613528,-0.6816958257254734,-1.1288155740351409,-0.6728835483739168,0.0015628204689170067,-0.3866864643043815,1.2637054262050744,0.7847528841415734,-2.2486306836040226,-0.8495306418174259,1.072795682479761,1.1622834320328934,1.880740416617544,-0.9614376024908567,0.5747129310943649,-1.418783387845243,-1.014058202020123,1.7466971000376088,-0.21544442930199195,0.6192118352024711,-1.1695836861919342,1.012142707000702,0.05983995345276081,-0.491641080448236,-1.3083796927261002,-0.03895856609795862,-0.41312925986321747,1.6044693479974013,0.5132267837206526,0.6662885589034524,-0.6347185479364806,-0.8320016047643972,-0.11754002811826937,0.3122964949147765,0.9400548558386398,-0.8814784679609134,-1.005925134302546,-0.05209966060511078,-0.5298779532186032,-0.7137525095401087,-0.4183102056268815,0.272081345826888,0.2518002303128945,-0.30563307552559893,1.7234015083694751,-2.453198806238153,0.021786832966030456,-0.8167479247997417,-0.12583827523964378,0.5536552541427264,1.3131382588613076],\"type\":\"scatter\"},{\"line\":{\"color\":\"rgba(128, 0, 128, 1.0)\",\"dash\":\"solid\",\"shape\":\"linear\",\"width\":1.3},\"mode\":\"lines\",\"name\":\"D\",\"text\":\"\",\"x\":[0,1,2,3,4,5,6,7,8,9,10,11,12,13,14,15,16,17,18,19,20,21,22,23,24,25,26,27,28,29,30,31,32,33,34,35,36,37,38,39,40,41,42,43,44,45,46,47,48,49,50,51,52,53,54,55,56,57,58,59,60,61,62,63,64,65,66,67,68,69,70,71,72,73,74,75,76,77,78,79,80,81,82,83,84,85,86,87,88,89,90,91,92,93,94,95,96,97,98,99],\"y\":[0.6879702910040386,1.9296641599147613,1.605203738169053,-0.27475740903725904,-0.48857368306328236,0.11867721885104326,-0.5957564278731469,-0.8802758275526458,0.3559182615898839,-0.16560452313374283,0.021679418300028095,2.866646801937248,-0.5081544824303301,0.8749323691754335,-0.5165040222305178,0.717581421811411,0.7544813533790324,-1.1403519744574675,0.40899113253188263,-0.16362679795392332,-2.001950845646434,-1.3822838604818846,0.5019233674462837,-1.2317468986761018,-0.4984692451216619,-0.9260932824809281,0.4756749714755795,-0.6610918541178473,-0.047025359043997114,1.1926598744329326,-0.789444500385222,-0.5772999713177753,0.847124999267147,1.3332205718333998,2.798317502397506,-0.9765356054498182,0.04560028789291612,0.2044882924040595,-0.16494655814429118,0.5780118673346288,0.8163774564251717,1.0083760451480759,1.1216772504759176,-0.08563326378149083,-1.8579749003690214,0.729215363114337,1.0215636398642896,0.7981023441296847,-0.24764319032250995,-0.7919913853124132,0.15279832094873147,3.664677996254644,0.9452424189905382,-0.8875328468762946,-1.8163865198910745,1.2101978053083184,1.5064002643992576,-1.3572287092905801,-0.09901607009287665,1.855874733308549,-1.260924487842629,-0.5809057553348415,0.5712842099893681,0.5934262272025093,0.7261103511679504,1.7716788696112329,-0.8585799524176165,-0.8276542603663256,0.46723607807832956,-0.31407654661347245,3.1099939087060817,2.0870892126355534,-0.5438964402056768,0.5008965695334181,-0.8919925358586309,0.7663648088632004,-0.5737294539903666,-0.5488882467487303,0.12390242547350015,-0.7003682246363913,-1.1216107146043515,0.8856932776759999,-0.7455311437728359,0.9144123878063805,0.3959444901852964,-0.32064900755999337,0.672482436312941,0.5376036961559703,1.1356780926372063,0.24838399859909138,0.010232964532375675,-0.6659170479314745,1.646909083590659,-0.6960373497596587,2.0698649948777845,-0.9517655425945232,2.3267086237385133,-0.9817523326060503,1.5682033936279967,-0.021923817085274817],\"type\":\"scatter\"}],                        {\"legend\":{\"bgcolor\":\"#F5F6F9\",\"font\":{\"color\":\"#4D5663\"}},\"paper_bgcolor\":\"#F5F6F9\",\"plot_bgcolor\":\"#F5F6F9\",\"template\":{\"data\":{\"barpolar\":[{\"marker\":{\"line\":{\"color\":\"#E5ECF6\",\"width\":0.5},\"pattern\":{\"fillmode\":\"overlay\",\"size\":10,\"solidity\":0.2}},\"type\":\"barpolar\"}],\"bar\":[{\"error_x\":{\"color\":\"#2a3f5f\"},\"error_y\":{\"color\":\"#2a3f5f\"},\"marker\":{\"line\":{\"color\":\"#E5ECF6\",\"width\":0.5},\"pattern\":{\"fillmode\":\"overlay\",\"size\":10,\"solidity\":0.2}},\"type\":\"bar\"}],\"carpet\":[{\"aaxis\":{\"endlinecolor\":\"#2a3f5f\",\"gridcolor\":\"white\",\"linecolor\":\"white\",\"minorgridcolor\":\"white\",\"startlinecolor\":\"#2a3f5f\"},\"baxis\":{\"endlinecolor\":\"#2a3f5f\",\"gridcolor\":\"white\",\"linecolor\":\"white\",\"minorgridcolor\":\"white\",\"startlinecolor\":\"#2a3f5f\"},\"type\":\"carpet\"}],\"choropleth\":[{\"colorbar\":{\"outlinewidth\":0,\"ticks\":\"\"},\"type\":\"choropleth\"}],\"contourcarpet\":[{\"colorbar\":{\"outlinewidth\":0,\"ticks\":\"\"},\"type\":\"contourcarpet\"}],\"contour\":[{\"colorbar\":{\"outlinewidth\":0,\"ticks\":\"\"},\"colorscale\":[[0.0,\"#0d0887\"],[0.1111111111111111,\"#46039f\"],[0.2222222222222222,\"#7201a8\"],[0.3333333333333333,\"#9c179e\"],[0.4444444444444444,\"#bd3786\"],[0.5555555555555556,\"#d8576b\"],[0.6666666666666666,\"#ed7953\"],[0.7777777777777778,\"#fb9f3a\"],[0.8888888888888888,\"#fdca26\"],[1.0,\"#f0f921\"]],\"type\":\"contour\"}],\"heatmapgl\":[{\"colorbar\":{\"outlinewidth\":0,\"ticks\":\"\"},\"colorscale\":[[0.0,\"#0d0887\"],[0.1111111111111111,\"#46039f\"],[0.2222222222222222,\"#7201a8\"],[0.3333333333333333,\"#9c179e\"],[0.4444444444444444,\"#bd3786\"],[0.5555555555555556,\"#d8576b\"],[0.6666666666666666,\"#ed7953\"],[0.7777777777777778,\"#fb9f3a\"],[0.8888888888888888,\"#fdca26\"],[1.0,\"#f0f921\"]],\"type\":\"heatmapgl\"}],\"heatmap\":[{\"colorbar\":{\"outlinewidth\":0,\"ticks\":\"\"},\"colorscale\":[[0.0,\"#0d0887\"],[0.1111111111111111,\"#46039f\"],[0.2222222222222222,\"#7201a8\"],[0.3333333333333333,\"#9c179e\"],[0.4444444444444444,\"#bd3786\"],[0.5555555555555556,\"#d8576b\"],[0.6666666666666666,\"#ed7953\"],[0.7777777777777778,\"#fb9f3a\"],[0.8888888888888888,\"#fdca26\"],[1.0,\"#f0f921\"]],\"type\":\"heatmap\"}],\"histogram2dcontour\":[{\"colorbar\":{\"outlinewidth\":0,\"ticks\":\"\"},\"colorscale\":[[0.0,\"#0d0887\"],[0.1111111111111111,\"#46039f\"],[0.2222222222222222,\"#7201a8\"],[0.3333333333333333,\"#9c179e\"],[0.4444444444444444,\"#bd3786\"],[0.5555555555555556,\"#d8576b\"],[0.6666666666666666,\"#ed7953\"],[0.7777777777777778,\"#fb9f3a\"],[0.8888888888888888,\"#fdca26\"],[1.0,\"#f0f921\"]],\"type\":\"histogram2dcontour\"}],\"histogram2d\":[{\"colorbar\":{\"outlinewidth\":0,\"ticks\":\"\"},\"colorscale\":[[0.0,\"#0d0887\"],[0.1111111111111111,\"#46039f\"],[0.2222222222222222,\"#7201a8\"],[0.3333333333333333,\"#9c179e\"],[0.4444444444444444,\"#bd3786\"],[0.5555555555555556,\"#d8576b\"],[0.6666666666666666,\"#ed7953\"],[0.7777777777777778,\"#fb9f3a\"],[0.8888888888888888,\"#fdca26\"],[1.0,\"#f0f921\"]],\"type\":\"histogram2d\"}],\"histogram\":[{\"marker\":{\"pattern\":{\"fillmode\":\"overlay\",\"size\":10,\"solidity\":0.2}},\"type\":\"histogram\"}],\"mesh3d\":[{\"colorbar\":{\"outlinewidth\":0,\"ticks\":\"\"},\"type\":\"mesh3d\"}],\"parcoords\":[{\"line\":{\"colorbar\":{\"outlinewidth\":0,\"ticks\":\"\"}},\"type\":\"parcoords\"}],\"pie\":[{\"automargin\":true,\"type\":\"pie\"}],\"scatter3d\":[{\"line\":{\"colorbar\":{\"outlinewidth\":0,\"ticks\":\"\"}},\"marker\":{\"colorbar\":{\"outlinewidth\":0,\"ticks\":\"\"}},\"type\":\"scatter3d\"}],\"scattercarpet\":[{\"marker\":{\"colorbar\":{\"outlinewidth\":0,\"ticks\":\"\"}},\"type\":\"scattercarpet\"}],\"scattergeo\":[{\"marker\":{\"colorbar\":{\"outlinewidth\":0,\"ticks\":\"\"}},\"type\":\"scattergeo\"}],\"scattergl\":[{\"marker\":{\"colorbar\":{\"outlinewidth\":0,\"ticks\":\"\"}},\"type\":\"scattergl\"}],\"scattermapbox\":[{\"marker\":{\"colorbar\":{\"outlinewidth\":0,\"ticks\":\"\"}},\"type\":\"scattermapbox\"}],\"scatterpolargl\":[{\"marker\":{\"colorbar\":{\"outlinewidth\":0,\"ticks\":\"\"}},\"type\":\"scatterpolargl\"}],\"scatterpolar\":[{\"marker\":{\"colorbar\":{\"outlinewidth\":0,\"ticks\":\"\"}},\"type\":\"scatterpolar\"}],\"scatter\":[{\"fillpattern\":{\"fillmode\":\"overlay\",\"size\":10,\"solidity\":0.2},\"type\":\"scatter\"}],\"scatterternary\":[{\"marker\":{\"colorbar\":{\"outlinewidth\":0,\"ticks\":\"\"}},\"type\":\"scatterternary\"}],\"surface\":[{\"colorbar\":{\"outlinewidth\":0,\"ticks\":\"\"},\"colorscale\":[[0.0,\"#0d0887\"],[0.1111111111111111,\"#46039f\"],[0.2222222222222222,\"#7201a8\"],[0.3333333333333333,\"#9c179e\"],[0.4444444444444444,\"#bd3786\"],[0.5555555555555556,\"#d8576b\"],[0.6666666666666666,\"#ed7953\"],[0.7777777777777778,\"#fb9f3a\"],[0.8888888888888888,\"#fdca26\"],[1.0,\"#f0f921\"]],\"type\":\"surface\"}],\"table\":[{\"cells\":{\"fill\":{\"color\":\"#EBF0F8\"},\"line\":{\"color\":\"white\"}},\"header\":{\"fill\":{\"color\":\"#C8D4E3\"},\"line\":{\"color\":\"white\"}},\"type\":\"table\"}]},\"layout\":{\"annotationdefaults\":{\"arrowcolor\":\"#2a3f5f\",\"arrowhead\":0,\"arrowwidth\":1},\"autotypenumbers\":\"strict\",\"coloraxis\":{\"colorbar\":{\"outlinewidth\":0,\"ticks\":\"\"}},\"colorscale\":{\"diverging\":[[0,\"#8e0152\"],[0.1,\"#c51b7d\"],[0.2,\"#de77ae\"],[0.3,\"#f1b6da\"],[0.4,\"#fde0ef\"],[0.5,\"#f7f7f7\"],[0.6,\"#e6f5d0\"],[0.7,\"#b8e186\"],[0.8,\"#7fbc41\"],[0.9,\"#4d9221\"],[1,\"#276419\"]],\"sequential\":[[0.0,\"#0d0887\"],[0.1111111111111111,\"#46039f\"],[0.2222222222222222,\"#7201a8\"],[0.3333333333333333,\"#9c179e\"],[0.4444444444444444,\"#bd3786\"],[0.5555555555555556,\"#d8576b\"],[0.6666666666666666,\"#ed7953\"],[0.7777777777777778,\"#fb9f3a\"],[0.8888888888888888,\"#fdca26\"],[1.0,\"#f0f921\"]],\"sequentialminus\":[[0.0,\"#0d0887\"],[0.1111111111111111,\"#46039f\"],[0.2222222222222222,\"#7201a8\"],[0.3333333333333333,\"#9c179e\"],[0.4444444444444444,\"#bd3786\"],[0.5555555555555556,\"#d8576b\"],[0.6666666666666666,\"#ed7953\"],[0.7777777777777778,\"#fb9f3a\"],[0.8888888888888888,\"#fdca26\"],[1.0,\"#f0f921\"]]},\"colorway\":[\"#636efa\",\"#EF553B\",\"#00cc96\",\"#ab63fa\",\"#FFA15A\",\"#19d3f3\",\"#FF6692\",\"#B6E880\",\"#FF97FF\",\"#FECB52\"],\"font\":{\"color\":\"#2a3f5f\"},\"geo\":{\"bgcolor\":\"white\",\"lakecolor\":\"white\",\"landcolor\":\"#E5ECF6\",\"showlakes\":true,\"showland\":true,\"subunitcolor\":\"white\"},\"hoverlabel\":{\"align\":\"left\"},\"hovermode\":\"closest\",\"mapbox\":{\"style\":\"light\"},\"paper_bgcolor\":\"white\",\"plot_bgcolor\":\"#E5ECF6\",\"polar\":{\"angularaxis\":{\"gridcolor\":\"white\",\"linecolor\":\"white\",\"ticks\":\"\"},\"bgcolor\":\"#E5ECF6\",\"radialaxis\":{\"gridcolor\":\"white\",\"linecolor\":\"white\",\"ticks\":\"\"}},\"scene\":{\"xaxis\":{\"backgroundcolor\":\"#E5ECF6\",\"gridcolor\":\"white\",\"gridwidth\":2,\"linecolor\":\"white\",\"showbackground\":true,\"ticks\":\"\",\"zerolinecolor\":\"white\"},\"yaxis\":{\"backgroundcolor\":\"#E5ECF6\",\"gridcolor\":\"white\",\"gridwidth\":2,\"linecolor\":\"white\",\"showbackground\":true,\"ticks\":\"\",\"zerolinecolor\":\"white\"},\"zaxis\":{\"backgroundcolor\":\"#E5ECF6\",\"gridcolor\":\"white\",\"gridwidth\":2,\"linecolor\":\"white\",\"showbackground\":true,\"ticks\":\"\",\"zerolinecolor\":\"white\"}},\"shapedefaults\":{\"line\":{\"color\":\"#2a3f5f\"}},\"ternary\":{\"aaxis\":{\"gridcolor\":\"white\",\"linecolor\":\"white\",\"ticks\":\"\"},\"baxis\":{\"gridcolor\":\"white\",\"linecolor\":\"white\",\"ticks\":\"\"},\"bgcolor\":\"#E5ECF6\",\"caxis\":{\"gridcolor\":\"white\",\"linecolor\":\"white\",\"ticks\":\"\"}},\"title\":{\"x\":0.05},\"xaxis\":{\"automargin\":true,\"gridcolor\":\"white\",\"linecolor\":\"white\",\"ticks\":\"\",\"title\":{\"standoff\":15},\"zerolinecolor\":\"white\",\"zerolinewidth\":2},\"yaxis\":{\"automargin\":true,\"gridcolor\":\"white\",\"linecolor\":\"white\",\"ticks\":\"\",\"title\":{\"standoff\":15},\"zerolinecolor\":\"white\",\"zerolinewidth\":2}}},\"title\":{\"font\":{\"color\":\"#4D5663\"}},\"xaxis\":{\"gridcolor\":\"#E1E5ED\",\"showgrid\":true,\"tickfont\":{\"color\":\"#4D5663\"},\"title\":{\"font\":{\"color\":\"#4D5663\"},\"text\":\"\"},\"zerolinecolor\":\"#E1E5ED\"},\"yaxis\":{\"gridcolor\":\"#E1E5ED\",\"showgrid\":true,\"tickfont\":{\"color\":\"#4D5663\"},\"title\":{\"font\":{\"color\":\"#4D5663\"},\"text\":\"\"},\"zerolinecolor\":\"#E1E5ED\"}},                        {\"showLink\": true, \"linkText\": \"Export to plot.ly\", \"plotlyServerURL\": \"https://plot.ly\", \"responsive\": true}                    ).then(function(){\n",
       "                            \n",
       "var gd = document.getElementById('2d094da5-38cf-4031-8485-459b968a6cdb');\n",
       "var x = new MutationObserver(function (mutations, observer) {{\n",
       "        var display = window.getComputedStyle(gd).display;\n",
       "        if (!display || display === 'none') {{\n",
       "            console.log([gd, 'removed!']);\n",
       "            Plotly.purge(gd);\n",
       "            observer.disconnect();\n",
       "        }}\n",
       "}});\n",
       "\n",
       "// Listen for the removal of the full notebook cells\n",
       "var notebookContainer = gd.closest('#notebook-container');\n",
       "if (notebookContainer) {{\n",
       "    x.observe(notebookContainer, {childList: true});\n",
       "}}\n",
       "\n",
       "// Listen for the clearing of the current output cell\n",
       "var outputEl = gd.closest('.output');\n",
       "if (outputEl) {{\n",
       "    x.observe(outputEl, {childList: true});\n",
       "}}\n",
       "\n",
       "                        })                };                });            </script>        </div>"
      ]
     },
     "metadata": {},
     "output_type": "display_data"
    }
   ],
   "source": [
    "df.iplot()"
   ]
  },
  {
   "cell_type": "code",
   "execution_count": 48,
   "id": "159be5aa-9b89-4de5-9888-36b80138c023",
   "metadata": {},
   "outputs": [
    {
     "data": {
      "application/vnd.plotly.v1+json": {
       "config": {
        "linkText": "Export to plot.ly",
        "plotlyServerURL": "https://plot.ly",
        "showLink": true
       },
       "data": [
        {
         "line": {
          "color": "rgba(255, 153, 51, 1.0)",
          "dash": "solid",
          "shape": "linear",
          "width": 1.3
         },
         "marker": {
          "size": 12,
          "symbol": "circle"
         },
         "mode": "markers",
         "name": "B",
         "text": "",
         "type": "scatter",
         "x": [
          -1.3001058810112465,
          -0.46530946050785577,
          -0.10950361487242674,
          -2.5294117773642872,
          1.4592767272081206,
          0.7670306517873596,
          -0.6516291878969268,
          0.4104823796917037,
          -0.544649856021266,
          0.8881688549775284,
          0.532315391270855,
          -1.5068091892635043,
          0.9579907601008844,
          0.15737330511787645,
          0.3603592835733318,
          -0.6824999608142553,
          0.6184689337730324,
          -0.2569434735665441,
          1.9346115857987043,
          1.2589983024560878,
          -0.002111599045755978,
          -1.3490529580186015,
          1.0451730254996596,
          1.1319992170010402,
          0.047014169746154084,
          -0.2550073591224525,
          -0.39995720360484927,
          -1.4458849143543648,
          -0.3862220530025955,
          0.26560783039456504,
          0.150885820629637,
          -1.5682605363009903,
          0.968091451793801,
          0.3787436367196607,
          -1.3771783390048689,
          0.9592045069196298,
          -0.3241273752234432,
          -0.03019526395473516,
          -0.2081948139585612,
          0.8644302805595135,
          -0.33780970298210705,
          0.7043957270494225,
          -0.46245433881706893,
          -0.37007331609432986,
          0.43456570476717754,
          0.2566116284695562,
          -0.7372810068742501,
          -0.18223889085387784,
          -0.8465791446343268,
          0.2717256558836371,
          1.6455028927346265,
          1.3193189133051533,
          0.18604036223398376,
          -0.17375253641896074,
          -0.033510871685691467,
          -1.7264768352173898,
          -0.12396039765034247,
          0.7164036162252534,
          -1.3583568423607228,
          0.7535029498080489,
          -0.9668281303137861,
          -0.322493160471488,
          0.44555634683543205,
          0.05648456164821221,
          -2.148347844803425,
          1.7860718076761208,
          -1.5116173635175172,
          0.9608624590930857,
          1.7010533335406506,
          1.6936039502170883,
          1.182270008122812,
          1.2257195501445006,
          1.5507635887516797,
          -0.2586530668969108,
          0.23550600076294134,
          0.69619731625886,
          0.3992069551279182,
          -0.8630895110192605,
          -1.6535368987079742,
          0.2985511324042734,
          0.23027020044104454,
          0.03500911805698938,
          -0.7343768497618143,
          0.4060420213841534,
          1.7514127712284566,
          0.36907900713205327,
          -0.6361125952209186,
          0.4021335199898844,
          -0.07938530683597056,
          -1.5830883082184337,
          0.08035389910120652,
          -1.174668326667251,
          -1.4107028887293993,
          2.160528395157838,
          -0.7690733279906413,
          -1.8916286119365846,
          -1.9827422273601996,
          -0.37697015679945955,
          1.5268484627356618,
          1.8331079406695325
         ],
         "y": [
          0.9211641716514989,
          -0.45286454767699247,
          1.507295301443652,
          -0.0941522142867107,
          1.0002103275899614,
          -1.378247564019476,
          1.1071077601553698,
          -0.1749210111934675,
          0.05254161319828364,
          0.5434960505964225,
          0.4914754597583844,
          0.08639312661549127,
          -0.3895097816466638,
          -0.7134520817388416,
          -1.5151320380590865,
          -1.061247871421113,
          -1.740012495008272,
          2.396636405128658,
          0.6886980402718053,
          -1.0869908846099534,
          3.1527553998912676,
          1.1297788257980361,
          -0.22296840108121435,
          -0.9768576135672864,
          0.6896328557342014,
          0.3492069340060777,
          1.0185621203763817,
          -0.4731562100651628,
          -1.0426531668877301,
          0.747520562731134,
          -1.356168168969613,
          0.9591007490643529,
          0.03464059124711555,
          0.8869071025578134,
          1.0716855389989757,
          -0.3565456913445454,
          0.63956648842299,
          -1.8995974784062335,
          1.072432650879506,
          -0.11959101232312604,
          -2.008786203767708,
          0.5898566311949867,
          -0.9909648084576543,
          -0.19357053279487754,
          0.8278278906390226,
          0.04723495572859634,
          1.2622857687793614,
          -1.3360667163117597,
          -1.715070973207002,
          0.20481641538559578,
          0.48231432087778275,
          -0.33506691073340156,
          -1.4717912658279217,
          2.179817589278003,
          -0.3205460771605975,
          1.1922165355265868,
          0.6776936269630355,
          -0.8255555594874866,
          -0.3076137910284783,
          0.04577378404974291,
          0.5908813177742992,
          -0.0867135795721074,
          0.5594072519618621,
          -0.1413001202249238,
          1.7384340424803102,
          -2.4492080768855287,
          -0.7887547190464445,
          -1.2518677215899865,
          -0.6487098819154417,
          -0.28465106194768164,
          -1.1357631521479223,
          -1.4106670327708521,
          1.750481229903767,
          0.11584052481397858,
          0.7843671952305441,
          -1.8804236899463251,
          -0.4204697864425212,
          0.6987164435896369,
          2.1934276816037603,
          -0.5369306398733962,
          0.6848798903880331,
          0.033325477891684926,
          0.41516603128137797,
          0.1883920208711664,
          -0.012559303210577832,
          1.1243442155693069,
          -0.9201746380248,
          0.21929955502170842,
          0.6079496486264784,
          -0.28364880324262076,
          -1.0678607990897728,
          0.24538008674681774,
          0.0873868707722896,
          -0.029322832699304503,
          -0.4378358450539327,
          -0.6042258584836061,
          0.20698967658156647,
          0.6947256431567338,
          0.7779904885055057,
          -0.6478925945026229
         ]
        }
       ],
       "layout": {
        "autosize": true,
        "legend": {
         "bgcolor": "#F5F6F9",
         "font": {
          "color": "#4D5663"
         }
        },
        "paper_bgcolor": "#F5F6F9",
        "plot_bgcolor": "#F5F6F9",
        "template": {
         "data": {
          "bar": [
           {
            "error_x": {
             "color": "#2a3f5f"
            },
            "error_y": {
             "color": "#2a3f5f"
            },
            "marker": {
             "line": {
              "color": "#E5ECF6",
              "width": 0.5
             },
             "pattern": {
              "fillmode": "overlay",
              "size": 10,
              "solidity": 0.2
             }
            },
            "type": "bar"
           }
          ],
          "barpolar": [
           {
            "marker": {
             "line": {
              "color": "#E5ECF6",
              "width": 0.5
             },
             "pattern": {
              "fillmode": "overlay",
              "size": 10,
              "solidity": 0.2
             }
            },
            "type": "barpolar"
           }
          ],
          "carpet": [
           {
            "aaxis": {
             "endlinecolor": "#2a3f5f",
             "gridcolor": "white",
             "linecolor": "white",
             "minorgridcolor": "white",
             "startlinecolor": "#2a3f5f"
            },
            "baxis": {
             "endlinecolor": "#2a3f5f",
             "gridcolor": "white",
             "linecolor": "white",
             "minorgridcolor": "white",
             "startlinecolor": "#2a3f5f"
            },
            "type": "carpet"
           }
          ],
          "choropleth": [
           {
            "colorbar": {
             "outlinewidth": 0,
             "ticks": ""
            },
            "type": "choropleth"
           }
          ],
          "contour": [
           {
            "colorbar": {
             "outlinewidth": 0,
             "ticks": ""
            },
            "colorscale": [
             [
              0,
              "#0d0887"
             ],
             [
              0.1111111111111111,
              "#46039f"
             ],
             [
              0.2222222222222222,
              "#7201a8"
             ],
             [
              0.3333333333333333,
              "#9c179e"
             ],
             [
              0.4444444444444444,
              "#bd3786"
             ],
             [
              0.5555555555555556,
              "#d8576b"
             ],
             [
              0.6666666666666666,
              "#ed7953"
             ],
             [
              0.7777777777777778,
              "#fb9f3a"
             ],
             [
              0.8888888888888888,
              "#fdca26"
             ],
             [
              1,
              "#f0f921"
             ]
            ],
            "type": "contour"
           }
          ],
          "contourcarpet": [
           {
            "colorbar": {
             "outlinewidth": 0,
             "ticks": ""
            },
            "type": "contourcarpet"
           }
          ],
          "heatmap": [
           {
            "colorbar": {
             "outlinewidth": 0,
             "ticks": ""
            },
            "colorscale": [
             [
              0,
              "#0d0887"
             ],
             [
              0.1111111111111111,
              "#46039f"
             ],
             [
              0.2222222222222222,
              "#7201a8"
             ],
             [
              0.3333333333333333,
              "#9c179e"
             ],
             [
              0.4444444444444444,
              "#bd3786"
             ],
             [
              0.5555555555555556,
              "#d8576b"
             ],
             [
              0.6666666666666666,
              "#ed7953"
             ],
             [
              0.7777777777777778,
              "#fb9f3a"
             ],
             [
              0.8888888888888888,
              "#fdca26"
             ],
             [
              1,
              "#f0f921"
             ]
            ],
            "type": "heatmap"
           }
          ],
          "heatmapgl": [
           {
            "colorbar": {
             "outlinewidth": 0,
             "ticks": ""
            },
            "colorscale": [
             [
              0,
              "#0d0887"
             ],
             [
              0.1111111111111111,
              "#46039f"
             ],
             [
              0.2222222222222222,
              "#7201a8"
             ],
             [
              0.3333333333333333,
              "#9c179e"
             ],
             [
              0.4444444444444444,
              "#bd3786"
             ],
             [
              0.5555555555555556,
              "#d8576b"
             ],
             [
              0.6666666666666666,
              "#ed7953"
             ],
             [
              0.7777777777777778,
              "#fb9f3a"
             ],
             [
              0.8888888888888888,
              "#fdca26"
             ],
             [
              1,
              "#f0f921"
             ]
            ],
            "type": "heatmapgl"
           }
          ],
          "histogram": [
           {
            "marker": {
             "pattern": {
              "fillmode": "overlay",
              "size": 10,
              "solidity": 0.2
             }
            },
            "type": "histogram"
           }
          ],
          "histogram2d": [
           {
            "colorbar": {
             "outlinewidth": 0,
             "ticks": ""
            },
            "colorscale": [
             [
              0,
              "#0d0887"
             ],
             [
              0.1111111111111111,
              "#46039f"
             ],
             [
              0.2222222222222222,
              "#7201a8"
             ],
             [
              0.3333333333333333,
              "#9c179e"
             ],
             [
              0.4444444444444444,
              "#bd3786"
             ],
             [
              0.5555555555555556,
              "#d8576b"
             ],
             [
              0.6666666666666666,
              "#ed7953"
             ],
             [
              0.7777777777777778,
              "#fb9f3a"
             ],
             [
              0.8888888888888888,
              "#fdca26"
             ],
             [
              1,
              "#f0f921"
             ]
            ],
            "type": "histogram2d"
           }
          ],
          "histogram2dcontour": [
           {
            "colorbar": {
             "outlinewidth": 0,
             "ticks": ""
            },
            "colorscale": [
             [
              0,
              "#0d0887"
             ],
             [
              0.1111111111111111,
              "#46039f"
             ],
             [
              0.2222222222222222,
              "#7201a8"
             ],
             [
              0.3333333333333333,
              "#9c179e"
             ],
             [
              0.4444444444444444,
              "#bd3786"
             ],
             [
              0.5555555555555556,
              "#d8576b"
             ],
             [
              0.6666666666666666,
              "#ed7953"
             ],
             [
              0.7777777777777778,
              "#fb9f3a"
             ],
             [
              0.8888888888888888,
              "#fdca26"
             ],
             [
              1,
              "#f0f921"
             ]
            ],
            "type": "histogram2dcontour"
           }
          ],
          "mesh3d": [
           {
            "colorbar": {
             "outlinewidth": 0,
             "ticks": ""
            },
            "type": "mesh3d"
           }
          ],
          "parcoords": [
           {
            "line": {
             "colorbar": {
              "outlinewidth": 0,
              "ticks": ""
             }
            },
            "type": "parcoords"
           }
          ],
          "pie": [
           {
            "automargin": true,
            "type": "pie"
           }
          ],
          "scatter": [
           {
            "fillpattern": {
             "fillmode": "overlay",
             "size": 10,
             "solidity": 0.2
            },
            "type": "scatter"
           }
          ],
          "scatter3d": [
           {
            "line": {
             "colorbar": {
              "outlinewidth": 0,
              "ticks": ""
             }
            },
            "marker": {
             "colorbar": {
              "outlinewidth": 0,
              "ticks": ""
             }
            },
            "type": "scatter3d"
           }
          ],
          "scattercarpet": [
           {
            "marker": {
             "colorbar": {
              "outlinewidth": 0,
              "ticks": ""
             }
            },
            "type": "scattercarpet"
           }
          ],
          "scattergeo": [
           {
            "marker": {
             "colorbar": {
              "outlinewidth": 0,
              "ticks": ""
             }
            },
            "type": "scattergeo"
           }
          ],
          "scattergl": [
           {
            "marker": {
             "colorbar": {
              "outlinewidth": 0,
              "ticks": ""
             }
            },
            "type": "scattergl"
           }
          ],
          "scattermapbox": [
           {
            "marker": {
             "colorbar": {
              "outlinewidth": 0,
              "ticks": ""
             }
            },
            "type": "scattermapbox"
           }
          ],
          "scatterpolar": [
           {
            "marker": {
             "colorbar": {
              "outlinewidth": 0,
              "ticks": ""
             }
            },
            "type": "scatterpolar"
           }
          ],
          "scatterpolargl": [
           {
            "marker": {
             "colorbar": {
              "outlinewidth": 0,
              "ticks": ""
             }
            },
            "type": "scatterpolargl"
           }
          ],
          "scatterternary": [
           {
            "marker": {
             "colorbar": {
              "outlinewidth": 0,
              "ticks": ""
             }
            },
            "type": "scatterternary"
           }
          ],
          "surface": [
           {
            "colorbar": {
             "outlinewidth": 0,
             "ticks": ""
            },
            "colorscale": [
             [
              0,
              "#0d0887"
             ],
             [
              0.1111111111111111,
              "#46039f"
             ],
             [
              0.2222222222222222,
              "#7201a8"
             ],
             [
              0.3333333333333333,
              "#9c179e"
             ],
             [
              0.4444444444444444,
              "#bd3786"
             ],
             [
              0.5555555555555556,
              "#d8576b"
             ],
             [
              0.6666666666666666,
              "#ed7953"
             ],
             [
              0.7777777777777778,
              "#fb9f3a"
             ],
             [
              0.8888888888888888,
              "#fdca26"
             ],
             [
              1,
              "#f0f921"
             ]
            ],
            "type": "surface"
           }
          ],
          "table": [
           {
            "cells": {
             "fill": {
              "color": "#EBF0F8"
             },
             "line": {
              "color": "white"
             }
            },
            "header": {
             "fill": {
              "color": "#C8D4E3"
             },
             "line": {
              "color": "white"
             }
            },
            "type": "table"
           }
          ]
         },
         "layout": {
          "annotationdefaults": {
           "arrowcolor": "#2a3f5f",
           "arrowhead": 0,
           "arrowwidth": 1
          },
          "autotypenumbers": "strict",
          "coloraxis": {
           "colorbar": {
            "outlinewidth": 0,
            "ticks": ""
           }
          },
          "colorscale": {
           "diverging": [
            [
             0,
             "#8e0152"
            ],
            [
             0.1,
             "#c51b7d"
            ],
            [
             0.2,
             "#de77ae"
            ],
            [
             0.3,
             "#f1b6da"
            ],
            [
             0.4,
             "#fde0ef"
            ],
            [
             0.5,
             "#f7f7f7"
            ],
            [
             0.6,
             "#e6f5d0"
            ],
            [
             0.7,
             "#b8e186"
            ],
            [
             0.8,
             "#7fbc41"
            ],
            [
             0.9,
             "#4d9221"
            ],
            [
             1,
             "#276419"
            ]
           ],
           "sequential": [
            [
             0,
             "#0d0887"
            ],
            [
             0.1111111111111111,
             "#46039f"
            ],
            [
             0.2222222222222222,
             "#7201a8"
            ],
            [
             0.3333333333333333,
             "#9c179e"
            ],
            [
             0.4444444444444444,
             "#bd3786"
            ],
            [
             0.5555555555555556,
             "#d8576b"
            ],
            [
             0.6666666666666666,
             "#ed7953"
            ],
            [
             0.7777777777777778,
             "#fb9f3a"
            ],
            [
             0.8888888888888888,
             "#fdca26"
            ],
            [
             1,
             "#f0f921"
            ]
           ],
           "sequentialminus": [
            [
             0,
             "#0d0887"
            ],
            [
             0.1111111111111111,
             "#46039f"
            ],
            [
             0.2222222222222222,
             "#7201a8"
            ],
            [
             0.3333333333333333,
             "#9c179e"
            ],
            [
             0.4444444444444444,
             "#bd3786"
            ],
            [
             0.5555555555555556,
             "#d8576b"
            ],
            [
             0.6666666666666666,
             "#ed7953"
            ],
            [
             0.7777777777777778,
             "#fb9f3a"
            ],
            [
             0.8888888888888888,
             "#fdca26"
            ],
            [
             1,
             "#f0f921"
            ]
           ]
          },
          "colorway": [
           "#636efa",
           "#EF553B",
           "#00cc96",
           "#ab63fa",
           "#FFA15A",
           "#19d3f3",
           "#FF6692",
           "#B6E880",
           "#FF97FF",
           "#FECB52"
          ],
          "font": {
           "color": "#2a3f5f"
          },
          "geo": {
           "bgcolor": "white",
           "lakecolor": "white",
           "landcolor": "#E5ECF6",
           "showlakes": true,
           "showland": true,
           "subunitcolor": "white"
          },
          "hoverlabel": {
           "align": "left"
          },
          "hovermode": "closest",
          "mapbox": {
           "style": "light"
          },
          "paper_bgcolor": "white",
          "plot_bgcolor": "#E5ECF6",
          "polar": {
           "angularaxis": {
            "gridcolor": "white",
            "linecolor": "white",
            "ticks": ""
           },
           "bgcolor": "#E5ECF6",
           "radialaxis": {
            "gridcolor": "white",
            "linecolor": "white",
            "ticks": ""
           }
          },
          "scene": {
           "xaxis": {
            "backgroundcolor": "#E5ECF6",
            "gridcolor": "white",
            "gridwidth": 2,
            "linecolor": "white",
            "showbackground": true,
            "ticks": "",
            "zerolinecolor": "white"
           },
           "yaxis": {
            "backgroundcolor": "#E5ECF6",
            "gridcolor": "white",
            "gridwidth": 2,
            "linecolor": "white",
            "showbackground": true,
            "ticks": "",
            "zerolinecolor": "white"
           },
           "zaxis": {
            "backgroundcolor": "#E5ECF6",
            "gridcolor": "white",
            "gridwidth": 2,
            "linecolor": "white",
            "showbackground": true,
            "ticks": "",
            "zerolinecolor": "white"
           }
          },
          "shapedefaults": {
           "line": {
            "color": "#2a3f5f"
           }
          },
          "ternary": {
           "aaxis": {
            "gridcolor": "white",
            "linecolor": "white",
            "ticks": ""
           },
           "baxis": {
            "gridcolor": "white",
            "linecolor": "white",
            "ticks": ""
           },
           "bgcolor": "#E5ECF6",
           "caxis": {
            "gridcolor": "white",
            "linecolor": "white",
            "ticks": ""
           }
          },
          "title": {
           "x": 0.05
          },
          "xaxis": {
           "automargin": true,
           "gridcolor": "white",
           "linecolor": "white",
           "ticks": "",
           "title": {
            "standoff": 15
           },
           "zerolinecolor": "white",
           "zerolinewidth": 2
          },
          "yaxis": {
           "automargin": true,
           "gridcolor": "white",
           "linecolor": "white",
           "ticks": "",
           "title": {
            "standoff": 15
           },
           "zerolinecolor": "white",
           "zerolinewidth": 2
          }
         }
        },
        "title": {
         "font": {
          "color": "#4D5663"
         }
        },
        "xaxis": {
         "autorange": true,
         "gridcolor": "#E1E5ED",
         "range": [
          -2.836741788669597,
          2.4678584064631477
         ],
         "showgrid": true,
         "tickfont": {
          "color": "#4D5663"
         },
         "title": {
          "font": {
           "color": "#4D5663"
          },
          "text": ""
         },
         "type": "linear",
         "zerolinecolor": "#E1E5ED"
        },
        "yaxis": {
         "autorange": true,
         "gridcolor": "#E1E5ED",
         "range": [
          -3.077999895707414,
          3.781547218713153
         ],
         "showgrid": true,
         "tickfont": {
          "color": "#4D5663"
         },
         "title": {
          "font": {
           "color": "#4D5663"
          },
          "text": ""
         },
         "type": "linear",
         "zerolinecolor": "#E1E5ED"
        }
       }
      },
      "image/png": "[encoded data removed]",
      "text/html": [
       "<div>                            <div id=\"fe97a37d-d2ec-4d9c-8cef-67b582cf2c2e\" class=\"plotly-graph-div\" style=\"height:525px; width:100%;\"></div>            <script type=\"text/javascript\">                require([\"plotly\"], function(Plotly) {                    window.PLOTLYENV=window.PLOTLYENV || {};\n",
       "                    window.PLOTLYENV.BASE_URL='https://plot.ly';                                    if (document.getElementById(\"fe97a37d-d2ec-4d9c-8cef-67b582cf2c2e\")) {                    Plotly.newPlot(                        \"fe97a37d-d2ec-4d9c-8cef-67b582cf2c2e\",                        [{\"line\":{\"color\":\"rgba(255, 153, 51, 1.0)\",\"dash\":\"solid\",\"shape\":\"linear\",\"width\":1.3},\"marker\":{\"size\":12,\"symbol\":\"circle\"},\"mode\":\"markers\",\"name\":\"B\",\"text\":\"\",\"x\":[-1.3001058810112465,-0.46530946050785577,-0.10950361487242674,-2.5294117773642872,1.4592767272081206,0.7670306517873596,-0.6516291878969268,0.4104823796917037,-0.544649856021266,0.8881688549775284,0.532315391270855,-1.5068091892635043,0.9579907601008844,0.15737330511787645,0.3603592835733318,-0.6824999608142553,0.6184689337730324,-0.2569434735665441,1.9346115857987043,1.2589983024560878,-0.002111599045755978,-1.3490529580186015,1.0451730254996596,1.1319992170010402,0.047014169746154084,-0.2550073591224525,-0.39995720360484927,-1.4458849143543648,-0.3862220530025955,0.26560783039456504,0.150885820629637,-1.5682605363009903,0.968091451793801,0.3787436367196607,-1.3771783390048689,0.9592045069196298,-0.3241273752234432,-0.03019526395473516,-0.2081948139585612,0.8644302805595135,-0.33780970298210705,0.7043957270494225,-0.46245433881706893,-0.37007331609432986,0.43456570476717754,0.2566116284695562,-0.7372810068742501,-0.18223889085387784,-0.8465791446343268,0.2717256558836371,1.6455028927346265,1.3193189133051533,0.18604036223398376,-0.17375253641896074,-0.033510871685691467,-1.7264768352173898,-0.12396039765034247,0.7164036162252534,-1.3583568423607228,0.7535029498080489,-0.9668281303137861,-0.322493160471488,0.44555634683543205,0.05648456164821221,-2.148347844803425,1.7860718076761208,-1.5116173635175172,0.9608624590930857,1.7010533335406506,1.6936039502170883,1.182270008122812,1.2257195501445006,1.5507635887516797,-0.2586530668969108,0.23550600076294134,0.69619731625886,0.3992069551279182,-0.8630895110192605,-1.6535368987079742,0.2985511324042734,0.23027020044104454,0.03500911805698938,-0.7343768497618143,0.4060420213841534,1.7514127712284566,0.36907900713205327,-0.6361125952209186,0.4021335199898844,-0.07938530683597056,-1.5830883082184337,0.08035389910120652,-1.174668326667251,-1.4107028887293993,2.160528395157838,-0.7690733279906413,-1.8916286119365846,-1.9827422273601996,-0.37697015679945955,1.5268484627356618,1.8331079406695325],\"y\":[0.9211641716514989,-0.45286454767699247,1.507295301443652,-0.0941522142867107,1.0002103275899614,-1.378247564019476,1.1071077601553698,-0.1749210111934675,0.05254161319828364,0.5434960505964225,0.4914754597583844,0.08639312661549127,-0.3895097816466638,-0.7134520817388416,-1.5151320380590865,-1.061247871421113,-1.740012495008272,2.396636405128658,0.6886980402718053,-1.0869908846099534,3.1527553998912676,1.1297788257980361,-0.22296840108121435,-0.9768576135672864,0.6896328557342014,0.3492069340060777,1.0185621203763817,-0.4731562100651628,-1.0426531668877301,0.747520562731134,-1.356168168969613,0.9591007490643529,0.03464059124711555,0.8869071025578134,1.0716855389989757,-0.3565456913445454,0.63956648842299,-1.8995974784062335,1.072432650879506,-0.11959101232312604,-2.008786203767708,0.5898566311949867,-0.9909648084576543,-0.19357053279487754,0.8278278906390226,0.04723495572859634,1.2622857687793614,-1.3360667163117597,-1.715070973207002,0.20481641538559578,0.48231432087778275,-0.33506691073340156,-1.4717912658279217,2.179817589278003,-0.3205460771605975,1.1922165355265868,0.6776936269630355,-0.8255555594874866,-0.3076137910284783,0.04577378404974291,0.5908813177742992,-0.0867135795721074,0.5594072519618621,-0.1413001202249238,1.7384340424803102,-2.4492080768855287,-0.7887547190464445,-1.2518677215899865,-0.6487098819154417,-0.28465106194768164,-1.1357631521479223,-1.4106670327708521,1.750481229903767,0.11584052481397858,0.7843671952305441,-1.8804236899463251,-0.4204697864425212,0.6987164435896369,2.1934276816037603,-0.5369306398733962,0.6848798903880331,0.033325477891684926,0.41516603128137797,0.1883920208711664,-0.012559303210577832,1.1243442155693069,-0.9201746380248,0.21929955502170842,0.6079496486264784,-0.28364880324262076,-1.0678607990897728,0.24538008674681774,0.0873868707722896,-0.029322832699304503,-0.4378358450539327,-0.6042258584836061,0.20698967658156647,0.6947256431567338,0.7779904885055057,-0.6478925945026229],\"type\":\"scatter\"}],                        {\"legend\":{\"bgcolor\":\"#F5F6F9\",\"font\":{\"color\":\"#4D5663\"}},\"paper_bgcolor\":\"#F5F6F9\",\"plot_bgcolor\":\"#F5F6F9\",\"template\":{\"data\":{\"barpolar\":[{\"marker\":{\"line\":{\"color\":\"#E5ECF6\",\"width\":0.5},\"pattern\":{\"fillmode\":\"overlay\",\"size\":10,\"solidity\":0.2}},\"type\":\"barpolar\"}],\"bar\":[{\"error_x\":{\"color\":\"#2a3f5f\"},\"error_y\":{\"color\":\"#2a3f5f\"},\"marker\":{\"line\":{\"color\":\"#E5ECF6\",\"width\":0.5},\"pattern\":{\"fillmode\":\"overlay\",\"size\":10,\"solidity\":0.2}},\"type\":\"bar\"}],\"carpet\":[{\"aaxis\":{\"endlinecolor\":\"#2a3f5f\",\"gridcolor\":\"white\",\"linecolor\":\"white\",\"minorgridcolor\":\"white\",\"startlinecolor\":\"#2a3f5f\"},\"baxis\":{\"endlinecolor\":\"#2a3f5f\",\"gridcolor\":\"white\",\"linecolor\":\"white\",\"minorgridcolor\":\"white\",\"startlinecolor\":\"#2a3f5f\"},\"type\":\"carpet\"}],\"choropleth\":[{\"colorbar\":{\"outlinewidth\":0,\"ticks\":\"\"},\"type\":\"choropleth\"}],\"contourcarpet\":[{\"colorbar\":{\"outlinewidth\":0,\"ticks\":\"\"},\"type\":\"contourcarpet\"}],\"contour\":[{\"colorbar\":{\"outlinewidth\":0,\"ticks\":\"\"},\"colorscale\":[[0.0,\"#0d0887\"],[0.1111111111111111,\"#46039f\"],[0.2222222222222222,\"#7201a8\"],[0.3333333333333333,\"#9c179e\"],[0.4444444444444444,\"#bd3786\"],[0.5555555555555556,\"#d8576b\"],[0.6666666666666666,\"#ed7953\"],[0.7777777777777778,\"#fb9f3a\"],[0.8888888888888888,\"#fdca26\"],[1.0,\"#f0f921\"]],\"type\":\"contour\"}],\"heatmapgl\":[{\"colorbar\":{\"outlinewidth\":0,\"ticks\":\"\"},\"colorscale\":[[0.0,\"#0d0887\"],[0.1111111111111111,\"#46039f\"],[0.2222222222222222,\"#7201a8\"],[0.3333333333333333,\"#9c179e\"],[0.4444444444444444,\"#bd3786\"],[0.5555555555555556,\"#d8576b\"],[0.6666666666666666,\"#ed7953\"],[0.7777777777777778,\"#fb9f3a\"],[0.8888888888888888,\"#fdca26\"],[1.0,\"#f0f921\"]],\"type\":\"heatmapgl\"}],\"heatmap\":[{\"colorbar\":{\"outlinewidth\":0,\"ticks\":\"\"},\"colorscale\":[[0.0,\"#0d0887\"],[0.1111111111111111,\"#46039f\"],[0.2222222222222222,\"#7201a8\"],[0.3333333333333333,\"#9c179e\"],[0.4444444444444444,\"#bd3786\"],[0.5555555555555556,\"#d8576b\"],[0.6666666666666666,\"#ed7953\"],[0.7777777777777778,\"#fb9f3a\"],[0.8888888888888888,\"#fdca26\"],[1.0,\"#f0f921\"]],\"type\":\"heatmap\"}],\"histogram2dcontour\":[{\"colorbar\":{\"outlinewidth\":0,\"ticks\":\"\"},\"colorscale\":[[0.0,\"#0d0887\"],[0.1111111111111111,\"#46039f\"],[0.2222222222222222,\"#7201a8\"],[0.3333333333333333,\"#9c179e\"],[0.4444444444444444,\"#bd3786\"],[0.5555555555555556,\"#d8576b\"],[0.6666666666666666,\"#ed7953\"],[0.7777777777777778,\"#fb9f3a\"],[0.8888888888888888,\"#fdca26\"],[1.0,\"#f0f921\"]],\"type\":\"histogram2dcontour\"}],\"histogram2d\":[{\"colorbar\":{\"outlinewidth\":0,\"ticks\":\"\"},\"colorscale\":[[0.0,\"#0d0887\"],[0.1111111111111111,\"#46039f\"],[0.2222222222222222,\"#7201a8\"],[0.3333333333333333,\"#9c179e\"],[0.4444444444444444,\"#bd3786\"],[0.5555555555555556,\"#d8576b\"],[0.6666666666666666,\"#ed7953\"],[0.7777777777777778,\"#fb9f3a\"],[0.8888888888888888,\"#fdca26\"],[1.0,\"#f0f921\"]],\"type\":\"histogram2d\"}],\"histogram\":[{\"marker\":{\"pattern\":{\"fillmode\":\"overlay\",\"size\":10,\"solidity\":0.2}},\"type\":\"histogram\"}],\"mesh3d\":[{\"colorbar\":{\"outlinewidth\":0,\"ticks\":\"\"},\"type\":\"mesh3d\"}],\"parcoords\":[{\"line\":{\"colorbar\":{\"outlinewidth\":0,\"ticks\":\"\"}},\"type\":\"parcoords\"}],\"pie\":[{\"automargin\":true,\"type\":\"pie\"}],\"scatter3d\":[{\"line\":{\"colorbar\":{\"outlinewidth\":0,\"ticks\":\"\"}},\"marker\":{\"colorbar\":{\"outlinewidth\":0,\"ticks\":\"\"}},\"type\":\"scatter3d\"}],\"scattercarpet\":[{\"marker\":{\"colorbar\":{\"outlinewidth\":0,\"ticks\":\"\"}},\"type\":\"scattercarpet\"}],\"scattergeo\":[{\"marker\":{\"colorbar\":{\"outlinewidth\":0,\"ticks\":\"\"}},\"type\":\"scattergeo\"}],\"scattergl\":[{\"marker\":{\"colorbar\":{\"outlinewidth\":0,\"ticks\":\"\"}},\"type\":\"scattergl\"}],\"scattermapbox\":[{\"marker\":{\"colorbar\":{\"outlinewidth\":0,\"ticks\":\"\"}},\"type\":\"scattermapbox\"}],\"scatterpolargl\":[{\"marker\":{\"colorbar\":{\"outlinewidth\":0,\"ticks\":\"\"}},\"type\":\"scatterpolargl\"}],\"scatterpolar\":[{\"marker\":{\"colorbar\":{\"outlinewidth\":0,\"ticks\":\"\"}},\"type\":\"scatterpolar\"}],\"scatter\":[{\"fillpattern\":{\"fillmode\":\"overlay\",\"size\":10,\"solidity\":0.2},\"type\":\"scatter\"}],\"scatterternary\":[{\"marker\":{\"colorbar\":{\"outlinewidth\":0,\"ticks\":\"\"}},\"type\":\"scatterternary\"}],\"surface\":[{\"colorbar\":{\"outlinewidth\":0,\"ticks\":\"\"},\"colorscale\":[[0.0,\"#0d0887\"],[0.1111111111111111,\"#46039f\"],[0.2222222222222222,\"#7201a8\"],[0.3333333333333333,\"#9c179e\"],[0.4444444444444444,\"#bd3786\"],[0.5555555555555556,\"#d8576b\"],[0.6666666666666666,\"#ed7953\"],[0.7777777777777778,\"#fb9f3a\"],[0.8888888888888888,\"#fdca26\"],[1.0,\"#f0f921\"]],\"type\":\"surface\"}],\"table\":[{\"cells\":{\"fill\":{\"color\":\"#EBF0F8\"},\"line\":{\"color\":\"white\"}},\"header\":{\"fill\":{\"color\":\"#C8D4E3\"},\"line\":{\"color\":\"white\"}},\"type\":\"table\"}]},\"layout\":{\"annotationdefaults\":{\"arrowcolor\":\"#2a3f5f\",\"arrowhead\":0,\"arrowwidth\":1},\"autotypenumbers\":\"strict\",\"coloraxis\":{\"colorbar\":{\"outlinewidth\":0,\"ticks\":\"\"}},\"colorscale\":{\"diverging\":[[0,\"#8e0152\"],[0.1,\"#c51b7d\"],[0.2,\"#de77ae\"],[0.3,\"#f1b6da\"],[0.4,\"#fde0ef\"],[0.5,\"#f7f7f7\"],[0.6,\"#e6f5d0\"],[0.7,\"#b8e186\"],[0.8,\"#7fbc41\"],[0.9,\"#4d9221\"],[1,\"#276419\"]],\"sequential\":[[0.0,\"#0d0887\"],[0.1111111111111111,\"#46039f\"],[0.2222222222222222,\"#7201a8\"],[0.3333333333333333,\"#9c179e\"],[0.4444444444444444,\"#bd3786\"],[0.5555555555555556,\"#d8576b\"],[0.6666666666666666,\"#ed7953\"],[0.7777777777777778,\"#fb9f3a\"],[0.8888888888888888,\"#fdca26\"],[1.0,\"#f0f921\"]],\"sequentialminus\":[[0.0,\"#0d0887\"],[0.1111111111111111,\"#46039f\"],[0.2222222222222222,\"#7201a8\"],[0.3333333333333333,\"#9c179e\"],[0.4444444444444444,\"#bd3786\"],[0.5555555555555556,\"#d8576b\"],[0.6666666666666666,\"#ed7953\"],[0.7777777777777778,\"#fb9f3a\"],[0.8888888888888888,\"#fdca26\"],[1.0,\"#f0f921\"]]},\"colorway\":[\"#636efa\",\"#EF553B\",\"#00cc96\",\"#ab63fa\",\"#FFA15A\",\"#19d3f3\",\"#FF6692\",\"#B6E880\",\"#FF97FF\",\"#FECB52\"],\"font\":{\"color\":\"#2a3f5f\"},\"geo\":{\"bgcolor\":\"white\",\"lakecolor\":\"white\",\"landcolor\":\"#E5ECF6\",\"showlakes\":true,\"showland\":true,\"subunitcolor\":\"white\"},\"hoverlabel\":{\"align\":\"left\"},\"hovermode\":\"closest\",\"mapbox\":{\"style\":\"light\"},\"paper_bgcolor\":\"white\",\"plot_bgcolor\":\"#E5ECF6\",\"polar\":{\"angularaxis\":{\"gridcolor\":\"white\",\"linecolor\":\"white\",\"ticks\":\"\"},\"bgcolor\":\"#E5ECF6\",\"radialaxis\":{\"gridcolor\":\"white\",\"linecolor\":\"white\",\"ticks\":\"\"}},\"scene\":{\"xaxis\":{\"backgroundcolor\":\"#E5ECF6\",\"gridcolor\":\"white\",\"gridwidth\":2,\"linecolor\":\"white\",\"showbackground\":true,\"ticks\":\"\",\"zerolinecolor\":\"white\"},\"yaxis\":{\"backgroundcolor\":\"#E5ECF6\",\"gridcolor\":\"white\",\"gridwidth\":2,\"linecolor\":\"white\",\"showbackground\":true,\"ticks\":\"\",\"zerolinecolor\":\"white\"},\"zaxis\":{\"backgroundcolor\":\"#E5ECF6\",\"gridcolor\":\"white\",\"gridwidth\":2,\"linecolor\":\"white\",\"showbackground\":true,\"ticks\":\"\",\"zerolinecolor\":\"white\"}},\"shapedefaults\":{\"line\":{\"color\":\"#2a3f5f\"}},\"ternary\":{\"aaxis\":{\"gridcolor\":\"white\",\"linecolor\":\"white\",\"ticks\":\"\"},\"baxis\":{\"gridcolor\":\"white\",\"linecolor\":\"white\",\"ticks\":\"\"},\"bgcolor\":\"#E5ECF6\",\"caxis\":{\"gridcolor\":\"white\",\"linecolor\":\"white\",\"ticks\":\"\"}},\"title\":{\"x\":0.05},\"xaxis\":{\"automargin\":true,\"gridcolor\":\"white\",\"linecolor\":\"white\",\"ticks\":\"\",\"title\":{\"standoff\":15},\"zerolinecolor\":\"white\",\"zerolinewidth\":2},\"yaxis\":{\"automargin\":true,\"gridcolor\":\"white\",\"linecolor\":\"white\",\"ticks\":\"\",\"title\":{\"standoff\":15},\"zerolinecolor\":\"white\",\"zerolinewidth\":2}}},\"title\":{\"font\":{\"color\":\"#4D5663\"}},\"xaxis\":{\"gridcolor\":\"#E1E5ED\",\"showgrid\":true,\"tickfont\":{\"color\":\"#4D5663\"},\"title\":{\"font\":{\"color\":\"#4D5663\"},\"text\":\"\"},\"zerolinecolor\":\"#E1E5ED\"},\"yaxis\":{\"gridcolor\":\"#E1E5ED\",\"showgrid\":true,\"tickfont\":{\"color\":\"#4D5663\"},\"title\":{\"font\":{\"color\":\"#4D5663\"},\"text\":\"\"},\"zerolinecolor\":\"#E1E5ED\"}},                        {\"showLink\": true, \"linkText\": \"Export to plot.ly\", \"plotlyServerURL\": \"https://plot.ly\", \"responsive\": true}                    ).then(function(){\n",
       "                            \n",
       "var gd = document.getElementById('fe97a37d-d2ec-4d9c-8cef-67b582cf2c2e');\n",
       "var x = new MutationObserver(function (mutations, observer) {{\n",
       "        var display = window.getComputedStyle(gd).display;\n",
       "        if (!display || display === 'none') {{\n",
       "            console.log([gd, 'removed!']);\n",
       "            Plotly.purge(gd);\n",
       "            observer.disconnect();\n",
       "        }}\n",
       "}});\n",
       "\n",
       "// Listen for the removal of the full notebook cells\n",
       "var notebookContainer = gd.closest('#notebook-container');\n",
       "if (notebookContainer) {{\n",
       "    x.observe(notebookContainer, {childList: true});\n",
       "}}\n",
       "\n",
       "// Listen for the clearing of the current output cell\n",
       "var outputEl = gd.closest('.output');\n",
       "if (outputEl) {{\n",
       "    x.observe(outputEl, {childList: true});\n",
       "}}\n",
       "\n",
       "                        })                };                });            </script>        </div>"
      ]
     },
     "metadata": {},
     "output_type": "display_data"
    }
   ],
   "source": [
    "df.iplot(kind='scatter',x = 'A',y='B', mode = 'markers')"
   ]
  },
  {
   "cell_type": "code",
   "execution_count": 49,
   "id": "aad6f927-85a9-487d-876b-71574c5011b2",
   "metadata": {},
   "outputs": [
    {
     "data": {
      "application/vnd.plotly.v1+json": {
       "config": {
        "linkText": "Export to plot.ly",
        "plotlyServerURL": "https://plot.ly",
        "showLink": true
       },
       "data": [
        {
         "marker": {
          "color": "rgba(255, 153, 51, 0.6)",
          "line": {
           "color": "rgba(255, 153, 51, 1.0)",
           "width": 1
          }
         },
         "name": "Values",
         "orientation": "v",
         "text": "",
         "type": "bar",
         "x": [
          "A",
          "B",
          "C"
         ],
         "y": [
          32,
          43,
          50
         ]
        }
       ],
       "layout": {
        "autosize": true,
        "legend": {
         "bgcolor": "#F5F6F9",
         "font": {
          "color": "#4D5663"
         }
        },
        "paper_bgcolor": "#F5F6F9",
        "plot_bgcolor": "#F5F6F9",
        "template": {
         "data": {
          "bar": [
           {
            "error_x": {
             "color": "#2a3f5f"
            },
            "error_y": {
             "color": "#2a3f5f"
            },
            "marker": {
             "line": {
              "color": "#E5ECF6",
              "width": 0.5
             },
             "pattern": {
              "fillmode": "overlay",
              "size": 10,
              "solidity": 0.2
             }
            },
            "type": "bar"
           }
          ],
          "barpolar": [
           {
            "marker": {
             "line": {
              "color": "#E5ECF6",
              "width": 0.5
             },
             "pattern": {
              "fillmode": "overlay",
              "size": 10,
              "solidity": 0.2
             }
            },
            "type": "barpolar"
           }
          ],
          "carpet": [
           {
            "aaxis": {
             "endlinecolor": "#2a3f5f",
             "gridcolor": "white",
             "linecolor": "white",
             "minorgridcolor": "white",
             "startlinecolor": "#2a3f5f"
            },
            "baxis": {
             "endlinecolor": "#2a3f5f",
             "gridcolor": "white",
             "linecolor": "white",
             "minorgridcolor": "white",
             "startlinecolor": "#2a3f5f"
            },
            "type": "carpet"
           }
          ],
          "choropleth": [
           {
            "colorbar": {
             "outlinewidth": 0,
             "ticks": ""
            },
            "type": "choropleth"
           }
          ],
          "contour": [
           {
            "colorbar": {
             "outlinewidth": 0,
             "ticks": ""
            },
            "colorscale": [
             [
              0,
              "#0d0887"
             ],
             [
              0.1111111111111111,
              "#46039f"
             ],
             [
              0.2222222222222222,
              "#7201a8"
             ],
             [
              0.3333333333333333,
              "#9c179e"
             ],
             [
              0.4444444444444444,
              "#bd3786"
             ],
             [
              0.5555555555555556,
              "#d8576b"
             ],
             [
              0.6666666666666666,
              "#ed7953"
             ],
             [
              0.7777777777777778,
              "#fb9f3a"
             ],
             [
              0.8888888888888888,
              "#fdca26"
             ],
             [
              1,
              "#f0f921"
             ]
            ],
            "type": "contour"
           }
          ],
          "contourcarpet": [
           {
            "colorbar": {
             "outlinewidth": 0,
             "ticks": ""
            },
            "type": "contourcarpet"
           }
          ],
          "heatmap": [
           {
            "colorbar": {
             "outlinewidth": 0,
             "ticks": ""
            },
            "colorscale": [
             [
              0,
              "#0d0887"
             ],
             [
              0.1111111111111111,
              "#46039f"
             ],
             [
              0.2222222222222222,
              "#7201a8"
             ],
             [
              0.3333333333333333,
              "#9c179e"
             ],
             [
              0.4444444444444444,
              "#bd3786"
             ],
             [
              0.5555555555555556,
              "#d8576b"
             ],
             [
              0.6666666666666666,
              "#ed7953"
             ],
             [
              0.7777777777777778,
              "#fb9f3a"
             ],
             [
              0.8888888888888888,
              "#fdca26"
             ],
             [
              1,
              "#f0f921"
             ]
            ],
            "type": "heatmap"
           }
          ],
          "heatmapgl": [
           {
            "colorbar": {
             "outlinewidth": 0,
             "ticks": ""
            },
            "colorscale": [
             [
              0,
              "#0d0887"
             ],
             [
              0.1111111111111111,
              "#46039f"
             ],
             [
              0.2222222222222222,
              "#7201a8"
             ],
             [
              0.3333333333333333,
              "#9c179e"
             ],
             [
              0.4444444444444444,
              "#bd3786"
             ],
             [
              0.5555555555555556,
              "#d8576b"
             ],
             [
              0.6666666666666666,
              "#ed7953"
             ],
             [
              0.7777777777777778,
              "#fb9f3a"
             ],
             [
              0.8888888888888888,
              "#fdca26"
             ],
             [
              1,
              "#f0f921"
             ]
            ],
            "type": "heatmapgl"
           }
          ],
          "histogram": [
           {
            "marker": {
             "pattern": {
              "fillmode": "overlay",
              "size": 10,
              "solidity": 0.2
             }
            },
            "type": "histogram"
           }
          ],
          "histogram2d": [
           {
            "colorbar": {
             "outlinewidth": 0,
             "ticks": ""
            },
            "colorscale": [
             [
              0,
              "#0d0887"
             ],
             [
              0.1111111111111111,
              "#46039f"
             ],
             [
              0.2222222222222222,
              "#7201a8"
             ],
             [
              0.3333333333333333,
              "#9c179e"
             ],
             [
              0.4444444444444444,
              "#bd3786"
             ],
             [
              0.5555555555555556,
              "#d8576b"
             ],
             [
              0.6666666666666666,
              "#ed7953"
             ],
             [
              0.7777777777777778,
              "#fb9f3a"
             ],
             [
              0.8888888888888888,
              "#fdca26"
             ],
             [
              1,
              "#f0f921"
             ]
            ],
            "type": "histogram2d"
           }
          ],
          "histogram2dcontour": [
           {
            "colorbar": {
             "outlinewidth": 0,
             "ticks": ""
            },
            "colorscale": [
             [
              0,
              "#0d0887"
             ],
             [
              0.1111111111111111,
              "#46039f"
             ],
             [
              0.2222222222222222,
              "#7201a8"
             ],
             [
              0.3333333333333333,
              "#9c179e"
             ],
             [
              0.4444444444444444,
              "#bd3786"
             ],
             [
              0.5555555555555556,
              "#d8576b"
             ],
             [
              0.6666666666666666,
              "#ed7953"
             ],
             [
              0.7777777777777778,
              "#fb9f3a"
             ],
             [
              0.8888888888888888,
              "#fdca26"
             ],
             [
              1,
              "#f0f921"
             ]
            ],
            "type": "histogram2dcontour"
           }
          ],
          "mesh3d": [
           {
            "colorbar": {
             "outlinewidth": 0,
             "ticks": ""
            },
            "type": "mesh3d"
           }
          ],
          "parcoords": [
           {
            "line": {
             "colorbar": {
              "outlinewidth": 0,
              "ticks": ""
             }
            },
            "type": "parcoords"
           }
          ],
          "pie": [
           {
            "automargin": true,
            "type": "pie"
           }
          ],
          "scatter": [
           {
            "fillpattern": {
             "fillmode": "overlay",
             "size": 10,
             "solidity": 0.2
            },
            "type": "scatter"
           }
          ],
          "scatter3d": [
           {
            "line": {
             "colorbar": {
              "outlinewidth": 0,
              "ticks": ""
             }
            },
            "marker": {
             "colorbar": {
              "outlinewidth": 0,
              "ticks": ""
             }
            },
            "type": "scatter3d"
           }
          ],
          "scattercarpet": [
           {
            "marker": {
             "colorbar": {
              "outlinewidth": 0,
              "ticks": ""
             }
            },
            "type": "scattercarpet"
           }
          ],
          "scattergeo": [
           {
            "marker": {
             "colorbar": {
              "outlinewidth": 0,
              "ticks": ""
             }
            },
            "type": "scattergeo"
           }
          ],
          "scattergl": [
           {
            "marker": {
             "colorbar": {
              "outlinewidth": 0,
              "ticks": ""
             }
            },
            "type": "scattergl"
           }
          ],
          "scattermapbox": [
           {
            "marker": {
             "colorbar": {
              "outlinewidth": 0,
              "ticks": ""
             }
            },
            "type": "scattermapbox"
           }
          ],
          "scatterpolar": [
           {
            "marker": {
             "colorbar": {
              "outlinewidth": 0,
              "ticks": ""
             }
            },
            "type": "scatterpolar"
           }
          ],
          "scatterpolargl": [
           {
            "marker": {
             "colorbar": {
              "outlinewidth": 0,
              "ticks": ""
             }
            },
            "type": "scatterpolargl"
           }
          ],
          "scatterternary": [
           {
            "marker": {
             "colorbar": {
              "outlinewidth": 0,
              "ticks": ""
             }
            },
            "type": "scatterternary"
           }
          ],
          "surface": [
           {
            "colorbar": {
             "outlinewidth": 0,
             "ticks": ""
            },
            "colorscale": [
             [
              0,
              "#0d0887"
             ],
             [
              0.1111111111111111,
              "#46039f"
             ],
             [
              0.2222222222222222,
              "#7201a8"
             ],
             [
              0.3333333333333333,
              "#9c179e"
             ],
             [
              0.4444444444444444,
              "#bd3786"
             ],
             [
              0.5555555555555556,
              "#d8576b"
             ],
             [
              0.6666666666666666,
              "#ed7953"
             ],
             [
              0.7777777777777778,
              "#fb9f3a"
             ],
             [
              0.8888888888888888,
              "#fdca26"
             ],
             [
              1,
              "#f0f921"
             ]
            ],
            "type": "surface"
           }
          ],
          "table": [
           {
            "cells": {
             "fill": {
              "color": "#EBF0F8"
             },
             "line": {
              "color": "white"
             }
            },
            "header": {
             "fill": {
              "color": "#C8D4E3"
             },
             "line": {
              "color": "white"
             }
            },
            "type": "table"
           }
          ]
         },
         "layout": {
          "annotationdefaults": {
           "arrowcolor": "#2a3f5f",
           "arrowhead": 0,
           "arrowwidth": 1
          },
          "autotypenumbers": "strict",
          "coloraxis": {
           "colorbar": {
            "outlinewidth": 0,
            "ticks": ""
           }
          },
          "colorscale": {
           "diverging": [
            [
             0,
             "#8e0152"
            ],
            [
             0.1,
             "#c51b7d"
            ],
            [
             0.2,
             "#de77ae"
            ],
            [
             0.3,
             "#f1b6da"
            ],
            [
             0.4,
             "#fde0ef"
            ],
            [
             0.5,
             "#f7f7f7"
            ],
            [
             0.6,
             "#e6f5d0"
            ],
            [
             0.7,
             "#b8e186"
            ],
            [
             0.8,
             "#7fbc41"
            ],
            [
             0.9,
             "#4d9221"
            ],
            [
             1,
             "#276419"
            ]
           ],
           "sequential": [
            [
             0,
             "#0d0887"
            ],
            [
             0.1111111111111111,
             "#46039f"
            ],
            [
             0.2222222222222222,
             "#7201a8"
            ],
            [
             0.3333333333333333,
             "#9c179e"
            ],
            [
             0.4444444444444444,
             "#bd3786"
            ],
            [
             0.5555555555555556,
             "#d8576b"
            ],
            [
             0.6666666666666666,
             "#ed7953"
            ],
            [
             0.7777777777777778,
             "#fb9f3a"
            ],
            [
             0.8888888888888888,
             "#fdca26"
            ],
            [
             1,
             "#f0f921"
            ]
           ],
           "sequentialminus": [
            [
             0,
             "#0d0887"
            ],
            [
             0.1111111111111111,
             "#46039f"
            ],
            [
             0.2222222222222222,
             "#7201a8"
            ],
            [
             0.3333333333333333,
             "#9c179e"
            ],
            [
             0.4444444444444444,
             "#bd3786"
            ],
            [
             0.5555555555555556,
             "#d8576b"
            ],
            [
             0.6666666666666666,
             "#ed7953"
            ],
            [
             0.7777777777777778,
             "#fb9f3a"
            ],
            [
             0.8888888888888888,
             "#fdca26"
            ],
            [
             1,
             "#f0f921"
            ]
           ]
          },
          "colorway": [
           "#636efa",
           "#EF553B",
           "#00cc96",
           "#ab63fa",
           "#FFA15A",
           "#19d3f3",
           "#FF6692",
           "#B6E880",
           "#FF97FF",
           "#FECB52"
          ],
          "font": {
           "color": "#2a3f5f"
          },
          "geo": {
           "bgcolor": "white",
           "lakecolor": "white",
           "landcolor": "#E5ECF6",
           "showlakes": true,
           "showland": true,
           "subunitcolor": "white"
          },
          "hoverlabel": {
           "align": "left"
          },
          "hovermode": "closest",
          "mapbox": {
           "style": "light"
          },
          "paper_bgcolor": "white",
          "plot_bgcolor": "#E5ECF6",
          "polar": {
           "angularaxis": {
            "gridcolor": "white",
            "linecolor": "white",
            "ticks": ""
           },
           "bgcolor": "#E5ECF6",
           "radialaxis": {
            "gridcolor": "white",
            "linecolor": "white",
            "ticks": ""
           }
          },
          "scene": {
           "xaxis": {
            "backgroundcolor": "#E5ECF6",
            "gridcolor": "white",
            "gridwidth": 2,
            "linecolor": "white",
            "showbackground": true,
            "ticks": "",
            "zerolinecolor": "white"
           },
           "yaxis": {
            "backgroundcolor": "#E5ECF6",
            "gridcolor": "white",
            "gridwidth": 2,
            "linecolor": "white",
            "showbackground": true,
            "ticks": "",
            "zerolinecolor": "white"
           },
           "zaxis": {
            "backgroundcolor": "#E5ECF6",
            "gridcolor": "white",
            "gridwidth": 2,
            "linecolor": "white",
            "showbackground": true,
            "ticks": "",
            "zerolinecolor": "white"
           }
          },
          "shapedefaults": {
           "line": {
            "color": "#2a3f5f"
           }
          },
          "ternary": {
           "aaxis": {
            "gridcolor": "white",
            "linecolor": "white",
            "ticks": ""
           },
           "baxis": {
            "gridcolor": "white",
            "linecolor": "white",
            "ticks": ""
           },
           "bgcolor": "#E5ECF6",
           "caxis": {
            "gridcolor": "white",
            "linecolor": "white",
            "ticks": ""
           }
          },
          "title": {
           "x": 0.05
          },
          "xaxis": {
           "automargin": true,
           "gridcolor": "white",
           "linecolor": "white",
           "ticks": "",
           "title": {
            "standoff": 15
           },
           "zerolinecolor": "white",
           "zerolinewidth": 2
          },
          "yaxis": {
           "automargin": true,
           "gridcolor": "white",
           "linecolor": "white",
           "ticks": "",
           "title": {
            "standoff": 15
           },
           "zerolinecolor": "white",
           "zerolinewidth": 2
          }
         }
        },
        "title": {
         "font": {
          "color": "#4D5663"
         }
        },
        "xaxis": {
         "autorange": true,
         "gridcolor": "#E1E5ED",
         "range": [
          -0.5,
          2.5
         ],
         "showgrid": true,
         "tickfont": {
          "color": "#4D5663"
         },
         "title": {
          "font": {
           "color": "#4D5663"
          },
          "text": ""
         },
         "type": "category",
         "zerolinecolor": "#E1E5ED"
        },
        "yaxis": {
         "autorange": true,
         "gridcolor": "#E1E5ED",
         "range": [
          0,
          52.63157894736842
         ],
         "showgrid": true,
         "tickfont": {
          "color": "#4D5663"
         },
         "title": {
          "font": {
           "color": "#4D5663"
          },
          "text": ""
         },
         "type": "linear",
         "zerolinecolor": "#E1E5ED"
        }
       }
      },
      "image/png": "[encoded data removed]",
      "text/html": [
       "<div>                            <div id=\"cea57893-79d8-4742-b8a4-586a8f364492\" class=\"plotly-graph-div\" style=\"height:525px; width:100%;\"></div>            <script type=\"text/javascript\">                require([\"plotly\"], function(Plotly) {                    window.PLOTLYENV=window.PLOTLYENV || {};\n",
       "                    window.PLOTLYENV.BASE_URL='https://plot.ly';                                    if (document.getElementById(\"cea57893-79d8-4742-b8a4-586a8f364492\")) {                    Plotly.newPlot(                        \"cea57893-79d8-4742-b8a4-586a8f364492\",                        [{\"marker\":{\"color\":\"rgba(255, 153, 51, 0.6)\",\"line\":{\"color\":\"rgba(255, 153, 51, 1.0)\",\"width\":1}},\"name\":\"Values\",\"orientation\":\"v\",\"text\":\"\",\"x\":[\"A\",\"B\",\"C\"],\"y\":[32,43,50],\"type\":\"bar\"}],                        {\"legend\":{\"bgcolor\":\"#F5F6F9\",\"font\":{\"color\":\"#4D5663\"}},\"paper_bgcolor\":\"#F5F6F9\",\"plot_bgcolor\":\"#F5F6F9\",\"template\":{\"data\":{\"barpolar\":[{\"marker\":{\"line\":{\"color\":\"#E5ECF6\",\"width\":0.5},\"pattern\":{\"fillmode\":\"overlay\",\"size\":10,\"solidity\":0.2}},\"type\":\"barpolar\"}],\"bar\":[{\"error_x\":{\"color\":\"#2a3f5f\"},\"error_y\":{\"color\":\"#2a3f5f\"},\"marker\":{\"line\":{\"color\":\"#E5ECF6\",\"width\":0.5},\"pattern\":{\"fillmode\":\"overlay\",\"size\":10,\"solidity\":0.2}},\"type\":\"bar\"}],\"carpet\":[{\"aaxis\":{\"endlinecolor\":\"#2a3f5f\",\"gridcolor\":\"white\",\"linecolor\":\"white\",\"minorgridcolor\":\"white\",\"startlinecolor\":\"#2a3f5f\"},\"baxis\":{\"endlinecolor\":\"#2a3f5f\",\"gridcolor\":\"white\",\"linecolor\":\"white\",\"minorgridcolor\":\"white\",\"startlinecolor\":\"#2a3f5f\"},\"type\":\"carpet\"}],\"choropleth\":[{\"colorbar\":{\"outlinewidth\":0,\"ticks\":\"\"},\"type\":\"choropleth\"}],\"contourcarpet\":[{\"colorbar\":{\"outlinewidth\":0,\"ticks\":\"\"},\"type\":\"contourcarpet\"}],\"contour\":[{\"colorbar\":{\"outlinewidth\":0,\"ticks\":\"\"},\"colorscale\":[[0.0,\"#0d0887\"],[0.1111111111111111,\"#46039f\"],[0.2222222222222222,\"#7201a8\"],[0.3333333333333333,\"#9c179e\"],[0.4444444444444444,\"#bd3786\"],[0.5555555555555556,\"#d8576b\"],[0.6666666666666666,\"#ed7953\"],[0.7777777777777778,\"#fb9f3a\"],[0.8888888888888888,\"#fdca26\"],[1.0,\"#f0f921\"]],\"type\":\"contour\"}],\"heatmapgl\":[{\"colorbar\":{\"outlinewidth\":0,\"ticks\":\"\"},\"colorscale\":[[0.0,\"#0d0887\"],[0.1111111111111111,\"#46039f\"],[0.2222222222222222,\"#7201a8\"],[0.3333333333333333,\"#9c179e\"],[0.4444444444444444,\"#bd3786\"],[0.5555555555555556,\"#d8576b\"],[0.6666666666666666,\"#ed7953\"],[0.7777777777777778,\"#fb9f3a\"],[0.8888888888888888,\"#fdca26\"],[1.0,\"#f0f921\"]],\"type\":\"heatmapgl\"}],\"heatmap\":[{\"colorbar\":{\"outlinewidth\":0,\"ticks\":\"\"},\"colorscale\":[[0.0,\"#0d0887\"],[0.1111111111111111,\"#46039f\"],[0.2222222222222222,\"#7201a8\"],[0.3333333333333333,\"#9c179e\"],[0.4444444444444444,\"#bd3786\"],[0.5555555555555556,\"#d8576b\"],[0.6666666666666666,\"#ed7953\"],[0.7777777777777778,\"#fb9f3a\"],[0.8888888888888888,\"#fdca26\"],[1.0,\"#f0f921\"]],\"type\":\"heatmap\"}],\"histogram2dcontour\":[{\"colorbar\":{\"outlinewidth\":0,\"ticks\":\"\"},\"colorscale\":[[0.0,\"#0d0887\"],[0.1111111111111111,\"#46039f\"],[0.2222222222222222,\"#7201a8\"],[0.3333333333333333,\"#9c179e\"],[0.4444444444444444,\"#bd3786\"],[0.5555555555555556,\"#d8576b\"],[0.6666666666666666,\"#ed7953\"],[0.7777777777777778,\"#fb9f3a\"],[0.8888888888888888,\"#fdca26\"],[1.0,\"#f0f921\"]],\"type\":\"histogram2dcontour\"}],\"histogram2d\":[{\"colorbar\":{\"outlinewidth\":0,\"ticks\":\"\"},\"colorscale\":[[0.0,\"#0d0887\"],[0.1111111111111111,\"#46039f\"],[0.2222222222222222,\"#7201a8\"],[0.3333333333333333,\"#9c179e\"],[0.4444444444444444,\"#bd3786\"],[0.5555555555555556,\"#d8576b\"],[0.6666666666666666,\"#ed7953\"],[0.7777777777777778,\"#fb9f3a\"],[0.8888888888888888,\"#fdca26\"],[1.0,\"#f0f921\"]],\"type\":\"histogram2d\"}],\"histogram\":[{\"marker\":{\"pattern\":{\"fillmode\":\"overlay\",\"size\":10,\"solidity\":0.2}},\"type\":\"histogram\"}],\"mesh3d\":[{\"colorbar\":{\"outlinewidth\":0,\"ticks\":\"\"},\"type\":\"mesh3d\"}],\"parcoords\":[{\"line\":{\"colorbar\":{\"outlinewidth\":0,\"ticks\":\"\"}},\"type\":\"parcoords\"}],\"pie\":[{\"automargin\":true,\"type\":\"pie\"}],\"scatter3d\":[{\"line\":{\"colorbar\":{\"outlinewidth\":0,\"ticks\":\"\"}},\"marker\":{\"colorbar\":{\"outlinewidth\":0,\"ticks\":\"\"}},\"type\":\"scatter3d\"}],\"scattercarpet\":[{\"marker\":{\"colorbar\":{\"outlinewidth\":0,\"ticks\":\"\"}},\"type\":\"scattercarpet\"}],\"scattergeo\":[{\"marker\":{\"colorbar\":{\"outlinewidth\":0,\"ticks\":\"\"}},\"type\":\"scattergeo\"}],\"scattergl\":[{\"marker\":{\"colorbar\":{\"outlinewidth\":0,\"ticks\":\"\"}},\"type\":\"scattergl\"}],\"scattermapbox\":[{\"marker\":{\"colorbar\":{\"outlinewidth\":0,\"ticks\":\"\"}},\"type\":\"scattermapbox\"}],\"scatterpolargl\":[{\"marker\":{\"colorbar\":{\"outlinewidth\":0,\"ticks\":\"\"}},\"type\":\"scatterpolargl\"}],\"scatterpolar\":[{\"marker\":{\"colorbar\":{\"outlinewidth\":0,\"ticks\":\"\"}},\"type\":\"scatterpolar\"}],\"scatter\":[{\"fillpattern\":{\"fillmode\":\"overlay\",\"size\":10,\"solidity\":0.2},\"type\":\"scatter\"}],\"scatterternary\":[{\"marker\":{\"colorbar\":{\"outlinewidth\":0,\"ticks\":\"\"}},\"type\":\"scatterternary\"}],\"surface\":[{\"colorbar\":{\"outlinewidth\":0,\"ticks\":\"\"},\"colorscale\":[[0.0,\"#0d0887\"],[0.1111111111111111,\"#46039f\"],[0.2222222222222222,\"#7201a8\"],[0.3333333333333333,\"#9c179e\"],[0.4444444444444444,\"#bd3786\"],[0.5555555555555556,\"#d8576b\"],[0.6666666666666666,\"#ed7953\"],[0.7777777777777778,\"#fb9f3a\"],[0.8888888888888888,\"#fdca26\"],[1.0,\"#f0f921\"]],\"type\":\"surface\"}],\"table\":[{\"cells\":{\"fill\":{\"color\":\"#EBF0F8\"},\"line\":{\"color\":\"white\"}},\"header\":{\"fill\":{\"color\":\"#C8D4E3\"},\"line\":{\"color\":\"white\"}},\"type\":\"table\"}]},\"layout\":{\"annotationdefaults\":{\"arrowcolor\":\"#2a3f5f\",\"arrowhead\":0,\"arrowwidth\":1},\"autotypenumbers\":\"strict\",\"coloraxis\":{\"colorbar\":{\"outlinewidth\":0,\"ticks\":\"\"}},\"colorscale\":{\"diverging\":[[0,\"#8e0152\"],[0.1,\"#c51b7d\"],[0.2,\"#de77ae\"],[0.3,\"#f1b6da\"],[0.4,\"#fde0ef\"],[0.5,\"#f7f7f7\"],[0.6,\"#e6f5d0\"],[0.7,\"#b8e186\"],[0.8,\"#7fbc41\"],[0.9,\"#4d9221\"],[1,\"#276419\"]],\"sequential\":[[0.0,\"#0d0887\"],[0.1111111111111111,\"#46039f\"],[0.2222222222222222,\"#7201a8\"],[0.3333333333333333,\"#9c179e\"],[0.4444444444444444,\"#bd3786\"],[0.5555555555555556,\"#d8576b\"],[0.6666666666666666,\"#ed7953\"],[0.7777777777777778,\"#fb9f3a\"],[0.8888888888888888,\"#fdca26\"],[1.0,\"#f0f921\"]],\"sequentialminus\":[[0.0,\"#0d0887\"],[0.1111111111111111,\"#46039f\"],[0.2222222222222222,\"#7201a8\"],[0.3333333333333333,\"#9c179e\"],[0.4444444444444444,\"#bd3786\"],[0.5555555555555556,\"#d8576b\"],[0.6666666666666666,\"#ed7953\"],[0.7777777777777778,\"#fb9f3a\"],[0.8888888888888888,\"#fdca26\"],[1.0,\"#f0f921\"]]},\"colorway\":[\"#636efa\",\"#EF553B\",\"#00cc96\",\"#ab63fa\",\"#FFA15A\",\"#19d3f3\",\"#FF6692\",\"#B6E880\",\"#FF97FF\",\"#FECB52\"],\"font\":{\"color\":\"#2a3f5f\"},\"geo\":{\"bgcolor\":\"white\",\"lakecolor\":\"white\",\"landcolor\":\"#E5ECF6\",\"showlakes\":true,\"showland\":true,\"subunitcolor\":\"white\"},\"hoverlabel\":{\"align\":\"left\"},\"hovermode\":\"closest\",\"mapbox\":{\"style\":\"light\"},\"paper_bgcolor\":\"white\",\"plot_bgcolor\":\"#E5ECF6\",\"polar\":{\"angularaxis\":{\"gridcolor\":\"white\",\"linecolor\":\"white\",\"ticks\":\"\"},\"bgcolor\":\"#E5ECF6\",\"radialaxis\":{\"gridcolor\":\"white\",\"linecolor\":\"white\",\"ticks\":\"\"}},\"scene\":{\"xaxis\":{\"backgroundcolor\":\"#E5ECF6\",\"gridcolor\":\"white\",\"gridwidth\":2,\"linecolor\":\"white\",\"showbackground\":true,\"ticks\":\"\",\"zerolinecolor\":\"white\"},\"yaxis\":{\"backgroundcolor\":\"#E5ECF6\",\"gridcolor\":\"white\",\"gridwidth\":2,\"linecolor\":\"white\",\"showbackground\":true,\"ticks\":\"\",\"zerolinecolor\":\"white\"},\"zaxis\":{\"backgroundcolor\":\"#E5ECF6\",\"gridcolor\":\"white\",\"gridwidth\":2,\"linecolor\":\"white\",\"showbackground\":true,\"ticks\":\"\",\"zerolinecolor\":\"white\"}},\"shapedefaults\":{\"line\":{\"color\":\"#2a3f5f\"}},\"ternary\":{\"aaxis\":{\"gridcolor\":\"white\",\"linecolor\":\"white\",\"ticks\":\"\"},\"baxis\":{\"gridcolor\":\"white\",\"linecolor\":\"white\",\"ticks\":\"\"},\"bgcolor\":\"#E5ECF6\",\"caxis\":{\"gridcolor\":\"white\",\"linecolor\":\"white\",\"ticks\":\"\"}},\"title\":{\"x\":0.05},\"xaxis\":{\"automargin\":true,\"gridcolor\":\"white\",\"linecolor\":\"white\",\"ticks\":\"\",\"title\":{\"standoff\":15},\"zerolinecolor\":\"white\",\"zerolinewidth\":2},\"yaxis\":{\"automargin\":true,\"gridcolor\":\"white\",\"linecolor\":\"white\",\"ticks\":\"\",\"title\":{\"standoff\":15},\"zerolinecolor\":\"white\",\"zerolinewidth\":2}}},\"title\":{\"font\":{\"color\":\"#4D5663\"}},\"xaxis\":{\"gridcolor\":\"#E1E5ED\",\"showgrid\":true,\"tickfont\":{\"color\":\"#4D5663\"},\"title\":{\"font\":{\"color\":\"#4D5663\"},\"text\":\"\"},\"zerolinecolor\":\"#E1E5ED\"},\"yaxis\":{\"gridcolor\":\"#E1E5ED\",\"showgrid\":true,\"tickfont\":{\"color\":\"#4D5663\"},\"title\":{\"font\":{\"color\":\"#4D5663\"},\"text\":\"\"},\"zerolinecolor\":\"#E1E5ED\"}},                        {\"showLink\": true, \"linkText\": \"Export to plot.ly\", \"plotlyServerURL\": \"https://plot.ly\", \"responsive\": true}                    ).then(function(){\n",
       "                            \n",
       "var gd = document.getElementById('cea57893-79d8-4742-b8a4-586a8f364492');\n",
       "var x = new MutationObserver(function (mutations, observer) {{\n",
       "        var display = window.getComputedStyle(gd).display;\n",
       "        if (!display || display === 'none') {{\n",
       "            console.log([gd, 'removed!']);\n",
       "            Plotly.purge(gd);\n",
       "            observer.disconnect();\n",
       "        }}\n",
       "}});\n",
       "\n",
       "// Listen for the removal of the full notebook cells\n",
       "var notebookContainer = gd.closest('#notebook-container');\n",
       "if (notebookContainer) {{\n",
       "    x.observe(notebookContainer, {childList: true});\n",
       "}}\n",
       "\n",
       "// Listen for the clearing of the current output cell\n",
       "var outputEl = gd.closest('.output');\n",
       "if (outputEl) {{\n",
       "    x.observe(outputEl, {childList: true});\n",
       "}}\n",
       "\n",
       "                        })                };                });            </script>        </div>"
      ]
     },
     "metadata": {},
     "output_type": "display_data"
    }
   ],
   "source": [
    "df2.iplot(kind='bar',x='Category',y = 'Values')"
   ]
  },
  {
   "cell_type": "code",
   "execution_count": 50,
   "id": "bdf10abf-2d07-4c33-a6bc-30f103992524",
   "metadata": {},
   "outputs": [
    {
     "data": {
      "application/vnd.plotly.v1+json": {
       "config": {
        "linkText": "Export to plot.ly",
        "plotlyServerURL": "https://plot.ly",
        "showLink": true
       },
       "data": [
        {
         "boxpoints": false,
         "line": {
          "width": 1.3
         },
         "marker": {
          "color": "rgba(255, 153, 51, 1.0)"
         },
         "name": "A",
         "orientation": "v",
         "type": "box",
         "y": [
          -1.3001058810112465,
          -0.46530946050785577,
          -0.10950361487242674,
          -2.5294117773642872,
          1.4592767272081206,
          0.7670306517873596,
          -0.6516291878969268,
          0.4104823796917037,
          -0.544649856021266,
          0.8881688549775284,
          0.532315391270855,
          -1.5068091892635043,
          0.9579907601008844,
          0.15737330511787645,
          0.3603592835733318,
          -0.6824999608142553,
          0.6184689337730324,
          -0.2569434735665441,
          1.9346115857987043,
          1.2589983024560878,
          -0.002111599045755978,
          -1.3490529580186015,
          1.0451730254996596,
          1.1319992170010402,
          0.047014169746154084,
          -0.2550073591224525,
          -0.39995720360484927,
          -1.4458849143543648,
          -0.3862220530025955,
          0.26560783039456504,
          0.150885820629637,
          -1.5682605363009903,
          0.968091451793801,
          0.3787436367196607,
          -1.3771783390048689,
          0.9592045069196298,
          -0.3241273752234432,
          -0.03019526395473516,
          -0.2081948139585612,
          0.8644302805595135,
          -0.33780970298210705,
          0.7043957270494225,
          -0.46245433881706893,
          -0.37007331609432986,
          0.43456570476717754,
          0.2566116284695562,
          -0.7372810068742501,
          -0.18223889085387784,
          -0.8465791446343268,
          0.2717256558836371,
          1.6455028927346265,
          1.3193189133051533,
          0.18604036223398376,
          -0.17375253641896074,
          -0.033510871685691467,
          -1.7264768352173898,
          -0.12396039765034247,
          0.7164036162252534,
          -1.3583568423607228,
          0.7535029498080489,
          -0.9668281303137861,
          -0.322493160471488,
          0.44555634683543205,
          0.05648456164821221,
          -2.148347844803425,
          1.7860718076761208,
          -1.5116173635175172,
          0.9608624590930857,
          1.7010533335406506,
          1.6936039502170883,
          1.182270008122812,
          1.2257195501445006,
          1.5507635887516797,
          -0.2586530668969108,
          0.23550600076294134,
          0.69619731625886,
          0.3992069551279182,
          -0.8630895110192605,
          -1.6535368987079742,
          0.2985511324042734,
          0.23027020044104454,
          0.03500911805698938,
          -0.7343768497618143,
          0.4060420213841534,
          1.7514127712284566,
          0.36907900713205327,
          -0.6361125952209186,
          0.4021335199898844,
          -0.07938530683597056,
          -1.5830883082184337,
          0.08035389910120652,
          -1.174668326667251,
          -1.4107028887293993,
          2.160528395157838,
          -0.7690733279906413,
          -1.8916286119365846,
          -1.9827422273601996,
          -0.37697015679945955,
          1.5268484627356618,
          1.8331079406695325
         ]
        },
        {
         "boxpoints": false,
         "line": {
          "width": 1.3
         },
         "marker": {
          "color": "rgba(55, 128, 191, 1.0)"
         },
         "name": "B",
         "orientation": "v",
         "type": "box",
         "y": [
          0.9211641716514989,
          -0.45286454767699247,
          1.507295301443652,
          -0.0941522142867107,
          1.0002103275899614,
          -1.378247564019476,
          1.1071077601553698,
          -0.1749210111934675,
          0.05254161319828364,
          0.5434960505964225,
          0.4914754597583844,
          0.08639312661549127,
          -0.3895097816466638,
          -0.7134520817388416,
          -1.5151320380590865,
          -1.061247871421113,
          -1.740012495008272,
          2.396636405128658,
          0.6886980402718053,
          -1.0869908846099534,
          3.1527553998912676,
          1.1297788257980361,
          -0.22296840108121435,
          -0.9768576135672864,
          0.6896328557342014,
          0.3492069340060777,
          1.0185621203763817,
          -0.4731562100651628,
          -1.0426531668877301,
          0.747520562731134,
          -1.356168168969613,
          0.9591007490643529,
          0.03464059124711555,
          0.8869071025578134,
          1.0716855389989757,
          -0.3565456913445454,
          0.63956648842299,
          -1.8995974784062335,
          1.072432650879506,
          -0.11959101232312604,
          -2.008786203767708,
          0.5898566311949867,
          -0.9909648084576543,
          -0.19357053279487754,
          0.8278278906390226,
          0.04723495572859634,
          1.2622857687793614,
          -1.3360667163117597,
          -1.715070973207002,
          0.20481641538559578,
          0.48231432087778275,
          -0.33506691073340156,
          -1.4717912658279217,
          2.179817589278003,
          -0.3205460771605975,
          1.1922165355265868,
          0.6776936269630355,
          -0.8255555594874866,
          -0.3076137910284783,
          0.04577378404974291,
          0.5908813177742992,
          -0.0867135795721074,
          0.5594072519618621,
          -0.1413001202249238,
          1.7384340424803102,
          -2.4492080768855287,
          -0.7887547190464445,
          -1.2518677215899865,
          -0.6487098819154417,
          -0.28465106194768164,
          -1.1357631521479223,
          -1.4106670327708521,
          1.750481229903767,
          0.11584052481397858,
          0.7843671952305441,
          -1.8804236899463251,
          -0.4204697864425212,
          0.6987164435896369,
          2.1934276816037603,
          -0.5369306398733962,
          0.6848798903880331,
          0.033325477891684926,
          0.41516603128137797,
          0.1883920208711664,
          -0.012559303210577832,
          1.1243442155693069,
          -0.9201746380248,
          0.21929955502170842,
          0.6079496486264784,
          -0.28364880324262076,
          -1.0678607990897728,
          0.24538008674681774,
          0.0873868707722896,
          -0.029322832699304503,
          -0.4378358450539327,
          -0.6042258584836061,
          0.20698967658156647,
          0.6947256431567338,
          0.7779904885055057,
          -0.6478925945026229
         ]
        },
        {
         "boxpoints": false,
         "line": {
          "width": 1.3
         },
         "marker": {
          "color": "rgba(50, 171, 96, 1.0)"
         },
         "name": "C",
         "orientation": "v",
         "type": "box",
         "y": [
          -0.7548830349886892,
          -0.21025012996068543,
          1.2352651555762282,
          1.4280874484354498,
          0.5400061602152736,
          0.7421658962796771,
          -1.2871317054810116,
          -1.086702411150145,
          0.860597318565647,
          -0.8984767674269208,
          -0.6408400275949473,
          -0.6231139538182842,
          0.47686903227366845,
          -0.5222404653859912,
          0.3354629916344037,
          -0.24050798806498722,
          0.6050327644468665,
          1.2635935190460732,
          1.2009303023577158,
          0.75323343824523,
          1.9002559625024293,
          -0.698911480006405,
          0.6342777756638287,
          0.782101530600702,
          0.2826826324448284,
          -1.65690738769774,
          0.8482634507806942,
          -0.15255465355947787,
          0.11148134395957575,
          0.0987925919572817,
          -1.335918856608248,
          -0.5171091631329664,
          -0.6235718298722012,
          0.5671776731265588,
          0.7392274828088145,
          1.8246388745890942,
          -1.7550304206276457,
          1.4380939214946005,
          0.3704705330528845,
          -2.3040552958867857,
          -0.8847028176484736,
          2.16830658252528,
          -0.37581194386627764,
          -0.5507322649834541,
          -0.604291095646759,
          0.38305507436058606,
          0.27940153522987454,
          -0.8218740197657894,
          -0.9020323486632497,
          -0.5335213373613528,
          -0.6816958257254734,
          -1.1288155740351409,
          -0.6728835483739168,
          0.0015628204689170067,
          -0.3866864643043815,
          1.2637054262050744,
          0.7847528841415734,
          -2.2486306836040226,
          -0.8495306418174259,
          1.072795682479761,
          1.1622834320328934,
          1.880740416617544,
          -0.9614376024908567,
          0.5747129310943649,
          -1.418783387845243,
          -1.014058202020123,
          1.7466971000376088,
          -0.21544442930199195,
          0.6192118352024711,
          -1.1695836861919342,
          1.012142707000702,
          0.05983995345276081,
          -0.491641080448236,
          -1.3083796927261002,
          -0.03895856609795862,
          -0.41312925986321747,
          1.6044693479974013,
          0.5132267837206526,
          0.6662885589034524,
          -0.6347185479364806,
          -0.8320016047643972,
          -0.11754002811826937,
          0.3122964949147765,
          0.9400548558386398,
          -0.8814784679609134,
          -1.005925134302546,
          -0.05209966060511078,
          -0.5298779532186032,
          -0.7137525095401087,
          -0.4183102056268815,
          0.272081345826888,
          0.2518002303128945,
          -0.30563307552559893,
          1.7234015083694751,
          -2.453198806238153,
          0.021786832966030456,
          -0.8167479247997417,
          -0.12583827523964378,
          0.5536552541427264,
          1.3131382588613076
         ]
        },
        {
         "boxpoints": false,
         "line": {
          "width": 1.3
         },
         "marker": {
          "color": "rgba(128, 0, 128, 1.0)"
         },
         "name": "D",
         "orientation": "v",
         "type": "box",
         "y": [
          0.6879702910040386,
          1.9296641599147613,
          1.605203738169053,
          -0.27475740903725904,
          -0.48857368306328236,
          0.11867721885104326,
          -0.5957564278731469,
          -0.8802758275526458,
          0.3559182615898839,
          -0.16560452313374283,
          0.021679418300028095,
          2.866646801937248,
          -0.5081544824303301,
          0.8749323691754335,
          -0.5165040222305178,
          0.717581421811411,
          0.7544813533790324,
          -1.1403519744574675,
          0.40899113253188263,
          -0.16362679795392332,
          -2.001950845646434,
          -1.3822838604818846,
          0.5019233674462837,
          -1.2317468986761018,
          -0.4984692451216619,
          -0.9260932824809281,
          0.4756749714755795,
          -0.6610918541178473,
          -0.047025359043997114,
          1.1926598744329326,
          -0.789444500385222,
          -0.5772999713177753,
          0.847124999267147,
          1.3332205718333998,
          2.798317502397506,
          -0.9765356054498182,
          0.04560028789291612,
          0.2044882924040595,
          -0.16494655814429118,
          0.5780118673346288,
          0.8163774564251717,
          1.0083760451480759,
          1.1216772504759176,
          -0.08563326378149083,
          -1.8579749003690214,
          0.729215363114337,
          1.0215636398642896,
          0.7981023441296847,
          -0.24764319032250995,
          -0.7919913853124132,
          0.15279832094873147,
          3.664677996254644,
          0.9452424189905382,
          -0.8875328468762946,
          -1.8163865198910745,
          1.2101978053083184,
          1.5064002643992576,
          -1.3572287092905801,
          -0.09901607009287665,
          1.855874733308549,
          -1.260924487842629,
          -0.5809057553348415,
          0.5712842099893681,
          0.5934262272025093,
          0.7261103511679504,
          1.7716788696112329,
          -0.8585799524176165,
          -0.8276542603663256,
          0.46723607807832956,
          -0.31407654661347245,
          3.1099939087060817,
          2.0870892126355534,
          -0.5438964402056768,
          0.5008965695334181,
          -0.8919925358586309,
          0.7663648088632004,
          -0.5737294539903666,
          -0.5488882467487303,
          0.12390242547350015,
          -0.7003682246363913,
          -1.1216107146043515,
          0.8856932776759999,
          -0.7455311437728359,
          0.9144123878063805,
          0.3959444901852964,
          -0.32064900755999337,
          0.672482436312941,
          0.5376036961559703,
          1.1356780926372063,
          0.24838399859909138,
          0.010232964532375675,
          -0.6659170479314745,
          1.646909083590659,
          -0.6960373497596587,
          2.0698649948777845,
          -0.9517655425945232,
          2.3267086237385133,
          -0.9817523326060503,
          1.5682033936279967,
          -0.021923817085274817
         ]
        }
       ],
       "layout": {
        "autosize": true,
        "legend": {
         "bgcolor": "#F5F6F9",
         "font": {
          "color": "#4D5663"
         }
        },
        "paper_bgcolor": "#F5F6F9",
        "plot_bgcolor": "#F5F6F9",
        "template": {
         "data": {
          "bar": [
           {
            "error_x": {
             "color": "#2a3f5f"
            },
            "error_y": {
             "color": "#2a3f5f"
            },
            "marker": {
             "line": {
              "color": "#E5ECF6",
              "width": 0.5
             },
             "pattern": {
              "fillmode": "overlay",
              "size": 10,
              "solidity": 0.2
             }
            },
            "type": "bar"
           }
          ],
          "barpolar": [
           {
            "marker": {
             "line": {
              "color": "#E5ECF6",
              "width": 0.5
             },
             "pattern": {
              "fillmode": "overlay",
              "size": 10,
              "solidity": 0.2
             }
            },
            "type": "barpolar"
           }
          ],
          "carpet": [
           {
            "aaxis": {
             "endlinecolor": "#2a3f5f",
             "gridcolor": "white",
             "linecolor": "white",
             "minorgridcolor": "white",
             "startlinecolor": "#2a3f5f"
            },
            "baxis": {
             "endlinecolor": "#2a3f5f",
             "gridcolor": "white",
             "linecolor": "white",
             "minorgridcolor": "white",
             "startlinecolor": "#2a3f5f"
            },
            "type": "carpet"
           }
          ],
          "choropleth": [
           {
            "colorbar": {
             "outlinewidth": 0,
             "ticks": ""
            },
            "type": "choropleth"
           }
          ],
          "contour": [
           {
            "colorbar": {
             "outlinewidth": 0,
             "ticks": ""
            },
            "colorscale": [
             [
              0,
              "#0d0887"
             ],
             [
              0.1111111111111111,
              "#46039f"
             ],
             [
              0.2222222222222222,
              "#7201a8"
             ],
             [
              0.3333333333333333,
              "#9c179e"
             ],
             [
              0.4444444444444444,
              "#bd3786"
             ],
             [
              0.5555555555555556,
              "#d8576b"
             ],
             [
              0.6666666666666666,
              "#ed7953"
             ],
             [
              0.7777777777777778,
              "#fb9f3a"
             ],
             [
              0.8888888888888888,
              "#fdca26"
             ],
             [
              1,
              "#f0f921"
             ]
            ],
            "type": "contour"
           }
          ],
          "contourcarpet": [
           {
            "colorbar": {
             "outlinewidth": 0,
             "ticks": ""
            },
            "type": "contourcarpet"
           }
          ],
          "heatmap": [
           {
            "colorbar": {
             "outlinewidth": 0,
             "ticks": ""
            },
            "colorscale": [
             [
              0,
              "#0d0887"
             ],
             [
              0.1111111111111111,
              "#46039f"
             ],
             [
              0.2222222222222222,
              "#7201a8"
             ],
             [
              0.3333333333333333,
              "#9c179e"
             ],
             [
              0.4444444444444444,
              "#bd3786"
             ],
             [
              0.5555555555555556,
              "#d8576b"
             ],
             [
              0.6666666666666666,
              "#ed7953"
             ],
             [
              0.7777777777777778,
              "#fb9f3a"
             ],
             [
              0.8888888888888888,
              "#fdca26"
             ],
             [
              1,
              "#f0f921"
             ]
            ],
            "type": "heatmap"
           }
          ],
          "heatmapgl": [
           {
            "colorbar": {
             "outlinewidth": 0,
             "ticks": ""
            },
            "colorscale": [
             [
              0,
              "#0d0887"
             ],
             [
              0.1111111111111111,
              "#46039f"
             ],
             [
              0.2222222222222222,
              "#7201a8"
             ],
             [
              0.3333333333333333,
              "#9c179e"
             ],
             [
              0.4444444444444444,
              "#bd3786"
             ],
             [
              0.5555555555555556,
              "#d8576b"
             ],
             [
              0.6666666666666666,
              "#ed7953"
             ],
             [
              0.7777777777777778,
              "#fb9f3a"
             ],
             [
              0.8888888888888888,
              "#fdca26"
             ],
             [
              1,
              "#f0f921"
             ]
            ],
            "type": "heatmapgl"
           }
          ],
          "histogram": [
           {
            "marker": {
             "pattern": {
              "fillmode": "overlay",
              "size": 10,
              "solidity": 0.2
             }
            },
            "type": "histogram"
           }
          ],
          "histogram2d": [
           {
            "colorbar": {
             "outlinewidth": 0,
             "ticks": ""
            },
            "colorscale": [
             [
              0,
              "#0d0887"
             ],
             [
              0.1111111111111111,
              "#46039f"
             ],
             [
              0.2222222222222222,
              "#7201a8"
             ],
             [
              0.3333333333333333,
              "#9c179e"
             ],
             [
              0.4444444444444444,
              "#bd3786"
             ],
             [
              0.5555555555555556,
              "#d8576b"
             ],
             [
              0.6666666666666666,
              "#ed7953"
             ],
             [
              0.7777777777777778,
              "#fb9f3a"
             ],
             [
              0.8888888888888888,
              "#fdca26"
             ],
             [
              1,
              "#f0f921"
             ]
            ],
            "type": "histogram2d"
           }
          ],
          "histogram2dcontour": [
           {
            "colorbar": {
             "outlinewidth": 0,
             "ticks": ""
            },
            "colorscale": [
             [
              0,
              "#0d0887"
             ],
             [
              0.1111111111111111,
              "#46039f"
             ],
             [
              0.2222222222222222,
              "#7201a8"
             ],
             [
              0.3333333333333333,
              "#9c179e"
             ],
             [
              0.4444444444444444,
              "#bd3786"
             ],
             [
              0.5555555555555556,
              "#d8576b"
             ],
             [
              0.6666666666666666,
              "#ed7953"
             ],
             [
              0.7777777777777778,
              "#fb9f3a"
             ],
             [
              0.8888888888888888,
              "#fdca26"
             ],
             [
              1,
              "#f0f921"
             ]
            ],
            "type": "histogram2dcontour"
           }
          ],
          "mesh3d": [
           {
            "colorbar": {
             "outlinewidth": 0,
             "ticks": ""
            },
            "type": "mesh3d"
           }
          ],
          "parcoords": [
           {
            "line": {
             "colorbar": {
              "outlinewidth": 0,
              "ticks": ""
             }
            },
            "type": "parcoords"
           }
          ],
          "pie": [
           {
            "automargin": true,
            "type": "pie"
           }
          ],
          "scatter": [
           {
            "fillpattern": {
             "fillmode": "overlay",
             "size": 10,
             "solidity": 0.2
            },
            "type": "scatter"
           }
          ],
          "scatter3d": [
           {
            "line": {
             "colorbar": {
              "outlinewidth": 0,
              "ticks": ""
             }
            },
            "marker": {
             "colorbar": {
              "outlinewidth": 0,
              "ticks": ""
             }
            },
            "type": "scatter3d"
           }
          ],
          "scattercarpet": [
           {
            "marker": {
             "colorbar": {
              "outlinewidth": 0,
              "ticks": ""
             }
            },
            "type": "scattercarpet"
           }
          ],
          "scattergeo": [
           {
            "marker": {
             "colorbar": {
              "outlinewidth": 0,
              "ticks": ""
             }
            },
            "type": "scattergeo"
           }
          ],
          "scattergl": [
           {
            "marker": {
             "colorbar": {
              "outlinewidth": 0,
              "ticks": ""
             }
            },
            "type": "scattergl"
           }
          ],
          "scattermapbox": [
           {
            "marker": {
             "colorbar": {
              "outlinewidth": 0,
              "ticks": ""
             }
            },
            "type": "scattermapbox"
           }
          ],
          "scatterpolar": [
           {
            "marker": {
             "colorbar": {
              "outlinewidth": 0,
              "ticks": ""
             }
            },
            "type": "scatterpolar"
           }
          ],
          "scatterpolargl": [
           {
            "marker": {
             "colorbar": {
              "outlinewidth": 0,
              "ticks": ""
             }
            },
            "type": "scatterpolargl"
           }
          ],
          "scatterternary": [
           {
            "marker": {
             "colorbar": {
              "outlinewidth": 0,
              "ticks": ""
             }
            },
            "type": "scatterternary"
           }
          ],
          "surface": [
           {
            "colorbar": {
             "outlinewidth": 0,
             "ticks": ""
            },
            "colorscale": [
             [
              0,
              "#0d0887"
             ],
             [
              0.1111111111111111,
              "#46039f"
             ],
             [
              0.2222222222222222,
              "#7201a8"
             ],
             [
              0.3333333333333333,
              "#9c179e"
             ],
             [
              0.4444444444444444,
              "#bd3786"
             ],
             [
              0.5555555555555556,
              "#d8576b"
             ],
             [
              0.6666666666666666,
              "#ed7953"
             ],
             [
              0.7777777777777778,
              "#fb9f3a"
             ],
             [
              0.8888888888888888,
              "#fdca26"
             ],
             [
              1,
              "#f0f921"
             ]
            ],
            "type": "surface"
           }
          ],
          "table": [
           {
            "cells": {
             "fill": {
              "color": "#EBF0F8"
             },
             "line": {
              "color": "white"
             }
            },
            "header": {
             "fill": {
              "color": "#C8D4E3"
             },
             "line": {
              "color": "white"
             }
            },
            "type": "table"
           }
          ]
         },
         "layout": {
          "annotationdefaults": {
           "arrowcolor": "#2a3f5f",
           "arrowhead": 0,
           "arrowwidth": 1
          },
          "autotypenumbers": "strict",
          "coloraxis": {
           "colorbar": {
            "outlinewidth": 0,
            "ticks": ""
           }
          },
          "colorscale": {
           "diverging": [
            [
             0,
             "#8e0152"
            ],
            [
             0.1,
             "#c51b7d"
            ],
            [
             0.2,
             "#de77ae"
            ],
            [
             0.3,
             "#f1b6da"
            ],
            [
             0.4,
             "#fde0ef"
            ],
            [
             0.5,
             "#f7f7f7"
            ],
            [
             0.6,
             "#e6f5d0"
            ],
            [
             0.7,
             "#b8e186"
            ],
            [
             0.8,
             "#7fbc41"
            ],
            [
             0.9,
             "#4d9221"
            ],
            [
             1,
             "#276419"
            ]
           ],
           "sequential": [
            [
             0,
             "#0d0887"
            ],
            [
             0.1111111111111111,
             "#46039f"
            ],
            [
             0.2222222222222222,
             "#7201a8"
            ],
            [
             0.3333333333333333,
             "#9c179e"
            ],
            [
             0.4444444444444444,
             "#bd3786"
            ],
            [
             0.5555555555555556,
             "#d8576b"
            ],
            [
             0.6666666666666666,
             "#ed7953"
            ],
            [
             0.7777777777777778,
             "#fb9f3a"
            ],
            [
             0.8888888888888888,
             "#fdca26"
            ],
            [
             1,
             "#f0f921"
            ]
           ],
           "sequentialminus": [
            [
             0,
             "#0d0887"
            ],
            [
             0.1111111111111111,
             "#46039f"
            ],
            [
             0.2222222222222222,
             "#7201a8"
            ],
            [
             0.3333333333333333,
             "#9c179e"
            ],
            [
             0.4444444444444444,
             "#bd3786"
            ],
            [
             0.5555555555555556,
             "#d8576b"
            ],
            [
             0.6666666666666666,
             "#ed7953"
            ],
            [
             0.7777777777777778,
             "#fb9f3a"
            ],
            [
             0.8888888888888888,
             "#fdca26"
            ],
            [
             1,
             "#f0f921"
            ]
           ]
          },
          "colorway": [
           "#636efa",
           "#EF553B",
           "#00cc96",
           "#ab63fa",
           "#FFA15A",
           "#19d3f3",
           "#FF6692",
           "#B6E880",
           "#FF97FF",
           "#FECB52"
          ],
          "font": {
           "color": "#2a3f5f"
          },
          "geo": {
           "bgcolor": "white",
           "lakecolor": "white",
           "landcolor": "#E5ECF6",
           "showlakes": true,
           "showland": true,
           "subunitcolor": "white"
          },
          "hoverlabel": {
           "align": "left"
          },
          "hovermode": "closest",
          "mapbox": {
           "style": "light"
          },
          "paper_bgcolor": "white",
          "plot_bgcolor": "#E5ECF6",
          "polar": {
           "angularaxis": {
            "gridcolor": "white",
            "linecolor": "white",
            "ticks": ""
           },
           "bgcolor": "#E5ECF6",
           "radialaxis": {
            "gridcolor": "white",
            "linecolor": "white",
            "ticks": ""
           }
          },
          "scene": {
           "xaxis": {
            "backgroundcolor": "#E5ECF6",
            "gridcolor": "white",
            "gridwidth": 2,
            "linecolor": "white",
            "showbackground": true,
            "ticks": "",
            "zerolinecolor": "white"
           },
           "yaxis": {
            "backgroundcolor": "#E5ECF6",
            "gridcolor": "white",
            "gridwidth": 2,
            "linecolor": "white",
            "showbackground": true,
            "ticks": "",
            "zerolinecolor": "white"
           },
           "zaxis": {
            "backgroundcolor": "#E5ECF6",
            "gridcolor": "white",
            "gridwidth": 2,
            "linecolor": "white",
            "showbackground": true,
            "ticks": "",
            "zerolinecolor": "white"
           }
          },
          "shapedefaults": {
           "line": {
            "color": "#2a3f5f"
           }
          },
          "ternary": {
           "aaxis": {
            "gridcolor": "white",
            "linecolor": "white",
            "ticks": ""
           },
           "baxis": {
            "gridcolor": "white",
            "linecolor": "white",
            "ticks": ""
           },
           "bgcolor": "#E5ECF6",
           "caxis": {
            "gridcolor": "white",
            "linecolor": "white",
            "ticks": ""
           }
          },
          "title": {
           "x": 0.05
          },
          "xaxis": {
           "automargin": true,
           "gridcolor": "white",
           "linecolor": "white",
           "ticks": "",
           "title": {
            "standoff": 15
           },
           "zerolinecolor": "white",
           "zerolinewidth": 2
          },
          "yaxis": {
           "automargin": true,
           "gridcolor": "white",
           "linecolor": "white",
           "ticks": "",
           "title": {
            "standoff": 15
           },
           "zerolinecolor": "white",
           "zerolinewidth": 2
          }
         }
        },
        "title": {
         "font": {
          "color": "#4D5663"
         }
        },
        "xaxis": {
         "autorange": true,
         "gridcolor": "#E1E5ED",
         "range": [
          -0.5,
          3.5
         ],
         "showgrid": true,
         "tickfont": {
          "color": "#4D5663"
         },
         "title": {
          "font": {
           "color": "#4D5663"
          },
          "text": ""
         },
         "type": "category",
         "zerolinecolor": "#E1E5ED"
        },
        "yaxis": {
         "autorange": true,
         "gridcolor": "#E1E5ED",
         "range": [
          -2.8735278758986724,
          4.008794094789029
         ],
         "showgrid": true,
         "tickfont": {
          "color": "#4D5663"
         },
         "title": {
          "font": {
           "color": "#4D5663"
          },
          "text": ""
         },
         "type": "linear",
         "zerolinecolor": "#E1E5ED"
        }
       }
      },
      "image/png": "[encoded data removed]",
      "text/html": [
       "<div>                            <div id=\"4168e8f0-5242-471a-9b80-379597ce75e5\" class=\"plotly-graph-div\" style=\"height:525px; width:100%;\"></div>            <script type=\"text/javascript\">                require([\"plotly\"], function(Plotly) {                    window.PLOTLYENV=window.PLOTLYENV || {};\n",
       "                    window.PLOTLYENV.BASE_URL='https://plot.ly';                                    if (document.getElementById(\"4168e8f0-5242-471a-9b80-379597ce75e5\")) {                    Plotly.newPlot(                        \"4168e8f0-5242-471a-9b80-379597ce75e5\",                        [{\"boxpoints\":false,\"line\":{\"width\":1.3},\"marker\":{\"color\":\"rgba(255, 153, 51, 1.0)\"},\"name\":\"A\",\"orientation\":\"v\",\"y\":[-1.3001058810112465,-0.46530946050785577,-0.10950361487242674,-2.5294117773642872,1.4592767272081206,0.7670306517873596,-0.6516291878969268,0.4104823796917037,-0.544649856021266,0.8881688549775284,0.532315391270855,-1.5068091892635043,0.9579907601008844,0.15737330511787645,0.3603592835733318,-0.6824999608142553,0.6184689337730324,-0.2569434735665441,1.9346115857987043,1.2589983024560878,-0.002111599045755978,-1.3490529580186015,1.0451730254996596,1.1319992170010402,0.047014169746154084,-0.2550073591224525,-0.39995720360484927,-1.4458849143543648,-0.3862220530025955,0.26560783039456504,0.150885820629637,-1.5682605363009903,0.968091451793801,0.3787436367196607,-1.3771783390048689,0.9592045069196298,-0.3241273752234432,-0.03019526395473516,-0.2081948139585612,0.8644302805595135,-0.33780970298210705,0.7043957270494225,-0.46245433881706893,-0.37007331609432986,0.43456570476717754,0.2566116284695562,-0.7372810068742501,-0.18223889085387784,-0.8465791446343268,0.2717256558836371,1.6455028927346265,1.3193189133051533,0.18604036223398376,-0.17375253641896074,-0.033510871685691467,-1.7264768352173898,-0.12396039765034247,0.7164036162252534,-1.3583568423607228,0.7535029498080489,-0.9668281303137861,-0.322493160471488,0.44555634683543205,0.05648456164821221,-2.148347844803425,1.7860718076761208,-1.5116173635175172,0.9608624590930857,1.7010533335406506,1.6936039502170883,1.182270008122812,1.2257195501445006,1.5507635887516797,-0.2586530668969108,0.23550600076294134,0.69619731625886,0.3992069551279182,-0.8630895110192605,-1.6535368987079742,0.2985511324042734,0.23027020044104454,0.03500911805698938,-0.7343768497618143,0.4060420213841534,1.7514127712284566,0.36907900713205327,-0.6361125952209186,0.4021335199898844,-0.07938530683597056,-1.5830883082184337,0.08035389910120652,-1.174668326667251,-1.4107028887293993,2.160528395157838,-0.7690733279906413,-1.8916286119365846,-1.9827422273601996,-0.37697015679945955,1.5268484627356618,1.8331079406695325],\"type\":\"box\"},{\"boxpoints\":false,\"line\":{\"width\":1.3},\"marker\":{\"color\":\"rgba(55, 128, 191, 1.0)\"},\"name\":\"B\",\"orientation\":\"v\",\"y\":[0.9211641716514989,-0.45286454767699247,1.507295301443652,-0.0941522142867107,1.0002103275899614,-1.378247564019476,1.1071077601553698,-0.1749210111934675,0.05254161319828364,0.5434960505964225,0.4914754597583844,0.08639312661549127,-0.3895097816466638,-0.7134520817388416,-1.5151320380590865,-1.061247871421113,-1.740012495008272,2.396636405128658,0.6886980402718053,-1.0869908846099534,3.1527553998912676,1.1297788257980361,-0.22296840108121435,-0.9768576135672864,0.6896328557342014,0.3492069340060777,1.0185621203763817,-0.4731562100651628,-1.0426531668877301,0.747520562731134,-1.356168168969613,0.9591007490643529,0.03464059124711555,0.8869071025578134,1.0716855389989757,-0.3565456913445454,0.63956648842299,-1.8995974784062335,1.072432650879506,-0.11959101232312604,-2.008786203767708,0.5898566311949867,-0.9909648084576543,-0.19357053279487754,0.8278278906390226,0.04723495572859634,1.2622857687793614,-1.3360667163117597,-1.715070973207002,0.20481641538559578,0.48231432087778275,-0.33506691073340156,-1.4717912658279217,2.179817589278003,-0.3205460771605975,1.1922165355265868,0.6776936269630355,-0.8255555594874866,-0.3076137910284783,0.04577378404974291,0.5908813177742992,-0.0867135795721074,0.5594072519618621,-0.1413001202249238,1.7384340424803102,-2.4492080768855287,-0.7887547190464445,-1.2518677215899865,-0.6487098819154417,-0.28465106194768164,-1.1357631521479223,-1.4106670327708521,1.750481229903767,0.11584052481397858,0.7843671952305441,-1.8804236899463251,-0.4204697864425212,0.6987164435896369,2.1934276816037603,-0.5369306398733962,0.6848798903880331,0.033325477891684926,0.41516603128137797,0.1883920208711664,-0.012559303210577832,1.1243442155693069,-0.9201746380248,0.21929955502170842,0.6079496486264784,-0.28364880324262076,-1.0678607990897728,0.24538008674681774,0.0873868707722896,-0.029322832699304503,-0.4378358450539327,-0.6042258584836061,0.20698967658156647,0.6947256431567338,0.7779904885055057,-0.6478925945026229],\"type\":\"box\"},{\"boxpoints\":false,\"line\":{\"width\":1.3},\"marker\":{\"color\":\"rgba(50, 171, 96, 1.0)\"},\"name\":\"C\",\"orientation\":\"v\",\"y\":[-0.7548830349886892,-0.21025012996068543,1.2352651555762282,1.4280874484354498,0.5400061602152736,0.7421658962796771,-1.2871317054810116,-1.086702411150145,0.860597318565647,-0.8984767674269208,-0.6408400275949473,-0.6231139538182842,0.47686903227366845,-0.5222404653859912,0.3354629916344037,-0.24050798806498722,0.6050327644468665,1.2635935190460732,1.2009303023577158,0.75323343824523,1.9002559625024293,-0.698911480006405,0.6342777756638287,0.782101530600702,0.2826826324448284,-1.65690738769774,0.8482634507806942,-0.15255465355947787,0.11148134395957575,0.0987925919572817,-1.335918856608248,-0.5171091631329664,-0.6235718298722012,0.5671776731265588,0.7392274828088145,1.8246388745890942,-1.7550304206276457,1.4380939214946005,0.3704705330528845,-2.3040552958867857,-0.8847028176484736,2.16830658252528,-0.37581194386627764,-0.5507322649834541,-0.604291095646759,0.38305507436058606,0.27940153522987454,-0.8218740197657894,-0.9020323486632497,-0.5335213373613528,-0.6816958257254734,-1.1288155740351409,-0.6728835483739168,0.0015628204689170067,-0.3866864643043815,1.2637054262050744,0.7847528841415734,-2.2486306836040226,-0.8495306418174259,1.072795682479761,1.1622834320328934,1.880740416617544,-0.9614376024908567,0.5747129310943649,-1.418783387845243,-1.014058202020123,1.7466971000376088,-0.21544442930199195,0.6192118352024711,-1.1695836861919342,1.012142707000702,0.05983995345276081,-0.491641080448236,-1.3083796927261002,-0.03895856609795862,-0.41312925986321747,1.6044693479974013,0.5132267837206526,0.6662885589034524,-0.6347185479364806,-0.8320016047643972,-0.11754002811826937,0.3122964949147765,0.9400548558386398,-0.8814784679609134,-1.005925134302546,-0.05209966060511078,-0.5298779532186032,-0.7137525095401087,-0.4183102056268815,0.272081345826888,0.2518002303128945,-0.30563307552559893,1.7234015083694751,-2.453198806238153,0.021786832966030456,-0.8167479247997417,-0.12583827523964378,0.5536552541427264,1.3131382588613076],\"type\":\"box\"},{\"boxpoints\":false,\"line\":{\"width\":1.3},\"marker\":{\"color\":\"rgba(128, 0, 128, 1.0)\"},\"name\":\"D\",\"orientation\":\"v\",\"y\":[0.6879702910040386,1.9296641599147613,1.605203738169053,-0.27475740903725904,-0.48857368306328236,0.11867721885104326,-0.5957564278731469,-0.8802758275526458,0.3559182615898839,-0.16560452313374283,0.021679418300028095,2.866646801937248,-0.5081544824303301,0.8749323691754335,-0.5165040222305178,0.717581421811411,0.7544813533790324,-1.1403519744574675,0.40899113253188263,-0.16362679795392332,-2.001950845646434,-1.3822838604818846,0.5019233674462837,-1.2317468986761018,-0.4984692451216619,-0.9260932824809281,0.4756749714755795,-0.6610918541178473,-0.047025359043997114,1.1926598744329326,-0.789444500385222,-0.5772999713177753,0.847124999267147,1.3332205718333998,2.798317502397506,-0.9765356054498182,0.04560028789291612,0.2044882924040595,-0.16494655814429118,0.5780118673346288,0.8163774564251717,1.0083760451480759,1.1216772504759176,-0.08563326378149083,-1.8579749003690214,0.729215363114337,1.0215636398642896,0.7981023441296847,-0.24764319032250995,-0.7919913853124132,0.15279832094873147,3.664677996254644,0.9452424189905382,-0.8875328468762946,-1.8163865198910745,1.2101978053083184,1.5064002643992576,-1.3572287092905801,-0.09901607009287665,1.855874733308549,-1.260924487842629,-0.5809057553348415,0.5712842099893681,0.5934262272025093,0.7261103511679504,1.7716788696112329,-0.8585799524176165,-0.8276542603663256,0.46723607807832956,-0.31407654661347245,3.1099939087060817,2.0870892126355534,-0.5438964402056768,0.5008965695334181,-0.8919925358586309,0.7663648088632004,-0.5737294539903666,-0.5488882467487303,0.12390242547350015,-0.7003682246363913,-1.1216107146043515,0.8856932776759999,-0.7455311437728359,0.9144123878063805,0.3959444901852964,-0.32064900755999337,0.672482436312941,0.5376036961559703,1.1356780926372063,0.24838399859909138,0.010232964532375675,-0.6659170479314745,1.646909083590659,-0.6960373497596587,2.0698649948777845,-0.9517655425945232,2.3267086237385133,-0.9817523326060503,1.5682033936279967,-0.021923817085274817],\"type\":\"box\"}],                        {\"legend\":{\"bgcolor\":\"#F5F6F9\",\"font\":{\"color\":\"#4D5663\"}},\"paper_bgcolor\":\"#F5F6F9\",\"plot_bgcolor\":\"#F5F6F9\",\"template\":{\"data\":{\"barpolar\":[{\"marker\":{\"line\":{\"color\":\"#E5ECF6\",\"width\":0.5},\"pattern\":{\"fillmode\":\"overlay\",\"size\":10,\"solidity\":0.2}},\"type\":\"barpolar\"}],\"bar\":[{\"error_x\":{\"color\":\"#2a3f5f\"},\"error_y\":{\"color\":\"#2a3f5f\"},\"marker\":{\"line\":{\"color\":\"#E5ECF6\",\"width\":0.5},\"pattern\":{\"fillmode\":\"overlay\",\"size\":10,\"solidity\":0.2}},\"type\":\"bar\"}],\"carpet\":[{\"aaxis\":{\"endlinecolor\":\"#2a3f5f\",\"gridcolor\":\"white\",\"linecolor\":\"white\",\"minorgridcolor\":\"white\",\"startlinecolor\":\"#2a3f5f\"},\"baxis\":{\"endlinecolor\":\"#2a3f5f\",\"gridcolor\":\"white\",\"linecolor\":\"white\",\"minorgridcolor\":\"white\",\"startlinecolor\":\"#2a3f5f\"},\"type\":\"carpet\"}],\"choropleth\":[{\"colorbar\":{\"outlinewidth\":0,\"ticks\":\"\"},\"type\":\"choropleth\"}],\"contourcarpet\":[{\"colorbar\":{\"outlinewidth\":0,\"ticks\":\"\"},\"type\":\"contourcarpet\"}],\"contour\":[{\"colorbar\":{\"outlinewidth\":0,\"ticks\":\"\"},\"colorscale\":[[0.0,\"#0d0887\"],[0.1111111111111111,\"#46039f\"],[0.2222222222222222,\"#7201a8\"],[0.3333333333333333,\"#9c179e\"],[0.4444444444444444,\"#bd3786\"],[0.5555555555555556,\"#d8576b\"],[0.6666666666666666,\"#ed7953\"],[0.7777777777777778,\"#fb9f3a\"],[0.8888888888888888,\"#fdca26\"],[1.0,\"#f0f921\"]],\"type\":\"contour\"}],\"heatmapgl\":[{\"colorbar\":{\"outlinewidth\":0,\"ticks\":\"\"},\"colorscale\":[[0.0,\"#0d0887\"],[0.1111111111111111,\"#46039f\"],[0.2222222222222222,\"#7201a8\"],[0.3333333333333333,\"#9c179e\"],[0.4444444444444444,\"#bd3786\"],[0.5555555555555556,\"#d8576b\"],[0.6666666666666666,\"#ed7953\"],[0.7777777777777778,\"#fb9f3a\"],[0.8888888888888888,\"#fdca26\"],[1.0,\"#f0f921\"]],\"type\":\"heatmapgl\"}],\"heatmap\":[{\"colorbar\":{\"outlinewidth\":0,\"ticks\":\"\"},\"colorscale\":[[0.0,\"#0d0887\"],[0.1111111111111111,\"#46039f\"],[0.2222222222222222,\"#7201a8\"],[0.3333333333333333,\"#9c179e\"],[0.4444444444444444,\"#bd3786\"],[0.5555555555555556,\"#d8576b\"],[0.6666666666666666,\"#ed7953\"],[0.7777777777777778,\"#fb9f3a\"],[0.8888888888888888,\"#fdca26\"],[1.0,\"#f0f921\"]],\"type\":\"heatmap\"}],\"histogram2dcontour\":[{\"colorbar\":{\"outlinewidth\":0,\"ticks\":\"\"},\"colorscale\":[[0.0,\"#0d0887\"],[0.1111111111111111,\"#46039f\"],[0.2222222222222222,\"#7201a8\"],[0.3333333333333333,\"#9c179e\"],[0.4444444444444444,\"#bd3786\"],[0.5555555555555556,\"#d8576b\"],[0.6666666666666666,\"#ed7953\"],[0.7777777777777778,\"#fb9f3a\"],[0.8888888888888888,\"#fdca26\"],[1.0,\"#f0f921\"]],\"type\":\"histogram2dcontour\"}],\"histogram2d\":[{\"colorbar\":{\"outlinewidth\":0,\"ticks\":\"\"},\"colorscale\":[[0.0,\"#0d0887\"],[0.1111111111111111,\"#46039f\"],[0.2222222222222222,\"#7201a8\"],[0.3333333333333333,\"#9c179e\"],[0.4444444444444444,\"#bd3786\"],[0.5555555555555556,\"#d8576b\"],[0.6666666666666666,\"#ed7953\"],[0.7777777777777778,\"#fb9f3a\"],[0.8888888888888888,\"#fdca26\"],[1.0,\"#f0f921\"]],\"type\":\"histogram2d\"}],\"histogram\":[{\"marker\":{\"pattern\":{\"fillmode\":\"overlay\",\"size\":10,\"solidity\":0.2}},\"type\":\"histogram\"}],\"mesh3d\":[{\"colorbar\":{\"outlinewidth\":0,\"ticks\":\"\"},\"type\":\"mesh3d\"}],\"parcoords\":[{\"line\":{\"colorbar\":{\"outlinewidth\":0,\"ticks\":\"\"}},\"type\":\"parcoords\"}],\"pie\":[{\"automargin\":true,\"type\":\"pie\"}],\"scatter3d\":[{\"line\":{\"colorbar\":{\"outlinewidth\":0,\"ticks\":\"\"}},\"marker\":{\"colorbar\":{\"outlinewidth\":0,\"ticks\":\"\"}},\"type\":\"scatter3d\"}],\"scattercarpet\":[{\"marker\":{\"colorbar\":{\"outlinewidth\":0,\"ticks\":\"\"}},\"type\":\"scattercarpet\"}],\"scattergeo\":[{\"marker\":{\"colorbar\":{\"outlinewidth\":0,\"ticks\":\"\"}},\"type\":\"scattergeo\"}],\"scattergl\":[{\"marker\":{\"colorbar\":{\"outlinewidth\":0,\"ticks\":\"\"}},\"type\":\"scattergl\"}],\"scattermapbox\":[{\"marker\":{\"colorbar\":{\"outlinewidth\":0,\"ticks\":\"\"}},\"type\":\"scattermapbox\"}],\"scatterpolargl\":[{\"marker\":{\"colorbar\":{\"outlinewidth\":0,\"ticks\":\"\"}},\"type\":\"scatterpolargl\"}],\"scatterpolar\":[{\"marker\":{\"colorbar\":{\"outlinewidth\":0,\"ticks\":\"\"}},\"type\":\"scatterpolar\"}],\"scatter\":[{\"fillpattern\":{\"fillmode\":\"overlay\",\"size\":10,\"solidity\":0.2},\"type\":\"scatter\"}],\"scatterternary\":[{\"marker\":{\"colorbar\":{\"outlinewidth\":0,\"ticks\":\"\"}},\"type\":\"scatterternary\"}],\"surface\":[{\"colorbar\":{\"outlinewidth\":0,\"ticks\":\"\"},\"colorscale\":[[0.0,\"#0d0887\"],[0.1111111111111111,\"#46039f\"],[0.2222222222222222,\"#7201a8\"],[0.3333333333333333,\"#9c179e\"],[0.4444444444444444,\"#bd3786\"],[0.5555555555555556,\"#d8576b\"],[0.6666666666666666,\"#ed7953\"],[0.7777777777777778,\"#fb9f3a\"],[0.8888888888888888,\"#fdca26\"],[1.0,\"#f0f921\"]],\"type\":\"surface\"}],\"table\":[{\"cells\":{\"fill\":{\"color\":\"#EBF0F8\"},\"line\":{\"color\":\"white\"}},\"header\":{\"fill\":{\"color\":\"#C8D4E3\"},\"line\":{\"color\":\"white\"}},\"type\":\"table\"}]},\"layout\":{\"annotationdefaults\":{\"arrowcolor\":\"#2a3f5f\",\"arrowhead\":0,\"arrowwidth\":1},\"autotypenumbers\":\"strict\",\"coloraxis\":{\"colorbar\":{\"outlinewidth\":0,\"ticks\":\"\"}},\"colorscale\":{\"diverging\":[[0,\"#8e0152\"],[0.1,\"#c51b7d\"],[0.2,\"#de77ae\"],[0.3,\"#f1b6da\"],[0.4,\"#fde0ef\"],[0.5,\"#f7f7f7\"],[0.6,\"#e6f5d0\"],[0.7,\"#b8e186\"],[0.8,\"#7fbc41\"],[0.9,\"#4d9221\"],[1,\"#276419\"]],\"sequential\":[[0.0,\"#0d0887\"],[0.1111111111111111,\"#46039f\"],[0.2222222222222222,\"#7201a8\"],[0.3333333333333333,\"#9c179e\"],[0.4444444444444444,\"#bd3786\"],[0.5555555555555556,\"#d8576b\"],[0.6666666666666666,\"#ed7953\"],[0.7777777777777778,\"#fb9f3a\"],[0.8888888888888888,\"#fdca26\"],[1.0,\"#f0f921\"]],\"sequentialminus\":[[0.0,\"#0d0887\"],[0.1111111111111111,\"#46039f\"],[0.2222222222222222,\"#7201a8\"],[0.3333333333333333,\"#9c179e\"],[0.4444444444444444,\"#bd3786\"],[0.5555555555555556,\"#d8576b\"],[0.6666666666666666,\"#ed7953\"],[0.7777777777777778,\"#fb9f3a\"],[0.8888888888888888,\"#fdca26\"],[1.0,\"#f0f921\"]]},\"colorway\":[\"#636efa\",\"#EF553B\",\"#00cc96\",\"#ab63fa\",\"#FFA15A\",\"#19d3f3\",\"#FF6692\",\"#B6E880\",\"#FF97FF\",\"#FECB52\"],\"font\":{\"color\":\"#2a3f5f\"},\"geo\":{\"bgcolor\":\"white\",\"lakecolor\":\"white\",\"landcolor\":\"#E5ECF6\",\"showlakes\":true,\"showland\":true,\"subunitcolor\":\"white\"},\"hoverlabel\":{\"align\":\"left\"},\"hovermode\":\"closest\",\"mapbox\":{\"style\":\"light\"},\"paper_bgcolor\":\"white\",\"plot_bgcolor\":\"#E5ECF6\",\"polar\":{\"angularaxis\":{\"gridcolor\":\"white\",\"linecolor\":\"white\",\"ticks\":\"\"},\"bgcolor\":\"#E5ECF6\",\"radialaxis\":{\"gridcolor\":\"white\",\"linecolor\":\"white\",\"ticks\":\"\"}},\"scene\":{\"xaxis\":{\"backgroundcolor\":\"#E5ECF6\",\"gridcolor\":\"white\",\"gridwidth\":2,\"linecolor\":\"white\",\"showbackground\":true,\"ticks\":\"\",\"zerolinecolor\":\"white\"},\"yaxis\":{\"backgroundcolor\":\"#E5ECF6\",\"gridcolor\":\"white\",\"gridwidth\":2,\"linecolor\":\"white\",\"showbackground\":true,\"ticks\":\"\",\"zerolinecolor\":\"white\"},\"zaxis\":{\"backgroundcolor\":\"#E5ECF6\",\"gridcolor\":\"white\",\"gridwidth\":2,\"linecolor\":\"white\",\"showbackground\":true,\"ticks\":\"\",\"zerolinecolor\":\"white\"}},\"shapedefaults\":{\"line\":{\"color\":\"#2a3f5f\"}},\"ternary\":{\"aaxis\":{\"gridcolor\":\"white\",\"linecolor\":\"white\",\"ticks\":\"\"},\"baxis\":{\"gridcolor\":\"white\",\"linecolor\":\"white\",\"ticks\":\"\"},\"bgcolor\":\"#E5ECF6\",\"caxis\":{\"gridcolor\":\"white\",\"linecolor\":\"white\",\"ticks\":\"\"}},\"title\":{\"x\":0.05},\"xaxis\":{\"automargin\":true,\"gridcolor\":\"white\",\"linecolor\":\"white\",\"ticks\":\"\",\"title\":{\"standoff\":15},\"zerolinecolor\":\"white\",\"zerolinewidth\":2},\"yaxis\":{\"automargin\":true,\"gridcolor\":\"white\",\"linecolor\":\"white\",\"ticks\":\"\",\"title\":{\"standoff\":15},\"zerolinecolor\":\"white\",\"zerolinewidth\":2}}},\"title\":{\"font\":{\"color\":\"#4D5663\"}},\"xaxis\":{\"gridcolor\":\"#E1E5ED\",\"showgrid\":true,\"tickfont\":{\"color\":\"#4D5663\"},\"title\":{\"font\":{\"color\":\"#4D5663\"},\"text\":\"\"},\"zerolinecolor\":\"#E1E5ED\"},\"yaxis\":{\"gridcolor\":\"#E1E5ED\",\"showgrid\":true,\"tickfont\":{\"color\":\"#4D5663\"},\"title\":{\"font\":{\"color\":\"#4D5663\"},\"text\":\"\"},\"zerolinecolor\":\"#E1E5ED\"}},                        {\"showLink\": true, \"linkText\": \"Export to plot.ly\", \"plotlyServerURL\": \"https://plot.ly\", \"responsive\": true}                    ).then(function(){\n",
       "                            \n",
       "var gd = document.getElementById('4168e8f0-5242-471a-9b80-379597ce75e5');\n",
       "var x = new MutationObserver(function (mutations, observer) {{\n",
       "        var display = window.getComputedStyle(gd).display;\n",
       "        if (!display || display === 'none') {{\n",
       "            console.log([gd, 'removed!']);\n",
       "            Plotly.purge(gd);\n",
       "            observer.disconnect();\n",
       "        }}\n",
       "}});\n",
       "\n",
       "// Listen for the removal of the full notebook cells\n",
       "var notebookContainer = gd.closest('#notebook-container');\n",
       "if (notebookContainer) {{\n",
       "    x.observe(notebookContainer, {childList: true});\n",
       "}}\n",
       "\n",
       "// Listen for the clearing of the current output cell\n",
       "var outputEl = gd.closest('.output');\n",
       "if (outputEl) {{\n",
       "    x.observe(outputEl, {childList: true});\n",
       "}}\n",
       "\n",
       "                        })                };                });            </script>        </div>"
      ]
     },
     "metadata": {},
     "output_type": "display_data"
    }
   ],
   "source": [
    "df.iplot(kind='box')"
   ]
  },
  {
   "cell_type": "code",
   "execution_count": 51,
   "id": "5b977ebf-00d1-4b86-aaf0-6ccdacb74789",
   "metadata": {},
   "outputs": [],
   "source": [
    "df3 = pd.DataFrame({'x':[1,2,3,4,5],'y':[10,20,30,20,10],'z':[5,4,3,2,1]})"
   ]
  },
  {
   "cell_type": "code",
   "execution_count": 52,
   "id": "e562f0e3-d53d-481a-837b-debfff6c7503",
   "metadata": {},
   "outputs": [
    {
     "data": {
      "application/vnd.plotly.v1+json": {
       "config": {
        "linkText": "Export to plot.ly",
        "plotlyServerURL": "https://plot.ly",
        "showLink": true
       },
       "data": [
        {
         "colorscale": [
          [
           0,
           "rgb(255, 153, 51)"
          ],
          [
           0.1111111111111111,
           "rgb(55, 128, 191)"
          ],
          [
           0.2222222222222222,
           "rgb(50, 171, 96)"
          ],
          [
           0.3333333333333333,
           "rgb(128, 0, 128)"
          ],
          [
           0.4444444444444444,
           "rgb(219, 64, 82)"
          ],
          [
           0.5555555555555556,
           "rgb(0, 128, 128)"
          ],
          [
           0.6666666666666666,
           "rgb(255, 255, 51)"
          ],
          [
           0.7777777777777778,
           "rgb(128, 128, 0)"
          ],
          [
           0.8888888888888888,
           "rgb(251, 128, 114)"
          ],
          [
           1,
           "rgb(128, 177, 211)"
          ]
         ],
         "type": "surface",
         "x": [
          0,
          1,
          2,
          3,
          4
         ],
         "y": [
          "x",
          "y",
          "z"
         ],
         "z": [
          [
           1,
           2,
           3,
           4,
           5
          ],
          [
           10,
           20,
           30,
           20,
           10
          ],
          [
           5,
           4,
           3,
           2,
           1
          ]
         ]
        }
       ],
       "layout": {
        "autosize": true,
        "legend": {
         "bgcolor": "#F5F6F9",
         "font": {
          "color": "#4D5663"
         }
        },
        "paper_bgcolor": "#F5F6F9",
        "plot_bgcolor": "#F5F6F9",
        "scene": {
         "aspectmode": "auto",
         "aspectratio": {
          "x": 1,
          "y": 1,
          "z": 1
         }
        },
        "template": {
         "data": {
          "bar": [
           {
            "error_x": {
             "color": "#2a3f5f"
            },
            "error_y": {
             "color": "#2a3f5f"
            },
            "marker": {
             "line": {
              "color": "#E5ECF6",
              "width": 0.5
             },
             "pattern": {
              "fillmode": "overlay",
              "size": 10,
              "solidity": 0.2
             }
            },
            "type": "bar"
           }
          ],
          "barpolar": [
           {
            "marker": {
             "line": {
              "color": "#E5ECF6",
              "width": 0.5
             },
             "pattern": {
              "fillmode": "overlay",
              "size": 10,
              "solidity": 0.2
             }
            },
            "type": "barpolar"
           }
          ],
          "carpet": [
           {
            "aaxis": {
             "endlinecolor": "#2a3f5f",
             "gridcolor": "white",
             "linecolor": "white",
             "minorgridcolor": "white",
             "startlinecolor": "#2a3f5f"
            },
            "baxis": {
             "endlinecolor": "#2a3f5f",
             "gridcolor": "white",
             "linecolor": "white",
             "minorgridcolor": "white",
             "startlinecolor": "#2a3f5f"
            },
            "type": "carpet"
           }
          ],
          "choropleth": [
           {
            "colorbar": {
             "outlinewidth": 0,
             "ticks": ""
            },
            "type": "choropleth"
           }
          ],
          "contour": [
           {
            "colorbar": {
             "outlinewidth": 0,
             "ticks": ""
            },
            "colorscale": [
             [
              0,
              "#0d0887"
             ],
             [
              0.1111111111111111,
              "#46039f"
             ],
             [
              0.2222222222222222,
              "#7201a8"
             ],
             [
              0.3333333333333333,
              "#9c179e"
             ],
             [
              0.4444444444444444,
              "#bd3786"
             ],
             [
              0.5555555555555556,
              "#d8576b"
             ],
             [
              0.6666666666666666,
              "#ed7953"
             ],
             [
              0.7777777777777778,
              "#fb9f3a"
             ],
             [
              0.8888888888888888,
              "#fdca26"
             ],
             [
              1,
              "#f0f921"
             ]
            ],
            "type": "contour"
           }
          ],
          "contourcarpet": [
           {
            "colorbar": {
             "outlinewidth": 0,
             "ticks": ""
            },
            "type": "contourcarpet"
           }
          ],
          "heatmap": [
           {
            "colorbar": {
             "outlinewidth": 0,
             "ticks": ""
            },
            "colorscale": [
             [
              0,
              "#0d0887"
             ],
             [
              0.1111111111111111,
              "#46039f"
             ],
             [
              0.2222222222222222,
              "#7201a8"
             ],
             [
              0.3333333333333333,
              "#9c179e"
             ],
             [
              0.4444444444444444,
              "#bd3786"
             ],
             [
              0.5555555555555556,
              "#d8576b"
             ],
             [
              0.6666666666666666,
              "#ed7953"
             ],
             [
              0.7777777777777778,
              "#fb9f3a"
             ],
             [
              0.8888888888888888,
              "#fdca26"
             ],
             [
              1,
              "#f0f921"
             ]
            ],
            "type": "heatmap"
           }
          ],
          "heatmapgl": [
           {
            "colorbar": {
             "outlinewidth": 0,
             "ticks": ""
            },
            "colorscale": [
             [
              0,
              "#0d0887"
             ],
             [
              0.1111111111111111,
              "#46039f"
             ],
             [
              0.2222222222222222,
              "#7201a8"
             ],
             [
              0.3333333333333333,
              "#9c179e"
             ],
             [
              0.4444444444444444,
              "#bd3786"
             ],
             [
              0.5555555555555556,
              "#d8576b"
             ],
             [
              0.6666666666666666,
              "#ed7953"
             ],
             [
              0.7777777777777778,
              "#fb9f3a"
             ],
             [
              0.8888888888888888,
              "#fdca26"
             ],
             [
              1,
              "#f0f921"
             ]
            ],
            "type": "heatmapgl"
           }
          ],
          "histogram": [
           {
            "marker": {
             "pattern": {
              "fillmode": "overlay",
              "size": 10,
              "solidity": 0.2
             }
            },
            "type": "histogram"
           }
          ],
          "histogram2d": [
           {
            "colorbar": {
             "outlinewidth": 0,
             "ticks": ""
            },
            "colorscale": [
             [
              0,
              "#0d0887"
             ],
             [
              0.1111111111111111,
              "#46039f"
             ],
             [
              0.2222222222222222,
              "#7201a8"
             ],
             [
              0.3333333333333333,
              "#9c179e"
             ],
             [
              0.4444444444444444,
              "#bd3786"
             ],
             [
              0.5555555555555556,
              "#d8576b"
             ],
             [
              0.6666666666666666,
              "#ed7953"
             ],
             [
              0.7777777777777778,
              "#fb9f3a"
             ],
             [
              0.8888888888888888,
              "#fdca26"
             ],
             [
              1,
              "#f0f921"
             ]
            ],
            "type": "histogram2d"
           }
          ],
          "histogram2dcontour": [
           {
            "colorbar": {
             "outlinewidth": 0,
             "ticks": ""
            },
            "colorscale": [
             [
              0,
              "#0d0887"
             ],
             [
              0.1111111111111111,
              "#46039f"
             ],
             [
              0.2222222222222222,
              "#7201a8"
             ],
             [
              0.3333333333333333,
              "#9c179e"
             ],
             [
              0.4444444444444444,
              "#bd3786"
             ],
             [
              0.5555555555555556,
              "#d8576b"
             ],
             [
              0.6666666666666666,
              "#ed7953"
             ],
             [
              0.7777777777777778,
              "#fb9f3a"
             ],
             [
              0.8888888888888888,
              "#fdca26"
             ],
             [
              1,
              "#f0f921"
             ]
            ],
            "type": "histogram2dcontour"
           }
          ],
          "mesh3d": [
           {
            "colorbar": {
             "outlinewidth": 0,
             "ticks": ""
            },
            "type": "mesh3d"
           }
          ],
          "parcoords": [
           {
            "line": {
             "colorbar": {
              "outlinewidth": 0,
              "ticks": ""
             }
            },
            "type": "parcoords"
           }
          ],
          "pie": [
           {
            "automargin": true,
            "type": "pie"
           }
          ],
          "scatter": [
           {
            "fillpattern": {
             "fillmode": "overlay",
             "size": 10,
             "solidity": 0.2
            },
            "type": "scatter"
           }
          ],
          "scatter3d": [
           {
            "line": {
             "colorbar": {
              "outlinewidth": 0,
              "ticks": ""
             }
            },
            "marker": {
             "colorbar": {
              "outlinewidth": 0,
              "ticks": ""
             }
            },
            "type": "scatter3d"
           }
          ],
          "scattercarpet": [
           {
            "marker": {
             "colorbar": {
              "outlinewidth": 0,
              "ticks": ""
             }
            },
            "type": "scattercarpet"
           }
          ],
          "scattergeo": [
           {
            "marker": {
             "colorbar": {
              "outlinewidth": 0,
              "ticks": ""
             }
            },
            "type": "scattergeo"
           }
          ],
          "scattergl": [
           {
            "marker": {
             "colorbar": {
              "outlinewidth": 0,
              "ticks": ""
             }
            },
            "type": "scattergl"
           }
          ],
          "scattermapbox": [
           {
            "marker": {
             "colorbar": {
              "outlinewidth": 0,
              "ticks": ""
             }
            },
            "type": "scattermapbox"
           }
          ],
          "scatterpolar": [
           {
            "marker": {
             "colorbar": {
              "outlinewidth": 0,
              "ticks": ""
             }
            },
            "type": "scatterpolar"
           }
          ],
          "scatterpolargl": [
           {
            "marker": {
             "colorbar": {
              "outlinewidth": 0,
              "ticks": ""
             }
            },
            "type": "scatterpolargl"
           }
          ],
          "scatterternary": [
           {
            "marker": {
             "colorbar": {
              "outlinewidth": 0,
              "ticks": ""
             }
            },
            "type": "scatterternary"
           }
          ],
          "surface": [
           {
            "colorbar": {
             "outlinewidth": 0,
             "ticks": ""
            },
            "colorscale": [
             [
              0,
              "#0d0887"
             ],
             [
              0.1111111111111111,
              "#46039f"
             ],
             [
              0.2222222222222222,
              "#7201a8"
             ],
             [
              0.3333333333333333,
              "#9c179e"
             ],
             [
              0.4444444444444444,
              "#bd3786"
             ],
             [
              0.5555555555555556,
              "#d8576b"
             ],
             [
              0.6666666666666666,
              "#ed7953"
             ],
             [
              0.7777777777777778,
              "#fb9f3a"
             ],
             [
              0.8888888888888888,
              "#fdca26"
             ],
             [
              1,
              "#f0f921"
             ]
            ],
            "type": "surface"
           }
          ],
          "table": [
           {
            "cells": {
             "fill": {
              "color": "#EBF0F8"
             },
             "line": {
              "color": "white"
             }
            },
            "header": {
             "fill": {
              "color": "#C8D4E3"
             },
             "line": {
              "color": "white"
             }
            },
            "type": "table"
           }
          ]
         },
         "layout": {
          "annotationdefaults": {
           "arrowcolor": "#2a3f5f",
           "arrowhead": 0,
           "arrowwidth": 1
          },
          "autotypenumbers": "strict",
          "coloraxis": {
           "colorbar": {
            "outlinewidth": 0,
            "ticks": ""
           }
          },
          "colorscale": {
           "diverging": [
            [
             0,
             "#8e0152"
            ],
            [
             0.1,
             "#c51b7d"
            ],
            [
             0.2,
             "#de77ae"
            ],
            [
             0.3,
             "#f1b6da"
            ],
            [
             0.4,
             "#fde0ef"
            ],
            [
             0.5,
             "#f7f7f7"
            ],
            [
             0.6,
             "#e6f5d0"
            ],
            [
             0.7,
             "#b8e186"
            ],
            [
             0.8,
             "#7fbc41"
            ],
            [
             0.9,
             "#4d9221"
            ],
            [
             1,
             "#276419"
            ]
           ],
           "sequential": [
            [
             0,
             "#0d0887"
            ],
            [
             0.1111111111111111,
             "#46039f"
            ],
            [
             0.2222222222222222,
             "#7201a8"
            ],
            [
             0.3333333333333333,
             "#9c179e"
            ],
            [
             0.4444444444444444,
             "#bd3786"
            ],
            [
             0.5555555555555556,
             "#d8576b"
            ],
            [
             0.6666666666666666,
             "#ed7953"
            ],
            [
             0.7777777777777778,
             "#fb9f3a"
            ],
            [
             0.8888888888888888,
             "#fdca26"
            ],
            [
             1,
             "#f0f921"
            ]
           ],
           "sequentialminus": [
            [
             0,
             "#0d0887"
            ],
            [
             0.1111111111111111,
             "#46039f"
            ],
            [
             0.2222222222222222,
             "#7201a8"
            ],
            [
             0.3333333333333333,
             "#9c179e"
            ],
            [
             0.4444444444444444,
             "#bd3786"
            ],
            [
             0.5555555555555556,
             "#d8576b"
            ],
            [
             0.6666666666666666,
             "#ed7953"
            ],
            [
             0.7777777777777778,
             "#fb9f3a"
            ],
            [
             0.8888888888888888,
             "#fdca26"
            ],
            [
             1,
             "#f0f921"
            ]
           ]
          },
          "colorway": [
           "#636efa",
           "#EF553B",
           "#00cc96",
           "#ab63fa",
           "#FFA15A",
           "#19d3f3",
           "#FF6692",
           "#B6E880",
           "#FF97FF",
           "#FECB52"
          ],
          "font": {
           "color": "#2a3f5f"
          },
          "geo": {
           "bgcolor": "white",
           "lakecolor": "white",
           "landcolor": "#E5ECF6",
           "showlakes": true,
           "showland": true,
           "subunitcolor": "white"
          },
          "hoverlabel": {
           "align": "left"
          },
          "hovermode": "closest",
          "mapbox": {
           "style": "light"
          },
          "paper_bgcolor": "white",
          "plot_bgcolor": "#E5ECF6",
          "polar": {
           "angularaxis": {
            "gridcolor": "white",
            "linecolor": "white",
            "ticks": ""
           },
           "bgcolor": "#E5ECF6",
           "radialaxis": {
            "gridcolor": "white",
            "linecolor": "white",
            "ticks": ""
           }
          },
          "scene": {
           "xaxis": {
            "backgroundcolor": "#E5ECF6",
            "gridcolor": "white",
            "gridwidth": 2,
            "linecolor": "white",
            "showbackground": true,
            "ticks": "",
            "zerolinecolor": "white"
           },
           "yaxis": {
            "backgroundcolor": "#E5ECF6",
            "gridcolor": "white",
            "gridwidth": 2,
            "linecolor": "white",
            "showbackground": true,
            "ticks": "",
            "zerolinecolor": "white"
           },
           "zaxis": {
            "backgroundcolor": "#E5ECF6",
            "gridcolor": "white",
            "gridwidth": 2,
            "linecolor": "white",
            "showbackground": true,
            "ticks": "",
            "zerolinecolor": "white"
           }
          },
          "shapedefaults": {
           "line": {
            "color": "#2a3f5f"
           }
          },
          "ternary": {
           "aaxis": {
            "gridcolor": "white",
            "linecolor": "white",
            "ticks": ""
           },
           "baxis": {
            "gridcolor": "white",
            "linecolor": "white",
            "ticks": ""
           },
           "bgcolor": "#E5ECF6",
           "caxis": {
            "gridcolor": "white",
            "linecolor": "white",
            "ticks": ""
           }
          },
          "title": {
           "x": 0.05
          },
          "xaxis": {
           "automargin": true,
           "gridcolor": "white",
           "linecolor": "white",
           "ticks": "",
           "title": {
            "standoff": 15
           },
           "zerolinecolor": "white",
           "zerolinewidth": 2
          },
          "yaxis": {
           "automargin": true,
           "gridcolor": "white",
           "linecolor": "white",
           "ticks": "",
           "title": {
            "standoff": 15
           },
           "zerolinecolor": "white",
           "zerolinewidth": 2
          }
         }
        },
        "title": {
         "font": {
          "color": "#4D5663"
         }
        },
        "xaxis": {
         "gridcolor": "#E1E5ED",
         "showgrid": true,
         "tickfont": {
          "color": "#4D5663"
         },
         "title": {
          "font": {
           "color": "#4D5663"
          },
          "text": ""
         },
         "zerolinecolor": "#E1E5ED"
        },
        "yaxis": {
         "gridcolor": "#E1E5ED",
         "showgrid": true,
         "tickfont": {
          "color": "#4D5663"
         },
         "title": {
          "font": {
           "color": "#4D5663"
          },
          "text": ""
         },
         "zerolinecolor": "#E1E5ED"
        }
       }
      },
      "image/png": "[encoded data removed]",
      "text/html": [
       "<div>                            <div id=\"8f2ed7e6-9728-45dc-b9a8-5a73d05351f9\" class=\"plotly-graph-div\" style=\"height:525px; width:100%;\"></div>            <script type=\"text/javascript\">                require([\"plotly\"], function(Plotly) {                    window.PLOTLYENV=window.PLOTLYENV || {};\n",
       "                    window.PLOTLYENV.BASE_URL='https://plot.ly';                                    if (document.getElementById(\"8f2ed7e6-9728-45dc-b9a8-5a73d05351f9\")) {                    Plotly.newPlot(                        \"8f2ed7e6-9728-45dc-b9a8-5a73d05351f9\",                        [{\"colorscale\":[[0.0,\"rgb(255, 153, 51)\"],[0.1111111111111111,\"rgb(55, 128, 191)\"],[0.2222222222222222,\"rgb(50, 171, 96)\"],[0.3333333333333333,\"rgb(128, 0, 128)\"],[0.4444444444444444,\"rgb(219, 64, 82)\"],[0.5555555555555556,\"rgb(0, 128, 128)\"],[0.6666666666666666,\"rgb(255, 255, 51)\"],[0.7777777777777778,\"rgb(128, 128, 0)\"],[0.8888888888888888,\"rgb(251, 128, 114)\"],[1.0,\"rgb(128, 177, 211)\"]],\"x\":[0,1,2,3,4],\"y\":[\"x\",\"y\",\"z\"],\"z\":[[1,2,3,4,5],[10,20,30,20,10],[5,4,3,2,1]],\"type\":\"surface\"}],                        {\"legend\":{\"bgcolor\":\"#F5F6F9\",\"font\":{\"color\":\"#4D5663\"}},\"paper_bgcolor\":\"#F5F6F9\",\"plot_bgcolor\":\"#F5F6F9\",\"template\":{\"data\":{\"barpolar\":[{\"marker\":{\"line\":{\"color\":\"#E5ECF6\",\"width\":0.5},\"pattern\":{\"fillmode\":\"overlay\",\"size\":10,\"solidity\":0.2}},\"type\":\"barpolar\"}],\"bar\":[{\"error_x\":{\"color\":\"#2a3f5f\"},\"error_y\":{\"color\":\"#2a3f5f\"},\"marker\":{\"line\":{\"color\":\"#E5ECF6\",\"width\":0.5},\"pattern\":{\"fillmode\":\"overlay\",\"size\":10,\"solidity\":0.2}},\"type\":\"bar\"}],\"carpet\":[{\"aaxis\":{\"endlinecolor\":\"#2a3f5f\",\"gridcolor\":\"white\",\"linecolor\":\"white\",\"minorgridcolor\":\"white\",\"startlinecolor\":\"#2a3f5f\"},\"baxis\":{\"endlinecolor\":\"#2a3f5f\",\"gridcolor\":\"white\",\"linecolor\":\"white\",\"minorgridcolor\":\"white\",\"startlinecolor\":\"#2a3f5f\"},\"type\":\"carpet\"}],\"choropleth\":[{\"colorbar\":{\"outlinewidth\":0,\"ticks\":\"\"},\"type\":\"choropleth\"}],\"contourcarpet\":[{\"colorbar\":{\"outlinewidth\":0,\"ticks\":\"\"},\"type\":\"contourcarpet\"}],\"contour\":[{\"colorbar\":{\"outlinewidth\":0,\"ticks\":\"\"},\"colorscale\":[[0.0,\"#0d0887\"],[0.1111111111111111,\"#46039f\"],[0.2222222222222222,\"#7201a8\"],[0.3333333333333333,\"#9c179e\"],[0.4444444444444444,\"#bd3786\"],[0.5555555555555556,\"#d8576b\"],[0.6666666666666666,\"#ed7953\"],[0.7777777777777778,\"#fb9f3a\"],[0.8888888888888888,\"#fdca26\"],[1.0,\"#f0f921\"]],\"type\":\"contour\"}],\"heatmapgl\":[{\"colorbar\":{\"outlinewidth\":0,\"ticks\":\"\"},\"colorscale\":[[0.0,\"#0d0887\"],[0.1111111111111111,\"#46039f\"],[0.2222222222222222,\"#7201a8\"],[0.3333333333333333,\"#9c179e\"],[0.4444444444444444,\"#bd3786\"],[0.5555555555555556,\"#d8576b\"],[0.6666666666666666,\"#ed7953\"],[0.7777777777777778,\"#fb9f3a\"],[0.8888888888888888,\"#fdca26\"],[1.0,\"#f0f921\"]],\"type\":\"heatmapgl\"}],\"heatmap\":[{\"colorbar\":{\"outlinewidth\":0,\"ticks\":\"\"},\"colorscale\":[[0.0,\"#0d0887\"],[0.1111111111111111,\"#46039f\"],[0.2222222222222222,\"#7201a8\"],[0.3333333333333333,\"#9c179e\"],[0.4444444444444444,\"#bd3786\"],[0.5555555555555556,\"#d8576b\"],[0.6666666666666666,\"#ed7953\"],[0.7777777777777778,\"#fb9f3a\"],[0.8888888888888888,\"#fdca26\"],[1.0,\"#f0f921\"]],\"type\":\"heatmap\"}],\"histogram2dcontour\":[{\"colorbar\":{\"outlinewidth\":0,\"ticks\":\"\"},\"colorscale\":[[0.0,\"#0d0887\"],[0.1111111111111111,\"#46039f\"],[0.2222222222222222,\"#7201a8\"],[0.3333333333333333,\"#9c179e\"],[0.4444444444444444,\"#bd3786\"],[0.5555555555555556,\"#d8576b\"],[0.6666666666666666,\"#ed7953\"],[0.7777777777777778,\"#fb9f3a\"],[0.8888888888888888,\"#fdca26\"],[1.0,\"#f0f921\"]],\"type\":\"histogram2dcontour\"}],\"histogram2d\":[{\"colorbar\":{\"outlinewidth\":0,\"ticks\":\"\"},\"colorscale\":[[0.0,\"#0d0887\"],[0.1111111111111111,\"#46039f\"],[0.2222222222222222,\"#7201a8\"],[0.3333333333333333,\"#9c179e\"],[0.4444444444444444,\"#bd3786\"],[0.5555555555555556,\"#d8576b\"],[0.6666666666666666,\"#ed7953\"],[0.7777777777777778,\"#fb9f3a\"],[0.8888888888888888,\"#fdca26\"],[1.0,\"#f0f921\"]],\"type\":\"histogram2d\"}],\"histogram\":[{\"marker\":{\"pattern\":{\"fillmode\":\"overlay\",\"size\":10,\"solidity\":0.2}},\"type\":\"histogram\"}],\"mesh3d\":[{\"colorbar\":{\"outlinewidth\":0,\"ticks\":\"\"},\"type\":\"mesh3d\"}],\"parcoords\":[{\"line\":{\"colorbar\":{\"outlinewidth\":0,\"ticks\":\"\"}},\"type\":\"parcoords\"}],\"pie\":[{\"automargin\":true,\"type\":\"pie\"}],\"scatter3d\":[{\"line\":{\"colorbar\":{\"outlinewidth\":0,\"ticks\":\"\"}},\"marker\":{\"colorbar\":{\"outlinewidth\":0,\"ticks\":\"\"}},\"type\":\"scatter3d\"}],\"scattercarpet\":[{\"marker\":{\"colorbar\":{\"outlinewidth\":0,\"ticks\":\"\"}},\"type\":\"scattercarpet\"}],\"scattergeo\":[{\"marker\":{\"colorbar\":{\"outlinewidth\":0,\"ticks\":\"\"}},\"type\":\"scattergeo\"}],\"scattergl\":[{\"marker\":{\"colorbar\":{\"outlinewidth\":0,\"ticks\":\"\"}},\"type\":\"scattergl\"}],\"scattermapbox\":[{\"marker\":{\"colorbar\":{\"outlinewidth\":0,\"ticks\":\"\"}},\"type\":\"scattermapbox\"}],\"scatterpolargl\":[{\"marker\":{\"colorbar\":{\"outlinewidth\":0,\"ticks\":\"\"}},\"type\":\"scatterpolargl\"}],\"scatterpolar\":[{\"marker\":{\"colorbar\":{\"outlinewidth\":0,\"ticks\":\"\"}},\"type\":\"scatterpolar\"}],\"scatter\":[{\"fillpattern\":{\"fillmode\":\"overlay\",\"size\":10,\"solidity\":0.2},\"type\":\"scatter\"}],\"scatterternary\":[{\"marker\":{\"colorbar\":{\"outlinewidth\":0,\"ticks\":\"\"}},\"type\":\"scatterternary\"}],\"surface\":[{\"colorbar\":{\"outlinewidth\":0,\"ticks\":\"\"},\"colorscale\":[[0.0,\"#0d0887\"],[0.1111111111111111,\"#46039f\"],[0.2222222222222222,\"#7201a8\"],[0.3333333333333333,\"#9c179e\"],[0.4444444444444444,\"#bd3786\"],[0.5555555555555556,\"#d8576b\"],[0.6666666666666666,\"#ed7953\"],[0.7777777777777778,\"#fb9f3a\"],[0.8888888888888888,\"#fdca26\"],[1.0,\"#f0f921\"]],\"type\":\"surface\"}],\"table\":[{\"cells\":{\"fill\":{\"color\":\"#EBF0F8\"},\"line\":{\"color\":\"white\"}},\"header\":{\"fill\":{\"color\":\"#C8D4E3\"},\"line\":{\"color\":\"white\"}},\"type\":\"table\"}]},\"layout\":{\"annotationdefaults\":{\"arrowcolor\":\"#2a3f5f\",\"arrowhead\":0,\"arrowwidth\":1},\"autotypenumbers\":\"strict\",\"coloraxis\":{\"colorbar\":{\"outlinewidth\":0,\"ticks\":\"\"}},\"colorscale\":{\"diverging\":[[0,\"#8e0152\"],[0.1,\"#c51b7d\"],[0.2,\"#de77ae\"],[0.3,\"#f1b6da\"],[0.4,\"#fde0ef\"],[0.5,\"#f7f7f7\"],[0.6,\"#e6f5d0\"],[0.7,\"#b8e186\"],[0.8,\"#7fbc41\"],[0.9,\"#4d9221\"],[1,\"#276419\"]],\"sequential\":[[0.0,\"#0d0887\"],[0.1111111111111111,\"#46039f\"],[0.2222222222222222,\"#7201a8\"],[0.3333333333333333,\"#9c179e\"],[0.4444444444444444,\"#bd3786\"],[0.5555555555555556,\"#d8576b\"],[0.6666666666666666,\"#ed7953\"],[0.7777777777777778,\"#fb9f3a\"],[0.8888888888888888,\"#fdca26\"],[1.0,\"#f0f921\"]],\"sequentialminus\":[[0.0,\"#0d0887\"],[0.1111111111111111,\"#46039f\"],[0.2222222222222222,\"#7201a8\"],[0.3333333333333333,\"#9c179e\"],[0.4444444444444444,\"#bd3786\"],[0.5555555555555556,\"#d8576b\"],[0.6666666666666666,\"#ed7953\"],[0.7777777777777778,\"#fb9f3a\"],[0.8888888888888888,\"#fdca26\"],[1.0,\"#f0f921\"]]},\"colorway\":[\"#636efa\",\"#EF553B\",\"#00cc96\",\"#ab63fa\",\"#FFA15A\",\"#19d3f3\",\"#FF6692\",\"#B6E880\",\"#FF97FF\",\"#FECB52\"],\"font\":{\"color\":\"#2a3f5f\"},\"geo\":{\"bgcolor\":\"white\",\"lakecolor\":\"white\",\"landcolor\":\"#E5ECF6\",\"showlakes\":true,\"showland\":true,\"subunitcolor\":\"white\"},\"hoverlabel\":{\"align\":\"left\"},\"hovermode\":\"closest\",\"mapbox\":{\"style\":\"light\"},\"paper_bgcolor\":\"white\",\"plot_bgcolor\":\"#E5ECF6\",\"polar\":{\"angularaxis\":{\"gridcolor\":\"white\",\"linecolor\":\"white\",\"ticks\":\"\"},\"bgcolor\":\"#E5ECF6\",\"radialaxis\":{\"gridcolor\":\"white\",\"linecolor\":\"white\",\"ticks\":\"\"}},\"scene\":{\"xaxis\":{\"backgroundcolor\":\"#E5ECF6\",\"gridcolor\":\"white\",\"gridwidth\":2,\"linecolor\":\"white\",\"showbackground\":true,\"ticks\":\"\",\"zerolinecolor\":\"white\"},\"yaxis\":{\"backgroundcolor\":\"#E5ECF6\",\"gridcolor\":\"white\",\"gridwidth\":2,\"linecolor\":\"white\",\"showbackground\":true,\"ticks\":\"\",\"zerolinecolor\":\"white\"},\"zaxis\":{\"backgroundcolor\":\"#E5ECF6\",\"gridcolor\":\"white\",\"gridwidth\":2,\"linecolor\":\"white\",\"showbackground\":true,\"ticks\":\"\",\"zerolinecolor\":\"white\"}},\"shapedefaults\":{\"line\":{\"color\":\"#2a3f5f\"}},\"ternary\":{\"aaxis\":{\"gridcolor\":\"white\",\"linecolor\":\"white\",\"ticks\":\"\"},\"baxis\":{\"gridcolor\":\"white\",\"linecolor\":\"white\",\"ticks\":\"\"},\"bgcolor\":\"#E5ECF6\",\"caxis\":{\"gridcolor\":\"white\",\"linecolor\":\"white\",\"ticks\":\"\"}},\"title\":{\"x\":0.05},\"xaxis\":{\"automargin\":true,\"gridcolor\":\"white\",\"linecolor\":\"white\",\"ticks\":\"\",\"title\":{\"standoff\":15},\"zerolinecolor\":\"white\",\"zerolinewidth\":2},\"yaxis\":{\"automargin\":true,\"gridcolor\":\"white\",\"linecolor\":\"white\",\"ticks\":\"\",\"title\":{\"standoff\":15},\"zerolinecolor\":\"white\",\"zerolinewidth\":2}}},\"title\":{\"font\":{\"color\":\"#4D5663\"}},\"xaxis\":{\"gridcolor\":\"#E1E5ED\",\"showgrid\":true,\"tickfont\":{\"color\":\"#4D5663\"},\"title\":{\"font\":{\"color\":\"#4D5663\"},\"text\":\"\"},\"zerolinecolor\":\"#E1E5ED\"},\"yaxis\":{\"gridcolor\":\"#E1E5ED\",\"showgrid\":true,\"tickfont\":{\"color\":\"#4D5663\"},\"title\":{\"font\":{\"color\":\"#4D5663\"},\"text\":\"\"},\"zerolinecolor\":\"#E1E5ED\"}},                        {\"showLink\": true, \"linkText\": \"Export to plot.ly\", \"plotlyServerURL\": \"https://plot.ly\", \"responsive\": true}                    ).then(function(){\n",
       "                            \n",
       "var gd = document.getElementById('8f2ed7e6-9728-45dc-b9a8-5a73d05351f9');\n",
       "var x = new MutationObserver(function (mutations, observer) {{\n",
       "        var display = window.getComputedStyle(gd).display;\n",
       "        if (!display || display === 'none') {{\n",
       "            console.log([gd, 'removed!']);\n",
       "            Plotly.purge(gd);\n",
       "            observer.disconnect();\n",
       "        }}\n",
       "}});\n",
       "\n",
       "// Listen for the removal of the full notebook cells\n",
       "var notebookContainer = gd.closest('#notebook-container');\n",
       "if (notebookContainer) {{\n",
       "    x.observe(notebookContainer, {childList: true});\n",
       "}}\n",
       "\n",
       "// Listen for the clearing of the current output cell\n",
       "var outputEl = gd.closest('.output');\n",
       "if (outputEl) {{\n",
       "    x.observe(outputEl, {childList: true});\n",
       "}}\n",
       "\n",
       "                        })                };                });            </script>        </div>"
      ]
     },
     "metadata": {},
     "output_type": "display_data"
    }
   ],
   "source": [
    "df3.iplot(kind='surface')"
   ]
  },
  {
   "cell_type": "code",
   "execution_count": 53,
   "id": "15631ea9-b21c-4259-a606-f9829c91d48c",
   "metadata": {},
   "outputs": [
    {
     "data": {
      "application/vnd.plotly.v1+json": {
       "config": {
        "linkText": "Export to plot.ly",
        "plotlyServerURL": "https://plot.ly",
        "showLink": true
       },
       "data": [
        {
         "histfunc": "count",
         "histnorm": "",
         "marker": {
          "color": "rgba(255, 153, 51, 1.0)",
          "line": {
           "color": "#4D5663",
           "width": 1.3
          }
         },
         "name": "A",
         "nbinsx": 30,
         "opacity": 0.8,
         "orientation": "v",
         "type": "histogram",
         "x": [
          -1.3001058810112465,
          -0.46530946050785577,
          -0.10950361487242674,
          -2.5294117773642872,
          1.4592767272081206,
          0.7670306517873596,
          -0.6516291878969268,
          0.4104823796917037,
          -0.544649856021266,
          0.8881688549775284,
          0.532315391270855,
          -1.5068091892635043,
          0.9579907601008844,
          0.15737330511787645,
          0.3603592835733318,
          -0.6824999608142553,
          0.6184689337730324,
          -0.2569434735665441,
          1.9346115857987043,
          1.2589983024560878,
          -0.002111599045755978,
          -1.3490529580186015,
          1.0451730254996596,
          1.1319992170010402,
          0.047014169746154084,
          -0.2550073591224525,
          -0.39995720360484927,
          -1.4458849143543648,
          -0.3862220530025955,
          0.26560783039456504,
          0.150885820629637,
          -1.5682605363009903,
          0.968091451793801,
          0.3787436367196607,
          -1.3771783390048689,
          0.9592045069196298,
          -0.3241273752234432,
          -0.03019526395473516,
          -0.2081948139585612,
          0.8644302805595135,
          -0.33780970298210705,
          0.7043957270494225,
          -0.46245433881706893,
          -0.37007331609432986,
          0.43456570476717754,
          0.2566116284695562,
          -0.7372810068742501,
          -0.18223889085387784,
          -0.8465791446343268,
          0.2717256558836371,
          1.6455028927346265,
          1.3193189133051533,
          0.18604036223398376,
          -0.17375253641896074,
          -0.033510871685691467,
          -1.7264768352173898,
          -0.12396039765034247,
          0.7164036162252534,
          -1.3583568423607228,
          0.7535029498080489,
          -0.9668281303137861,
          -0.322493160471488,
          0.44555634683543205,
          0.05648456164821221,
          -2.148347844803425,
          1.7860718076761208,
          -1.5116173635175172,
          0.9608624590930857,
          1.7010533335406506,
          1.6936039502170883,
          1.182270008122812,
          1.2257195501445006,
          1.5507635887516797,
          -0.2586530668969108,
          0.23550600076294134,
          0.69619731625886,
          0.3992069551279182,
          -0.8630895110192605,
          -1.6535368987079742,
          0.2985511324042734,
          0.23027020044104454,
          0.03500911805698938,
          -0.7343768497618143,
          0.4060420213841534,
          1.7514127712284566,
          0.36907900713205327,
          -0.6361125952209186,
          0.4021335199898844,
          -0.07938530683597056,
          -1.5830883082184337,
          0.08035389910120652,
          -1.174668326667251,
          -1.4107028887293993,
          2.160528395157838,
          -0.7690733279906413,
          -1.8916286119365846,
          -1.9827422273601996,
          -0.37697015679945955,
          1.5268484627356618,
          1.8331079406695325
         ]
        }
       ],
       "layout": {
        "autosize": true,
        "barmode": "overlay",
        "legend": {
         "bgcolor": "#F5F6F9",
         "font": {
          "color": "#4D5663"
         }
        },
        "paper_bgcolor": "#F5F6F9",
        "plot_bgcolor": "#F5F6F9",
        "template": {
         "data": {
          "bar": [
           {
            "error_x": {
             "color": "#2a3f5f"
            },
            "error_y": {
             "color": "#2a3f5f"
            },
            "marker": {
             "line": {
              "color": "#E5ECF6",
              "width": 0.5
             },
             "pattern": {
              "fillmode": "overlay",
              "size": 10,
              "solidity": 0.2
             }
            },
            "type": "bar"
           }
          ],
          "barpolar": [
           {
            "marker": {
             "line": {
              "color": "#E5ECF6",
              "width": 0.5
             },
             "pattern": {
              "fillmode": "overlay",
              "size": 10,
              "solidity": 0.2
             }
            },
            "type": "barpolar"
           }
          ],
          "carpet": [
           {
            "aaxis": {
             "endlinecolor": "#2a3f5f",
             "gridcolor": "white",
             "linecolor": "white",
             "minorgridcolor": "white",
             "startlinecolor": "#2a3f5f"
            },
            "baxis": {
             "endlinecolor": "#2a3f5f",
             "gridcolor": "white",
             "linecolor": "white",
             "minorgridcolor": "white",
             "startlinecolor": "#2a3f5f"
            },
            "type": "carpet"
           }
          ],
          "choropleth": [
           {
            "colorbar": {
             "outlinewidth": 0,
             "ticks": ""
            },
            "type": "choropleth"
           }
          ],
          "contour": [
           {
            "colorbar": {
             "outlinewidth": 0,
             "ticks": ""
            },
            "colorscale": [
             [
              0,
              "#0d0887"
             ],
             [
              0.1111111111111111,
              "#46039f"
             ],
             [
              0.2222222222222222,
              "#7201a8"
             ],
             [
              0.3333333333333333,
              "#9c179e"
             ],
             [
              0.4444444444444444,
              "#bd3786"
             ],
             [
              0.5555555555555556,
              "#d8576b"
             ],
             [
              0.6666666666666666,
              "#ed7953"
             ],
             [
              0.7777777777777778,
              "#fb9f3a"
             ],
             [
              0.8888888888888888,
              "#fdca26"
             ],
             [
              1,
              "#f0f921"
             ]
            ],
            "type": "contour"
           }
          ],
          "contourcarpet": [
           {
            "colorbar": {
             "outlinewidth": 0,
             "ticks": ""
            },
            "type": "contourcarpet"
           }
          ],
          "heatmap": [
           {
            "colorbar": {
             "outlinewidth": 0,
             "ticks": ""
            },
            "colorscale": [
             [
              0,
              "#0d0887"
             ],
             [
              0.1111111111111111,
              "#46039f"
             ],
             [
              0.2222222222222222,
              "#7201a8"
             ],
             [
              0.3333333333333333,
              "#9c179e"
             ],
             [
              0.4444444444444444,
              "#bd3786"
             ],
             [
              0.5555555555555556,
              "#d8576b"
             ],
             [
              0.6666666666666666,
              "#ed7953"
             ],
             [
              0.7777777777777778,
              "#fb9f3a"
             ],
             [
              0.8888888888888888,
              "#fdca26"
             ],
             [
              1,
              "#f0f921"
             ]
            ],
            "type": "heatmap"
           }
          ],
          "heatmapgl": [
           {
            "colorbar": {
             "outlinewidth": 0,
             "ticks": ""
            },
            "colorscale": [
             [
              0,
              "#0d0887"
             ],
             [
              0.1111111111111111,
              "#46039f"
             ],
             [
              0.2222222222222222,
              "#7201a8"
             ],
             [
              0.3333333333333333,
              "#9c179e"
             ],
             [
              0.4444444444444444,
              "#bd3786"
             ],
             [
              0.5555555555555556,
              "#d8576b"
             ],
             [
              0.6666666666666666,
              "#ed7953"
             ],
             [
              0.7777777777777778,
              "#fb9f3a"
             ],
             [
              0.8888888888888888,
              "#fdca26"
             ],
             [
              1,
              "#f0f921"
             ]
            ],
            "type": "heatmapgl"
           }
          ],
          "histogram": [
           {
            "marker": {
             "pattern": {
              "fillmode": "overlay",
              "size": 10,
              "solidity": 0.2
             }
            },
            "type": "histogram"
           }
          ],
          "histogram2d": [
           {
            "colorbar": {
             "outlinewidth": 0,
             "ticks": ""
            },
            "colorscale": [
             [
              0,
              "#0d0887"
             ],
             [
              0.1111111111111111,
              "#46039f"
             ],
             [
              0.2222222222222222,
              "#7201a8"
             ],
             [
              0.3333333333333333,
              "#9c179e"
             ],
             [
              0.4444444444444444,
              "#bd3786"
             ],
             [
              0.5555555555555556,
              "#d8576b"
             ],
             [
              0.6666666666666666,
              "#ed7953"
             ],
             [
              0.7777777777777778,
              "#fb9f3a"
             ],
             [
              0.8888888888888888,
              "#fdca26"
             ],
             [
              1,
              "#f0f921"
             ]
            ],
            "type": "histogram2d"
           }
          ],
          "histogram2dcontour": [
           {
            "colorbar": {
             "outlinewidth": 0,
             "ticks": ""
            },
            "colorscale": [
             [
              0,
              "#0d0887"
             ],
             [
              0.1111111111111111,
              "#46039f"
             ],
             [
              0.2222222222222222,
              "#7201a8"
             ],
             [
              0.3333333333333333,
              "#9c179e"
             ],
             [
              0.4444444444444444,
              "#bd3786"
             ],
             [
              0.5555555555555556,
              "#d8576b"
             ],
             [
              0.6666666666666666,
              "#ed7953"
             ],
             [
              0.7777777777777778,
              "#fb9f3a"
             ],
             [
              0.8888888888888888,
              "#fdca26"
             ],
             [
              1,
              "#f0f921"
             ]
            ],
            "type": "histogram2dcontour"
           }
          ],
          "mesh3d": [
           {
            "colorbar": {
             "outlinewidth": 0,
             "ticks": ""
            },
            "type": "mesh3d"
           }
          ],
          "parcoords": [
           {
            "line": {
             "colorbar": {
              "outlinewidth": 0,
              "ticks": ""
             }
            },
            "type": "parcoords"
           }
          ],
          "pie": [
           {
            "automargin": true,
            "type": "pie"
           }
          ],
          "scatter": [
           {
            "fillpattern": {
             "fillmode": "overlay",
             "size": 10,
             "solidity": 0.2
            },
            "type": "scatter"
           }
          ],
          "scatter3d": [
           {
            "line": {
             "colorbar": {
              "outlinewidth": 0,
              "ticks": ""
             }
            },
            "marker": {
             "colorbar": {
              "outlinewidth": 0,
              "ticks": ""
             }
            },
            "type": "scatter3d"
           }
          ],
          "scattercarpet": [
           {
            "marker": {
             "colorbar": {
              "outlinewidth": 0,
              "ticks": ""
             }
            },
            "type": "scattercarpet"
           }
          ],
          "scattergeo": [
           {
            "marker": {
             "colorbar": {
              "outlinewidth": 0,
              "ticks": ""
             }
            },
            "type": "scattergeo"
           }
          ],
          "scattergl": [
           {
            "marker": {
             "colorbar": {
              "outlinewidth": 0,
              "ticks": ""
             }
            },
            "type": "scattergl"
           }
          ],
          "scattermapbox": [
           {
            "marker": {
             "colorbar": {
              "outlinewidth": 0,
              "ticks": ""
             }
            },
            "type": "scattermapbox"
           }
          ],
          "scatterpolar": [
           {
            "marker": {
             "colorbar": {
              "outlinewidth": 0,
              "ticks": ""
             }
            },
            "type": "scatterpolar"
           }
          ],
          "scatterpolargl": [
           {
            "marker": {
             "colorbar": {
              "outlinewidth": 0,
              "ticks": ""
             }
            },
            "type": "scatterpolargl"
           }
          ],
          "scatterternary": [
           {
            "marker": {
             "colorbar": {
              "outlinewidth": 0,
              "ticks": ""
             }
            },
            "type": "scatterternary"
           }
          ],
          "surface": [
           {
            "colorbar": {
             "outlinewidth": 0,
             "ticks": ""
            },
            "colorscale": [
             [
              0,
              "#0d0887"
             ],
             [
              0.1111111111111111,
              "#46039f"
             ],
             [
              0.2222222222222222,
              "#7201a8"
             ],
             [
              0.3333333333333333,
              "#9c179e"
             ],
             [
              0.4444444444444444,
              "#bd3786"
             ],
             [
              0.5555555555555556,
              "#d8576b"
             ],
             [
              0.6666666666666666,
              "#ed7953"
             ],
             [
              0.7777777777777778,
              "#fb9f3a"
             ],
             [
              0.8888888888888888,
              "#fdca26"
             ],
             [
              1,
              "#f0f921"
             ]
            ],
            "type": "surface"
           }
          ],
          "table": [
           {
            "cells": {
             "fill": {
              "color": "#EBF0F8"
             },
             "line": {
              "color": "white"
             }
            },
            "header": {
             "fill": {
              "color": "#C8D4E3"
             },
             "line": {
              "color": "white"
             }
            },
            "type": "table"
           }
          ]
         },
         "layout": {
          "annotationdefaults": {
           "arrowcolor": "#2a3f5f",
           "arrowhead": 0,
           "arrowwidth": 1
          },
          "autotypenumbers": "strict",
          "coloraxis": {
           "colorbar": {
            "outlinewidth": 0,
            "ticks": ""
           }
          },
          "colorscale": {
           "diverging": [
            [
             0,
             "#8e0152"
            ],
            [
             0.1,
             "#c51b7d"
            ],
            [
             0.2,
             "#de77ae"
            ],
            [
             0.3,
             "#f1b6da"
            ],
            [
             0.4,
             "#fde0ef"
            ],
            [
             0.5,
             "#f7f7f7"
            ],
            [
             0.6,
             "#e6f5d0"
            ],
            [
             0.7,
             "#b8e186"
            ],
            [
             0.8,
             "#7fbc41"
            ],
            [
             0.9,
             "#4d9221"
            ],
            [
             1,
             "#276419"
            ]
           ],
           "sequential": [
            [
             0,
             "#0d0887"
            ],
            [
             0.1111111111111111,
             "#46039f"
            ],
            [
             0.2222222222222222,
             "#7201a8"
            ],
            [
             0.3333333333333333,
             "#9c179e"
            ],
            [
             0.4444444444444444,
             "#bd3786"
            ],
            [
             0.5555555555555556,
             "#d8576b"
            ],
            [
             0.6666666666666666,
             "#ed7953"
            ],
            [
             0.7777777777777778,
             "#fb9f3a"
            ],
            [
             0.8888888888888888,
             "#fdca26"
            ],
            [
             1,
             "#f0f921"
            ]
           ],
           "sequentialminus": [
            [
             0,
             "#0d0887"
            ],
            [
             0.1111111111111111,
             "#46039f"
            ],
            [
             0.2222222222222222,
             "#7201a8"
            ],
            [
             0.3333333333333333,
             "#9c179e"
            ],
            [
             0.4444444444444444,
             "#bd3786"
            ],
            [
             0.5555555555555556,
             "#d8576b"
            ],
            [
             0.6666666666666666,
             "#ed7953"
            ],
            [
             0.7777777777777778,
             "#fb9f3a"
            ],
            [
             0.8888888888888888,
             "#fdca26"
            ],
            [
             1,
             "#f0f921"
            ]
           ]
          },
          "colorway": [
           "#636efa",
           "#EF553B",
           "#00cc96",
           "#ab63fa",
           "#FFA15A",
           "#19d3f3",
           "#FF6692",
           "#B6E880",
           "#FF97FF",
           "#FECB52"
          ],
          "font": {
           "color": "#2a3f5f"
          },
          "geo": {
           "bgcolor": "white",
           "lakecolor": "white",
           "landcolor": "#E5ECF6",
           "showlakes": true,
           "showland": true,
           "subunitcolor": "white"
          },
          "hoverlabel": {
           "align": "left"
          },
          "hovermode": "closest",
          "mapbox": {
           "style": "light"
          },
          "paper_bgcolor": "white",
          "plot_bgcolor": "#E5ECF6",
          "polar": {
           "angularaxis": {
            "gridcolor": "white",
            "linecolor": "white",
            "ticks": ""
           },
           "bgcolor": "#E5ECF6",
           "radialaxis": {
            "gridcolor": "white",
            "linecolor": "white",
            "ticks": ""
           }
          },
          "scene": {
           "xaxis": {
            "backgroundcolor": "#E5ECF6",
            "gridcolor": "white",
            "gridwidth": 2,
            "linecolor": "white",
            "showbackground": true,
            "ticks": "",
            "zerolinecolor": "white"
           },
           "yaxis": {
            "backgroundcolor": "#E5ECF6",
            "gridcolor": "white",
            "gridwidth": 2,
            "linecolor": "white",
            "showbackground": true,
            "ticks": "",
            "zerolinecolor": "white"
           },
           "zaxis": {
            "backgroundcolor": "#E5ECF6",
            "gridcolor": "white",
            "gridwidth": 2,
            "linecolor": "white",
            "showbackground": true,
            "ticks": "",
            "zerolinecolor": "white"
           }
          },
          "shapedefaults": {
           "line": {
            "color": "#2a3f5f"
           }
          },
          "ternary": {
           "aaxis": {
            "gridcolor": "white",
            "linecolor": "white",
            "ticks": ""
           },
           "baxis": {
            "gridcolor": "white",
            "linecolor": "white",
            "ticks": ""
           },
           "bgcolor": "#E5ECF6",
           "caxis": {
            "gridcolor": "white",
            "linecolor": "white",
            "ticks": ""
           }
          },
          "title": {
           "x": 0.05
          },
          "xaxis": {
           "automargin": true,
           "gridcolor": "white",
           "linecolor": "white",
           "ticks": "",
           "title": {
            "standoff": 15
           },
           "zerolinecolor": "white",
           "zerolinewidth": 2
          },
          "yaxis": {
           "automargin": true,
           "gridcolor": "white",
           "linecolor": "white",
           "ticks": "",
           "title": {
            "standoff": 15
           },
           "zerolinecolor": "white",
           "zerolinewidth": 2
          }
         }
        },
        "title": {
         "font": {
          "color": "#4D5663"
         }
        },
        "xaxis": {
         "autorange": true,
         "gridcolor": "#E1E5ED",
         "range": [
          -2.6000000000000005,
          2.1999999999999993
         ],
         "showgrid": true,
         "tickfont": {
          "color": "#4D5663"
         },
         "title": {
          "font": {
           "color": "#4D5663"
          },
          "text": ""
         },
         "type": "linear",
         "zerolinecolor": "#E1E5ED"
        },
        "yaxis": {
         "autorange": true,
         "gridcolor": "#E1E5ED",
         "range": [
          0,
          11.578947368421053
         ],
         "showgrid": true,
         "tickfont": {
          "color": "#4D5663"
         },
         "title": {
          "font": {
           "color": "#4D5663"
          },
          "text": ""
         },
         "zerolinecolor": "#E1E5ED"
        }
       }
      },
      "image/png": "[encoded data removed]",
      "text/html": [
       "<div>                            <div id=\"39f74099-7ad3-4b65-b80f-e61ac6f17c73\" class=\"plotly-graph-div\" style=\"height:525px; width:100%;\"></div>            <script type=\"text/javascript\">                require([\"plotly\"], function(Plotly) {                    window.PLOTLYENV=window.PLOTLYENV || {};\n",
       "                    window.PLOTLYENV.BASE_URL='https://plot.ly';                                    if (document.getElementById(\"39f74099-7ad3-4b65-b80f-e61ac6f17c73\")) {                    Plotly.newPlot(                        \"39f74099-7ad3-4b65-b80f-e61ac6f17c73\",                        [{\"histfunc\":\"count\",\"histnorm\":\"\",\"marker\":{\"color\":\"rgba(255, 153, 51, 1.0)\",\"line\":{\"color\":\"#4D5663\",\"width\":1.3}},\"name\":\"A\",\"nbinsx\":30,\"opacity\":0.8,\"orientation\":\"v\",\"x\":[-1.3001058810112465,-0.46530946050785577,-0.10950361487242674,-2.5294117773642872,1.4592767272081206,0.7670306517873596,-0.6516291878969268,0.4104823796917037,-0.544649856021266,0.8881688549775284,0.532315391270855,-1.5068091892635043,0.9579907601008844,0.15737330511787645,0.3603592835733318,-0.6824999608142553,0.6184689337730324,-0.2569434735665441,1.9346115857987043,1.2589983024560878,-0.002111599045755978,-1.3490529580186015,1.0451730254996596,1.1319992170010402,0.047014169746154084,-0.2550073591224525,-0.39995720360484927,-1.4458849143543648,-0.3862220530025955,0.26560783039456504,0.150885820629637,-1.5682605363009903,0.968091451793801,0.3787436367196607,-1.3771783390048689,0.9592045069196298,-0.3241273752234432,-0.03019526395473516,-0.2081948139585612,0.8644302805595135,-0.33780970298210705,0.7043957270494225,-0.46245433881706893,-0.37007331609432986,0.43456570476717754,0.2566116284695562,-0.7372810068742501,-0.18223889085387784,-0.8465791446343268,0.2717256558836371,1.6455028927346265,1.3193189133051533,0.18604036223398376,-0.17375253641896074,-0.033510871685691467,-1.7264768352173898,-0.12396039765034247,0.7164036162252534,-1.3583568423607228,0.7535029498080489,-0.9668281303137861,-0.322493160471488,0.44555634683543205,0.05648456164821221,-2.148347844803425,1.7860718076761208,-1.5116173635175172,0.9608624590930857,1.7010533335406506,1.6936039502170883,1.182270008122812,1.2257195501445006,1.5507635887516797,-0.2586530668969108,0.23550600076294134,0.69619731625886,0.3992069551279182,-0.8630895110192605,-1.6535368987079742,0.2985511324042734,0.23027020044104454,0.03500911805698938,-0.7343768497618143,0.4060420213841534,1.7514127712284566,0.36907900713205327,-0.6361125952209186,0.4021335199898844,-0.07938530683597056,-1.5830883082184337,0.08035389910120652,-1.174668326667251,-1.4107028887293993,2.160528395157838,-0.7690733279906413,-1.8916286119365846,-1.9827422273601996,-0.37697015679945955,1.5268484627356618,1.8331079406695325],\"type\":\"histogram\"}],                        {\"barmode\":\"overlay\",\"legend\":{\"bgcolor\":\"#F5F6F9\",\"font\":{\"color\":\"#4D5663\"}},\"paper_bgcolor\":\"#F5F6F9\",\"plot_bgcolor\":\"#F5F6F9\",\"template\":{\"data\":{\"barpolar\":[{\"marker\":{\"line\":{\"color\":\"#E5ECF6\",\"width\":0.5},\"pattern\":{\"fillmode\":\"overlay\",\"size\":10,\"solidity\":0.2}},\"type\":\"barpolar\"}],\"bar\":[{\"error_x\":{\"color\":\"#2a3f5f\"},\"error_y\":{\"color\":\"#2a3f5f\"},\"marker\":{\"line\":{\"color\":\"#E5ECF6\",\"width\":0.5},\"pattern\":{\"fillmode\":\"overlay\",\"size\":10,\"solidity\":0.2}},\"type\":\"bar\"}],\"carpet\":[{\"aaxis\":{\"endlinecolor\":\"#2a3f5f\",\"gridcolor\":\"white\",\"linecolor\":\"white\",\"minorgridcolor\":\"white\",\"startlinecolor\":\"#2a3f5f\"},\"baxis\":{\"endlinecolor\":\"#2a3f5f\",\"gridcolor\":\"white\",\"linecolor\":\"white\",\"minorgridcolor\":\"white\",\"startlinecolor\":\"#2a3f5f\"},\"type\":\"carpet\"}],\"choropleth\":[{\"colorbar\":{\"outlinewidth\":0,\"ticks\":\"\"},\"type\":\"choropleth\"}],\"contourcarpet\":[{\"colorbar\":{\"outlinewidth\":0,\"ticks\":\"\"},\"type\":\"contourcarpet\"}],\"contour\":[{\"colorbar\":{\"outlinewidth\":0,\"ticks\":\"\"},\"colorscale\":[[0.0,\"#0d0887\"],[0.1111111111111111,\"#46039f\"],[0.2222222222222222,\"#7201a8\"],[0.3333333333333333,\"#9c179e\"],[0.4444444444444444,\"#bd3786\"],[0.5555555555555556,\"#d8576b\"],[0.6666666666666666,\"#ed7953\"],[0.7777777777777778,\"#fb9f3a\"],[0.8888888888888888,\"#fdca26\"],[1.0,\"#f0f921\"]],\"type\":\"contour\"}],\"heatmapgl\":[{\"colorbar\":{\"outlinewidth\":0,\"ticks\":\"\"},\"colorscale\":[[0.0,\"#0d0887\"],[0.1111111111111111,\"#46039f\"],[0.2222222222222222,\"#7201a8\"],[0.3333333333333333,\"#9c179e\"],[0.4444444444444444,\"#bd3786\"],[0.5555555555555556,\"#d8576b\"],[0.6666666666666666,\"#ed7953\"],[0.7777777777777778,\"#fb9f3a\"],[0.8888888888888888,\"#fdca26\"],[1.0,\"#f0f921\"]],\"type\":\"heatmapgl\"}],\"heatmap\":[{\"colorbar\":{\"outlinewidth\":0,\"ticks\":\"\"},\"colorscale\":[[0.0,\"#0d0887\"],[0.1111111111111111,\"#46039f\"],[0.2222222222222222,\"#7201a8\"],[0.3333333333333333,\"#9c179e\"],[0.4444444444444444,\"#bd3786\"],[0.5555555555555556,\"#d8576b\"],[0.6666666666666666,\"#ed7953\"],[0.7777777777777778,\"#fb9f3a\"],[0.8888888888888888,\"#fdca26\"],[1.0,\"#f0f921\"]],\"type\":\"heatmap\"}],\"histogram2dcontour\":[{\"colorbar\":{\"outlinewidth\":0,\"ticks\":\"\"},\"colorscale\":[[0.0,\"#0d0887\"],[0.1111111111111111,\"#46039f\"],[0.2222222222222222,\"#7201a8\"],[0.3333333333333333,\"#9c179e\"],[0.4444444444444444,\"#bd3786\"],[0.5555555555555556,\"#d8576b\"],[0.6666666666666666,\"#ed7953\"],[0.7777777777777778,\"#fb9f3a\"],[0.8888888888888888,\"#fdca26\"],[1.0,\"#f0f921\"]],\"type\":\"histogram2dcontour\"}],\"histogram2d\":[{\"colorbar\":{\"outlinewidth\":0,\"ticks\":\"\"},\"colorscale\":[[0.0,\"#0d0887\"],[0.1111111111111111,\"#46039f\"],[0.2222222222222222,\"#7201a8\"],[0.3333333333333333,\"#9c179e\"],[0.4444444444444444,\"#bd3786\"],[0.5555555555555556,\"#d8576b\"],[0.6666666666666666,\"#ed7953\"],[0.7777777777777778,\"#fb9f3a\"],[0.8888888888888888,\"#fdca26\"],[1.0,\"#f0f921\"]],\"type\":\"histogram2d\"}],\"histogram\":[{\"marker\":{\"pattern\":{\"fillmode\":\"overlay\",\"size\":10,\"solidity\":0.2}},\"type\":\"histogram\"}],\"mesh3d\":[{\"colorbar\":{\"outlinewidth\":0,\"ticks\":\"\"},\"type\":\"mesh3d\"}],\"parcoords\":[{\"line\":{\"colorbar\":{\"outlinewidth\":0,\"ticks\":\"\"}},\"type\":\"parcoords\"}],\"pie\":[{\"automargin\":true,\"type\":\"pie\"}],\"scatter3d\":[{\"line\":{\"colorbar\":{\"outlinewidth\":0,\"ticks\":\"\"}},\"marker\":{\"colorbar\":{\"outlinewidth\":0,\"ticks\":\"\"}},\"type\":\"scatter3d\"}],\"scattercarpet\":[{\"marker\":{\"colorbar\":{\"outlinewidth\":0,\"ticks\":\"\"}},\"type\":\"scattercarpet\"}],\"scattergeo\":[{\"marker\":{\"colorbar\":{\"outlinewidth\":0,\"ticks\":\"\"}},\"type\":\"scattergeo\"}],\"scattergl\":[{\"marker\":{\"colorbar\":{\"outlinewidth\":0,\"ticks\":\"\"}},\"type\":\"scattergl\"}],\"scattermapbox\":[{\"marker\":{\"colorbar\":{\"outlinewidth\":0,\"ticks\":\"\"}},\"type\":\"scattermapbox\"}],\"scatterpolargl\":[{\"marker\":{\"colorbar\":{\"outlinewidth\":0,\"ticks\":\"\"}},\"type\":\"scatterpolargl\"}],\"scatterpolar\":[{\"marker\":{\"colorbar\":{\"outlinewidth\":0,\"ticks\":\"\"}},\"type\":\"scatterpolar\"}],\"scatter\":[{\"fillpattern\":{\"fillmode\":\"overlay\",\"size\":10,\"solidity\":0.2},\"type\":\"scatter\"}],\"scatterternary\":[{\"marker\":{\"colorbar\":{\"outlinewidth\":0,\"ticks\":\"\"}},\"type\":\"scatterternary\"}],\"surface\":[{\"colorbar\":{\"outlinewidth\":0,\"ticks\":\"\"},\"colorscale\":[[0.0,\"#0d0887\"],[0.1111111111111111,\"#46039f\"],[0.2222222222222222,\"#7201a8\"],[0.3333333333333333,\"#9c179e\"],[0.4444444444444444,\"#bd3786\"],[0.5555555555555556,\"#d8576b\"],[0.6666666666666666,\"#ed7953\"],[0.7777777777777778,\"#fb9f3a\"],[0.8888888888888888,\"#fdca26\"],[1.0,\"#f0f921\"]],\"type\":\"surface\"}],\"table\":[{\"cells\":{\"fill\":{\"color\":\"#EBF0F8\"},\"line\":{\"color\":\"white\"}},\"header\":{\"fill\":{\"color\":\"#C8D4E3\"},\"line\":{\"color\":\"white\"}},\"type\":\"table\"}]},\"layout\":{\"annotationdefaults\":{\"arrowcolor\":\"#2a3f5f\",\"arrowhead\":0,\"arrowwidth\":1},\"autotypenumbers\":\"strict\",\"coloraxis\":{\"colorbar\":{\"outlinewidth\":0,\"ticks\":\"\"}},\"colorscale\":{\"diverging\":[[0,\"#8e0152\"],[0.1,\"#c51b7d\"],[0.2,\"#de77ae\"],[0.3,\"#f1b6da\"],[0.4,\"#fde0ef\"],[0.5,\"#f7f7f7\"],[0.6,\"#e6f5d0\"],[0.7,\"#b8e186\"],[0.8,\"#7fbc41\"],[0.9,\"#4d9221\"],[1,\"#276419\"]],\"sequential\":[[0.0,\"#0d0887\"],[0.1111111111111111,\"#46039f\"],[0.2222222222222222,\"#7201a8\"],[0.3333333333333333,\"#9c179e\"],[0.4444444444444444,\"#bd3786\"],[0.5555555555555556,\"#d8576b\"],[0.6666666666666666,\"#ed7953\"],[0.7777777777777778,\"#fb9f3a\"],[0.8888888888888888,\"#fdca26\"],[1.0,\"#f0f921\"]],\"sequentialminus\":[[0.0,\"#0d0887\"],[0.1111111111111111,\"#46039f\"],[0.2222222222222222,\"#7201a8\"],[0.3333333333333333,\"#9c179e\"],[0.4444444444444444,\"#bd3786\"],[0.5555555555555556,\"#d8576b\"],[0.6666666666666666,\"#ed7953\"],[0.7777777777777778,\"#fb9f3a\"],[0.8888888888888888,\"#fdca26\"],[1.0,\"#f0f921\"]]},\"colorway\":[\"#636efa\",\"#EF553B\",\"#00cc96\",\"#ab63fa\",\"#FFA15A\",\"#19d3f3\",\"#FF6692\",\"#B6E880\",\"#FF97FF\",\"#FECB52\"],\"font\":{\"color\":\"#2a3f5f\"},\"geo\":{\"bgcolor\":\"white\",\"lakecolor\":\"white\",\"landcolor\":\"#E5ECF6\",\"showlakes\":true,\"showland\":true,\"subunitcolor\":\"white\"},\"hoverlabel\":{\"align\":\"left\"},\"hovermode\":\"closest\",\"mapbox\":{\"style\":\"light\"},\"paper_bgcolor\":\"white\",\"plot_bgcolor\":\"#E5ECF6\",\"polar\":{\"angularaxis\":{\"gridcolor\":\"white\",\"linecolor\":\"white\",\"ticks\":\"\"},\"bgcolor\":\"#E5ECF6\",\"radialaxis\":{\"gridcolor\":\"white\",\"linecolor\":\"white\",\"ticks\":\"\"}},\"scene\":{\"xaxis\":{\"backgroundcolor\":\"#E5ECF6\",\"gridcolor\":\"white\",\"gridwidth\":2,\"linecolor\":\"white\",\"showbackground\":true,\"ticks\":\"\",\"zerolinecolor\":\"white\"},\"yaxis\":{\"backgroundcolor\":\"#E5ECF6\",\"gridcolor\":\"white\",\"gridwidth\":2,\"linecolor\":\"white\",\"showbackground\":true,\"ticks\":\"\",\"zerolinecolor\":\"white\"},\"zaxis\":{\"backgroundcolor\":\"#E5ECF6\",\"gridcolor\":\"white\",\"gridwidth\":2,\"linecolor\":\"white\",\"showbackground\":true,\"ticks\":\"\",\"zerolinecolor\":\"white\"}},\"shapedefaults\":{\"line\":{\"color\":\"#2a3f5f\"}},\"ternary\":{\"aaxis\":{\"gridcolor\":\"white\",\"linecolor\":\"white\",\"ticks\":\"\"},\"baxis\":{\"gridcolor\":\"white\",\"linecolor\":\"white\",\"ticks\":\"\"},\"bgcolor\":\"#E5ECF6\",\"caxis\":{\"gridcolor\":\"white\",\"linecolor\":\"white\",\"ticks\":\"\"}},\"title\":{\"x\":0.05},\"xaxis\":{\"automargin\":true,\"gridcolor\":\"white\",\"linecolor\":\"white\",\"ticks\":\"\",\"title\":{\"standoff\":15},\"zerolinecolor\":\"white\",\"zerolinewidth\":2},\"yaxis\":{\"automargin\":true,\"gridcolor\":\"white\",\"linecolor\":\"white\",\"ticks\":\"\",\"title\":{\"standoff\":15},\"zerolinecolor\":\"white\",\"zerolinewidth\":2}}},\"title\":{\"font\":{\"color\":\"#4D5663\"}},\"xaxis\":{\"gridcolor\":\"#E1E5ED\",\"showgrid\":true,\"tickfont\":{\"color\":\"#4D5663\"},\"title\":{\"font\":{\"color\":\"#4D5663\"},\"text\":\"\"},\"zerolinecolor\":\"#E1E5ED\"},\"yaxis\":{\"gridcolor\":\"#E1E5ED\",\"showgrid\":true,\"tickfont\":{\"color\":\"#4D5663\"},\"title\":{\"font\":{\"color\":\"#4D5663\"},\"text\":\"\"},\"zerolinecolor\":\"#E1E5ED\"}},                        {\"showLink\": true, \"linkText\": \"Export to plot.ly\", \"plotlyServerURL\": \"https://plot.ly\", \"responsive\": true}                    ).then(function(){\n",
       "                            \n",
       "var gd = document.getElementById('39f74099-7ad3-4b65-b80f-e61ac6f17c73');\n",
       "var x = new MutationObserver(function (mutations, observer) {{\n",
       "        var display = window.getComputedStyle(gd).display;\n",
       "        if (!display || display === 'none') {{\n",
       "            console.log([gd, 'removed!']);\n",
       "            Plotly.purge(gd);\n",
       "            observer.disconnect();\n",
       "        }}\n",
       "}});\n",
       "\n",
       "// Listen for the removal of the full notebook cells\n",
       "var notebookContainer = gd.closest('#notebook-container');\n",
       "if (notebookContainer) {{\n",
       "    x.observe(notebookContainer, {childList: true});\n",
       "}}\n",
       "\n",
       "// Listen for the clearing of the current output cell\n",
       "var outputEl = gd.closest('.output');\n",
       "if (outputEl) {{\n",
       "    x.observe(outputEl, {childList: true});\n",
       "}}\n",
       "\n",
       "                        })                };                });            </script>        </div>"
      ]
     },
     "metadata": {},
     "output_type": "display_data"
    }
   ],
   "source": [
    "df['A'].iplot(kind='hist', bins=30)"
   ]
  },
  {
   "cell_type": "code",
   "execution_count": 32,
   "id": "453def71-6ef1-4497-8818-9b5e67afffc3",
   "metadata": {},
   "outputs": [
    {
     "name": "stderr",
     "output_type": "stream",
     "text": [
      "C:\\Users\\jigya\\AppData\\Local\\Programs\\Python\\Python312\\Lib\\site-packages\\cufflinks\\plotlytools.py:848: FutureWarning:\n",
      "\n",
      "Series.__getitem__ treating keys as positions is deprecated. In a future version, integer keys will always be treated as labels (consistent with DataFrame behavior). To access a value by position, use `ser.iloc[pos]`\n",
      "\n"
     ]
    },
    {
     "ename": "AttributeError",
     "evalue": "module 'pandas' has no attribute 'np'",
     "output_type": "error",
     "traceback": [
      "\u001b[1;31m---------------------------------------------------------------------------\u001b[0m",
      "\u001b[1;31mAttributeError\u001b[0m                            Traceback (most recent call last)",
      "Cell \u001b[1;32mIn[32], line 1\u001b[0m\n\u001b[1;32m----> 1\u001b[0m \u001b[43mdf\u001b[49m\u001b[43m[\u001b[49m\u001b[43m[\u001b[49m\u001b[38;5;124;43m'\u001b[39;49m\u001b[38;5;124;43mA\u001b[39;49m\u001b[38;5;124;43m'\u001b[39;49m\u001b[43m,\u001b[49m\u001b[43m \u001b[49m\u001b[38;5;124;43m'\u001b[39;49m\u001b[38;5;124;43mB\u001b[39;49m\u001b[38;5;124;43m'\u001b[39;49m\u001b[43m]\u001b[49m\u001b[43m]\u001b[49m\u001b[38;5;241;43m.\u001b[39;49m\u001b[43miplot\u001b[49m\u001b[43m(\u001b[49m\u001b[43mkind\u001b[49m\u001b[38;5;241;43m=\u001b[39;49m\u001b[38;5;124;43m'\u001b[39;49m\u001b[38;5;124;43mspread\u001b[39;49m\u001b[38;5;124;43m'\u001b[39;49m\u001b[43m)\u001b[49m\n",
      "File \u001b[1;32m~\\AppData\\Local\\Programs\\Python\\Python312\\Lib\\site-packages\\cufflinks\\plotlytools.py:849\u001b[0m, in \u001b[0;36m_iplot\u001b[1;34m(self, kind, data, layout, filename, sharing, title, xTitle, yTitle, zTitle, theme, colors, colorscale, fill, width, dash, mode, interpolation, symbol, size, barmode, sortbars, bargap, bargroupgap, bins, histnorm, histfunc, orientation, boxpoints, annotations, keys, bestfit, bestfit_colors, mean, mean_colors, categories, x, y, z, text, gridcolor, zerolinecolor, margin, labels, values, secondary_y, secondary_y_title, subplots, shape, error_x, error_y, error_type, locations, lon, lat, asFrame, asDates, asFigure, asImage, dimensions, asPlot, asUrl, online, **kwargs)\u001b[0m\n\u001b[0;32m    847\u001b[0m \u001b[38;5;28;01mif\u001b[39;00m kind\u001b[38;5;241m==\u001b[39m\u001b[38;5;124m'\u001b[39m\u001b[38;5;124mspread\u001b[39m\u001b[38;5;124m'\u001b[39m:\n\u001b[0;32m    848\u001b[0m \ttrace\u001b[38;5;241m=\u001b[39m\u001b[38;5;28mself\u001b[39m\u001b[38;5;241m.\u001b[39mapply(\u001b[38;5;28;01mlambda\u001b[39;00m x:x[\u001b[38;5;241m0\u001b[39m]\u001b[38;5;241m-\u001b[39mx[\u001b[38;5;241m1\u001b[39m],axis\u001b[38;5;241m=\u001b[39m\u001b[38;5;241m1\u001b[39m)\n\u001b[1;32m--> 849\u001b[0m \tpositive\u001b[38;5;241m=\u001b[39m\u001b[43mtrace\u001b[49m\u001b[38;5;241;43m.\u001b[39;49m\u001b[43mapply\u001b[49m\u001b[43m(\u001b[49m\u001b[38;5;28;43;01mlambda\u001b[39;49;00m\u001b[43m \u001b[49m\u001b[43mx\u001b[49m\u001b[43m:\u001b[49m\u001b[43mx\u001b[49m\u001b[43m \u001b[49m\u001b[38;5;28;43;01mif\u001b[39;49;00m\u001b[43m \u001b[49m\u001b[43mx\u001b[49m\u001b[38;5;241;43m>\u001b[39;49m\u001b[38;5;241;43m=\u001b[39;49m\u001b[38;5;241;43m0\u001b[39;49m\u001b[43m \u001b[49m\u001b[38;5;28;43;01melse\u001b[39;49;00m\u001b[43m \u001b[49m\u001b[43mpd\u001b[49m\u001b[38;5;241;43m.\u001b[39;49m\u001b[43mnp\u001b[49m\u001b[38;5;241;43m.\u001b[39;49m\u001b[43mnan\u001b[49m\u001b[43m)\u001b[49m\n\u001b[0;32m    850\u001b[0m \tnegative\u001b[38;5;241m=\u001b[39mtrace\u001b[38;5;241m.\u001b[39mapply(\u001b[38;5;28;01mlambda\u001b[39;00m x:x \u001b[38;5;28;01mif\u001b[39;00m x\u001b[38;5;241m<\u001b[39m\u001b[38;5;241m0\u001b[39m \u001b[38;5;28;01melse\u001b[39;00m pd\u001b[38;5;241m.\u001b[39mnp\u001b[38;5;241m.\u001b[39mnan)\n\u001b[0;32m    851\u001b[0m \ttrace\u001b[38;5;241m=\u001b[39mpd\u001b[38;5;241m.\u001b[39mDataFrame({\u001b[38;5;124m'\u001b[39m\u001b[38;5;124mpositive\u001b[39m\u001b[38;5;124m'\u001b[39m:positive,\u001b[38;5;124m'\u001b[39m\u001b[38;5;124mnegative\u001b[39m\u001b[38;5;124m'\u001b[39m:negative})\n",
      "File \u001b[1;32m~\\AppData\\Local\\Programs\\Python\\Python312\\Lib\\site-packages\\pandas\\core\\series.py:4924\u001b[0m, in \u001b[0;36mSeries.apply\u001b[1;34m(self, func, convert_dtype, args, by_row, **kwargs)\u001b[0m\n\u001b[0;32m   4789\u001b[0m \u001b[38;5;28;01mdef\u001b[39;00m \u001b[38;5;21mapply\u001b[39m(\n\u001b[0;32m   4790\u001b[0m     \u001b[38;5;28mself\u001b[39m,\n\u001b[0;32m   4791\u001b[0m     func: AggFuncType,\n\u001b[1;32m   (...)\u001b[0m\n\u001b[0;32m   4796\u001b[0m     \u001b[38;5;241m*\u001b[39m\u001b[38;5;241m*\u001b[39mkwargs,\n\u001b[0;32m   4797\u001b[0m ) \u001b[38;5;241m-\u001b[39m\u001b[38;5;241m>\u001b[39m DataFrame \u001b[38;5;241m|\u001b[39m Series:\n\u001b[0;32m   4798\u001b[0m \u001b[38;5;250m    \u001b[39m\u001b[38;5;124;03m\"\"\"\u001b[39;00m\n\u001b[0;32m   4799\u001b[0m \u001b[38;5;124;03m    Invoke function on values of Series.\u001b[39;00m\n\u001b[0;32m   4800\u001b[0m \n\u001b[1;32m   (...)\u001b[0m\n\u001b[0;32m   4915\u001b[0m \u001b[38;5;124;03m    dtype: float64\u001b[39;00m\n\u001b[0;32m   4916\u001b[0m \u001b[38;5;124;03m    \"\"\"\u001b[39;00m\n\u001b[0;32m   4917\u001b[0m     \u001b[38;5;28;01mreturn\u001b[39;00m \u001b[43mSeriesApply\u001b[49m\u001b[43m(\u001b[49m\n\u001b[0;32m   4918\u001b[0m \u001b[43m        \u001b[49m\u001b[38;5;28;43mself\u001b[39;49m\u001b[43m,\u001b[49m\n\u001b[0;32m   4919\u001b[0m \u001b[43m        \u001b[49m\u001b[43mfunc\u001b[49m\u001b[43m,\u001b[49m\n\u001b[0;32m   4920\u001b[0m \u001b[43m        \u001b[49m\u001b[43mconvert_dtype\u001b[49m\u001b[38;5;241;43m=\u001b[39;49m\u001b[43mconvert_dtype\u001b[49m\u001b[43m,\u001b[49m\n\u001b[0;32m   4921\u001b[0m \u001b[43m        \u001b[49m\u001b[43mby_row\u001b[49m\u001b[38;5;241;43m=\u001b[39;49m\u001b[43mby_row\u001b[49m\u001b[43m,\u001b[49m\n\u001b[0;32m   4922\u001b[0m \u001b[43m        \u001b[49m\u001b[43margs\u001b[49m\u001b[38;5;241;43m=\u001b[39;49m\u001b[43margs\u001b[49m\u001b[43m,\u001b[49m\n\u001b[0;32m   4923\u001b[0m \u001b[43m        \u001b[49m\u001b[43mkwargs\u001b[49m\u001b[38;5;241;43m=\u001b[39;49m\u001b[43mkwargs\u001b[49m\u001b[43m,\u001b[49m\n\u001b[1;32m-> 4924\u001b[0m \u001b[43m    \u001b[49m\u001b[43m)\u001b[49m\u001b[38;5;241;43m.\u001b[39;49m\u001b[43mapply\u001b[49m\u001b[43m(\u001b[49m\u001b[43m)\u001b[49m\n",
      "File \u001b[1;32m~\\AppData\\Local\\Programs\\Python\\Python312\\Lib\\site-packages\\pandas\\core\\apply.py:1427\u001b[0m, in \u001b[0;36mSeriesApply.apply\u001b[1;34m(self)\u001b[0m\n\u001b[0;32m   1424\u001b[0m     \u001b[38;5;28;01mreturn\u001b[39;00m \u001b[38;5;28mself\u001b[39m\u001b[38;5;241m.\u001b[39mapply_compat()\n\u001b[0;32m   1426\u001b[0m \u001b[38;5;66;03m# self.func is Callable\u001b[39;00m\n\u001b[1;32m-> 1427\u001b[0m \u001b[38;5;28;01mreturn\u001b[39;00m \u001b[38;5;28;43mself\u001b[39;49m\u001b[38;5;241;43m.\u001b[39;49m\u001b[43mapply_standard\u001b[49m\u001b[43m(\u001b[49m\u001b[43m)\u001b[49m\n",
      "File \u001b[1;32m~\\AppData\\Local\\Programs\\Python\\Python312\\Lib\\site-packages\\pandas\\core\\apply.py:1507\u001b[0m, in \u001b[0;36mSeriesApply.apply_standard\u001b[1;34m(self)\u001b[0m\n\u001b[0;32m   1501\u001b[0m \u001b[38;5;66;03m# row-wise access\u001b[39;00m\n\u001b[0;32m   1502\u001b[0m \u001b[38;5;66;03m# apply doesn't have a `na_action` keyword and for backward compat reasons\u001b[39;00m\n\u001b[0;32m   1503\u001b[0m \u001b[38;5;66;03m# we need to give `na_action=\"ignore\"` for categorical data.\u001b[39;00m\n\u001b[0;32m   1504\u001b[0m \u001b[38;5;66;03m# TODO: remove the `na_action=\"ignore\"` when that default has been changed in\u001b[39;00m\n\u001b[0;32m   1505\u001b[0m \u001b[38;5;66;03m#  Categorical (GH51645).\u001b[39;00m\n\u001b[0;32m   1506\u001b[0m action \u001b[38;5;241m=\u001b[39m \u001b[38;5;124m\"\u001b[39m\u001b[38;5;124mignore\u001b[39m\u001b[38;5;124m\"\u001b[39m \u001b[38;5;28;01mif\u001b[39;00m \u001b[38;5;28misinstance\u001b[39m(obj\u001b[38;5;241m.\u001b[39mdtype, CategoricalDtype) \u001b[38;5;28;01melse\u001b[39;00m \u001b[38;5;28;01mNone\u001b[39;00m\n\u001b[1;32m-> 1507\u001b[0m mapped \u001b[38;5;241m=\u001b[39m \u001b[43mobj\u001b[49m\u001b[38;5;241;43m.\u001b[39;49m\u001b[43m_map_values\u001b[49m\u001b[43m(\u001b[49m\n\u001b[0;32m   1508\u001b[0m \u001b[43m    \u001b[49m\u001b[43mmapper\u001b[49m\u001b[38;5;241;43m=\u001b[39;49m\u001b[43mcurried\u001b[49m\u001b[43m,\u001b[49m\u001b[43m \u001b[49m\u001b[43mna_action\u001b[49m\u001b[38;5;241;43m=\u001b[39;49m\u001b[43maction\u001b[49m\u001b[43m,\u001b[49m\u001b[43m \u001b[49m\u001b[43mconvert\u001b[49m\u001b[38;5;241;43m=\u001b[39;49m\u001b[38;5;28;43mself\u001b[39;49m\u001b[38;5;241;43m.\u001b[39;49m\u001b[43mconvert_dtype\u001b[49m\n\u001b[0;32m   1509\u001b[0m \u001b[43m\u001b[49m\u001b[43m)\u001b[49m\n\u001b[0;32m   1511\u001b[0m \u001b[38;5;28;01mif\u001b[39;00m \u001b[38;5;28mlen\u001b[39m(mapped) \u001b[38;5;129;01mand\u001b[39;00m \u001b[38;5;28misinstance\u001b[39m(mapped[\u001b[38;5;241m0\u001b[39m], ABCSeries):\n\u001b[0;32m   1512\u001b[0m     \u001b[38;5;66;03m# GH#43986 Need to do list(mapped) in order to get treated as nested\u001b[39;00m\n\u001b[0;32m   1513\u001b[0m     \u001b[38;5;66;03m#  See also GH#25959 regarding EA support\u001b[39;00m\n\u001b[0;32m   1514\u001b[0m     \u001b[38;5;28;01mreturn\u001b[39;00m obj\u001b[38;5;241m.\u001b[39m_constructor_expanddim(\u001b[38;5;28mlist\u001b[39m(mapped), index\u001b[38;5;241m=\u001b[39mobj\u001b[38;5;241m.\u001b[39mindex)\n",
      "File \u001b[1;32m~\\AppData\\Local\\Programs\\Python\\Python312\\Lib\\site-packages\\pandas\\core\\base.py:921\u001b[0m, in \u001b[0;36mIndexOpsMixin._map_values\u001b[1;34m(self, mapper, na_action, convert)\u001b[0m\n\u001b[0;32m    918\u001b[0m \u001b[38;5;28;01mif\u001b[39;00m \u001b[38;5;28misinstance\u001b[39m(arr, ExtensionArray):\n\u001b[0;32m    919\u001b[0m     \u001b[38;5;28;01mreturn\u001b[39;00m arr\u001b[38;5;241m.\u001b[39mmap(mapper, na_action\u001b[38;5;241m=\u001b[39mna_action)\n\u001b[1;32m--> 921\u001b[0m \u001b[38;5;28;01mreturn\u001b[39;00m \u001b[43malgorithms\u001b[49m\u001b[38;5;241;43m.\u001b[39;49m\u001b[43mmap_array\u001b[49m\u001b[43m(\u001b[49m\u001b[43marr\u001b[49m\u001b[43m,\u001b[49m\u001b[43m \u001b[49m\u001b[43mmapper\u001b[49m\u001b[43m,\u001b[49m\u001b[43m \u001b[49m\u001b[43mna_action\u001b[49m\u001b[38;5;241;43m=\u001b[39;49m\u001b[43mna_action\u001b[49m\u001b[43m,\u001b[49m\u001b[43m \u001b[49m\u001b[43mconvert\u001b[49m\u001b[38;5;241;43m=\u001b[39;49m\u001b[43mconvert\u001b[49m\u001b[43m)\u001b[49m\n",
      "File \u001b[1;32m~\\AppData\\Local\\Programs\\Python\\Python312\\Lib\\site-packages\\pandas\\core\\algorithms.py:1743\u001b[0m, in \u001b[0;36mmap_array\u001b[1;34m(arr, mapper, na_action, convert)\u001b[0m\n\u001b[0;32m   1741\u001b[0m values \u001b[38;5;241m=\u001b[39m arr\u001b[38;5;241m.\u001b[39mastype(\u001b[38;5;28mobject\u001b[39m, copy\u001b[38;5;241m=\u001b[39m\u001b[38;5;28;01mFalse\u001b[39;00m)\n\u001b[0;32m   1742\u001b[0m \u001b[38;5;28;01mif\u001b[39;00m na_action \u001b[38;5;129;01mis\u001b[39;00m \u001b[38;5;28;01mNone\u001b[39;00m:\n\u001b[1;32m-> 1743\u001b[0m     \u001b[38;5;28;01mreturn\u001b[39;00m \u001b[43mlib\u001b[49m\u001b[38;5;241;43m.\u001b[39;49m\u001b[43mmap_infer\u001b[49m\u001b[43m(\u001b[49m\u001b[43mvalues\u001b[49m\u001b[43m,\u001b[49m\u001b[43m \u001b[49m\u001b[43mmapper\u001b[49m\u001b[43m,\u001b[49m\u001b[43m \u001b[49m\u001b[43mconvert\u001b[49m\u001b[38;5;241;43m=\u001b[39;49m\u001b[43mconvert\u001b[49m\u001b[43m)\u001b[49m\n\u001b[0;32m   1744\u001b[0m \u001b[38;5;28;01melse\u001b[39;00m:\n\u001b[0;32m   1745\u001b[0m     \u001b[38;5;28;01mreturn\u001b[39;00m lib\u001b[38;5;241m.\u001b[39mmap_infer_mask(\n\u001b[0;32m   1746\u001b[0m         values, mapper, mask\u001b[38;5;241m=\u001b[39misna(values)\u001b[38;5;241m.\u001b[39mview(np\u001b[38;5;241m.\u001b[39muint8), convert\u001b[38;5;241m=\u001b[39mconvert\n\u001b[0;32m   1747\u001b[0m     )\n",
      "File \u001b[1;32mlib.pyx:2972\u001b[0m, in \u001b[0;36mpandas._libs.lib.map_infer\u001b[1;34m()\u001b[0m\n",
      "File \u001b[1;32m~\\AppData\\Local\\Programs\\Python\\Python312\\Lib\\site-packages\\cufflinks\\plotlytools.py:849\u001b[0m, in \u001b[0;36m_iplot.<locals>.<lambda>\u001b[1;34m(x)\u001b[0m\n\u001b[0;32m    847\u001b[0m \u001b[38;5;28;01mif\u001b[39;00m kind\u001b[38;5;241m==\u001b[39m\u001b[38;5;124m'\u001b[39m\u001b[38;5;124mspread\u001b[39m\u001b[38;5;124m'\u001b[39m:\n\u001b[0;32m    848\u001b[0m \ttrace\u001b[38;5;241m=\u001b[39m\u001b[38;5;28mself\u001b[39m\u001b[38;5;241m.\u001b[39mapply(\u001b[38;5;28;01mlambda\u001b[39;00m x:x[\u001b[38;5;241m0\u001b[39m]\u001b[38;5;241m-\u001b[39mx[\u001b[38;5;241m1\u001b[39m],axis\u001b[38;5;241m=\u001b[39m\u001b[38;5;241m1\u001b[39m)\n\u001b[1;32m--> 849\u001b[0m \tpositive\u001b[38;5;241m=\u001b[39mtrace\u001b[38;5;241m.\u001b[39mapply(\u001b[38;5;28;01mlambda\u001b[39;00m x:x \u001b[38;5;28;01mif\u001b[39;00m x\u001b[38;5;241m>\u001b[39m\u001b[38;5;241m=\u001b[39m\u001b[38;5;241m0\u001b[39m \u001b[38;5;28;01melse\u001b[39;00m \u001b[43mpd\u001b[49m\u001b[38;5;241;43m.\u001b[39;49m\u001b[43mnp\u001b[49m\u001b[38;5;241m.\u001b[39mnan)\n\u001b[0;32m    850\u001b[0m \tnegative\u001b[38;5;241m=\u001b[39mtrace\u001b[38;5;241m.\u001b[39mapply(\u001b[38;5;28;01mlambda\u001b[39;00m x:x \u001b[38;5;28;01mif\u001b[39;00m x\u001b[38;5;241m<\u001b[39m\u001b[38;5;241m0\u001b[39m \u001b[38;5;28;01melse\u001b[39;00m pd\u001b[38;5;241m.\u001b[39mnp\u001b[38;5;241m.\u001b[39mnan)\n\u001b[0;32m    851\u001b[0m \ttrace\u001b[38;5;241m=\u001b[39mpd\u001b[38;5;241m.\u001b[39mDataFrame({\u001b[38;5;124m'\u001b[39m\u001b[38;5;124mpositive\u001b[39m\u001b[38;5;124m'\u001b[39m:positive,\u001b[38;5;124m'\u001b[39m\u001b[38;5;124mnegative\u001b[39m\u001b[38;5;124m'\u001b[39m:negative})\n",
      "\u001b[1;31mAttributeError\u001b[0m: module 'pandas' has no attribute 'np'"
     ]
    }
   ],
   "source": [
    "df[['A', 'B']].iplot(kind='spread')"
   ]
  },
  {
   "cell_type": "code",
   "execution_count": 33,
   "id": "74af325f-d5bc-45ab-9b35-e4c006b601b4",
   "metadata": {},
   "outputs": [
    {
     "data": {
      "application/vnd.plotly.v1+json": {
       "config": {
        "linkText": "Export to plot.ly",
        "plotlyServerURL": "https://plot.ly",
        "showLink": true
       },
       "data": [
        {
         "histfunc": "count",
         "histnorm": "",
         "marker": {
          "color": "rgba(255, 153, 51, 1.0)",
          "line": {
           "color": "#4D5663",
           "width": 1.3
          }
         },
         "name": "A",
         "nbinsx": 10,
         "opacity": 0.8,
         "orientation": "v",
         "type": "histogram",
         "x": [
          -1.0073261729466096,
          -0.301826627754829,
          -1.3258091049478036,
          -0.6744000156450667,
          -0.26743728287844554,
          -1.492467191205314,
          1.228485669874821,
          0.297631605931466,
          -0.007706474654075611,
          0.4801861273195761,
          -0.3141499344439157,
          -0.9278512211869179,
          1.1482870349654182,
          0.4914376718515416,
          -1.1744033684924902,
          -0.5029865748358517,
          0.9858637581859565,
          0.592217006629086,
          -0.3340518992951397,
          0.46130455603002335,
          0.5027287132393441,
          -1.4998800616878651,
          -0.7486943826550974,
          -0.5516141262843307,
          0.5140648075914177,
          1.5044846136251004,
          -0.6611344152448209,
          0.7563135937797785,
          -0.11066302392048939,
          0.8494163527828413,
          0.09435973167290049,
          0.49818356683625065,
          -0.13176947758476545,
          1.4207872824673087,
          -0.2621115715724141,
          0.21947357321909564,
          -0.3480897670543381,
          0.04149491334806047,
          0.07943000908974779,
          -0.07411215110207361,
          0.2594889463561222,
          -0.47663631782032767,
          0.3242467115656374,
          1.8302298619199808,
          -1.9432368115664143,
          -0.2189352858233352,
          1.846359866280298,
          0.876058830600904,
          2.6915728119078244,
          0.2177170690031045,
          -0.08596250153087334,
          -0.8456288866623545,
          -0.40007697373326406,
          -0.6968622498103859,
          -0.39337374166795647,
          -0.681101123595146,
          0.0316259152663032,
          -0.4427302542551622,
          0.5537435906782517,
          -1.2584298288032274,
          -1.046099839514856,
          -1.174905115257565,
          -0.07866309242507306,
          -0.12903207786603793,
          0.7643887845613722,
          0.3799179997967043,
          -1.7282208840960858,
          1.599006059315004,
          0.28864320933351995,
          0.649047111488827,
          -0.6944742339116875,
          0.06635269835455525,
          -0.03709222459089022,
          0.4747444093165104,
          1.189327433452486,
          -0.3486312644379332,
          -0.985907451363722,
          0.47718682206045304,
          0.48785195488853017,
          -0.09340214361994252,
          0.5838582440954743,
          0.6029501578085649,
          -1.2722812548404407,
          1.0196714702003056,
          -1.5417150851492933,
          0.30687213822907755,
          -0.7977093547888335,
          0.9175863999124476,
          -1.9743768641012278,
          1.382258804306761,
          -0.09241151643597145,
          -1.4804714808711796,
          0.3791475926337954,
          0.6888805927973765,
          0.13574077573200902,
          -0.5470343091362391,
          -1.3071902922310739,
          2.435841976178969,
          -0.12555703688980122,
          0.13282460508933802
         ],
         "xaxis": "x",
         "yaxis": "y"
        },
        {
         "line": {
          "color": "rgba(128, 128, 128, 1.0)",
          "dash": "solid",
          "shape": "linear",
          "width": 1.3
         },
         "marker": {
          "size": 2,
          "symbol": "circle"
         },
         "mode": "markers",
         "name": "A",
         "text": "",
         "type": "scatter",
         "x": [
          -0.18779694634083663,
          -0.9768747777936239,
          -0.9617060813443279,
          0.197065643612768,
          1.340929397816748,
          -1.3232533615754345,
          -2.0259340620314905,
          1.3720424743423618,
          0.6520890648028659,
          -0.41932683948669475,
          -1.363335162205523,
          -0.8553587408318004,
          -0.7394635951661027,
          0.25100966446739315,
          0.46718515105682107,
          -0.14146017827537008,
          -0.8279070301033035,
          -1.2119684379998945,
          0.20379101308495634,
          -0.9806731774649406,
          -0.5065649028838257,
          0.2810541046395991,
          -0.31782190707209146,
          -1.555986660814328,
          0.7662497570438935,
          -0.9369888348926171,
          0.27703325083280234,
          -0.6598593028247899,
          -0.9449459439451559,
          1.240520266816322,
          1.4264679639399598,
          -1.1730627067184463,
          -1.5066605928163657,
          0.8353550894476148,
          1.4982801480009753,
          0.8319700031342894,
          -1.1224839719439021,
          1.1185069740427773,
          -0.7614187418957616,
          0.5155454754170532,
          -0.34313811507216047,
          -0.5414476086799445,
          -1.112452714008785,
          0.7326274817406409,
          -0.5943387925000364,
          -0.4768340115793844,
          -1.3461081871655403,
          -0.12933353067823591,
          -0.40297665230636653,
          0.006557246081532544,
          1.3759861896026329,
          0.8846754036912591,
          0.09002571983935631,
          -1.2988629551569582,
          -0.029904874246396315,
          -0.42125574952617945,
          -0.8341864428969682,
          0.7529585537739358,
          -0.7075920400841483,
          -2.1632808308173335,
          1.7443130641008164,
          -0.38944158912883836,
          0.21387131131547868,
          -0.0633731793682945,
          -1.1337636365715162,
          -1.2983826748255411,
          0.20214958039855968,
          0.7709008558343915,
          0.6403445108383367,
          1.4424670532120223,
          0.24946478264779043,
          -0.046289137694677,
          -0.4934786116564103,
          -1.4398876714346023,
          0.31282870406445396,
          -1.423669106617544,
          0.45553142449835166,
          -0.16737708318922284,
          -0.30008922482127587,
          1.909902496996236,
          1.8619771416593967,
          0.09810651617958872,
          0.18514539299598032,
          0.5998217990174387,
          1.0632358038761172,
          -0.5620680822496272,
          0.7183843577275988,
          -1.9999902663899565,
          1.0166886446016847,
          0.2155427008896977,
          -0.7327144551915384,
          0.4835586454875864,
          -0.2782704871827044,
          0.001205405455120271,
          1.1669882507631362,
          -1.6734428564239001,
          -0.5234730162476214,
          -0.13811272513660197,
          0.6254559955851808,
          0.6580416784041457
         ],
         "xaxis": "x2",
         "y": [
          -1.0073261729466096,
          -0.301826627754829,
          -1.3258091049478036,
          -0.6744000156450667,
          -0.26743728287844554,
          -1.492467191205314,
          1.228485669874821,
          0.297631605931466,
          -0.007706474654075611,
          0.4801861273195761,
          -0.3141499344439157,
          -0.9278512211869179,
          1.1482870349654182,
          0.4914376718515416,
          -1.1744033684924902,
          -0.5029865748358517,
          0.9858637581859565,
          0.592217006629086,
          -0.3340518992951397,
          0.46130455603002335,
          0.5027287132393441,
          -1.4998800616878651,
          -0.7486943826550974,
          -0.5516141262843307,
          0.5140648075914177,
          1.5044846136251004,
          -0.6611344152448209,
          0.7563135937797785,
          -0.11066302392048939,
          0.8494163527828413,
          0.09435973167290049,
          0.49818356683625065,
          -0.13176947758476545,
          1.4207872824673087,
          -0.2621115715724141,
          0.21947357321909564,
          -0.3480897670543381,
          0.04149491334806047,
          0.07943000908974779,
          -0.07411215110207361,
          0.2594889463561222,
          -0.47663631782032767,
          0.3242467115656374,
          1.8302298619199808,
          -1.9432368115664143,
          -0.2189352858233352,
          1.846359866280298,
          0.876058830600904,
          2.6915728119078244,
          0.2177170690031045,
          -0.08596250153087334,
          -0.8456288866623545,
          -0.40007697373326406,
          -0.6968622498103859,
          -0.39337374166795647,
          -0.681101123595146,
          0.0316259152663032,
          -0.4427302542551622,
          0.5537435906782517,
          -1.2584298288032274,
          -1.046099839514856,
          -1.174905115257565,
          -0.07866309242507306,
          -0.12903207786603793,
          0.7643887845613722,
          0.3799179997967043,
          -1.7282208840960858,
          1.599006059315004,
          0.28864320933351995,
          0.649047111488827,
          -0.6944742339116875,
          0.06635269835455525,
          -0.03709222459089022,
          0.4747444093165104,
          1.189327433452486,
          -0.3486312644379332,
          -0.985907451363722,
          0.47718682206045304,
          0.48785195488853017,
          -0.09340214361994252,
          0.5838582440954743,
          0.6029501578085649,
          -1.2722812548404407,
          1.0196714702003056,
          -1.5417150851492933,
          0.30687213822907755,
          -0.7977093547888335,
          0.9175863999124476,
          -1.9743768641012278,
          1.382258804306761,
          -0.09241151643597145,
          -1.4804714808711796,
          0.3791475926337954,
          0.6888805927973765,
          0.13574077573200902,
          -0.5470343091362391,
          -1.3071902922310739,
          2.435841976178969,
          -0.12555703688980122,
          0.13282460508933802
         ],
         "yaxis": "y2"
        },
        {
         "line": {
          "color": "rgba(128, 128, 128, 1.0)",
          "dash": "solid",
          "shape": "linear",
          "width": 1.3
         },
         "marker": {
          "size": 2,
          "symbol": "circle"
         },
         "mode": "markers",
         "name": "A",
         "text": "",
         "type": "scatter",
         "x": [
          0.6660146560201892,
          0.5245301219101601,
          0.43382115747247946,
          0.8922340331365296,
          0.8641193282139618,
          -0.8518098206905238,
          0.18674029589743224,
          -0.014966937815831102,
          0.8551665114170287,
          0.8033261909999732,
          0.7897675971271274,
          1.157613005222821,
          0.5768556584854428,
          0.09813920891181775,
          -0.0944376339307584,
          1.3464222806889485,
          0.11846229120565024,
          -0.009303944483732791,
          1.231058845983251,
          2.2088575509275388,
          -0.5073938218683697,
          0.2556528001810601,
          -0.33435944939541534,
          -0.26933313547809634,
          -0.2399048498378512,
          0.2977345355677345,
          1.0401035561278884,
          -0.5821201256028381,
          0.7723124656962943,
          0.5125797344957835,
          -0.013627234680034723,
          -0.780425103771722,
          -0.11937830807855235,
          -1.509037019591643,
          1.564078622891511,
          2.102246836330988,
          0.5793156107984813,
          -0.3065155403892706,
          0.06770748488154607,
          1.347588081700279,
          0.12928862811571487,
          0.5883049998270433,
          -0.036559080202275024,
          -0.9130238681804977,
          -1.5333996429703753,
          -0.14377471822498186,
          -0.5504419759634435,
          -1.5401212296701923,
          -1.8433989526979813,
          -0.583256548398268,
          0.32345071378172074,
          0.38295802563406856,
          -0.056606779498337347,
          0.8107134398157455,
          0.9601107970202513,
          -1.5712034070309444,
          0.16131022295292374,
          -0.8010373423945429,
          0.4902610871771294,
          -0.11670838307325197,
          -1.1104100431849937,
          0.46191709144271115,
          1.0787446245295178,
          0.1440328540082415,
          0.6524455869633207,
          0.6695182330624644,
          -0.8741455985258808,
          0.054670067158501916,
          1.906599426857935,
          1.1270859571613916,
          -1.7572582737086777,
          -0.29063767269565344,
          -0.056676472901348085,
          0.40500520904624226,
          0.7672363718859002,
          0.8323565380863586,
          0.40169683772101256,
          -1.104880019485082,
          0.49044070982808574,
          -1.5181676326203275,
          0.35957198183196376,
          0.8312408765990674,
          -0.8063142176087974,
          -0.20880199080181536,
          0.5325485848875602,
          -0.5584023159513228,
          2.0180821936843527,
          0.9407008534666642,
          -0.5193374212520715,
          -1.8557339657719096,
          -0.14640750311683007,
          0.9623322966157689,
          1.568791046309809,
          -1.3142857595514221,
          -0.3460336058002607,
          -1.6696987761631563,
          1.0667422218903113,
          -0.8842207201397441,
          -0.2705983021728778,
          0.438881212106342
         ],
         "xaxis": "x3",
         "y": [
          -1.0073261729466096,
          -0.301826627754829,
          -1.3258091049478036,
          -0.6744000156450667,
          -0.26743728287844554,
          -1.492467191205314,
          1.228485669874821,
          0.297631605931466,
          -0.007706474654075611,
          0.4801861273195761,
          -0.3141499344439157,
          -0.9278512211869179,
          1.1482870349654182,
          0.4914376718515416,
          -1.1744033684924902,
          -0.5029865748358517,
          0.9858637581859565,
          0.592217006629086,
          -0.3340518992951397,
          0.46130455603002335,
          0.5027287132393441,
          -1.4998800616878651,
          -0.7486943826550974,
          -0.5516141262843307,
          0.5140648075914177,
          1.5044846136251004,
          -0.6611344152448209,
          0.7563135937797785,
          -0.11066302392048939,
          0.8494163527828413,
          0.09435973167290049,
          0.49818356683625065,
          -0.13176947758476545,
          1.4207872824673087,
          -0.2621115715724141,
          0.21947357321909564,
          -0.3480897670543381,
          0.04149491334806047,
          0.07943000908974779,
          -0.07411215110207361,
          0.2594889463561222,
          -0.47663631782032767,
          0.3242467115656374,
          1.8302298619199808,
          -1.9432368115664143,
          -0.2189352858233352,
          1.846359866280298,
          0.876058830600904,
          2.6915728119078244,
          0.2177170690031045,
          -0.08596250153087334,
          -0.8456288866623545,
          -0.40007697373326406,
          -0.6968622498103859,
          -0.39337374166795647,
          -0.681101123595146,
          0.0316259152663032,
          -0.4427302542551622,
          0.5537435906782517,
          -1.2584298288032274,
          -1.046099839514856,
          -1.174905115257565,
          -0.07866309242507306,
          -0.12903207786603793,
          0.7643887845613722,
          0.3799179997967043,
          -1.7282208840960858,
          1.599006059315004,
          0.28864320933351995,
          0.649047111488827,
          -0.6944742339116875,
          0.06635269835455525,
          -0.03709222459089022,
          0.4747444093165104,
          1.189327433452486,
          -0.3486312644379332,
          -0.985907451363722,
          0.47718682206045304,
          0.48785195488853017,
          -0.09340214361994252,
          0.5838582440954743,
          0.6029501578085649,
          -1.2722812548404407,
          1.0196714702003056,
          -1.5417150851492933,
          0.30687213822907755,
          -0.7977093547888335,
          0.9175863999124476,
          -1.9743768641012278,
          1.382258804306761,
          -0.09241151643597145,
          -1.4804714808711796,
          0.3791475926337954,
          0.6888805927973765,
          0.13574077573200902,
          -0.5470343091362391,
          -1.3071902922310739,
          2.435841976178969,
          -0.12555703688980122,
          0.13282460508933802
         ],
         "yaxis": "y3"
        },
        {
         "line": {
          "color": "rgba(128, 128, 128, 1.0)",
          "dash": "solid",
          "shape": "linear",
          "width": 1.3
         },
         "marker": {
          "size": 2,
          "symbol": "circle"
         },
         "mode": "markers",
         "name": "A",
         "text": "",
         "type": "scatter",
         "x": [
          0.41371642531357067,
          -1.3511298102848268,
          0.1548960633662548,
          0.2928423242436081,
          0.7046512836948919,
          -0.6160201190253954,
          0.544751394270657,
          0.46700210861198205,
          -1.1278814020881793,
          1.1095264509129468,
          0.9871547617479811,
          0.10444303057914157,
          0.404101184393867,
          -2.9148312003696115,
          1.2156172430718628,
          -0.28901698882451426,
          0.14140592739261507,
          -1.9166557047872312,
          -2.3364319402593763,
          0.4592299824160191,
          1.7309655473170684,
          0.19302300285031457,
          0.07416925441607174,
          1.6347327130881728,
          0.08955963658162003,
          1.216997807773552,
          0.3391924959976665,
          0.3049230463012404,
          0.6474674154960272,
          0.14905018984328233,
          2.3167978527966997,
          0.7364660739370348,
          0.3749318565262947,
          0.9288897792774973,
          -0.1942921808366397,
          0.31374923783511927,
          -0.6079657468292041,
          -0.8364045591854122,
          -0.7840679371807482,
          1.0034262747637828,
          -0.7200611813953035,
          -0.43342952172403715,
          1.3903584368560216,
          1.784088620611003,
          -0.3900662799552978,
          -1.044692625124553,
          -2.5785918159280428,
          -1.3193698884932636,
          0.42305764502783877,
          -0.7275810276248871,
          -1.548623891938159,
          -1.5260330324024227,
          0.7695060065797602,
          1.1205839262677475,
          0.9081501840759503,
          0.2981647176865847,
          -0.5721996866994705,
          -1.5090459367647826,
          0.7506333981343386,
          1.5733004362285037,
          -0.04703705384809499,
          0.4680216085387725,
          2.1063780689833873,
          -0.7299003888097821,
          0.4281522375279572,
          -0.5565964106988283,
          0.5550074331119446,
          1.4538814515840304,
          -0.5242761857362512,
          1.5851144383450977,
          -0.4839271918549374,
          -0.22226391231192297,
          0.20514792900166504,
          0.998486075254841,
          0.4692079876528167,
          0.0922979922432298,
          0.8156064617945102,
          -0.9036920914242179,
          1.3339651888486534,
          0.026011655012142122,
          0.25406908018394436,
          0.39819020629706114,
          0.7408442235335811,
          -0.581680192990201,
          0.7942897499014123,
          0.7588018954892162,
          0.8559649988912167,
          0.5196177194859225,
          0.49615394382343486,
          -1.3180990767373284,
          -0.0655875737773847,
          -1.0299116857455028,
          -0.27845423796497415,
          0.7601800437854018,
          -0.9066027011227964,
          -0.15312376369645234,
          -0.09002463244996343,
          0.7823817781087942,
          -1.0545466362956926,
          -0.46886613067437816
         ],
         "xaxis": "x4",
         "y": [
          -1.0073261729466096,
          -0.301826627754829,
          -1.3258091049478036,
          -0.6744000156450667,
          -0.26743728287844554,
          -1.492467191205314,
          1.228485669874821,
          0.297631605931466,
          -0.007706474654075611,
          0.4801861273195761,
          -0.3141499344439157,
          -0.9278512211869179,
          1.1482870349654182,
          0.4914376718515416,
          -1.1744033684924902,
          -0.5029865748358517,
          0.9858637581859565,
          0.592217006629086,
          -0.3340518992951397,
          0.46130455603002335,
          0.5027287132393441,
          -1.4998800616878651,
          -0.7486943826550974,
          -0.5516141262843307,
          0.5140648075914177,
          1.5044846136251004,
          -0.6611344152448209,
          0.7563135937797785,
          -0.11066302392048939,
          0.8494163527828413,
          0.09435973167290049,
          0.49818356683625065,
          -0.13176947758476545,
          1.4207872824673087,
          -0.2621115715724141,
          0.21947357321909564,
          -0.3480897670543381,
          0.04149491334806047,
          0.07943000908974779,
          -0.07411215110207361,
          0.2594889463561222,
          -0.47663631782032767,
          0.3242467115656374,
          1.8302298619199808,
          -1.9432368115664143,
          -0.2189352858233352,
          1.846359866280298,
          0.876058830600904,
          2.6915728119078244,
          0.2177170690031045,
          -0.08596250153087334,
          -0.8456288866623545,
          -0.40007697373326406,
          -0.6968622498103859,
          -0.39337374166795647,
          -0.681101123595146,
          0.0316259152663032,
          -0.4427302542551622,
          0.5537435906782517,
          -1.2584298288032274,
          -1.046099839514856,
          -1.174905115257565,
          -0.07866309242507306,
          -0.12903207786603793,
          0.7643887845613722,
          0.3799179997967043,
          -1.7282208840960858,
          1.599006059315004,
          0.28864320933351995,
          0.649047111488827,
          -0.6944742339116875,
          0.06635269835455525,
          -0.03709222459089022,
          0.4747444093165104,
          1.189327433452486,
          -0.3486312644379332,
          -0.985907451363722,
          0.47718682206045304,
          0.48785195488853017,
          -0.09340214361994252,
          0.5838582440954743,
          0.6029501578085649,
          -1.2722812548404407,
          1.0196714702003056,
          -1.5417150851492933,
          0.30687213822907755,
          -0.7977093547888335,
          0.9175863999124476,
          -1.9743768641012278,
          1.382258804306761,
          -0.09241151643597145,
          -1.4804714808711796,
          0.3791475926337954,
          0.6888805927973765,
          0.13574077573200902,
          -0.5470343091362391,
          -1.3071902922310739,
          2.435841976178969,
          -0.12555703688980122,
          0.13282460508933802
         ],
         "yaxis": "y4"
        },
        {
         "line": {
          "color": "rgba(128, 128, 128, 1.0)",
          "dash": "solid",
          "shape": "linear",
          "width": 1.3
         },
         "marker": {
          "size": 2,
          "symbol": "circle"
         },
         "mode": "markers",
         "name": "B",
         "text": "",
         "type": "scatter",
         "x": [
          -1.0073261729466096,
          -0.301826627754829,
          -1.3258091049478036,
          -0.6744000156450667,
          -0.26743728287844554,
          -1.492467191205314,
          1.228485669874821,
          0.297631605931466,
          -0.007706474654075611,
          0.4801861273195761,
          -0.3141499344439157,
          -0.9278512211869179,
          1.1482870349654182,
          0.4914376718515416,
          -1.1744033684924902,
          -0.5029865748358517,
          0.9858637581859565,
          0.592217006629086,
          -0.3340518992951397,
          0.46130455603002335,
          0.5027287132393441,
          -1.4998800616878651,
          -0.7486943826550974,
          -0.5516141262843307,
          0.5140648075914177,
          1.5044846136251004,
          -0.6611344152448209,
          0.7563135937797785,
          -0.11066302392048939,
          0.8494163527828413,
          0.09435973167290049,
          0.49818356683625065,
          -0.13176947758476545,
          1.4207872824673087,
          -0.2621115715724141,
          0.21947357321909564,
          -0.3480897670543381,
          0.04149491334806047,
          0.07943000908974779,
          -0.07411215110207361,
          0.2594889463561222,
          -0.47663631782032767,
          0.3242467115656374,
          1.8302298619199808,
          -1.9432368115664143,
          -0.2189352858233352,
          1.846359866280298,
          0.876058830600904,
          2.6915728119078244,
          0.2177170690031045,
          -0.08596250153087334,
          -0.8456288866623545,
          -0.40007697373326406,
          -0.6968622498103859,
          -0.39337374166795647,
          -0.681101123595146,
          0.0316259152663032,
          -0.4427302542551622,
          0.5537435906782517,
          -1.2584298288032274,
          -1.046099839514856,
          -1.174905115257565,
          -0.07866309242507306,
          -0.12903207786603793,
          0.7643887845613722,
          0.3799179997967043,
          -1.7282208840960858,
          1.599006059315004,
          0.28864320933351995,
          0.649047111488827,
          -0.6944742339116875,
          0.06635269835455525,
          -0.03709222459089022,
          0.4747444093165104,
          1.189327433452486,
          -0.3486312644379332,
          -0.985907451363722,
          0.47718682206045304,
          0.48785195488853017,
          -0.09340214361994252,
          0.5838582440954743,
          0.6029501578085649,
          -1.2722812548404407,
          1.0196714702003056,
          -1.5417150851492933,
          0.30687213822907755,
          -0.7977093547888335,
          0.9175863999124476,
          -1.9743768641012278,
          1.382258804306761,
          -0.09241151643597145,
          -1.4804714808711796,
          0.3791475926337954,
          0.6888805927973765,
          0.13574077573200902,
          -0.5470343091362391,
          -1.3071902922310739,
          2.435841976178969,
          -0.12555703688980122,
          0.13282460508933802
         ],
         "xaxis": "x5",
         "y": [
          -0.18779694634083663,
          -0.9768747777936239,
          -0.9617060813443279,
          0.197065643612768,
          1.340929397816748,
          -1.3232533615754345,
          -2.0259340620314905,
          1.3720424743423618,
          0.6520890648028659,
          -0.41932683948669475,
          -1.363335162205523,
          -0.8553587408318004,
          -0.7394635951661027,
          0.25100966446739315,
          0.46718515105682107,
          -0.14146017827537008,
          -0.8279070301033035,
          -1.2119684379998945,
          0.20379101308495634,
          -0.9806731774649406,
          -0.5065649028838257,
          0.2810541046395991,
          -0.31782190707209146,
          -1.555986660814328,
          0.7662497570438935,
          -0.9369888348926171,
          0.27703325083280234,
          -0.6598593028247899,
          -0.9449459439451559,
          1.240520266816322,
          1.4264679639399598,
          -1.1730627067184463,
          -1.5066605928163657,
          0.8353550894476148,
          1.4982801480009753,
          0.8319700031342894,
          -1.1224839719439021,
          1.1185069740427773,
          -0.7614187418957616,
          0.5155454754170532,
          -0.34313811507216047,
          -0.5414476086799445,
          -1.112452714008785,
          0.7326274817406409,
          -0.5943387925000364,
          -0.4768340115793844,
          -1.3461081871655403,
          -0.12933353067823591,
          -0.40297665230636653,
          0.006557246081532544,
          1.3759861896026329,
          0.8846754036912591,
          0.09002571983935631,
          -1.2988629551569582,
          -0.029904874246396315,
          -0.42125574952617945,
          -0.8341864428969682,
          0.7529585537739358,
          -0.7075920400841483,
          -2.1632808308173335,
          1.7443130641008164,
          -0.38944158912883836,
          0.21387131131547868,
          -0.0633731793682945,
          -1.1337636365715162,
          -1.2983826748255411,
          0.20214958039855968,
          0.7709008558343915,
          0.6403445108383367,
          1.4424670532120223,
          0.24946478264779043,
          -0.046289137694677,
          -0.4934786116564103,
          -1.4398876714346023,
          0.31282870406445396,
          -1.423669106617544,
          0.45553142449835166,
          -0.16737708318922284,
          -0.30008922482127587,
          1.909902496996236,
          1.8619771416593967,
          0.09810651617958872,
          0.18514539299598032,
          0.5998217990174387,
          1.0632358038761172,
          -0.5620680822496272,
          0.7183843577275988,
          -1.9999902663899565,
          1.0166886446016847,
          0.2155427008896977,
          -0.7327144551915384,
          0.4835586454875864,
          -0.2782704871827044,
          0.001205405455120271,
          1.1669882507631362,
          -1.6734428564239001,
          -0.5234730162476214,
          -0.13811272513660197,
          0.6254559955851808,
          0.6580416784041457
         ],
         "yaxis": "y5"
        },
        {
         "histfunc": "count",
         "histnorm": "",
         "marker": {
          "color": "rgba(55, 128, 191, 1.0)",
          "line": {
           "color": "#4D5663",
           "width": 1.3
          }
         },
         "name": "B",
         "nbinsx": 10,
         "opacity": 0.8,
         "orientation": "v",
         "type": "histogram",
         "x": [
          -0.18779694634083663,
          -0.9768747777936239,
          -0.9617060813443279,
          0.197065643612768,
          1.340929397816748,
          -1.3232533615754345,
          -2.0259340620314905,
          1.3720424743423618,
          0.6520890648028659,
          -0.41932683948669475,
          -1.363335162205523,
          -0.8553587408318004,
          -0.7394635951661027,
          0.25100966446739315,
          0.46718515105682107,
          -0.14146017827537008,
          -0.8279070301033035,
          -1.2119684379998945,
          0.20379101308495634,
          -0.9806731774649406,
          -0.5065649028838257,
          0.2810541046395991,
          -0.31782190707209146,
          -1.555986660814328,
          0.7662497570438935,
          -0.9369888348926171,
          0.27703325083280234,
          -0.6598593028247899,
          -0.9449459439451559,
          1.240520266816322,
          1.4264679639399598,
          -1.1730627067184463,
          -1.5066605928163657,
          0.8353550894476148,
          1.4982801480009753,
          0.8319700031342894,
          -1.1224839719439021,
          1.1185069740427773,
          -0.7614187418957616,
          0.5155454754170532,
          -0.34313811507216047,
          -0.5414476086799445,
          -1.112452714008785,
          0.7326274817406409,
          -0.5943387925000364,
          -0.4768340115793844,
          -1.3461081871655403,
          -0.12933353067823591,
          -0.40297665230636653,
          0.006557246081532544,
          1.3759861896026329,
          0.8846754036912591,
          0.09002571983935631,
          -1.2988629551569582,
          -0.029904874246396315,
          -0.42125574952617945,
          -0.8341864428969682,
          0.7529585537739358,
          -0.7075920400841483,
          -2.1632808308173335,
          1.7443130641008164,
          -0.38944158912883836,
          0.21387131131547868,
          -0.0633731793682945,
          -1.1337636365715162,
          -1.2983826748255411,
          0.20214958039855968,
          0.7709008558343915,
          0.6403445108383367,
          1.4424670532120223,
          0.24946478264779043,
          -0.046289137694677,
          -0.4934786116564103,
          -1.4398876714346023,
          0.31282870406445396,
          -1.423669106617544,
          0.45553142449835166,
          -0.16737708318922284,
          -0.30008922482127587,
          1.909902496996236,
          1.8619771416593967,
          0.09810651617958872,
          0.18514539299598032,
          0.5998217990174387,
          1.0632358038761172,
          -0.5620680822496272,
          0.7183843577275988,
          -1.9999902663899565,
          1.0166886446016847,
          0.2155427008896977,
          -0.7327144551915384,
          0.4835586454875864,
          -0.2782704871827044,
          0.001205405455120271,
          1.1669882507631362,
          -1.6734428564239001,
          -0.5234730162476214,
          -0.13811272513660197,
          0.6254559955851808,
          0.6580416784041457
         ],
         "xaxis": "x6",
         "yaxis": "y6"
        },
        {
         "line": {
          "color": "rgba(128, 128, 128, 1.0)",
          "dash": "solid",
          "shape": "linear",
          "width": 1.3
         },
         "marker": {
          "size": 2,
          "symbol": "circle"
         },
         "mode": "markers",
         "name": "B",
         "text": "",
         "type": "scatter",
         "x": [
          0.6660146560201892,
          0.5245301219101601,
          0.43382115747247946,
          0.8922340331365296,
          0.8641193282139618,
          -0.8518098206905238,
          0.18674029589743224,
          -0.014966937815831102,
          0.8551665114170287,
          0.8033261909999732,
          0.7897675971271274,
          1.157613005222821,
          0.5768556584854428,
          0.09813920891181775,
          -0.0944376339307584,
          1.3464222806889485,
          0.11846229120565024,
          -0.009303944483732791,
          1.231058845983251,
          2.2088575509275388,
          -0.5073938218683697,
          0.2556528001810601,
          -0.33435944939541534,
          -0.26933313547809634,
          -0.2399048498378512,
          0.2977345355677345,
          1.0401035561278884,
          -0.5821201256028381,
          0.7723124656962943,
          0.5125797344957835,
          -0.013627234680034723,
          -0.780425103771722,
          -0.11937830807855235,
          -1.509037019591643,
          1.564078622891511,
          2.102246836330988,
          0.5793156107984813,
          -0.3065155403892706,
          0.06770748488154607,
          1.347588081700279,
          0.12928862811571487,
          0.5883049998270433,
          -0.036559080202275024,
          -0.9130238681804977,
          -1.5333996429703753,
          -0.14377471822498186,
          -0.5504419759634435,
          -1.5401212296701923,
          -1.8433989526979813,
          -0.583256548398268,
          0.32345071378172074,
          0.38295802563406856,
          -0.056606779498337347,
          0.8107134398157455,
          0.9601107970202513,
          -1.5712034070309444,
          0.16131022295292374,
          -0.8010373423945429,
          0.4902610871771294,
          -0.11670838307325197,
          -1.1104100431849937,
          0.46191709144271115,
          1.0787446245295178,
          0.1440328540082415,
          0.6524455869633207,
          0.6695182330624644,
          -0.8741455985258808,
          0.054670067158501916,
          1.906599426857935,
          1.1270859571613916,
          -1.7572582737086777,
          -0.29063767269565344,
          -0.056676472901348085,
          0.40500520904624226,
          0.7672363718859002,
          0.8323565380863586,
          0.40169683772101256,
          -1.104880019485082,
          0.49044070982808574,
          -1.5181676326203275,
          0.35957198183196376,
          0.8312408765990674,
          -0.8063142176087974,
          -0.20880199080181536,
          0.5325485848875602,
          -0.5584023159513228,
          2.0180821936843527,
          0.9407008534666642,
          -0.5193374212520715,
          -1.8557339657719096,
          -0.14640750311683007,
          0.9623322966157689,
          1.568791046309809,
          -1.3142857595514221,
          -0.3460336058002607,
          -1.6696987761631563,
          1.0667422218903113,
          -0.8842207201397441,
          -0.2705983021728778,
          0.438881212106342
         ],
         "xaxis": "x7",
         "y": [
          -0.18779694634083663,
          -0.9768747777936239,
          -0.9617060813443279,
          0.197065643612768,
          1.340929397816748,
          -1.3232533615754345,
          -2.0259340620314905,
          1.3720424743423618,
          0.6520890648028659,
          -0.41932683948669475,
          -1.363335162205523,
          -0.8553587408318004,
          -0.7394635951661027,
          0.25100966446739315,
          0.46718515105682107,
          -0.14146017827537008,
          -0.8279070301033035,
          -1.2119684379998945,
          0.20379101308495634,
          -0.9806731774649406,
          -0.5065649028838257,
          0.2810541046395991,
          -0.31782190707209146,
          -1.555986660814328,
          0.7662497570438935,
          -0.9369888348926171,
          0.27703325083280234,
          -0.6598593028247899,
          -0.9449459439451559,
          1.240520266816322,
          1.4264679639399598,
          -1.1730627067184463,
          -1.5066605928163657,
          0.8353550894476148,
          1.4982801480009753,
          0.8319700031342894,
          -1.1224839719439021,
          1.1185069740427773,
          -0.7614187418957616,
          0.5155454754170532,
          -0.34313811507216047,
          -0.5414476086799445,
          -1.112452714008785,
          0.7326274817406409,
          -0.5943387925000364,
          -0.4768340115793844,
          -1.3461081871655403,
          -0.12933353067823591,
          -0.40297665230636653,
          0.006557246081532544,
          1.3759861896026329,
          0.8846754036912591,
          0.09002571983935631,
          -1.2988629551569582,
          -0.029904874246396315,
          -0.42125574952617945,
          -0.8341864428969682,
          0.7529585537739358,
          -0.7075920400841483,
          -2.1632808308173335,
          1.7443130641008164,
          -0.38944158912883836,
          0.21387131131547868,
          -0.0633731793682945,
          -1.1337636365715162,
          -1.2983826748255411,
          0.20214958039855968,
          0.7709008558343915,
          0.6403445108383367,
          1.4424670532120223,
          0.24946478264779043,
          -0.046289137694677,
          -0.4934786116564103,
          -1.4398876714346023,
          0.31282870406445396,
          -1.423669106617544,
          0.45553142449835166,
          -0.16737708318922284,
          -0.30008922482127587,
          1.909902496996236,
          1.8619771416593967,
          0.09810651617958872,
          0.18514539299598032,
          0.5998217990174387,
          1.0632358038761172,
          -0.5620680822496272,
          0.7183843577275988,
          -1.9999902663899565,
          1.0166886446016847,
          0.2155427008896977,
          -0.7327144551915384,
          0.4835586454875864,
          -0.2782704871827044,
          0.001205405455120271,
          1.1669882507631362,
          -1.6734428564239001,
          -0.5234730162476214,
          -0.13811272513660197,
          0.6254559955851808,
          0.6580416784041457
         ],
         "yaxis": "y7"
        },
        {
         "line": {
          "color": "rgba(128, 128, 128, 1.0)",
          "dash": "solid",
          "shape": "linear",
          "width": 1.3
         },
         "marker": {
          "size": 2,
          "symbol": "circle"
         },
         "mode": "markers",
         "name": "B",
         "text": "",
         "type": "scatter",
         "x": [
          0.41371642531357067,
          -1.3511298102848268,
          0.1548960633662548,
          0.2928423242436081,
          0.7046512836948919,
          -0.6160201190253954,
          0.544751394270657,
          0.46700210861198205,
          -1.1278814020881793,
          1.1095264509129468,
          0.9871547617479811,
          0.10444303057914157,
          0.404101184393867,
          -2.9148312003696115,
          1.2156172430718628,
          -0.28901698882451426,
          0.14140592739261507,
          -1.9166557047872312,
          -2.3364319402593763,
          0.4592299824160191,
          1.7309655473170684,
          0.19302300285031457,
          0.07416925441607174,
          1.6347327130881728,
          0.08955963658162003,
          1.216997807773552,
          0.3391924959976665,
          0.3049230463012404,
          0.6474674154960272,
          0.14905018984328233,
          2.3167978527966997,
          0.7364660739370348,
          0.3749318565262947,
          0.9288897792774973,
          -0.1942921808366397,
          0.31374923783511927,
          -0.6079657468292041,
          -0.8364045591854122,
          -0.7840679371807482,
          1.0034262747637828,
          -0.7200611813953035,
          -0.43342952172403715,
          1.3903584368560216,
          1.784088620611003,
          -0.3900662799552978,
          -1.044692625124553,
          -2.5785918159280428,
          -1.3193698884932636,
          0.42305764502783877,
          -0.7275810276248871,
          -1.548623891938159,
          -1.5260330324024227,
          0.7695060065797602,
          1.1205839262677475,
          0.9081501840759503,
          0.2981647176865847,
          -0.5721996866994705,
          -1.5090459367647826,
          0.7506333981343386,
          1.5733004362285037,
          -0.04703705384809499,
          0.4680216085387725,
          2.1063780689833873,
          -0.7299003888097821,
          0.4281522375279572,
          -0.5565964106988283,
          0.5550074331119446,
          1.4538814515840304,
          -0.5242761857362512,
          1.5851144383450977,
          -0.4839271918549374,
          -0.22226391231192297,
          0.20514792900166504,
          0.998486075254841,
          0.4692079876528167,
          0.0922979922432298,
          0.8156064617945102,
          -0.9036920914242179,
          1.3339651888486534,
          0.026011655012142122,
          0.25406908018394436,
          0.39819020629706114,
          0.7408442235335811,
          -0.581680192990201,
          0.7942897499014123,
          0.7588018954892162,
          0.8559649988912167,
          0.5196177194859225,
          0.49615394382343486,
          -1.3180990767373284,
          -0.0655875737773847,
          -1.0299116857455028,
          -0.27845423796497415,
          0.7601800437854018,
          -0.9066027011227964,
          -0.15312376369645234,
          -0.09002463244996343,
          0.7823817781087942,
          -1.0545466362956926,
          -0.46886613067437816
         ],
         "xaxis": "x8",
         "y": [
          -0.18779694634083663,
          -0.9768747777936239,
          -0.9617060813443279,
          0.197065643612768,
          1.340929397816748,
          -1.3232533615754345,
          -2.0259340620314905,
          1.3720424743423618,
          0.6520890648028659,
          -0.41932683948669475,
          -1.363335162205523,
          -0.8553587408318004,
          -0.7394635951661027,
          0.25100966446739315,
          0.46718515105682107,
          -0.14146017827537008,
          -0.8279070301033035,
          -1.2119684379998945,
          0.20379101308495634,
          -0.9806731774649406,
          -0.5065649028838257,
          0.2810541046395991,
          -0.31782190707209146,
          -1.555986660814328,
          0.7662497570438935,
          -0.9369888348926171,
          0.27703325083280234,
          -0.6598593028247899,
          -0.9449459439451559,
          1.240520266816322,
          1.4264679639399598,
          -1.1730627067184463,
          -1.5066605928163657,
          0.8353550894476148,
          1.4982801480009753,
          0.8319700031342894,
          -1.1224839719439021,
          1.1185069740427773,
          -0.7614187418957616,
          0.5155454754170532,
          -0.34313811507216047,
          -0.5414476086799445,
          -1.112452714008785,
          0.7326274817406409,
          -0.5943387925000364,
          -0.4768340115793844,
          -1.3461081871655403,
          -0.12933353067823591,
          -0.40297665230636653,
          0.006557246081532544,
          1.3759861896026329,
          0.8846754036912591,
          0.09002571983935631,
          -1.2988629551569582,
          -0.029904874246396315,
          -0.42125574952617945,
          -0.8341864428969682,
          0.7529585537739358,
          -0.7075920400841483,
          -2.1632808308173335,
          1.7443130641008164,
          -0.38944158912883836,
          0.21387131131547868,
          -0.0633731793682945,
          -1.1337636365715162,
          -1.2983826748255411,
          0.20214958039855968,
          0.7709008558343915,
          0.6403445108383367,
          1.4424670532120223,
          0.24946478264779043,
          -0.046289137694677,
          -0.4934786116564103,
          -1.4398876714346023,
          0.31282870406445396,
          -1.423669106617544,
          0.45553142449835166,
          -0.16737708318922284,
          -0.30008922482127587,
          1.909902496996236,
          1.8619771416593967,
          0.09810651617958872,
          0.18514539299598032,
          0.5998217990174387,
          1.0632358038761172,
          -0.5620680822496272,
          0.7183843577275988,
          -1.9999902663899565,
          1.0166886446016847,
          0.2155427008896977,
          -0.7327144551915384,
          0.4835586454875864,
          -0.2782704871827044,
          0.001205405455120271,
          1.1669882507631362,
          -1.6734428564239001,
          -0.5234730162476214,
          -0.13811272513660197,
          0.6254559955851808,
          0.6580416784041457
         ],
         "yaxis": "y8"
        },
        {
         "line": {
          "color": "rgba(128, 128, 128, 1.0)",
          "dash": "solid",
          "shape": "linear",
          "width": 1.3
         },
         "marker": {
          "size": 2,
          "symbol": "circle"
         },
         "mode": "markers",
         "name": "C",
         "text": "",
         "type": "scatter",
         "x": [
          -1.0073261729466096,
          -0.301826627754829,
          -1.3258091049478036,
          -0.6744000156450667,
          -0.26743728287844554,
          -1.492467191205314,
          1.228485669874821,
          0.297631605931466,
          -0.007706474654075611,
          0.4801861273195761,
          -0.3141499344439157,
          -0.9278512211869179,
          1.1482870349654182,
          0.4914376718515416,
          -1.1744033684924902,
          -0.5029865748358517,
          0.9858637581859565,
          0.592217006629086,
          -0.3340518992951397,
          0.46130455603002335,
          0.5027287132393441,
          -1.4998800616878651,
          -0.7486943826550974,
          -0.5516141262843307,
          0.5140648075914177,
          1.5044846136251004,
          -0.6611344152448209,
          0.7563135937797785,
          -0.11066302392048939,
          0.8494163527828413,
          0.09435973167290049,
          0.49818356683625065,
          -0.13176947758476545,
          1.4207872824673087,
          -0.2621115715724141,
          0.21947357321909564,
          -0.3480897670543381,
          0.04149491334806047,
          0.07943000908974779,
          -0.07411215110207361,
          0.2594889463561222,
          -0.47663631782032767,
          0.3242467115656374,
          1.8302298619199808,
          -1.9432368115664143,
          -0.2189352858233352,
          1.846359866280298,
          0.876058830600904,
          2.6915728119078244,
          0.2177170690031045,
          -0.08596250153087334,
          -0.8456288866623545,
          -0.40007697373326406,
          -0.6968622498103859,
          -0.39337374166795647,
          -0.681101123595146,
          0.0316259152663032,
          -0.4427302542551622,
          0.5537435906782517,
          -1.2584298288032274,
          -1.046099839514856,
          -1.174905115257565,
          -0.07866309242507306,
          -0.12903207786603793,
          0.7643887845613722,
          0.3799179997967043,
          -1.7282208840960858,
          1.599006059315004,
          0.28864320933351995,
          0.649047111488827,
          -0.6944742339116875,
          0.06635269835455525,
          -0.03709222459089022,
          0.4747444093165104,
          1.189327433452486,
          -0.3486312644379332,
          -0.985907451363722,
          0.47718682206045304,
          0.48785195488853017,
          -0.09340214361994252,
          0.5838582440954743,
          0.6029501578085649,
          -1.2722812548404407,
          1.0196714702003056,
          -1.5417150851492933,
          0.30687213822907755,
          -0.7977093547888335,
          0.9175863999124476,
          -1.9743768641012278,
          1.382258804306761,
          -0.09241151643597145,
          -1.4804714808711796,
          0.3791475926337954,
          0.6888805927973765,
          0.13574077573200902,
          -0.5470343091362391,
          -1.3071902922310739,
          2.435841976178969,
          -0.12555703688980122,
          0.13282460508933802
         ],
         "xaxis": "x9",
         "y": [
          0.6660146560201892,
          0.5245301219101601,
          0.43382115747247946,
          0.8922340331365296,
          0.8641193282139618,
          -0.8518098206905238,
          0.18674029589743224,
          -0.014966937815831102,
          0.8551665114170287,
          0.8033261909999732,
          0.7897675971271274,
          1.157613005222821,
          0.5768556584854428,
          0.09813920891181775,
          -0.0944376339307584,
          1.3464222806889485,
          0.11846229120565024,
          -0.009303944483732791,
          1.231058845983251,
          2.2088575509275388,
          -0.5073938218683697,
          0.2556528001810601,
          -0.33435944939541534,
          -0.26933313547809634,
          -0.2399048498378512,
          0.2977345355677345,
          1.0401035561278884,
          -0.5821201256028381,
          0.7723124656962943,
          0.5125797344957835,
          -0.013627234680034723,
          -0.780425103771722,
          -0.11937830807855235,
          -1.509037019591643,
          1.564078622891511,
          2.102246836330988,
          0.5793156107984813,
          -0.3065155403892706,
          0.06770748488154607,
          1.347588081700279,
          0.12928862811571487,
          0.5883049998270433,
          -0.036559080202275024,
          -0.9130238681804977,
          -1.5333996429703753,
          -0.14377471822498186,
          -0.5504419759634435,
          -1.5401212296701923,
          -1.8433989526979813,
          -0.583256548398268,
          0.32345071378172074,
          0.38295802563406856,
          -0.056606779498337347,
          0.8107134398157455,
          0.9601107970202513,
          -1.5712034070309444,
          0.16131022295292374,
          -0.8010373423945429,
          0.4902610871771294,
          -0.11670838307325197,
          -1.1104100431849937,
          0.46191709144271115,
          1.0787446245295178,
          0.1440328540082415,
          0.6524455869633207,
          0.6695182330624644,
          -0.8741455985258808,
          0.054670067158501916,
          1.906599426857935,
          1.1270859571613916,
          -1.7572582737086777,
          -0.29063767269565344,
          -0.056676472901348085,
          0.40500520904624226,
          0.7672363718859002,
          0.8323565380863586,
          0.40169683772101256,
          -1.104880019485082,
          0.49044070982808574,
          -1.5181676326203275,
          0.35957198183196376,
          0.8312408765990674,
          -0.8063142176087974,
          -0.20880199080181536,
          0.5325485848875602,
          -0.5584023159513228,
          2.0180821936843527,
          0.9407008534666642,
          -0.5193374212520715,
          -1.8557339657719096,
          -0.14640750311683007,
          0.9623322966157689,
          1.568791046309809,
          -1.3142857595514221,
          -0.3460336058002607,
          -1.6696987761631563,
          1.0667422218903113,
          -0.8842207201397441,
          -0.2705983021728778,
          0.438881212106342
         ],
         "yaxis": "y9"
        },
        {
         "line": {
          "color": "rgba(128, 128, 128, 1.0)",
          "dash": "solid",
          "shape": "linear",
          "width": 1.3
         },
         "marker": {
          "size": 2,
          "symbol": "circle"
         },
         "mode": "markers",
         "name": "C",
         "text": "",
         "type": "scatter",
         "x": [
          -0.18779694634083663,
          -0.9768747777936239,
          -0.9617060813443279,
          0.197065643612768,
          1.340929397816748,
          -1.3232533615754345,
          -2.0259340620314905,
          1.3720424743423618,
          0.6520890648028659,
          -0.41932683948669475,
          -1.363335162205523,
          -0.8553587408318004,
          -0.7394635951661027,
          0.25100966446739315,
          0.46718515105682107,
          -0.14146017827537008,
          -0.8279070301033035,
          -1.2119684379998945,
          0.20379101308495634,
          -0.9806731774649406,
          -0.5065649028838257,
          0.2810541046395991,
          -0.31782190707209146,
          -1.555986660814328,
          0.7662497570438935,
          -0.9369888348926171,
          0.27703325083280234,
          -0.6598593028247899,
          -0.9449459439451559,
          1.240520266816322,
          1.4264679639399598,
          -1.1730627067184463,
          -1.5066605928163657,
          0.8353550894476148,
          1.4982801480009753,
          0.8319700031342894,
          -1.1224839719439021,
          1.1185069740427773,
          -0.7614187418957616,
          0.5155454754170532,
          -0.34313811507216047,
          -0.5414476086799445,
          -1.112452714008785,
          0.7326274817406409,
          -0.5943387925000364,
          -0.4768340115793844,
          -1.3461081871655403,
          -0.12933353067823591,
          -0.40297665230636653,
          0.006557246081532544,
          1.3759861896026329,
          0.8846754036912591,
          0.09002571983935631,
          -1.2988629551569582,
          -0.029904874246396315,
          -0.42125574952617945,
          -0.8341864428969682,
          0.7529585537739358,
          -0.7075920400841483,
          -2.1632808308173335,
          1.7443130641008164,
          -0.38944158912883836,
          0.21387131131547868,
          -0.0633731793682945,
          -1.1337636365715162,
          -1.2983826748255411,
          0.20214958039855968,
          0.7709008558343915,
          0.6403445108383367,
          1.4424670532120223,
          0.24946478264779043,
          -0.046289137694677,
          -0.4934786116564103,
          -1.4398876714346023,
          0.31282870406445396,
          -1.423669106617544,
          0.45553142449835166,
          -0.16737708318922284,
          -0.30008922482127587,
          1.909902496996236,
          1.8619771416593967,
          0.09810651617958872,
          0.18514539299598032,
          0.5998217990174387,
          1.0632358038761172,
          -0.5620680822496272,
          0.7183843577275988,
          -1.9999902663899565,
          1.0166886446016847,
          0.2155427008896977,
          -0.7327144551915384,
          0.4835586454875864,
          -0.2782704871827044,
          0.001205405455120271,
          1.1669882507631362,
          -1.6734428564239001,
          -0.5234730162476214,
          -0.13811272513660197,
          0.6254559955851808,
          0.6580416784041457
         ],
         "xaxis": "x10",
         "y": [
          0.6660146560201892,
          0.5245301219101601,
          0.43382115747247946,
          0.8922340331365296,
          0.8641193282139618,
          -0.8518098206905238,
          0.18674029589743224,
          -0.014966937815831102,
          0.8551665114170287,
          0.8033261909999732,
          0.7897675971271274,
          1.157613005222821,
          0.5768556584854428,
          0.09813920891181775,
          -0.0944376339307584,
          1.3464222806889485,
          0.11846229120565024,
          -0.009303944483732791,
          1.231058845983251,
          2.2088575509275388,
          -0.5073938218683697,
          0.2556528001810601,
          -0.33435944939541534,
          -0.26933313547809634,
          -0.2399048498378512,
          0.2977345355677345,
          1.0401035561278884,
          -0.5821201256028381,
          0.7723124656962943,
          0.5125797344957835,
          -0.013627234680034723,
          -0.780425103771722,
          -0.11937830807855235,
          -1.509037019591643,
          1.564078622891511,
          2.102246836330988,
          0.5793156107984813,
          -0.3065155403892706,
          0.06770748488154607,
          1.347588081700279,
          0.12928862811571487,
          0.5883049998270433,
          -0.036559080202275024,
          -0.9130238681804977,
          -1.5333996429703753,
          -0.14377471822498186,
          -0.5504419759634435,
          -1.5401212296701923,
          -1.8433989526979813,
          -0.583256548398268,
          0.32345071378172074,
          0.38295802563406856,
          -0.056606779498337347,
          0.8107134398157455,
          0.9601107970202513,
          -1.5712034070309444,
          0.16131022295292374,
          -0.8010373423945429,
          0.4902610871771294,
          -0.11670838307325197,
          -1.1104100431849937,
          0.46191709144271115,
          1.0787446245295178,
          0.1440328540082415,
          0.6524455869633207,
          0.6695182330624644,
          -0.8741455985258808,
          0.054670067158501916,
          1.906599426857935,
          1.1270859571613916,
          -1.7572582737086777,
          -0.29063767269565344,
          -0.056676472901348085,
          0.40500520904624226,
          0.7672363718859002,
          0.8323565380863586,
          0.40169683772101256,
          -1.104880019485082,
          0.49044070982808574,
          -1.5181676326203275,
          0.35957198183196376,
          0.8312408765990674,
          -0.8063142176087974,
          -0.20880199080181536,
          0.5325485848875602,
          -0.5584023159513228,
          2.0180821936843527,
          0.9407008534666642,
          -0.5193374212520715,
          -1.8557339657719096,
          -0.14640750311683007,
          0.9623322966157689,
          1.568791046309809,
          -1.3142857595514221,
          -0.3460336058002607,
          -1.6696987761631563,
          1.0667422218903113,
          -0.8842207201397441,
          -0.2705983021728778,
          0.438881212106342
         ],
         "yaxis": "y10"
        },
        {
         "histfunc": "count",
         "histnorm": "",
         "marker": {
          "color": "rgba(50, 171, 96, 1.0)",
          "line": {
           "color": "#4D5663",
           "width": 1.3
          }
         },
         "name": "C",
         "nbinsx": 10,
         "opacity": 0.8,
         "orientation": "v",
         "type": "histogram",
         "x": [
          0.6660146560201892,
          0.5245301219101601,
          0.43382115747247946,
          0.8922340331365296,
          0.8641193282139618,
          -0.8518098206905238,
          0.18674029589743224,
          -0.014966937815831102,
          0.8551665114170287,
          0.8033261909999732,
          0.7897675971271274,
          1.157613005222821,
          0.5768556584854428,
          0.09813920891181775,
          -0.0944376339307584,
          1.3464222806889485,
          0.11846229120565024,
          -0.009303944483732791,
          1.231058845983251,
          2.2088575509275388,
          -0.5073938218683697,
          0.2556528001810601,
          -0.33435944939541534,
          -0.26933313547809634,
          -0.2399048498378512,
          0.2977345355677345,
          1.0401035561278884,
          -0.5821201256028381,
          0.7723124656962943,
          0.5125797344957835,
          -0.013627234680034723,
          -0.780425103771722,
          -0.11937830807855235,
          -1.509037019591643,
          1.564078622891511,
          2.102246836330988,
          0.5793156107984813,
          -0.3065155403892706,
          0.06770748488154607,
          1.347588081700279,
          0.12928862811571487,
          0.5883049998270433,
          -0.036559080202275024,
          -0.9130238681804977,
          -1.5333996429703753,
          -0.14377471822498186,
          -0.5504419759634435,
          -1.5401212296701923,
          -1.8433989526979813,
          -0.583256548398268,
          0.32345071378172074,
          0.38295802563406856,
          -0.056606779498337347,
          0.8107134398157455,
          0.9601107970202513,
          -1.5712034070309444,
          0.16131022295292374,
          -0.8010373423945429,
          0.4902610871771294,
          -0.11670838307325197,
          -1.1104100431849937,
          0.46191709144271115,
          1.0787446245295178,
          0.1440328540082415,
          0.6524455869633207,
          0.6695182330624644,
          -0.8741455985258808,
          0.054670067158501916,
          1.906599426857935,
          1.1270859571613916,
          -1.7572582737086777,
          -0.29063767269565344,
          -0.056676472901348085,
          0.40500520904624226,
          0.7672363718859002,
          0.8323565380863586,
          0.40169683772101256,
          -1.104880019485082,
          0.49044070982808574,
          -1.5181676326203275,
          0.35957198183196376,
          0.8312408765990674,
          -0.8063142176087974,
          -0.20880199080181536,
          0.5325485848875602,
          -0.5584023159513228,
          2.0180821936843527,
          0.9407008534666642,
          -0.5193374212520715,
          -1.8557339657719096,
          -0.14640750311683007,
          0.9623322966157689,
          1.568791046309809,
          -1.3142857595514221,
          -0.3460336058002607,
          -1.6696987761631563,
          1.0667422218903113,
          -0.8842207201397441,
          -0.2705983021728778,
          0.438881212106342
         ],
         "xaxis": "x11",
         "yaxis": "y11"
        },
        {
         "line": {
          "color": "rgba(128, 128, 128, 1.0)",
          "dash": "solid",
          "shape": "linear",
          "width": 1.3
         },
         "marker": {
          "size": 2,
          "symbol": "circle"
         },
         "mode": "markers",
         "name": "C",
         "text": "",
         "type": "scatter",
         "x": [
          0.41371642531357067,
          -1.3511298102848268,
          0.1548960633662548,
          0.2928423242436081,
          0.7046512836948919,
          -0.6160201190253954,
          0.544751394270657,
          0.46700210861198205,
          -1.1278814020881793,
          1.1095264509129468,
          0.9871547617479811,
          0.10444303057914157,
          0.404101184393867,
          -2.9148312003696115,
          1.2156172430718628,
          -0.28901698882451426,
          0.14140592739261507,
          -1.9166557047872312,
          -2.3364319402593763,
          0.4592299824160191,
          1.7309655473170684,
          0.19302300285031457,
          0.07416925441607174,
          1.6347327130881728,
          0.08955963658162003,
          1.216997807773552,
          0.3391924959976665,
          0.3049230463012404,
          0.6474674154960272,
          0.14905018984328233,
          2.3167978527966997,
          0.7364660739370348,
          0.3749318565262947,
          0.9288897792774973,
          -0.1942921808366397,
          0.31374923783511927,
          -0.6079657468292041,
          -0.8364045591854122,
          -0.7840679371807482,
          1.0034262747637828,
          -0.7200611813953035,
          -0.43342952172403715,
          1.3903584368560216,
          1.784088620611003,
          -0.3900662799552978,
          -1.044692625124553,
          -2.5785918159280428,
          -1.3193698884932636,
          0.42305764502783877,
          -0.7275810276248871,
          -1.548623891938159,
          -1.5260330324024227,
          0.7695060065797602,
          1.1205839262677475,
          0.9081501840759503,
          0.2981647176865847,
          -0.5721996866994705,
          -1.5090459367647826,
          0.7506333981343386,
          1.5733004362285037,
          -0.04703705384809499,
          0.4680216085387725,
          2.1063780689833873,
          -0.7299003888097821,
          0.4281522375279572,
          -0.5565964106988283,
          0.5550074331119446,
          1.4538814515840304,
          -0.5242761857362512,
          1.5851144383450977,
          -0.4839271918549374,
          -0.22226391231192297,
          0.20514792900166504,
          0.998486075254841,
          0.4692079876528167,
          0.0922979922432298,
          0.8156064617945102,
          -0.9036920914242179,
          1.3339651888486534,
          0.026011655012142122,
          0.25406908018394436,
          0.39819020629706114,
          0.7408442235335811,
          -0.581680192990201,
          0.7942897499014123,
          0.7588018954892162,
          0.8559649988912167,
          0.5196177194859225,
          0.49615394382343486,
          -1.3180990767373284,
          -0.0655875737773847,
          -1.0299116857455028,
          -0.27845423796497415,
          0.7601800437854018,
          -0.9066027011227964,
          -0.15312376369645234,
          -0.09002463244996343,
          0.7823817781087942,
          -1.0545466362956926,
          -0.46886613067437816
         ],
         "xaxis": "x12",
         "y": [
          0.6660146560201892,
          0.5245301219101601,
          0.43382115747247946,
          0.8922340331365296,
          0.8641193282139618,
          -0.8518098206905238,
          0.18674029589743224,
          -0.014966937815831102,
          0.8551665114170287,
          0.8033261909999732,
          0.7897675971271274,
          1.157613005222821,
          0.5768556584854428,
          0.09813920891181775,
          -0.0944376339307584,
          1.3464222806889485,
          0.11846229120565024,
          -0.009303944483732791,
          1.231058845983251,
          2.2088575509275388,
          -0.5073938218683697,
          0.2556528001810601,
          -0.33435944939541534,
          -0.26933313547809634,
          -0.2399048498378512,
          0.2977345355677345,
          1.0401035561278884,
          -0.5821201256028381,
          0.7723124656962943,
          0.5125797344957835,
          -0.013627234680034723,
          -0.780425103771722,
          -0.11937830807855235,
          -1.509037019591643,
          1.564078622891511,
          2.102246836330988,
          0.5793156107984813,
          -0.3065155403892706,
          0.06770748488154607,
          1.347588081700279,
          0.12928862811571487,
          0.5883049998270433,
          -0.036559080202275024,
          -0.9130238681804977,
          -1.5333996429703753,
          -0.14377471822498186,
          -0.5504419759634435,
          -1.5401212296701923,
          -1.8433989526979813,
          -0.583256548398268,
          0.32345071378172074,
          0.38295802563406856,
          -0.056606779498337347,
          0.8107134398157455,
          0.9601107970202513,
          -1.5712034070309444,
          0.16131022295292374,
          -0.8010373423945429,
          0.4902610871771294,
          -0.11670838307325197,
          -1.1104100431849937,
          0.46191709144271115,
          1.0787446245295178,
          0.1440328540082415,
          0.6524455869633207,
          0.6695182330624644,
          -0.8741455985258808,
          0.054670067158501916,
          1.906599426857935,
          1.1270859571613916,
          -1.7572582737086777,
          -0.29063767269565344,
          -0.056676472901348085,
          0.40500520904624226,
          0.7672363718859002,
          0.8323565380863586,
          0.40169683772101256,
          -1.104880019485082,
          0.49044070982808574,
          -1.5181676326203275,
          0.35957198183196376,
          0.8312408765990674,
          -0.8063142176087974,
          -0.20880199080181536,
          0.5325485848875602,
          -0.5584023159513228,
          2.0180821936843527,
          0.9407008534666642,
          -0.5193374212520715,
          -1.8557339657719096,
          -0.14640750311683007,
          0.9623322966157689,
          1.568791046309809,
          -1.3142857595514221,
          -0.3460336058002607,
          -1.6696987761631563,
          1.0667422218903113,
          -0.8842207201397441,
          -0.2705983021728778,
          0.438881212106342
         ],
         "yaxis": "y12"
        },
        {
         "line": {
          "color": "rgba(128, 128, 128, 1.0)",
          "dash": "solid",
          "shape": "linear",
          "width": 1.3
         },
         "marker": {
          "size": 2,
          "symbol": "circle"
         },
         "mode": "markers",
         "name": "D",
         "text": "",
         "type": "scatter",
         "x": [
          -1.0073261729466096,
          -0.301826627754829,
          -1.3258091049478036,
          -0.6744000156450667,
          -0.26743728287844554,
          -1.492467191205314,
          1.228485669874821,
          0.297631605931466,
          -0.007706474654075611,
          0.4801861273195761,
          -0.3141499344439157,
          -0.9278512211869179,
          1.1482870349654182,
          0.4914376718515416,
          -1.1744033684924902,
          -0.5029865748358517,
          0.9858637581859565,
          0.592217006629086,
          -0.3340518992951397,
          0.46130455603002335,
          0.5027287132393441,
          -1.4998800616878651,
          -0.7486943826550974,
          -0.5516141262843307,
          0.5140648075914177,
          1.5044846136251004,
          -0.6611344152448209,
          0.7563135937797785,
          -0.11066302392048939,
          0.8494163527828413,
          0.09435973167290049,
          0.49818356683625065,
          -0.13176947758476545,
          1.4207872824673087,
          -0.2621115715724141,
          0.21947357321909564,
          -0.3480897670543381,
          0.04149491334806047,
          0.07943000908974779,
          -0.07411215110207361,
          0.2594889463561222,
          -0.47663631782032767,
          0.3242467115656374,
          1.8302298619199808,
          -1.9432368115664143,
          -0.2189352858233352,
          1.846359866280298,
          0.876058830600904,
          2.6915728119078244,
          0.2177170690031045,
          -0.08596250153087334,
          -0.8456288866623545,
          -0.40007697373326406,
          -0.6968622498103859,
          -0.39337374166795647,
          -0.681101123595146,
          0.0316259152663032,
          -0.4427302542551622,
          0.5537435906782517,
          -1.2584298288032274,
          -1.046099839514856,
          -1.174905115257565,
          -0.07866309242507306,
          -0.12903207786603793,
          0.7643887845613722,
          0.3799179997967043,
          -1.7282208840960858,
          1.599006059315004,
          0.28864320933351995,
          0.649047111488827,
          -0.6944742339116875,
          0.06635269835455525,
          -0.03709222459089022,
          0.4747444093165104,
          1.189327433452486,
          -0.3486312644379332,
          -0.985907451363722,
          0.47718682206045304,
          0.48785195488853017,
          -0.09340214361994252,
          0.5838582440954743,
          0.6029501578085649,
          -1.2722812548404407,
          1.0196714702003056,
          -1.5417150851492933,
          0.30687213822907755,
          -0.7977093547888335,
          0.9175863999124476,
          -1.9743768641012278,
          1.382258804306761,
          -0.09241151643597145,
          -1.4804714808711796,
          0.3791475926337954,
          0.6888805927973765,
          0.13574077573200902,
          -0.5470343091362391,
          -1.3071902922310739,
          2.435841976178969,
          -0.12555703688980122,
          0.13282460508933802
         ],
         "xaxis": "x13",
         "y": [
          0.41371642531357067,
          -1.3511298102848268,
          0.1548960633662548,
          0.2928423242436081,
          0.7046512836948919,
          -0.6160201190253954,
          0.544751394270657,
          0.46700210861198205,
          -1.1278814020881793,
          1.1095264509129468,
          0.9871547617479811,
          0.10444303057914157,
          0.404101184393867,
          -2.9148312003696115,
          1.2156172430718628,
          -0.28901698882451426,
          0.14140592739261507,
          -1.9166557047872312,
          -2.3364319402593763,
          0.4592299824160191,
          1.7309655473170684,
          0.19302300285031457,
          0.07416925441607174,
          1.6347327130881728,
          0.08955963658162003,
          1.216997807773552,
          0.3391924959976665,
          0.3049230463012404,
          0.6474674154960272,
          0.14905018984328233,
          2.3167978527966997,
          0.7364660739370348,
          0.3749318565262947,
          0.9288897792774973,
          -0.1942921808366397,
          0.31374923783511927,
          -0.6079657468292041,
          -0.8364045591854122,
          -0.7840679371807482,
          1.0034262747637828,
          -0.7200611813953035,
          -0.43342952172403715,
          1.3903584368560216,
          1.784088620611003,
          -0.3900662799552978,
          -1.044692625124553,
          -2.5785918159280428,
          -1.3193698884932636,
          0.42305764502783877,
          -0.7275810276248871,
          -1.548623891938159,
          -1.5260330324024227,
          0.7695060065797602,
          1.1205839262677475,
          0.9081501840759503,
          0.2981647176865847,
          -0.5721996866994705,
          -1.5090459367647826,
          0.7506333981343386,
          1.5733004362285037,
          -0.04703705384809499,
          0.4680216085387725,
          2.1063780689833873,
          -0.7299003888097821,
          0.4281522375279572,
          -0.5565964106988283,
          0.5550074331119446,
          1.4538814515840304,
          -0.5242761857362512,
          1.5851144383450977,
          -0.4839271918549374,
          -0.22226391231192297,
          0.20514792900166504,
          0.998486075254841,
          0.4692079876528167,
          0.0922979922432298,
          0.8156064617945102,
          -0.9036920914242179,
          1.3339651888486534,
          0.026011655012142122,
          0.25406908018394436,
          0.39819020629706114,
          0.7408442235335811,
          -0.581680192990201,
          0.7942897499014123,
          0.7588018954892162,
          0.8559649988912167,
          0.5196177194859225,
          0.49615394382343486,
          -1.3180990767373284,
          -0.0655875737773847,
          -1.0299116857455028,
          -0.27845423796497415,
          0.7601800437854018,
          -0.9066027011227964,
          -0.15312376369645234,
          -0.09002463244996343,
          0.7823817781087942,
          -1.0545466362956926,
          -0.46886613067437816
         ],
         "yaxis": "y13"
        },
        {
         "line": {
          "color": "rgba(128, 128, 128, 1.0)",
          "dash": "solid",
          "shape": "linear",
          "width": 1.3
         },
         "marker": {
          "size": 2,
          "symbol": "circle"
         },
         "mode": "markers",
         "name": "D",
         "text": "",
         "type": "scatter",
         "x": [
          -0.18779694634083663,
          -0.9768747777936239,
          -0.9617060813443279,
          0.197065643612768,
          1.340929397816748,
          -1.3232533615754345,
          -2.0259340620314905,
          1.3720424743423618,
          0.6520890648028659,
          -0.41932683948669475,
          -1.363335162205523,
          -0.8553587408318004,
          -0.7394635951661027,
          0.25100966446739315,
          0.46718515105682107,
          -0.14146017827537008,
          -0.8279070301033035,
          -1.2119684379998945,
          0.20379101308495634,
          -0.9806731774649406,
          -0.5065649028838257,
          0.2810541046395991,
          -0.31782190707209146,
          -1.555986660814328,
          0.7662497570438935,
          -0.9369888348926171,
          0.27703325083280234,
          -0.6598593028247899,
          -0.9449459439451559,
          1.240520266816322,
          1.4264679639399598,
          -1.1730627067184463,
          -1.5066605928163657,
          0.8353550894476148,
          1.4982801480009753,
          0.8319700031342894,
          -1.1224839719439021,
          1.1185069740427773,
          -0.7614187418957616,
          0.5155454754170532,
          -0.34313811507216047,
          -0.5414476086799445,
          -1.112452714008785,
          0.7326274817406409,
          -0.5943387925000364,
          -0.4768340115793844,
          -1.3461081871655403,
          -0.12933353067823591,
          -0.40297665230636653,
          0.006557246081532544,
          1.3759861896026329,
          0.8846754036912591,
          0.09002571983935631,
          -1.2988629551569582,
          -0.029904874246396315,
          -0.42125574952617945,
          -0.8341864428969682,
          0.7529585537739358,
          -0.7075920400841483,
          -2.1632808308173335,
          1.7443130641008164,
          -0.38944158912883836,
          0.21387131131547868,
          -0.0633731793682945,
          -1.1337636365715162,
          -1.2983826748255411,
          0.20214958039855968,
          0.7709008558343915,
          0.6403445108383367,
          1.4424670532120223,
          0.24946478264779043,
          -0.046289137694677,
          -0.4934786116564103,
          -1.4398876714346023,
          0.31282870406445396,
          -1.423669106617544,
          0.45553142449835166,
          -0.16737708318922284,
          -0.30008922482127587,
          1.909902496996236,
          1.8619771416593967,
          0.09810651617958872,
          0.18514539299598032,
          0.5998217990174387,
          1.0632358038761172,
          -0.5620680822496272,
          0.7183843577275988,
          -1.9999902663899565,
          1.0166886446016847,
          0.2155427008896977,
          -0.7327144551915384,
          0.4835586454875864,
          -0.2782704871827044,
          0.001205405455120271,
          1.1669882507631362,
          -1.6734428564239001,
          -0.5234730162476214,
          -0.13811272513660197,
          0.6254559955851808,
          0.6580416784041457
         ],
         "xaxis": "x14",
         "y": [
          0.41371642531357067,
          -1.3511298102848268,
          0.1548960633662548,
          0.2928423242436081,
          0.7046512836948919,
          -0.6160201190253954,
          0.544751394270657,
          0.46700210861198205,
          -1.1278814020881793,
          1.1095264509129468,
          0.9871547617479811,
          0.10444303057914157,
          0.404101184393867,
          -2.9148312003696115,
          1.2156172430718628,
          -0.28901698882451426,
          0.14140592739261507,
          -1.9166557047872312,
          -2.3364319402593763,
          0.4592299824160191,
          1.7309655473170684,
          0.19302300285031457,
          0.07416925441607174,
          1.6347327130881728,
          0.08955963658162003,
          1.216997807773552,
          0.3391924959976665,
          0.3049230463012404,
          0.6474674154960272,
          0.14905018984328233,
          2.3167978527966997,
          0.7364660739370348,
          0.3749318565262947,
          0.9288897792774973,
          -0.1942921808366397,
          0.31374923783511927,
          -0.6079657468292041,
          -0.8364045591854122,
          -0.7840679371807482,
          1.0034262747637828,
          -0.7200611813953035,
          -0.43342952172403715,
          1.3903584368560216,
          1.784088620611003,
          -0.3900662799552978,
          -1.044692625124553,
          -2.5785918159280428,
          -1.3193698884932636,
          0.42305764502783877,
          -0.7275810276248871,
          -1.548623891938159,
          -1.5260330324024227,
          0.7695060065797602,
          1.1205839262677475,
          0.9081501840759503,
          0.2981647176865847,
          -0.5721996866994705,
          -1.5090459367647826,
          0.7506333981343386,
          1.5733004362285037,
          -0.04703705384809499,
          0.4680216085387725,
          2.1063780689833873,
          -0.7299003888097821,
          0.4281522375279572,
          -0.5565964106988283,
          0.5550074331119446,
          1.4538814515840304,
          -0.5242761857362512,
          1.5851144383450977,
          -0.4839271918549374,
          -0.22226391231192297,
          0.20514792900166504,
          0.998486075254841,
          0.4692079876528167,
          0.0922979922432298,
          0.8156064617945102,
          -0.9036920914242179,
          1.3339651888486534,
          0.026011655012142122,
          0.25406908018394436,
          0.39819020629706114,
          0.7408442235335811,
          -0.581680192990201,
          0.7942897499014123,
          0.7588018954892162,
          0.8559649988912167,
          0.5196177194859225,
          0.49615394382343486,
          -1.3180990767373284,
          -0.0655875737773847,
          -1.0299116857455028,
          -0.27845423796497415,
          0.7601800437854018,
          -0.9066027011227964,
          -0.15312376369645234,
          -0.09002463244996343,
          0.7823817781087942,
          -1.0545466362956926,
          -0.46886613067437816
         ],
         "yaxis": "y14"
        },
        {
         "line": {
          "color": "rgba(128, 128, 128, 1.0)",
          "dash": "solid",
          "shape": "linear",
          "width": 1.3
         },
         "marker": {
          "size": 2,
          "symbol": "circle"
         },
         "mode": "markers",
         "name": "D",
         "text": "",
         "type": "scatter",
         "x": [
          0.6660146560201892,
          0.5245301219101601,
          0.43382115747247946,
          0.8922340331365296,
          0.8641193282139618,
          -0.8518098206905238,
          0.18674029589743224,
          -0.014966937815831102,
          0.8551665114170287,
          0.8033261909999732,
          0.7897675971271274,
          1.157613005222821,
          0.5768556584854428,
          0.09813920891181775,
          -0.0944376339307584,
          1.3464222806889485,
          0.11846229120565024,
          -0.009303944483732791,
          1.231058845983251,
          2.2088575509275388,
          -0.5073938218683697,
          0.2556528001810601,
          -0.33435944939541534,
          -0.26933313547809634,
          -0.2399048498378512,
          0.2977345355677345,
          1.0401035561278884,
          -0.5821201256028381,
          0.7723124656962943,
          0.5125797344957835,
          -0.013627234680034723,
          -0.780425103771722,
          -0.11937830807855235,
          -1.509037019591643,
          1.564078622891511,
          2.102246836330988,
          0.5793156107984813,
          -0.3065155403892706,
          0.06770748488154607,
          1.347588081700279,
          0.12928862811571487,
          0.5883049998270433,
          -0.036559080202275024,
          -0.9130238681804977,
          -1.5333996429703753,
          -0.14377471822498186,
          -0.5504419759634435,
          -1.5401212296701923,
          -1.8433989526979813,
          -0.583256548398268,
          0.32345071378172074,
          0.38295802563406856,
          -0.056606779498337347,
          0.8107134398157455,
          0.9601107970202513,
          -1.5712034070309444,
          0.16131022295292374,
          -0.8010373423945429,
          0.4902610871771294,
          -0.11670838307325197,
          -1.1104100431849937,
          0.46191709144271115,
          1.0787446245295178,
          0.1440328540082415,
          0.6524455869633207,
          0.6695182330624644,
          -0.8741455985258808,
          0.054670067158501916,
          1.906599426857935,
          1.1270859571613916,
          -1.7572582737086777,
          -0.29063767269565344,
          -0.056676472901348085,
          0.40500520904624226,
          0.7672363718859002,
          0.8323565380863586,
          0.40169683772101256,
          -1.104880019485082,
          0.49044070982808574,
          -1.5181676326203275,
          0.35957198183196376,
          0.8312408765990674,
          -0.8063142176087974,
          -0.20880199080181536,
          0.5325485848875602,
          -0.5584023159513228,
          2.0180821936843527,
          0.9407008534666642,
          -0.5193374212520715,
          -1.8557339657719096,
          -0.14640750311683007,
          0.9623322966157689,
          1.568791046309809,
          -1.3142857595514221,
          -0.3460336058002607,
          -1.6696987761631563,
          1.0667422218903113,
          -0.8842207201397441,
          -0.2705983021728778,
          0.438881212106342
         ],
         "xaxis": "x15",
         "y": [
          0.41371642531357067,
          -1.3511298102848268,
          0.1548960633662548,
          0.2928423242436081,
          0.7046512836948919,
          -0.6160201190253954,
          0.544751394270657,
          0.46700210861198205,
          -1.1278814020881793,
          1.1095264509129468,
          0.9871547617479811,
          0.10444303057914157,
          0.404101184393867,
          -2.9148312003696115,
          1.2156172430718628,
          -0.28901698882451426,
          0.14140592739261507,
          -1.9166557047872312,
          -2.3364319402593763,
          0.4592299824160191,
          1.7309655473170684,
          0.19302300285031457,
          0.07416925441607174,
          1.6347327130881728,
          0.08955963658162003,
          1.216997807773552,
          0.3391924959976665,
          0.3049230463012404,
          0.6474674154960272,
          0.14905018984328233,
          2.3167978527966997,
          0.7364660739370348,
          0.3749318565262947,
          0.9288897792774973,
          -0.1942921808366397,
          0.31374923783511927,
          -0.6079657468292041,
          -0.8364045591854122,
          -0.7840679371807482,
          1.0034262747637828,
          -0.7200611813953035,
          -0.43342952172403715,
          1.3903584368560216,
          1.784088620611003,
          -0.3900662799552978,
          -1.044692625124553,
          -2.5785918159280428,
          -1.3193698884932636,
          0.42305764502783877,
          -0.7275810276248871,
          -1.548623891938159,
          -1.5260330324024227,
          0.7695060065797602,
          1.1205839262677475,
          0.9081501840759503,
          0.2981647176865847,
          -0.5721996866994705,
          -1.5090459367647826,
          0.7506333981343386,
          1.5733004362285037,
          -0.04703705384809499,
          0.4680216085387725,
          2.1063780689833873,
          -0.7299003888097821,
          0.4281522375279572,
          -0.5565964106988283,
          0.5550074331119446,
          1.4538814515840304,
          -0.5242761857362512,
          1.5851144383450977,
          -0.4839271918549374,
          -0.22226391231192297,
          0.20514792900166504,
          0.998486075254841,
          0.4692079876528167,
          0.0922979922432298,
          0.8156064617945102,
          -0.9036920914242179,
          1.3339651888486534,
          0.026011655012142122,
          0.25406908018394436,
          0.39819020629706114,
          0.7408442235335811,
          -0.581680192990201,
          0.7942897499014123,
          0.7588018954892162,
          0.8559649988912167,
          0.5196177194859225,
          0.49615394382343486,
          -1.3180990767373284,
          -0.0655875737773847,
          -1.0299116857455028,
          -0.27845423796497415,
          0.7601800437854018,
          -0.9066027011227964,
          -0.15312376369645234,
          -0.09002463244996343,
          0.7823817781087942,
          -1.0545466362956926,
          -0.46886613067437816
         ],
         "yaxis": "y15"
        },
        {
         "histfunc": "count",
         "histnorm": "",
         "marker": {
          "color": "rgba(128, 0, 128, 1.0)",
          "line": {
           "color": "#4D5663",
           "width": 1.3
          }
         },
         "name": "D",
         "nbinsx": 10,
         "opacity": 0.8,
         "orientation": "v",
         "type": "histogram",
         "x": [
          0.41371642531357067,
          -1.3511298102848268,
          0.1548960633662548,
          0.2928423242436081,
          0.7046512836948919,
          -0.6160201190253954,
          0.544751394270657,
          0.46700210861198205,
          -1.1278814020881793,
          1.1095264509129468,
          0.9871547617479811,
          0.10444303057914157,
          0.404101184393867,
          -2.9148312003696115,
          1.2156172430718628,
          -0.28901698882451426,
          0.14140592739261507,
          -1.9166557047872312,
          -2.3364319402593763,
          0.4592299824160191,
          1.7309655473170684,
          0.19302300285031457,
          0.07416925441607174,
          1.6347327130881728,
          0.08955963658162003,
          1.216997807773552,
          0.3391924959976665,
          0.3049230463012404,
          0.6474674154960272,
          0.14905018984328233,
          2.3167978527966997,
          0.7364660739370348,
          0.3749318565262947,
          0.9288897792774973,
          -0.1942921808366397,
          0.31374923783511927,
          -0.6079657468292041,
          -0.8364045591854122,
          -0.7840679371807482,
          1.0034262747637828,
          -0.7200611813953035,
          -0.43342952172403715,
          1.3903584368560216,
          1.784088620611003,
          -0.3900662799552978,
          -1.044692625124553,
          -2.5785918159280428,
          -1.3193698884932636,
          0.42305764502783877,
          -0.7275810276248871,
          -1.548623891938159,
          -1.5260330324024227,
          0.7695060065797602,
          1.1205839262677475,
          0.9081501840759503,
          0.2981647176865847,
          -0.5721996866994705,
          -1.5090459367647826,
          0.7506333981343386,
          1.5733004362285037,
          -0.04703705384809499,
          0.4680216085387725,
          2.1063780689833873,
          -0.7299003888097821,
          0.4281522375279572,
          -0.5565964106988283,
          0.5550074331119446,
          1.4538814515840304,
          -0.5242761857362512,
          1.5851144383450977,
          -0.4839271918549374,
          -0.22226391231192297,
          0.20514792900166504,
          0.998486075254841,
          0.4692079876528167,
          0.0922979922432298,
          0.8156064617945102,
          -0.9036920914242179,
          1.3339651888486534,
          0.026011655012142122,
          0.25406908018394436,
          0.39819020629706114,
          0.7408442235335811,
          -0.581680192990201,
          0.7942897499014123,
          0.7588018954892162,
          0.8559649988912167,
          0.5196177194859225,
          0.49615394382343486,
          -1.3180990767373284,
          -0.0655875737773847,
          -1.0299116857455028,
          -0.27845423796497415,
          0.7601800437854018,
          -0.9066027011227964,
          -0.15312376369645234,
          -0.09002463244996343,
          0.7823817781087942,
          -1.0545466362956926,
          -0.46886613067437816
         ],
         "xaxis": "x16",
         "yaxis": "y16"
        }
       ],
       "layout": {
        "autosize": true,
        "bargap": 0.02,
        "legend": {
         "bgcolor": "#F5F6F9",
         "font": {
          "color": "#4D5663"
         }
        },
        "paper_bgcolor": "#F5F6F9",
        "plot_bgcolor": "#F5F6F9",
        "showlegend": false,
        "template": {
         "data": {
          "bar": [
           {
            "error_x": {
             "color": "#2a3f5f"
            },
            "error_y": {
             "color": "#2a3f5f"
            },
            "marker": {
             "line": {
              "color": "#E5ECF6",
              "width": 0.5
             },
             "pattern": {
              "fillmode": "overlay",
              "size": 10,
              "solidity": 0.2
             }
            },
            "type": "bar"
           }
          ],
          "barpolar": [
           {
            "marker": {
             "line": {
              "color": "#E5ECF6",
              "width": 0.5
             },
             "pattern": {
              "fillmode": "overlay",
              "size": 10,
              "solidity": 0.2
             }
            },
            "type": "barpolar"
           }
          ],
          "carpet": [
           {
            "aaxis": {
             "endlinecolor": "#2a3f5f",
             "gridcolor": "white",
             "linecolor": "white",
             "minorgridcolor": "white",
             "startlinecolor": "#2a3f5f"
            },
            "baxis": {
             "endlinecolor": "#2a3f5f",
             "gridcolor": "white",
             "linecolor": "white",
             "minorgridcolor": "white",
             "startlinecolor": "#2a3f5f"
            },
            "type": "carpet"
           }
          ],
          "choropleth": [
           {
            "colorbar": {
             "outlinewidth": 0,
             "ticks": ""
            },
            "type": "choropleth"
           }
          ],
          "contour": [
           {
            "colorbar": {
             "outlinewidth": 0,
             "ticks": ""
            },
            "colorscale": [
             [
              0,
              "#0d0887"
             ],
             [
              0.1111111111111111,
              "#46039f"
             ],
             [
              0.2222222222222222,
              "#7201a8"
             ],
             [
              0.3333333333333333,
              "#9c179e"
             ],
             [
              0.4444444444444444,
              "#bd3786"
             ],
             [
              0.5555555555555556,
              "#d8576b"
             ],
             [
              0.6666666666666666,
              "#ed7953"
             ],
             [
              0.7777777777777778,
              "#fb9f3a"
             ],
             [
              0.8888888888888888,
              "#fdca26"
             ],
             [
              1,
              "#f0f921"
             ]
            ],
            "type": "contour"
           }
          ],
          "contourcarpet": [
           {
            "colorbar": {
             "outlinewidth": 0,
             "ticks": ""
            },
            "type": "contourcarpet"
           }
          ],
          "heatmap": [
           {
            "colorbar": {
             "outlinewidth": 0,
             "ticks": ""
            },
            "colorscale": [
             [
              0,
              "#0d0887"
             ],
             [
              0.1111111111111111,
              "#46039f"
             ],
             [
              0.2222222222222222,
              "#7201a8"
             ],
             [
              0.3333333333333333,
              "#9c179e"
             ],
             [
              0.4444444444444444,
              "#bd3786"
             ],
             [
              0.5555555555555556,
              "#d8576b"
             ],
             [
              0.6666666666666666,
              "#ed7953"
             ],
             [
              0.7777777777777778,
              "#fb9f3a"
             ],
             [
              0.8888888888888888,
              "#fdca26"
             ],
             [
              1,
              "#f0f921"
             ]
            ],
            "type": "heatmap"
           }
          ],
          "heatmapgl": [
           {
            "colorbar": {
             "outlinewidth": 0,
             "ticks": ""
            },
            "colorscale": [
             [
              0,
              "#0d0887"
             ],
             [
              0.1111111111111111,
              "#46039f"
             ],
             [
              0.2222222222222222,
              "#7201a8"
             ],
             [
              0.3333333333333333,
              "#9c179e"
             ],
             [
              0.4444444444444444,
              "#bd3786"
             ],
             [
              0.5555555555555556,
              "#d8576b"
             ],
             [
              0.6666666666666666,
              "#ed7953"
             ],
             [
              0.7777777777777778,
              "#fb9f3a"
             ],
             [
              0.8888888888888888,
              "#fdca26"
             ],
             [
              1,
              "#f0f921"
             ]
            ],
            "type": "heatmapgl"
           }
          ],
          "histogram": [
           {
            "marker": {
             "pattern": {
              "fillmode": "overlay",
              "size": 10,
              "solidity": 0.2
             }
            },
            "type": "histogram"
           }
          ],
          "histogram2d": [
           {
            "colorbar": {
             "outlinewidth": 0,
             "ticks": ""
            },
            "colorscale": [
             [
              0,
              "#0d0887"
             ],
             [
              0.1111111111111111,
              "#46039f"
             ],
             [
              0.2222222222222222,
              "#7201a8"
             ],
             [
              0.3333333333333333,
              "#9c179e"
             ],
             [
              0.4444444444444444,
              "#bd3786"
             ],
             [
              0.5555555555555556,
              "#d8576b"
             ],
             [
              0.6666666666666666,
              "#ed7953"
             ],
             [
              0.7777777777777778,
              "#fb9f3a"
             ],
             [
              0.8888888888888888,
              "#fdca26"
             ],
             [
              1,
              "#f0f921"
             ]
            ],
            "type": "histogram2d"
           }
          ],
          "histogram2dcontour": [
           {
            "colorbar": {
             "outlinewidth": 0,
             "ticks": ""
            },
            "colorscale": [
             [
              0,
              "#0d0887"
             ],
             [
              0.1111111111111111,
              "#46039f"
             ],
             [
              0.2222222222222222,
              "#7201a8"
             ],
             [
              0.3333333333333333,
              "#9c179e"
             ],
             [
              0.4444444444444444,
              "#bd3786"
             ],
             [
              0.5555555555555556,
              "#d8576b"
             ],
             [
              0.6666666666666666,
              "#ed7953"
             ],
             [
              0.7777777777777778,
              "#fb9f3a"
             ],
             [
              0.8888888888888888,
              "#fdca26"
             ],
             [
              1,
              "#f0f921"
             ]
            ],
            "type": "histogram2dcontour"
           }
          ],
          "mesh3d": [
           {
            "colorbar": {
             "outlinewidth": 0,
             "ticks": ""
            },
            "type": "mesh3d"
           }
          ],
          "parcoords": [
           {
            "line": {
             "colorbar": {
              "outlinewidth": 0,
              "ticks": ""
             }
            },
            "type": "parcoords"
           }
          ],
          "pie": [
           {
            "automargin": true,
            "type": "pie"
           }
          ],
          "scatter": [
           {
            "fillpattern": {
             "fillmode": "overlay",
             "size": 10,
             "solidity": 0.2
            },
            "type": "scatter"
           }
          ],
          "scatter3d": [
           {
            "line": {
             "colorbar": {
              "outlinewidth": 0,
              "ticks": ""
             }
            },
            "marker": {
             "colorbar": {
              "outlinewidth": 0,
              "ticks": ""
             }
            },
            "type": "scatter3d"
           }
          ],
          "scattercarpet": [
           {
            "marker": {
             "colorbar": {
              "outlinewidth": 0,
              "ticks": ""
             }
            },
            "type": "scattercarpet"
           }
          ],
          "scattergeo": [
           {
            "marker": {
             "colorbar": {
              "outlinewidth": 0,
              "ticks": ""
             }
            },
            "type": "scattergeo"
           }
          ],
          "scattergl": [
           {
            "marker": {
             "colorbar": {
              "outlinewidth": 0,
              "ticks": ""
             }
            },
            "type": "scattergl"
           }
          ],
          "scattermapbox": [
           {
            "marker": {
             "colorbar": {
              "outlinewidth": 0,
              "ticks": ""
             }
            },
            "type": "scattermapbox"
           }
          ],
          "scatterpolar": [
           {
            "marker": {
             "colorbar": {
              "outlinewidth": 0,
              "ticks": ""
             }
            },
            "type": "scatterpolar"
           }
          ],
          "scatterpolargl": [
           {
            "marker": {
             "colorbar": {
              "outlinewidth": 0,
              "ticks": ""
             }
            },
            "type": "scatterpolargl"
           }
          ],
          "scatterternary": [
           {
            "marker": {
             "colorbar": {
              "outlinewidth": 0,
              "ticks": ""
             }
            },
            "type": "scatterternary"
           }
          ],
          "surface": [
           {
            "colorbar": {
             "outlinewidth": 0,
             "ticks": ""
            },
            "colorscale": [
             [
              0,
              "#0d0887"
             ],
             [
              0.1111111111111111,
              "#46039f"
             ],
             [
              0.2222222222222222,
              "#7201a8"
             ],
             [
              0.3333333333333333,
              "#9c179e"
             ],
             [
              0.4444444444444444,
              "#bd3786"
             ],
             [
              0.5555555555555556,
              "#d8576b"
             ],
             [
              0.6666666666666666,
              "#ed7953"
             ],
             [
              0.7777777777777778,
              "#fb9f3a"
             ],
             [
              0.8888888888888888,
              "#fdca26"
             ],
             [
              1,
              "#f0f921"
             ]
            ],
            "type": "surface"
           }
          ],
          "table": [
           {
            "cells": {
             "fill": {
              "color": "#EBF0F8"
             },
             "line": {
              "color": "white"
             }
            },
            "header": {
             "fill": {
              "color": "#C8D4E3"
             },
             "line": {
              "color": "white"
             }
            },
            "type": "table"
           }
          ]
         },
         "layout": {
          "annotationdefaults": {
           "arrowcolor": "#2a3f5f",
           "arrowhead": 0,
           "arrowwidth": 1
          },
          "autotypenumbers": "strict",
          "coloraxis": {
           "colorbar": {
            "outlinewidth": 0,
            "ticks": ""
           }
          },
          "colorscale": {
           "diverging": [
            [
             0,
             "#8e0152"
            ],
            [
             0.1,
             "#c51b7d"
            ],
            [
             0.2,
             "#de77ae"
            ],
            [
             0.3,
             "#f1b6da"
            ],
            [
             0.4,
             "#fde0ef"
            ],
            [
             0.5,
             "#f7f7f7"
            ],
            [
             0.6,
             "#e6f5d0"
            ],
            [
             0.7,
             "#b8e186"
            ],
            [
             0.8,
             "#7fbc41"
            ],
            [
             0.9,
             "#4d9221"
            ],
            [
             1,
             "#276419"
            ]
           ],
           "sequential": [
            [
             0,
             "#0d0887"
            ],
            [
             0.1111111111111111,
             "#46039f"
            ],
            [
             0.2222222222222222,
             "#7201a8"
            ],
            [
             0.3333333333333333,
             "#9c179e"
            ],
            [
             0.4444444444444444,
             "#bd3786"
            ],
            [
             0.5555555555555556,
             "#d8576b"
            ],
            [
             0.6666666666666666,
             "#ed7953"
            ],
            [
             0.7777777777777778,
             "#fb9f3a"
            ],
            [
             0.8888888888888888,
             "#fdca26"
            ],
            [
             1,
             "#f0f921"
            ]
           ],
           "sequentialminus": [
            [
             0,
             "#0d0887"
            ],
            [
             0.1111111111111111,
             "#46039f"
            ],
            [
             0.2222222222222222,
             "#7201a8"
            ],
            [
             0.3333333333333333,
             "#9c179e"
            ],
            [
             0.4444444444444444,
             "#bd3786"
            ],
            [
             0.5555555555555556,
             "#d8576b"
            ],
            [
             0.6666666666666666,
             "#ed7953"
            ],
            [
             0.7777777777777778,
             "#fb9f3a"
            ],
            [
             0.8888888888888888,
             "#fdca26"
            ],
            [
             1,
             "#f0f921"
            ]
           ]
          },
          "colorway": [
           "#636efa",
           "#EF553B",
           "#00cc96",
           "#ab63fa",
           "#FFA15A",
           "#19d3f3",
           "#FF6692",
           "#B6E880",
           "#FF97FF",
           "#FECB52"
          ],
          "font": {
           "color": "#2a3f5f"
          },
          "geo": {
           "bgcolor": "white",
           "lakecolor": "white",
           "landcolor": "#E5ECF6",
           "showlakes": true,
           "showland": true,
           "subunitcolor": "white"
          },
          "hoverlabel": {
           "align": "left"
          },
          "hovermode": "closest",
          "mapbox": {
           "style": "light"
          },
          "paper_bgcolor": "white",
          "plot_bgcolor": "#E5ECF6",
          "polar": {
           "angularaxis": {
            "gridcolor": "white",
            "linecolor": "white",
            "ticks": ""
           },
           "bgcolor": "#E5ECF6",
           "radialaxis": {
            "gridcolor": "white",
            "linecolor": "white",
            "ticks": ""
           }
          },
          "scene": {
           "xaxis": {
            "backgroundcolor": "#E5ECF6",
            "gridcolor": "white",
            "gridwidth": 2,
            "linecolor": "white",
            "showbackground": true,
            "ticks": "",
            "zerolinecolor": "white"
           },
           "yaxis": {
            "backgroundcolor": "#E5ECF6",
            "gridcolor": "white",
            "gridwidth": 2,
            "linecolor": "white",
            "showbackground": true,
            "ticks": "",
            "zerolinecolor": "white"
           },
           "zaxis": {
            "backgroundcolor": "#E5ECF6",
            "gridcolor": "white",
            "gridwidth": 2,
            "linecolor": "white",
            "showbackground": true,
            "ticks": "",
            "zerolinecolor": "white"
           }
          },
          "shapedefaults": {
           "line": {
            "color": "#2a3f5f"
           }
          },
          "ternary": {
           "aaxis": {
            "gridcolor": "white",
            "linecolor": "white",
            "ticks": ""
           },
           "baxis": {
            "gridcolor": "white",
            "linecolor": "white",
            "ticks": ""
           },
           "bgcolor": "#E5ECF6",
           "caxis": {
            "gridcolor": "white",
            "linecolor": "white",
            "ticks": ""
           }
          },
          "title": {
           "x": 0.05
          },
          "xaxis": {
           "automargin": true,
           "gridcolor": "white",
           "linecolor": "white",
           "ticks": "",
           "title": {
            "standoff": 15
           },
           "zerolinecolor": "white",
           "zerolinewidth": 2
          },
          "yaxis": {
           "automargin": true,
           "gridcolor": "white",
           "linecolor": "white",
           "ticks": "",
           "title": {
            "standoff": 15
           },
           "zerolinecolor": "white",
           "zerolinewidth": 2
          }
         }
        },
        "title": {
         "font": {
          "color": "#4D5663"
         }
        },
        "xaxis": {
         "anchor": "y",
         "autorange": false,
         "domain": [
          0,
          0.2125
         ],
         "gridcolor": "#E1E5ED",
         "range": [
          -0.75,
          1.75
         ],
         "showgrid": false,
         "tickfont": {
          "color": "#4D5663"
         },
         "title": {
          "font": {
           "color": "#4D5663"
          },
          "text": ""
         },
         "type": "linear",
         "zerolinecolor": "#E1E5ED"
        },
        "xaxis10": {
         "anchor": "y10",
         "autorange": false,
         "domain": [
          0.2625,
          0.475
         ],
         "gridcolor": "#E1E5ED",
         "range": [
          -1.351141552829949,
          1.0977632190088453
         ],
         "showgrid": false,
         "tickfont": {
          "color": "#4D5663"
         },
         "title": {
          "font": {
           "color": "#4D5663"
          },
          "text": ""
         },
         "type": "linear",
         "zerolinecolor": "#E1E5ED"
        },
        "xaxis11": {
         "anchor": "y11",
         "autorange": false,
         "domain": [
          0.525,
          0.7375
         ],
         "gridcolor": "#E1E5ED",
         "range": [
          -0.875,
          1.375
         ],
         "showgrid": false,
         "tickfont": {
          "color": "#4D5663"
         },
         "title": {
          "font": {
           "color": "#4D5663"
          },
          "text": ""
         },
         "type": "linear",
         "zerolinecolor": "#E1E5ED"
        },
        "xaxis12": {
         "anchor": "y12",
         "autorange": false,
         "domain": [
          0.7875,
          1
         ],
         "gridcolor": "#E1E5ED",
         "range": [
          -1.871713054195454,
          1.2736797066225656
         ],
         "showgrid": false,
         "tickfont": {
          "color": "#4D5663"
         },
         "title": {
          "font": {
           "color": "#4D5663"
          },
          "text": ""
         },
         "type": "linear",
         "zerolinecolor": "#E1E5ED"
        },
        "xaxis13": {
         "anchor": "y13",
         "autorange": false,
         "domain": [
          0,
          0.2125
         ],
         "gridcolor": "#E1E5ED",
         "range": [
          -1.0440477588228787,
          1.76124370662948
         ],
         "showgrid": false,
         "tickfont": {
          "color": "#4D5663"
         },
         "title": {
          "font": {
           "color": "#4D5663"
          },
          "text": ""
         },
         "type": "linear",
         "zerolinecolor": "#E1E5ED"
        },
        "xaxis14": {
         "anchor": "y14",
         "autorange": false,
         "domain": [
          0.2625,
          0.475
         ],
         "gridcolor": "#E1E5ED",
         "range": [
          -1.351141552829949,
          1.0977632190088453
         ],
         "showgrid": false,
         "tickfont": {
          "color": "#4D5663"
         },
         "title": {
          "font": {
           "color": "#4D5663"
          },
          "text": ""
         },
         "type": "linear",
         "zerolinecolor": "#E1E5ED"
        },
        "xaxis15": {
         "anchor": "y15",
         "autorange": false,
         "domain": [
          0.525,
          0.7375
         ],
         "gridcolor": "#E1E5ED",
         "range": [
          -1.0453077821171766,
          1.3984313672728481
         ],
         "showgrid": false,
         "tickfont": {
          "color": "#4D5663"
         },
         "title": {
          "font": {
           "color": "#4D5663"
          },
          "text": ""
         },
         "type": "linear",
         "zerolinecolor": "#E1E5ED"
        },
        "xaxis16": {
         "anchor": "y16",
         "autorange": false,
         "domain": [
          0.7875,
          1
         ],
         "gridcolor": "#E1E5ED",
         "range": [
          -1.5,
          1.5
         ],
         "showgrid": false,
         "tickfont": {
          "color": "#4D5663"
         },
         "title": {
          "font": {
           "color": "#4D5663"
          },
          "text": ""
         },
         "type": "linear",
         "zerolinecolor": "#E1E5ED"
        },
        "xaxis2": {
         "anchor": "y2",
         "autorange": false,
         "domain": [
          0.2625,
          0.475
         ],
         "gridcolor": "#E1E5ED",
         "range": [
          -1.351141552829949,
          1.0977632190088453
         ],
         "showgrid": false,
         "tickfont": {
          "color": "#4D5663"
         },
         "title": {
          "font": {
           "color": "#4D5663"
          },
          "text": ""
         },
         "type": "linear",
         "zerolinecolor": "#E1E5ED"
        },
        "xaxis3": {
         "anchor": "y3",
         "autorange": false,
         "domain": [
          0.525,
          0.7375
         ],
         "gridcolor": "#E1E5ED",
         "range": [
          -1.0453077821171766,
          1.3984313672728481
         ],
         "showgrid": false,
         "tickfont": {
          "color": "#4D5663"
         },
         "title": {
          "font": {
           "color": "#4D5663"
          },
          "text": ""
         },
         "type": "linear",
         "zerolinecolor": "#E1E5ED"
        },
        "xaxis4": {
         "anchor": "y4",
         "autorange": false,
         "domain": [
          0.7875,
          1
         ],
         "gridcolor": "#E1E5ED",
         "range": [
          -1.871713054195454,
          1.2736797066225656
         ],
         "showgrid": false,
         "tickfont": {
          "color": "#4D5663"
         },
         "title": {
          "font": {
           "color": "#4D5663"
          },
          "text": ""
         },
         "type": "linear",
         "zerolinecolor": "#E1E5ED"
        },
        "xaxis5": {
         "anchor": "y5",
         "autorange": false,
         "domain": [
          0,
          0.2125
         ],
         "gridcolor": "#E1E5ED",
         "range": [
          -1.0440477588228787,
          1.76124370662948
         ],
         "showgrid": false,
         "tickfont": {
          "color": "#4D5663"
         },
         "title": {
          "font": {
           "color": "#4D5663"
          },
          "text": ""
         },
         "type": "linear",
         "zerolinecolor": "#E1E5ED"
        },
        "xaxis6": {
         "anchor": "y6",
         "autorange": false,
         "domain": [
          0.2625,
          0.475
         ],
         "gridcolor": "#E1E5ED",
         "range": [
          -1.375,
          0.875
         ],
         "showgrid": false,
         "tickfont": {
          "color": "#4D5663"
         },
         "title": {
          "font": {
           "color": "#4D5663"
          },
          "text": ""
         },
         "type": "linear",
         "zerolinecolor": "#E1E5ED"
        },
        "xaxis7": {
         "anchor": "y7",
         "autorange": false,
         "domain": [
          0.525,
          0.7375
         ],
         "gridcolor": "#E1E5ED",
         "range": [
          -1.0453077821171766,
          1.3984313672728481
         ],
         "showgrid": false,
         "tickfont": {
          "color": "#4D5663"
         },
         "title": {
          "font": {
           "color": "#4D5663"
          },
          "text": ""
         },
         "type": "linear",
         "zerolinecolor": "#E1E5ED"
        },
        "xaxis8": {
         "anchor": "y8",
         "autorange": false,
         "domain": [
          0.7875,
          1
         ],
         "gridcolor": "#E1E5ED",
         "range": [
          -1.871713054195454,
          1.2736797066225656
         ],
         "showgrid": false,
         "tickfont": {
          "color": "#4D5663"
         },
         "title": {
          "font": {
           "color": "#4D5663"
          },
          "text": ""
         },
         "type": "linear",
         "zerolinecolor": "#E1E5ED"
        },
        "xaxis9": {
         "anchor": "y9",
         "autorange": false,
         "domain": [
          0,
          0.2125
         ],
         "gridcolor": "#E1E5ED",
         "range": [
          -1.0440477588228787,
          1.76124370662948
         ],
         "showgrid": false,
         "tickfont": {
          "color": "#4D5663"
         },
         "title": {
          "font": {
           "color": "#4D5663"
          },
          "text": ""
         },
         "type": "linear",
         "zerolinecolor": "#E1E5ED"
        },
        "yaxis": {
         "anchor": "x",
         "autorange": false,
         "domain": [
          0.8025,
          1
         ],
         "gridcolor": "#E1E5ED",
         "range": [
          6.052631578947424,
          18.15789473684216
         ],
         "showgrid": false,
         "tickfont": {
          "color": "#4D5663"
         },
         "title": {
          "font": {
           "color": "#4D5663"
          },
          "text": ""
         },
         "zerolinecolor": "#E1E5ED"
        },
        "yaxis10": {
         "anchor": "x10",
         "autorange": false,
         "domain": [
          0.2675,
          0.465
         ],
         "gridcolor": "#E1E5ED",
         "range": [
          -1.213092260304151,
          1.5662158454597535
         ],
         "showgrid": false,
         "tickfont": {
          "color": "#4D5663"
         },
         "title": {
          "font": {
           "color": "#4D5663"
          },
          "text": ""
         },
         "type": "linear",
         "zerolinecolor": "#E1E5ED"
        },
        "yaxis11": {
         "anchor": "x11",
         "autorange": false,
         "domain": [
          0.2675,
          0.465
         ],
         "gridcolor": "#E1E5ED",
         "range": [
          5.78947368421059,
          17.368421052631643
         ],
         "showgrid": false,
         "tickfont": {
          "color": "#4D5663"
         },
         "title": {
          "font": {
           "color": "#4D5663"
          },
          "text": ""
         },
         "zerolinecolor": "#E1E5ED"
        },
        "yaxis12": {
         "anchor": "x12",
         "autorange": false,
         "domain": [
          0.2675,
          0.465
         ],
         "gridcolor": "#E1E5ED",
         "range": [
          -1.213092260304151,
          1.5662158454597535
         ],
         "showgrid": false,
         "tickfont": {
          "color": "#4D5663"
         },
         "title": {
          "font": {
           "color": "#4D5663"
          },
          "text": ""
         },
         "type": "linear",
         "zerolinecolor": "#E1E5ED"
        },
        "yaxis13": {
         "anchor": "x13",
         "autorange": false,
         "domain": [
          0,
          0.1975
         ],
         "gridcolor": "#E1E5ED",
         "range": [
          -2.087672307947483,
          1.4896389603745466
         ],
         "showgrid": false,
         "tickfont": {
          "color": "#4D5663"
         },
         "title": {
          "font": {
           "color": "#4D5663"
          },
          "text": ""
         },
         "type": "linear",
         "zerolinecolor": "#E1E5ED"
        },
        "yaxis14": {
         "anchor": "x14",
         "autorange": false,
         "domain": [
          0,
          0.1975
         ],
         "gridcolor": "#E1E5ED",
         "range": [
          -2.087672307947483,
          1.4896389603745466
         ],
         "showgrid": false,
         "tickfont": {
          "color": "#4D5663"
         },
         "title": {
          "font": {
           "color": "#4D5663"
          },
          "text": ""
         },
         "type": "linear",
         "zerolinecolor": "#E1E5ED"
        },
        "yaxis15": {
         "anchor": "x15",
         "autorange": false,
         "domain": [
          0,
          0.1975
         ],
         "gridcolor": "#E1E5ED",
         "range": [
          -2.087672307947483,
          1.4896389603745466
         ],
         "showgrid": false,
         "tickfont": {
          "color": "#4D5663"
         },
         "title": {
          "font": {
           "color": "#4D5663"
          },
          "text": ""
         },
         "type": "linear",
         "zerolinecolor": "#E1E5ED"
        },
        "yaxis16": {
         "anchor": "x16",
         "autorange": false,
         "domain": [
          0,
          0.1975
         ],
         "gridcolor": "#E1E5ED",
         "range": [
          12.105263157894848,
          36.31578947368432
         ],
         "showgrid": false,
         "tickfont": {
          "color": "#4D5663"
         },
         "title": {
          "font": {
           "color": "#4D5663"
          },
          "text": ""
         },
         "zerolinecolor": "#E1E5ED"
        },
        "yaxis2": {
         "anchor": "x2",
         "autorange": false,
         "domain": [
          0.8025,
          1
         ],
         "gridcolor": "#E1E5ED",
         "range": [
          -1.2366560266941484,
          1.953851974500731
         ],
         "showgrid": false,
         "tickfont": {
          "color": "#4D5663"
         },
         "title": {
          "font": {
           "color": "#4D5663"
          },
          "text": ""
         },
         "type": "linear",
         "zerolinecolor": "#E1E5ED"
        },
        "yaxis3": {
         "anchor": "x3",
         "autorange": false,
         "domain": [
          0.8025,
          1
         ],
         "gridcolor": "#E1E5ED",
         "range": [
          -1.2366560266941484,
          1.953851974500731
         ],
         "showgrid": false,
         "tickfont": {
          "color": "#4D5663"
         },
         "title": {
          "font": {
           "color": "#4D5663"
          },
          "text": ""
         },
         "type": "linear",
         "zerolinecolor": "#E1E5ED"
        },
        "yaxis4": {
         "anchor": "x4",
         "autorange": false,
         "domain": [
          0.8025,
          1
         ],
         "gridcolor": "#E1E5ED",
         "range": [
          -1.2366560266941484,
          1.953851974500731
         ],
         "showgrid": false,
         "tickfont": {
          "color": "#4D5663"
         },
         "title": {
          "font": {
           "color": "#4D5663"
          },
          "text": ""
         },
         "type": "linear",
         "zerolinecolor": "#E1E5ED"
        },
        "yaxis5": {
         "anchor": "x5",
         "autorange": false,
         "domain": [
          0.535,
          0.7325
         ],
         "gridcolor": "#E1E5ED",
         "range": [
          -1.5192806970487838,
          1.2659023632276614
         ],
         "showgrid": false,
         "tickfont": {
          "color": "#4D5663"
         },
         "title": {
          "font": {
           "color": "#4D5663"
          },
          "text": ""
         },
         "type": "linear",
         "zerolinecolor": "#E1E5ED"
        },
        "yaxis6": {
         "anchor": "x6",
         "autorange": false,
         "domain": [
          0.535,
          0.7325
         ],
         "gridcolor": "#E1E5ED",
         "range": [
          4.736842105263143,
          14.210526315789458
         ],
         "showgrid": false,
         "tickfont": {
          "color": "#4D5663"
         },
         "title": {
          "font": {
           "color": "#4D5663"
          },
          "text": ""
         },
         "zerolinecolor": "#E1E5ED"
        },
        "yaxis7": {
         "anchor": "x7",
         "autorange": false,
         "domain": [
          0.535,
          0.7325
         ],
         "gridcolor": "#E1E5ED",
         "range": [
          -1.5192806970487838,
          1.2659023632276614
         ],
         "showgrid": false,
         "tickfont": {
          "color": "#4D5663"
         },
         "title": {
          "font": {
           "color": "#4D5663"
          },
          "text": ""
         },
         "type": "linear",
         "zerolinecolor": "#E1E5ED"
        },
        "yaxis8": {
         "anchor": "x8",
         "autorange": false,
         "domain": [
          0.535,
          0.7325
         ],
         "gridcolor": "#E1E5ED",
         "range": [
          -1.5192806970487838,
          1.2659023632276614
         ],
         "showgrid": false,
         "tickfont": {
          "color": "#4D5663"
         },
         "title": {
          "font": {
           "color": "#4D5663"
          },
          "text": ""
         },
         "type": "linear",
         "zerolinecolor": "#E1E5ED"
        },
        "yaxis9": {
         "anchor": "x9",
         "autorange": false,
         "domain": [
          0.2675,
          0.465
         ],
         "gridcolor": "#E1E5ED",
         "range": [
          -1.213092260304151,
          1.5662158454597535
         ],
         "showgrid": false,
         "tickfont": {
          "color": "#4D5663"
         },
         "title": {
          "font": {
           "color": "#4D5663"
          },
          "text": ""
         },
         "type": "linear",
         "zerolinecolor": "#E1E5ED"
        }
       }
      },
      "image/png": "[encoded data removed]",
      "text/html": [
       "<div>                            <div id=\"7992472d-431d-4b4b-88b7-b1db1474eee4\" class=\"plotly-graph-div\" style=\"height:525px; width:100%;\"></div>            <script type=\"text/javascript\">                require([\"plotly\"], function(Plotly) {                    window.PLOTLYENV=window.PLOTLYENV || {};\n",
       "                    window.PLOTLYENV.BASE_URL='https://plot.ly';                                    if (document.getElementById(\"7992472d-431d-4b4b-88b7-b1db1474eee4\")) {                    Plotly.newPlot(                        \"7992472d-431d-4b4b-88b7-b1db1474eee4\",                        [{\"histfunc\":\"count\",\"histnorm\":\"\",\"marker\":{\"color\":\"rgba(255, 153, 51, 1.0)\",\"line\":{\"color\":\"#4D5663\",\"width\":1.3}},\"name\":\"A\",\"nbinsx\":10,\"opacity\":0.8,\"orientation\":\"v\",\"x\":[-1.0073261729466096,-0.301826627754829,-1.3258091049478036,-0.6744000156450667,-0.26743728287844554,-1.492467191205314,1.228485669874821,0.297631605931466,-0.007706474654075611,0.4801861273195761,-0.3141499344439157,-0.9278512211869179,1.1482870349654182,0.4914376718515416,-1.1744033684924902,-0.5029865748358517,0.9858637581859565,0.592217006629086,-0.3340518992951397,0.46130455603002335,0.5027287132393441,-1.4998800616878651,-0.7486943826550974,-0.5516141262843307,0.5140648075914177,1.5044846136251004,-0.6611344152448209,0.7563135937797785,-0.11066302392048939,0.8494163527828413,0.09435973167290049,0.49818356683625065,-0.13176947758476545,1.4207872824673087,-0.2621115715724141,0.21947357321909564,-0.3480897670543381,0.04149491334806047,0.07943000908974779,-0.07411215110207361,0.2594889463561222,-0.47663631782032767,0.3242467115656374,1.8302298619199808,-1.9432368115664143,-0.2189352858233352,1.846359866280298,0.876058830600904,2.6915728119078244,0.2177170690031045,-0.08596250153087334,-0.8456288866623545,-0.40007697373326406,-0.6968622498103859,-0.39337374166795647,-0.681101123595146,0.0316259152663032,-0.4427302542551622,0.5537435906782517,-1.2584298288032274,-1.046099839514856,-1.174905115257565,-0.07866309242507306,-0.12903207786603793,0.7643887845613722,0.3799179997967043,-1.7282208840960858,1.599006059315004,0.28864320933351995,0.649047111488827,-0.6944742339116875,0.06635269835455525,-0.03709222459089022,0.4747444093165104,1.189327433452486,-0.3486312644379332,-0.985907451363722,0.47718682206045304,0.48785195488853017,-0.09340214361994252,0.5838582440954743,0.6029501578085649,-1.2722812548404407,1.0196714702003056,-1.5417150851492933,0.30687213822907755,-0.7977093547888335,0.9175863999124476,-1.9743768641012278,1.382258804306761,-0.09241151643597145,-1.4804714808711796,0.3791475926337954,0.6888805927973765,0.13574077573200902,-0.5470343091362391,-1.3071902922310739,2.435841976178969,-0.12555703688980122,0.13282460508933802],\"xaxis\":\"x\",\"yaxis\":\"y\",\"type\":\"histogram\"},{\"line\":{\"color\":\"rgba(128, 128, 128, 1.0)\",\"dash\":\"solid\",\"shape\":\"linear\",\"width\":1.3},\"marker\":{\"size\":2,\"symbol\":\"circle\"},\"mode\":\"markers\",\"name\":\"A\",\"text\":\"\",\"x\":[-0.18779694634083663,-0.9768747777936239,-0.9617060813443279,0.197065643612768,1.340929397816748,-1.3232533615754345,-2.0259340620314905,1.3720424743423618,0.6520890648028659,-0.41932683948669475,-1.363335162205523,-0.8553587408318004,-0.7394635951661027,0.25100966446739315,0.46718515105682107,-0.14146017827537008,-0.8279070301033035,-1.2119684379998945,0.20379101308495634,-0.9806731774649406,-0.5065649028838257,0.2810541046395991,-0.31782190707209146,-1.555986660814328,0.7662497570438935,-0.9369888348926171,0.27703325083280234,-0.6598593028247899,-0.9449459439451559,1.240520266816322,1.4264679639399598,-1.1730627067184463,-1.5066605928163657,0.8353550894476148,1.4982801480009753,0.8319700031342894,-1.1224839719439021,1.1185069740427773,-0.7614187418957616,0.5155454754170532,-0.34313811507216047,-0.5414476086799445,-1.112452714008785,0.7326274817406409,-0.5943387925000364,-0.4768340115793844,-1.3461081871655403,-0.12933353067823591,-0.40297665230636653,0.006557246081532544,1.3759861896026329,0.8846754036912591,0.09002571983935631,-1.2988629551569582,-0.029904874246396315,-0.42125574952617945,-0.8341864428969682,0.7529585537739358,-0.7075920400841483,-2.1632808308173335,1.7443130641008164,-0.38944158912883836,0.21387131131547868,-0.0633731793682945,-1.1337636365715162,-1.2983826748255411,0.20214958039855968,0.7709008558343915,0.6403445108383367,1.4424670532120223,0.24946478264779043,-0.046289137694677,-0.4934786116564103,-1.4398876714346023,0.31282870406445396,-1.423669106617544,0.45553142449835166,-0.16737708318922284,-0.30008922482127587,1.909902496996236,1.8619771416593967,0.09810651617958872,0.18514539299598032,0.5998217990174387,1.0632358038761172,-0.5620680822496272,0.7183843577275988,-1.9999902663899565,1.0166886446016847,0.2155427008896977,-0.7327144551915384,0.4835586454875864,-0.2782704871827044,0.001205405455120271,1.1669882507631362,-1.6734428564239001,-0.5234730162476214,-0.13811272513660197,0.6254559955851808,0.6580416784041457],\"xaxis\":\"x2\",\"y\":[-1.0073261729466096,-0.301826627754829,-1.3258091049478036,-0.6744000156450667,-0.26743728287844554,-1.492467191205314,1.228485669874821,0.297631605931466,-0.007706474654075611,0.4801861273195761,-0.3141499344439157,-0.9278512211869179,1.1482870349654182,0.4914376718515416,-1.1744033684924902,-0.5029865748358517,0.9858637581859565,0.592217006629086,-0.3340518992951397,0.46130455603002335,0.5027287132393441,-1.4998800616878651,-0.7486943826550974,-0.5516141262843307,0.5140648075914177,1.5044846136251004,-0.6611344152448209,0.7563135937797785,-0.11066302392048939,0.8494163527828413,0.09435973167290049,0.49818356683625065,-0.13176947758476545,1.4207872824673087,-0.2621115715724141,0.21947357321909564,-0.3480897670543381,0.04149491334806047,0.07943000908974779,-0.07411215110207361,0.2594889463561222,-0.47663631782032767,0.3242467115656374,1.8302298619199808,-1.9432368115664143,-0.2189352858233352,1.846359866280298,0.876058830600904,2.6915728119078244,0.2177170690031045,-0.08596250153087334,-0.8456288866623545,-0.40007697373326406,-0.6968622498103859,-0.39337374166795647,-0.681101123595146,0.0316259152663032,-0.4427302542551622,0.5537435906782517,-1.2584298288032274,-1.046099839514856,-1.174905115257565,-0.07866309242507306,-0.12903207786603793,0.7643887845613722,0.3799179997967043,-1.7282208840960858,1.599006059315004,0.28864320933351995,0.649047111488827,-0.6944742339116875,0.06635269835455525,-0.03709222459089022,0.4747444093165104,1.189327433452486,-0.3486312644379332,-0.985907451363722,0.47718682206045304,0.48785195488853017,-0.09340214361994252,0.5838582440954743,0.6029501578085649,-1.2722812548404407,1.0196714702003056,-1.5417150851492933,0.30687213822907755,-0.7977093547888335,0.9175863999124476,-1.9743768641012278,1.382258804306761,-0.09241151643597145,-1.4804714808711796,0.3791475926337954,0.6888805927973765,0.13574077573200902,-0.5470343091362391,-1.3071902922310739,2.435841976178969,-0.12555703688980122,0.13282460508933802],\"yaxis\":\"y2\",\"type\":\"scatter\"},{\"line\":{\"color\":\"rgba(128, 128, 128, 1.0)\",\"dash\":\"solid\",\"shape\":\"linear\",\"width\":1.3},\"marker\":{\"size\":2,\"symbol\":\"circle\"},\"mode\":\"markers\",\"name\":\"A\",\"text\":\"\",\"x\":[0.6660146560201892,0.5245301219101601,0.43382115747247946,0.8922340331365296,0.8641193282139618,-0.8518098206905238,0.18674029589743224,-0.014966937815831102,0.8551665114170287,0.8033261909999732,0.7897675971271274,1.157613005222821,0.5768556584854428,0.09813920891181775,-0.0944376339307584,1.3464222806889485,0.11846229120565024,-0.009303944483732791,1.231058845983251,2.2088575509275388,-0.5073938218683697,0.2556528001810601,-0.33435944939541534,-0.26933313547809634,-0.2399048498378512,0.2977345355677345,1.0401035561278884,-0.5821201256028381,0.7723124656962943,0.5125797344957835,-0.013627234680034723,-0.780425103771722,-0.11937830807855235,-1.509037019591643,1.564078622891511,2.102246836330988,0.5793156107984813,-0.3065155403892706,0.06770748488154607,1.347588081700279,0.12928862811571487,0.5883049998270433,-0.036559080202275024,-0.9130238681804977,-1.5333996429703753,-0.14377471822498186,-0.5504419759634435,-1.5401212296701923,-1.8433989526979813,-0.583256548398268,0.32345071378172074,0.38295802563406856,-0.056606779498337347,0.8107134398157455,0.9601107970202513,-1.5712034070309444,0.16131022295292374,-0.8010373423945429,0.4902610871771294,-0.11670838307325197,-1.1104100431849937,0.46191709144271115,1.0787446245295178,0.1440328540082415,0.6524455869633207,0.6695182330624644,-0.8741455985258808,0.054670067158501916,1.906599426857935,1.1270859571613916,-1.7572582737086777,-0.29063767269565344,-0.056676472901348085,0.40500520904624226,0.7672363718859002,0.8323565380863586,0.40169683772101256,-1.104880019485082,0.49044070982808574,-1.5181676326203275,0.35957198183196376,0.8312408765990674,-0.8063142176087974,-0.20880199080181536,0.5325485848875602,-0.5584023159513228,2.0180821936843527,0.9407008534666642,-0.5193374212520715,-1.8557339657719096,-0.14640750311683007,0.9623322966157689,1.568791046309809,-1.3142857595514221,-0.3460336058002607,-1.6696987761631563,1.0667422218903113,-0.8842207201397441,-0.2705983021728778,0.438881212106342],\"xaxis\":\"x3\",\"y\":[-1.0073261729466096,-0.301826627754829,-1.3258091049478036,-0.6744000156450667,-0.26743728287844554,-1.492467191205314,1.228485669874821,0.297631605931466,-0.007706474654075611,0.4801861273195761,-0.3141499344439157,-0.9278512211869179,1.1482870349654182,0.4914376718515416,-1.1744033684924902,-0.5029865748358517,0.9858637581859565,0.592217006629086,-0.3340518992951397,0.46130455603002335,0.5027287132393441,-1.4998800616878651,-0.7486943826550974,-0.5516141262843307,0.5140648075914177,1.5044846136251004,-0.6611344152448209,0.7563135937797785,-0.11066302392048939,0.8494163527828413,0.09435973167290049,0.49818356683625065,-0.13176947758476545,1.4207872824673087,-0.2621115715724141,0.21947357321909564,-0.3480897670543381,0.04149491334806047,0.07943000908974779,-0.07411215110207361,0.2594889463561222,-0.47663631782032767,0.3242467115656374,1.8302298619199808,-1.9432368115664143,-0.2189352858233352,1.846359866280298,0.876058830600904,2.6915728119078244,0.2177170690031045,-0.08596250153087334,-0.8456288866623545,-0.40007697373326406,-0.6968622498103859,-0.39337374166795647,-0.681101123595146,0.0316259152663032,-0.4427302542551622,0.5537435906782517,-1.2584298288032274,-1.046099839514856,-1.174905115257565,-0.07866309242507306,-0.12903207786603793,0.7643887845613722,0.3799179997967043,-1.7282208840960858,1.599006059315004,0.28864320933351995,0.649047111488827,-0.6944742339116875,0.06635269835455525,-0.03709222459089022,0.4747444093165104,1.189327433452486,-0.3486312644379332,-0.985907451363722,0.47718682206045304,0.48785195488853017,-0.09340214361994252,0.5838582440954743,0.6029501578085649,-1.2722812548404407,1.0196714702003056,-1.5417150851492933,0.30687213822907755,-0.7977093547888335,0.9175863999124476,-1.9743768641012278,1.382258804306761,-0.09241151643597145,-1.4804714808711796,0.3791475926337954,0.6888805927973765,0.13574077573200902,-0.5470343091362391,-1.3071902922310739,2.435841976178969,-0.12555703688980122,0.13282460508933802],\"yaxis\":\"y3\",\"type\":\"scatter\"},{\"line\":{\"color\":\"rgba(128, 128, 128, 1.0)\",\"dash\":\"solid\",\"shape\":\"linear\",\"width\":1.3},\"marker\":{\"size\":2,\"symbol\":\"circle\"},\"mode\":\"markers\",\"name\":\"A\",\"text\":\"\",\"x\":[0.41371642531357067,-1.3511298102848268,0.1548960633662548,0.2928423242436081,0.7046512836948919,-0.6160201190253954,0.544751394270657,0.46700210861198205,-1.1278814020881793,1.1095264509129468,0.9871547617479811,0.10444303057914157,0.404101184393867,-2.9148312003696115,1.2156172430718628,-0.28901698882451426,0.14140592739261507,-1.9166557047872312,-2.3364319402593763,0.4592299824160191,1.7309655473170684,0.19302300285031457,0.07416925441607174,1.6347327130881728,0.08955963658162003,1.216997807773552,0.3391924959976665,0.3049230463012404,0.6474674154960272,0.14905018984328233,2.3167978527966997,0.7364660739370348,0.3749318565262947,0.9288897792774973,-0.1942921808366397,0.31374923783511927,-0.6079657468292041,-0.8364045591854122,-0.7840679371807482,1.0034262747637828,-0.7200611813953035,-0.43342952172403715,1.3903584368560216,1.784088620611003,-0.3900662799552978,-1.044692625124553,-2.5785918159280428,-1.3193698884932636,0.42305764502783877,-0.7275810276248871,-1.548623891938159,-1.5260330324024227,0.7695060065797602,1.1205839262677475,0.9081501840759503,0.2981647176865847,-0.5721996866994705,-1.5090459367647826,0.7506333981343386,1.5733004362285037,-0.04703705384809499,0.4680216085387725,2.1063780689833873,-0.7299003888097821,0.4281522375279572,-0.5565964106988283,0.5550074331119446,1.4538814515840304,-0.5242761857362512,1.5851144383450977,-0.4839271918549374,-0.22226391231192297,0.20514792900166504,0.998486075254841,0.4692079876528167,0.0922979922432298,0.8156064617945102,-0.9036920914242179,1.3339651888486534,0.026011655012142122,0.25406908018394436,0.39819020629706114,0.7408442235335811,-0.581680192990201,0.7942897499014123,0.7588018954892162,0.8559649988912167,0.5196177194859225,0.49615394382343486,-1.3180990767373284,-0.0655875737773847,-1.0299116857455028,-0.27845423796497415,0.7601800437854018,-0.9066027011227964,-0.15312376369645234,-0.09002463244996343,0.7823817781087942,-1.0545466362956926,-0.46886613067437816],\"xaxis\":\"x4\",\"y\":[-1.0073261729466096,-0.301826627754829,-1.3258091049478036,-0.6744000156450667,-0.26743728287844554,-1.492467191205314,1.228485669874821,0.297631605931466,-0.007706474654075611,0.4801861273195761,-0.3141499344439157,-0.9278512211869179,1.1482870349654182,0.4914376718515416,-1.1744033684924902,-0.5029865748358517,0.9858637581859565,0.592217006629086,-0.3340518992951397,0.46130455603002335,0.5027287132393441,-1.4998800616878651,-0.7486943826550974,-0.5516141262843307,0.5140648075914177,1.5044846136251004,-0.6611344152448209,0.7563135937797785,-0.11066302392048939,0.8494163527828413,0.09435973167290049,0.49818356683625065,-0.13176947758476545,1.4207872824673087,-0.2621115715724141,0.21947357321909564,-0.3480897670543381,0.04149491334806047,0.07943000908974779,-0.07411215110207361,0.2594889463561222,-0.47663631782032767,0.3242467115656374,1.8302298619199808,-1.9432368115664143,-0.2189352858233352,1.846359866280298,0.876058830600904,2.6915728119078244,0.2177170690031045,-0.08596250153087334,-0.8456288866623545,-0.40007697373326406,-0.6968622498103859,-0.39337374166795647,-0.681101123595146,0.0316259152663032,-0.4427302542551622,0.5537435906782517,-1.2584298288032274,-1.046099839514856,-1.174905115257565,-0.07866309242507306,-0.12903207786603793,0.7643887845613722,0.3799179997967043,-1.7282208840960858,1.599006059315004,0.28864320933351995,0.649047111488827,-0.6944742339116875,0.06635269835455525,-0.03709222459089022,0.4747444093165104,1.189327433452486,-0.3486312644379332,-0.985907451363722,0.47718682206045304,0.48785195488853017,-0.09340214361994252,0.5838582440954743,0.6029501578085649,-1.2722812548404407,1.0196714702003056,-1.5417150851492933,0.30687213822907755,-0.7977093547888335,0.9175863999124476,-1.9743768641012278,1.382258804306761,-0.09241151643597145,-1.4804714808711796,0.3791475926337954,0.6888805927973765,0.13574077573200902,-0.5470343091362391,-1.3071902922310739,2.435841976178969,-0.12555703688980122,0.13282460508933802],\"yaxis\":\"y4\",\"type\":\"scatter\"},{\"line\":{\"color\":\"rgba(128, 128, 128, 1.0)\",\"dash\":\"solid\",\"shape\":\"linear\",\"width\":1.3},\"marker\":{\"size\":2,\"symbol\":\"circle\"},\"mode\":\"markers\",\"name\":\"B\",\"text\":\"\",\"x\":[-1.0073261729466096,-0.301826627754829,-1.3258091049478036,-0.6744000156450667,-0.26743728287844554,-1.492467191205314,1.228485669874821,0.297631605931466,-0.007706474654075611,0.4801861273195761,-0.3141499344439157,-0.9278512211869179,1.1482870349654182,0.4914376718515416,-1.1744033684924902,-0.5029865748358517,0.9858637581859565,0.592217006629086,-0.3340518992951397,0.46130455603002335,0.5027287132393441,-1.4998800616878651,-0.7486943826550974,-0.5516141262843307,0.5140648075914177,1.5044846136251004,-0.6611344152448209,0.7563135937797785,-0.11066302392048939,0.8494163527828413,0.09435973167290049,0.49818356683625065,-0.13176947758476545,1.4207872824673087,-0.2621115715724141,0.21947357321909564,-0.3480897670543381,0.04149491334806047,0.07943000908974779,-0.07411215110207361,0.2594889463561222,-0.47663631782032767,0.3242467115656374,1.8302298619199808,-1.9432368115664143,-0.2189352858233352,1.846359866280298,0.876058830600904,2.6915728119078244,0.2177170690031045,-0.08596250153087334,-0.8456288866623545,-0.40007697373326406,-0.6968622498103859,-0.39337374166795647,-0.681101123595146,0.0316259152663032,-0.4427302542551622,0.5537435906782517,-1.2584298288032274,-1.046099839514856,-1.174905115257565,-0.07866309242507306,-0.12903207786603793,0.7643887845613722,0.3799179997967043,-1.7282208840960858,1.599006059315004,0.28864320933351995,0.649047111488827,-0.6944742339116875,0.06635269835455525,-0.03709222459089022,0.4747444093165104,1.189327433452486,-0.3486312644379332,-0.985907451363722,0.47718682206045304,0.48785195488853017,-0.09340214361994252,0.5838582440954743,0.6029501578085649,-1.2722812548404407,1.0196714702003056,-1.5417150851492933,0.30687213822907755,-0.7977093547888335,0.9175863999124476,-1.9743768641012278,1.382258804306761,-0.09241151643597145,-1.4804714808711796,0.3791475926337954,0.6888805927973765,0.13574077573200902,-0.5470343091362391,-1.3071902922310739,2.435841976178969,-0.12555703688980122,0.13282460508933802],\"xaxis\":\"x5\",\"y\":[-0.18779694634083663,-0.9768747777936239,-0.9617060813443279,0.197065643612768,1.340929397816748,-1.3232533615754345,-2.0259340620314905,1.3720424743423618,0.6520890648028659,-0.41932683948669475,-1.363335162205523,-0.8553587408318004,-0.7394635951661027,0.25100966446739315,0.46718515105682107,-0.14146017827537008,-0.8279070301033035,-1.2119684379998945,0.20379101308495634,-0.9806731774649406,-0.5065649028838257,0.2810541046395991,-0.31782190707209146,-1.555986660814328,0.7662497570438935,-0.9369888348926171,0.27703325083280234,-0.6598593028247899,-0.9449459439451559,1.240520266816322,1.4264679639399598,-1.1730627067184463,-1.5066605928163657,0.8353550894476148,1.4982801480009753,0.8319700031342894,-1.1224839719439021,1.1185069740427773,-0.7614187418957616,0.5155454754170532,-0.34313811507216047,-0.5414476086799445,-1.112452714008785,0.7326274817406409,-0.5943387925000364,-0.4768340115793844,-1.3461081871655403,-0.12933353067823591,-0.40297665230636653,0.006557246081532544,1.3759861896026329,0.8846754036912591,0.09002571983935631,-1.2988629551569582,-0.029904874246396315,-0.42125574952617945,-0.8341864428969682,0.7529585537739358,-0.7075920400841483,-2.1632808308173335,1.7443130641008164,-0.38944158912883836,0.21387131131547868,-0.0633731793682945,-1.1337636365715162,-1.2983826748255411,0.20214958039855968,0.7709008558343915,0.6403445108383367,1.4424670532120223,0.24946478264779043,-0.046289137694677,-0.4934786116564103,-1.4398876714346023,0.31282870406445396,-1.423669106617544,0.45553142449835166,-0.16737708318922284,-0.30008922482127587,1.909902496996236,1.8619771416593967,0.09810651617958872,0.18514539299598032,0.5998217990174387,1.0632358038761172,-0.5620680822496272,0.7183843577275988,-1.9999902663899565,1.0166886446016847,0.2155427008896977,-0.7327144551915384,0.4835586454875864,-0.2782704871827044,0.001205405455120271,1.1669882507631362,-1.6734428564239001,-0.5234730162476214,-0.13811272513660197,0.6254559955851808,0.6580416784041457],\"yaxis\":\"y5\",\"type\":\"scatter\"},{\"histfunc\":\"count\",\"histnorm\":\"\",\"marker\":{\"color\":\"rgba(55, 128, 191, 1.0)\",\"line\":{\"color\":\"#4D5663\",\"width\":1.3}},\"name\":\"B\",\"nbinsx\":10,\"opacity\":0.8,\"orientation\":\"v\",\"x\":[-0.18779694634083663,-0.9768747777936239,-0.9617060813443279,0.197065643612768,1.340929397816748,-1.3232533615754345,-2.0259340620314905,1.3720424743423618,0.6520890648028659,-0.41932683948669475,-1.363335162205523,-0.8553587408318004,-0.7394635951661027,0.25100966446739315,0.46718515105682107,-0.14146017827537008,-0.8279070301033035,-1.2119684379998945,0.20379101308495634,-0.9806731774649406,-0.5065649028838257,0.2810541046395991,-0.31782190707209146,-1.555986660814328,0.7662497570438935,-0.9369888348926171,0.27703325083280234,-0.6598593028247899,-0.9449459439451559,1.240520266816322,1.4264679639399598,-1.1730627067184463,-1.5066605928163657,0.8353550894476148,1.4982801480009753,0.8319700031342894,-1.1224839719439021,1.1185069740427773,-0.7614187418957616,0.5155454754170532,-0.34313811507216047,-0.5414476086799445,-1.112452714008785,0.7326274817406409,-0.5943387925000364,-0.4768340115793844,-1.3461081871655403,-0.12933353067823591,-0.40297665230636653,0.006557246081532544,1.3759861896026329,0.8846754036912591,0.09002571983935631,-1.2988629551569582,-0.029904874246396315,-0.42125574952617945,-0.8341864428969682,0.7529585537739358,-0.7075920400841483,-2.1632808308173335,1.7443130641008164,-0.38944158912883836,0.21387131131547868,-0.0633731793682945,-1.1337636365715162,-1.2983826748255411,0.20214958039855968,0.7709008558343915,0.6403445108383367,1.4424670532120223,0.24946478264779043,-0.046289137694677,-0.4934786116564103,-1.4398876714346023,0.31282870406445396,-1.423669106617544,0.45553142449835166,-0.16737708318922284,-0.30008922482127587,1.909902496996236,1.8619771416593967,0.09810651617958872,0.18514539299598032,0.5998217990174387,1.0632358038761172,-0.5620680822496272,0.7183843577275988,-1.9999902663899565,1.0166886446016847,0.2155427008896977,-0.7327144551915384,0.4835586454875864,-0.2782704871827044,0.001205405455120271,1.1669882507631362,-1.6734428564239001,-0.5234730162476214,-0.13811272513660197,0.6254559955851808,0.6580416784041457],\"xaxis\":\"x6\",\"yaxis\":\"y6\",\"type\":\"histogram\"},{\"line\":{\"color\":\"rgba(128, 128, 128, 1.0)\",\"dash\":\"solid\",\"shape\":\"linear\",\"width\":1.3},\"marker\":{\"size\":2,\"symbol\":\"circle\"},\"mode\":\"markers\",\"name\":\"B\",\"text\":\"\",\"x\":[0.6660146560201892,0.5245301219101601,0.43382115747247946,0.8922340331365296,0.8641193282139618,-0.8518098206905238,0.18674029589743224,-0.014966937815831102,0.8551665114170287,0.8033261909999732,0.7897675971271274,1.157613005222821,0.5768556584854428,0.09813920891181775,-0.0944376339307584,1.3464222806889485,0.11846229120565024,-0.009303944483732791,1.231058845983251,2.2088575509275388,-0.5073938218683697,0.2556528001810601,-0.33435944939541534,-0.26933313547809634,-0.2399048498378512,0.2977345355677345,1.0401035561278884,-0.5821201256028381,0.7723124656962943,0.5125797344957835,-0.013627234680034723,-0.780425103771722,-0.11937830807855235,-1.509037019591643,1.564078622891511,2.102246836330988,0.5793156107984813,-0.3065155403892706,0.06770748488154607,1.347588081700279,0.12928862811571487,0.5883049998270433,-0.036559080202275024,-0.9130238681804977,-1.5333996429703753,-0.14377471822498186,-0.5504419759634435,-1.5401212296701923,-1.8433989526979813,-0.583256548398268,0.32345071378172074,0.38295802563406856,-0.056606779498337347,0.8107134398157455,0.9601107970202513,-1.5712034070309444,0.16131022295292374,-0.8010373423945429,0.4902610871771294,-0.11670838307325197,-1.1104100431849937,0.46191709144271115,1.0787446245295178,0.1440328540082415,0.6524455869633207,0.6695182330624644,-0.8741455985258808,0.054670067158501916,1.906599426857935,1.1270859571613916,-1.7572582737086777,-0.29063767269565344,-0.056676472901348085,0.40500520904624226,0.7672363718859002,0.8323565380863586,0.40169683772101256,-1.104880019485082,0.49044070982808574,-1.5181676326203275,0.35957198183196376,0.8312408765990674,-0.8063142176087974,-0.20880199080181536,0.5325485848875602,-0.5584023159513228,2.0180821936843527,0.9407008534666642,-0.5193374212520715,-1.8557339657719096,-0.14640750311683007,0.9623322966157689,1.568791046309809,-1.3142857595514221,-0.3460336058002607,-1.6696987761631563,1.0667422218903113,-0.8842207201397441,-0.2705983021728778,0.438881212106342],\"xaxis\":\"x7\",\"y\":[-0.18779694634083663,-0.9768747777936239,-0.9617060813443279,0.197065643612768,1.340929397816748,-1.3232533615754345,-2.0259340620314905,1.3720424743423618,0.6520890648028659,-0.41932683948669475,-1.363335162205523,-0.8553587408318004,-0.7394635951661027,0.25100966446739315,0.46718515105682107,-0.14146017827537008,-0.8279070301033035,-1.2119684379998945,0.20379101308495634,-0.9806731774649406,-0.5065649028838257,0.2810541046395991,-0.31782190707209146,-1.555986660814328,0.7662497570438935,-0.9369888348926171,0.27703325083280234,-0.6598593028247899,-0.9449459439451559,1.240520266816322,1.4264679639399598,-1.1730627067184463,-1.5066605928163657,0.8353550894476148,1.4982801480009753,0.8319700031342894,-1.1224839719439021,1.1185069740427773,-0.7614187418957616,0.5155454754170532,-0.34313811507216047,-0.5414476086799445,-1.112452714008785,0.7326274817406409,-0.5943387925000364,-0.4768340115793844,-1.3461081871655403,-0.12933353067823591,-0.40297665230636653,0.006557246081532544,1.3759861896026329,0.8846754036912591,0.09002571983935631,-1.2988629551569582,-0.029904874246396315,-0.42125574952617945,-0.8341864428969682,0.7529585537739358,-0.7075920400841483,-2.1632808308173335,1.7443130641008164,-0.38944158912883836,0.21387131131547868,-0.0633731793682945,-1.1337636365715162,-1.2983826748255411,0.20214958039855968,0.7709008558343915,0.6403445108383367,1.4424670532120223,0.24946478264779043,-0.046289137694677,-0.4934786116564103,-1.4398876714346023,0.31282870406445396,-1.423669106617544,0.45553142449835166,-0.16737708318922284,-0.30008922482127587,1.909902496996236,1.8619771416593967,0.09810651617958872,0.18514539299598032,0.5998217990174387,1.0632358038761172,-0.5620680822496272,0.7183843577275988,-1.9999902663899565,1.0166886446016847,0.2155427008896977,-0.7327144551915384,0.4835586454875864,-0.2782704871827044,0.001205405455120271,1.1669882507631362,-1.6734428564239001,-0.5234730162476214,-0.13811272513660197,0.6254559955851808,0.6580416784041457],\"yaxis\":\"y7\",\"type\":\"scatter\"},{\"line\":{\"color\":\"rgba(128, 128, 128, 1.0)\",\"dash\":\"solid\",\"shape\":\"linear\",\"width\":1.3},\"marker\":{\"size\":2,\"symbol\":\"circle\"},\"mode\":\"markers\",\"name\":\"B\",\"text\":\"\",\"x\":[0.41371642531357067,-1.3511298102848268,0.1548960633662548,0.2928423242436081,0.7046512836948919,-0.6160201190253954,0.544751394270657,0.46700210861198205,-1.1278814020881793,1.1095264509129468,0.9871547617479811,0.10444303057914157,0.404101184393867,-2.9148312003696115,1.2156172430718628,-0.28901698882451426,0.14140592739261507,-1.9166557047872312,-2.3364319402593763,0.4592299824160191,1.7309655473170684,0.19302300285031457,0.07416925441607174,1.6347327130881728,0.08955963658162003,1.216997807773552,0.3391924959976665,0.3049230463012404,0.6474674154960272,0.14905018984328233,2.3167978527966997,0.7364660739370348,0.3749318565262947,0.9288897792774973,-0.1942921808366397,0.31374923783511927,-0.6079657468292041,-0.8364045591854122,-0.7840679371807482,1.0034262747637828,-0.7200611813953035,-0.43342952172403715,1.3903584368560216,1.784088620611003,-0.3900662799552978,-1.044692625124553,-2.5785918159280428,-1.3193698884932636,0.42305764502783877,-0.7275810276248871,-1.548623891938159,-1.5260330324024227,0.7695060065797602,1.1205839262677475,0.9081501840759503,0.2981647176865847,-0.5721996866994705,-1.5090459367647826,0.7506333981343386,1.5733004362285037,-0.04703705384809499,0.4680216085387725,2.1063780689833873,-0.7299003888097821,0.4281522375279572,-0.5565964106988283,0.5550074331119446,1.4538814515840304,-0.5242761857362512,1.5851144383450977,-0.4839271918549374,-0.22226391231192297,0.20514792900166504,0.998486075254841,0.4692079876528167,0.0922979922432298,0.8156064617945102,-0.9036920914242179,1.3339651888486534,0.026011655012142122,0.25406908018394436,0.39819020629706114,0.7408442235335811,-0.581680192990201,0.7942897499014123,0.7588018954892162,0.8559649988912167,0.5196177194859225,0.49615394382343486,-1.3180990767373284,-0.0655875737773847,-1.0299116857455028,-0.27845423796497415,0.7601800437854018,-0.9066027011227964,-0.15312376369645234,-0.09002463244996343,0.7823817781087942,-1.0545466362956926,-0.46886613067437816],\"xaxis\":\"x8\",\"y\":[-0.18779694634083663,-0.9768747777936239,-0.9617060813443279,0.197065643612768,1.340929397816748,-1.3232533615754345,-2.0259340620314905,1.3720424743423618,0.6520890648028659,-0.41932683948669475,-1.363335162205523,-0.8553587408318004,-0.7394635951661027,0.25100966446739315,0.46718515105682107,-0.14146017827537008,-0.8279070301033035,-1.2119684379998945,0.20379101308495634,-0.9806731774649406,-0.5065649028838257,0.2810541046395991,-0.31782190707209146,-1.555986660814328,0.7662497570438935,-0.9369888348926171,0.27703325083280234,-0.6598593028247899,-0.9449459439451559,1.240520266816322,1.4264679639399598,-1.1730627067184463,-1.5066605928163657,0.8353550894476148,1.4982801480009753,0.8319700031342894,-1.1224839719439021,1.1185069740427773,-0.7614187418957616,0.5155454754170532,-0.34313811507216047,-0.5414476086799445,-1.112452714008785,0.7326274817406409,-0.5943387925000364,-0.4768340115793844,-1.3461081871655403,-0.12933353067823591,-0.40297665230636653,0.006557246081532544,1.3759861896026329,0.8846754036912591,0.09002571983935631,-1.2988629551569582,-0.029904874246396315,-0.42125574952617945,-0.8341864428969682,0.7529585537739358,-0.7075920400841483,-2.1632808308173335,1.7443130641008164,-0.38944158912883836,0.21387131131547868,-0.0633731793682945,-1.1337636365715162,-1.2983826748255411,0.20214958039855968,0.7709008558343915,0.6403445108383367,1.4424670532120223,0.24946478264779043,-0.046289137694677,-0.4934786116564103,-1.4398876714346023,0.31282870406445396,-1.423669106617544,0.45553142449835166,-0.16737708318922284,-0.30008922482127587,1.909902496996236,1.8619771416593967,0.09810651617958872,0.18514539299598032,0.5998217990174387,1.0632358038761172,-0.5620680822496272,0.7183843577275988,-1.9999902663899565,1.0166886446016847,0.2155427008896977,-0.7327144551915384,0.4835586454875864,-0.2782704871827044,0.001205405455120271,1.1669882507631362,-1.6734428564239001,-0.5234730162476214,-0.13811272513660197,0.6254559955851808,0.6580416784041457],\"yaxis\":\"y8\",\"type\":\"scatter\"},{\"line\":{\"color\":\"rgba(128, 128, 128, 1.0)\",\"dash\":\"solid\",\"shape\":\"linear\",\"width\":1.3},\"marker\":{\"size\":2,\"symbol\":\"circle\"},\"mode\":\"markers\",\"name\":\"C\",\"text\":\"\",\"x\":[-1.0073261729466096,-0.301826627754829,-1.3258091049478036,-0.6744000156450667,-0.26743728287844554,-1.492467191205314,1.228485669874821,0.297631605931466,-0.007706474654075611,0.4801861273195761,-0.3141499344439157,-0.9278512211869179,1.1482870349654182,0.4914376718515416,-1.1744033684924902,-0.5029865748358517,0.9858637581859565,0.592217006629086,-0.3340518992951397,0.46130455603002335,0.5027287132393441,-1.4998800616878651,-0.7486943826550974,-0.5516141262843307,0.5140648075914177,1.5044846136251004,-0.6611344152448209,0.7563135937797785,-0.11066302392048939,0.8494163527828413,0.09435973167290049,0.49818356683625065,-0.13176947758476545,1.4207872824673087,-0.2621115715724141,0.21947357321909564,-0.3480897670543381,0.04149491334806047,0.07943000908974779,-0.07411215110207361,0.2594889463561222,-0.47663631782032767,0.3242467115656374,1.8302298619199808,-1.9432368115664143,-0.2189352858233352,1.846359866280298,0.876058830600904,2.6915728119078244,0.2177170690031045,-0.08596250153087334,-0.8456288866623545,-0.40007697373326406,-0.6968622498103859,-0.39337374166795647,-0.681101123595146,0.0316259152663032,-0.4427302542551622,0.5537435906782517,-1.2584298288032274,-1.046099839514856,-1.174905115257565,-0.07866309242507306,-0.12903207786603793,0.7643887845613722,0.3799179997967043,-1.7282208840960858,1.599006059315004,0.28864320933351995,0.649047111488827,-0.6944742339116875,0.06635269835455525,-0.03709222459089022,0.4747444093165104,1.189327433452486,-0.3486312644379332,-0.985907451363722,0.47718682206045304,0.48785195488853017,-0.09340214361994252,0.5838582440954743,0.6029501578085649,-1.2722812548404407,1.0196714702003056,-1.5417150851492933,0.30687213822907755,-0.7977093547888335,0.9175863999124476,-1.9743768641012278,1.382258804306761,-0.09241151643597145,-1.4804714808711796,0.3791475926337954,0.6888805927973765,0.13574077573200902,-0.5470343091362391,-1.3071902922310739,2.435841976178969,-0.12555703688980122,0.13282460508933802],\"xaxis\":\"x9\",\"y\":[0.6660146560201892,0.5245301219101601,0.43382115747247946,0.8922340331365296,0.8641193282139618,-0.8518098206905238,0.18674029589743224,-0.014966937815831102,0.8551665114170287,0.8033261909999732,0.7897675971271274,1.157613005222821,0.5768556584854428,0.09813920891181775,-0.0944376339307584,1.3464222806889485,0.11846229120565024,-0.009303944483732791,1.231058845983251,2.2088575509275388,-0.5073938218683697,0.2556528001810601,-0.33435944939541534,-0.26933313547809634,-0.2399048498378512,0.2977345355677345,1.0401035561278884,-0.5821201256028381,0.7723124656962943,0.5125797344957835,-0.013627234680034723,-0.780425103771722,-0.11937830807855235,-1.509037019591643,1.564078622891511,2.102246836330988,0.5793156107984813,-0.3065155403892706,0.06770748488154607,1.347588081700279,0.12928862811571487,0.5883049998270433,-0.036559080202275024,-0.9130238681804977,-1.5333996429703753,-0.14377471822498186,-0.5504419759634435,-1.5401212296701923,-1.8433989526979813,-0.583256548398268,0.32345071378172074,0.38295802563406856,-0.056606779498337347,0.8107134398157455,0.9601107970202513,-1.5712034070309444,0.16131022295292374,-0.8010373423945429,0.4902610871771294,-0.11670838307325197,-1.1104100431849937,0.46191709144271115,1.0787446245295178,0.1440328540082415,0.6524455869633207,0.6695182330624644,-0.8741455985258808,0.054670067158501916,1.906599426857935,1.1270859571613916,-1.7572582737086777,-0.29063767269565344,-0.056676472901348085,0.40500520904624226,0.7672363718859002,0.8323565380863586,0.40169683772101256,-1.104880019485082,0.49044070982808574,-1.5181676326203275,0.35957198183196376,0.8312408765990674,-0.8063142176087974,-0.20880199080181536,0.5325485848875602,-0.5584023159513228,2.0180821936843527,0.9407008534666642,-0.5193374212520715,-1.8557339657719096,-0.14640750311683007,0.9623322966157689,1.568791046309809,-1.3142857595514221,-0.3460336058002607,-1.6696987761631563,1.0667422218903113,-0.8842207201397441,-0.2705983021728778,0.438881212106342],\"yaxis\":\"y9\",\"type\":\"scatter\"},{\"line\":{\"color\":\"rgba(128, 128, 128, 1.0)\",\"dash\":\"solid\",\"shape\":\"linear\",\"width\":1.3},\"marker\":{\"size\":2,\"symbol\":\"circle\"},\"mode\":\"markers\",\"name\":\"C\",\"text\":\"\",\"x\":[-0.18779694634083663,-0.9768747777936239,-0.9617060813443279,0.197065643612768,1.340929397816748,-1.3232533615754345,-2.0259340620314905,1.3720424743423618,0.6520890648028659,-0.41932683948669475,-1.363335162205523,-0.8553587408318004,-0.7394635951661027,0.25100966446739315,0.46718515105682107,-0.14146017827537008,-0.8279070301033035,-1.2119684379998945,0.20379101308495634,-0.9806731774649406,-0.5065649028838257,0.2810541046395991,-0.31782190707209146,-1.555986660814328,0.7662497570438935,-0.9369888348926171,0.27703325083280234,-0.6598593028247899,-0.9449459439451559,1.240520266816322,1.4264679639399598,-1.1730627067184463,-1.5066605928163657,0.8353550894476148,1.4982801480009753,0.8319700031342894,-1.1224839719439021,1.1185069740427773,-0.7614187418957616,0.5155454754170532,-0.34313811507216047,-0.5414476086799445,-1.112452714008785,0.7326274817406409,-0.5943387925000364,-0.4768340115793844,-1.3461081871655403,-0.12933353067823591,-0.40297665230636653,0.006557246081532544,1.3759861896026329,0.8846754036912591,0.09002571983935631,-1.2988629551569582,-0.029904874246396315,-0.42125574952617945,-0.8341864428969682,0.7529585537739358,-0.7075920400841483,-2.1632808308173335,1.7443130641008164,-0.38944158912883836,0.21387131131547868,-0.0633731793682945,-1.1337636365715162,-1.2983826748255411,0.20214958039855968,0.7709008558343915,0.6403445108383367,1.4424670532120223,0.24946478264779043,-0.046289137694677,-0.4934786116564103,-1.4398876714346023,0.31282870406445396,-1.423669106617544,0.45553142449835166,-0.16737708318922284,-0.30008922482127587,1.909902496996236,1.8619771416593967,0.09810651617958872,0.18514539299598032,0.5998217990174387,1.0632358038761172,-0.5620680822496272,0.7183843577275988,-1.9999902663899565,1.0166886446016847,0.2155427008896977,-0.7327144551915384,0.4835586454875864,-0.2782704871827044,0.001205405455120271,1.1669882507631362,-1.6734428564239001,-0.5234730162476214,-0.13811272513660197,0.6254559955851808,0.6580416784041457],\"xaxis\":\"x10\",\"y\":[0.6660146560201892,0.5245301219101601,0.43382115747247946,0.8922340331365296,0.8641193282139618,-0.8518098206905238,0.18674029589743224,-0.014966937815831102,0.8551665114170287,0.8033261909999732,0.7897675971271274,1.157613005222821,0.5768556584854428,0.09813920891181775,-0.0944376339307584,1.3464222806889485,0.11846229120565024,-0.009303944483732791,1.231058845983251,2.2088575509275388,-0.5073938218683697,0.2556528001810601,-0.33435944939541534,-0.26933313547809634,-0.2399048498378512,0.2977345355677345,1.0401035561278884,-0.5821201256028381,0.7723124656962943,0.5125797344957835,-0.013627234680034723,-0.780425103771722,-0.11937830807855235,-1.509037019591643,1.564078622891511,2.102246836330988,0.5793156107984813,-0.3065155403892706,0.06770748488154607,1.347588081700279,0.12928862811571487,0.5883049998270433,-0.036559080202275024,-0.9130238681804977,-1.5333996429703753,-0.14377471822498186,-0.5504419759634435,-1.5401212296701923,-1.8433989526979813,-0.583256548398268,0.32345071378172074,0.38295802563406856,-0.056606779498337347,0.8107134398157455,0.9601107970202513,-1.5712034070309444,0.16131022295292374,-0.8010373423945429,0.4902610871771294,-0.11670838307325197,-1.1104100431849937,0.46191709144271115,1.0787446245295178,0.1440328540082415,0.6524455869633207,0.6695182330624644,-0.8741455985258808,0.054670067158501916,1.906599426857935,1.1270859571613916,-1.7572582737086777,-0.29063767269565344,-0.056676472901348085,0.40500520904624226,0.7672363718859002,0.8323565380863586,0.40169683772101256,-1.104880019485082,0.49044070982808574,-1.5181676326203275,0.35957198183196376,0.8312408765990674,-0.8063142176087974,-0.20880199080181536,0.5325485848875602,-0.5584023159513228,2.0180821936843527,0.9407008534666642,-0.5193374212520715,-1.8557339657719096,-0.14640750311683007,0.9623322966157689,1.568791046309809,-1.3142857595514221,-0.3460336058002607,-1.6696987761631563,1.0667422218903113,-0.8842207201397441,-0.2705983021728778,0.438881212106342],\"yaxis\":\"y10\",\"type\":\"scatter\"},{\"histfunc\":\"count\",\"histnorm\":\"\",\"marker\":{\"color\":\"rgba(50, 171, 96, 1.0)\",\"line\":{\"color\":\"#4D5663\",\"width\":1.3}},\"name\":\"C\",\"nbinsx\":10,\"opacity\":0.8,\"orientation\":\"v\",\"x\":[0.6660146560201892,0.5245301219101601,0.43382115747247946,0.8922340331365296,0.8641193282139618,-0.8518098206905238,0.18674029589743224,-0.014966937815831102,0.8551665114170287,0.8033261909999732,0.7897675971271274,1.157613005222821,0.5768556584854428,0.09813920891181775,-0.0944376339307584,1.3464222806889485,0.11846229120565024,-0.009303944483732791,1.231058845983251,2.2088575509275388,-0.5073938218683697,0.2556528001810601,-0.33435944939541534,-0.26933313547809634,-0.2399048498378512,0.2977345355677345,1.0401035561278884,-0.5821201256028381,0.7723124656962943,0.5125797344957835,-0.013627234680034723,-0.780425103771722,-0.11937830807855235,-1.509037019591643,1.564078622891511,2.102246836330988,0.5793156107984813,-0.3065155403892706,0.06770748488154607,1.347588081700279,0.12928862811571487,0.5883049998270433,-0.036559080202275024,-0.9130238681804977,-1.5333996429703753,-0.14377471822498186,-0.5504419759634435,-1.5401212296701923,-1.8433989526979813,-0.583256548398268,0.32345071378172074,0.38295802563406856,-0.056606779498337347,0.8107134398157455,0.9601107970202513,-1.5712034070309444,0.16131022295292374,-0.8010373423945429,0.4902610871771294,-0.11670838307325197,-1.1104100431849937,0.46191709144271115,1.0787446245295178,0.1440328540082415,0.6524455869633207,0.6695182330624644,-0.8741455985258808,0.054670067158501916,1.906599426857935,1.1270859571613916,-1.7572582737086777,-0.29063767269565344,-0.056676472901348085,0.40500520904624226,0.7672363718859002,0.8323565380863586,0.40169683772101256,-1.104880019485082,0.49044070982808574,-1.5181676326203275,0.35957198183196376,0.8312408765990674,-0.8063142176087974,-0.20880199080181536,0.5325485848875602,-0.5584023159513228,2.0180821936843527,0.9407008534666642,-0.5193374212520715,-1.8557339657719096,-0.14640750311683007,0.9623322966157689,1.568791046309809,-1.3142857595514221,-0.3460336058002607,-1.6696987761631563,1.0667422218903113,-0.8842207201397441,-0.2705983021728778,0.438881212106342],\"xaxis\":\"x11\",\"yaxis\":\"y11\",\"type\":\"histogram\"},{\"line\":{\"color\":\"rgba(128, 128, 128, 1.0)\",\"dash\":\"solid\",\"shape\":\"linear\",\"width\":1.3},\"marker\":{\"size\":2,\"symbol\":\"circle\"},\"mode\":\"markers\",\"name\":\"C\",\"text\":\"\",\"x\":[0.41371642531357067,-1.3511298102848268,0.1548960633662548,0.2928423242436081,0.7046512836948919,-0.6160201190253954,0.544751394270657,0.46700210861198205,-1.1278814020881793,1.1095264509129468,0.9871547617479811,0.10444303057914157,0.404101184393867,-2.9148312003696115,1.2156172430718628,-0.28901698882451426,0.14140592739261507,-1.9166557047872312,-2.3364319402593763,0.4592299824160191,1.7309655473170684,0.19302300285031457,0.07416925441607174,1.6347327130881728,0.08955963658162003,1.216997807773552,0.3391924959976665,0.3049230463012404,0.6474674154960272,0.14905018984328233,2.3167978527966997,0.7364660739370348,0.3749318565262947,0.9288897792774973,-0.1942921808366397,0.31374923783511927,-0.6079657468292041,-0.8364045591854122,-0.7840679371807482,1.0034262747637828,-0.7200611813953035,-0.43342952172403715,1.3903584368560216,1.784088620611003,-0.3900662799552978,-1.044692625124553,-2.5785918159280428,-1.3193698884932636,0.42305764502783877,-0.7275810276248871,-1.548623891938159,-1.5260330324024227,0.7695060065797602,1.1205839262677475,0.9081501840759503,0.2981647176865847,-0.5721996866994705,-1.5090459367647826,0.7506333981343386,1.5733004362285037,-0.04703705384809499,0.4680216085387725,2.1063780689833873,-0.7299003888097821,0.4281522375279572,-0.5565964106988283,0.5550074331119446,1.4538814515840304,-0.5242761857362512,1.5851144383450977,-0.4839271918549374,-0.22226391231192297,0.20514792900166504,0.998486075254841,0.4692079876528167,0.0922979922432298,0.8156064617945102,-0.9036920914242179,1.3339651888486534,0.026011655012142122,0.25406908018394436,0.39819020629706114,0.7408442235335811,-0.581680192990201,0.7942897499014123,0.7588018954892162,0.8559649988912167,0.5196177194859225,0.49615394382343486,-1.3180990767373284,-0.0655875737773847,-1.0299116857455028,-0.27845423796497415,0.7601800437854018,-0.9066027011227964,-0.15312376369645234,-0.09002463244996343,0.7823817781087942,-1.0545466362956926,-0.46886613067437816],\"xaxis\":\"x12\",\"y\":[0.6660146560201892,0.5245301219101601,0.43382115747247946,0.8922340331365296,0.8641193282139618,-0.8518098206905238,0.18674029589743224,-0.014966937815831102,0.8551665114170287,0.8033261909999732,0.7897675971271274,1.157613005222821,0.5768556584854428,0.09813920891181775,-0.0944376339307584,1.3464222806889485,0.11846229120565024,-0.009303944483732791,1.231058845983251,2.2088575509275388,-0.5073938218683697,0.2556528001810601,-0.33435944939541534,-0.26933313547809634,-0.2399048498378512,0.2977345355677345,1.0401035561278884,-0.5821201256028381,0.7723124656962943,0.5125797344957835,-0.013627234680034723,-0.780425103771722,-0.11937830807855235,-1.509037019591643,1.564078622891511,2.102246836330988,0.5793156107984813,-0.3065155403892706,0.06770748488154607,1.347588081700279,0.12928862811571487,0.5883049998270433,-0.036559080202275024,-0.9130238681804977,-1.5333996429703753,-0.14377471822498186,-0.5504419759634435,-1.5401212296701923,-1.8433989526979813,-0.583256548398268,0.32345071378172074,0.38295802563406856,-0.056606779498337347,0.8107134398157455,0.9601107970202513,-1.5712034070309444,0.16131022295292374,-0.8010373423945429,0.4902610871771294,-0.11670838307325197,-1.1104100431849937,0.46191709144271115,1.0787446245295178,0.1440328540082415,0.6524455869633207,0.6695182330624644,-0.8741455985258808,0.054670067158501916,1.906599426857935,1.1270859571613916,-1.7572582737086777,-0.29063767269565344,-0.056676472901348085,0.40500520904624226,0.7672363718859002,0.8323565380863586,0.40169683772101256,-1.104880019485082,0.49044070982808574,-1.5181676326203275,0.35957198183196376,0.8312408765990674,-0.8063142176087974,-0.20880199080181536,0.5325485848875602,-0.5584023159513228,2.0180821936843527,0.9407008534666642,-0.5193374212520715,-1.8557339657719096,-0.14640750311683007,0.9623322966157689,1.568791046309809,-1.3142857595514221,-0.3460336058002607,-1.6696987761631563,1.0667422218903113,-0.8842207201397441,-0.2705983021728778,0.438881212106342],\"yaxis\":\"y12\",\"type\":\"scatter\"},{\"line\":{\"color\":\"rgba(128, 128, 128, 1.0)\",\"dash\":\"solid\",\"shape\":\"linear\",\"width\":1.3},\"marker\":{\"size\":2,\"symbol\":\"circle\"},\"mode\":\"markers\",\"name\":\"D\",\"text\":\"\",\"x\":[-1.0073261729466096,-0.301826627754829,-1.3258091049478036,-0.6744000156450667,-0.26743728287844554,-1.492467191205314,1.228485669874821,0.297631605931466,-0.007706474654075611,0.4801861273195761,-0.3141499344439157,-0.9278512211869179,1.1482870349654182,0.4914376718515416,-1.1744033684924902,-0.5029865748358517,0.9858637581859565,0.592217006629086,-0.3340518992951397,0.46130455603002335,0.5027287132393441,-1.4998800616878651,-0.7486943826550974,-0.5516141262843307,0.5140648075914177,1.5044846136251004,-0.6611344152448209,0.7563135937797785,-0.11066302392048939,0.8494163527828413,0.09435973167290049,0.49818356683625065,-0.13176947758476545,1.4207872824673087,-0.2621115715724141,0.21947357321909564,-0.3480897670543381,0.04149491334806047,0.07943000908974779,-0.07411215110207361,0.2594889463561222,-0.47663631782032767,0.3242467115656374,1.8302298619199808,-1.9432368115664143,-0.2189352858233352,1.846359866280298,0.876058830600904,2.6915728119078244,0.2177170690031045,-0.08596250153087334,-0.8456288866623545,-0.40007697373326406,-0.6968622498103859,-0.39337374166795647,-0.681101123595146,0.0316259152663032,-0.4427302542551622,0.5537435906782517,-1.2584298288032274,-1.046099839514856,-1.174905115257565,-0.07866309242507306,-0.12903207786603793,0.7643887845613722,0.3799179997967043,-1.7282208840960858,1.599006059315004,0.28864320933351995,0.649047111488827,-0.6944742339116875,0.06635269835455525,-0.03709222459089022,0.4747444093165104,1.189327433452486,-0.3486312644379332,-0.985907451363722,0.47718682206045304,0.48785195488853017,-0.09340214361994252,0.5838582440954743,0.6029501578085649,-1.2722812548404407,1.0196714702003056,-1.5417150851492933,0.30687213822907755,-0.7977093547888335,0.9175863999124476,-1.9743768641012278,1.382258804306761,-0.09241151643597145,-1.4804714808711796,0.3791475926337954,0.6888805927973765,0.13574077573200902,-0.5470343091362391,-1.3071902922310739,2.435841976178969,-0.12555703688980122,0.13282460508933802],\"xaxis\":\"x13\",\"y\":[0.41371642531357067,-1.3511298102848268,0.1548960633662548,0.2928423242436081,0.7046512836948919,-0.6160201190253954,0.544751394270657,0.46700210861198205,-1.1278814020881793,1.1095264509129468,0.9871547617479811,0.10444303057914157,0.404101184393867,-2.9148312003696115,1.2156172430718628,-0.28901698882451426,0.14140592739261507,-1.9166557047872312,-2.3364319402593763,0.4592299824160191,1.7309655473170684,0.19302300285031457,0.07416925441607174,1.6347327130881728,0.08955963658162003,1.216997807773552,0.3391924959976665,0.3049230463012404,0.6474674154960272,0.14905018984328233,2.3167978527966997,0.7364660739370348,0.3749318565262947,0.9288897792774973,-0.1942921808366397,0.31374923783511927,-0.6079657468292041,-0.8364045591854122,-0.7840679371807482,1.0034262747637828,-0.7200611813953035,-0.43342952172403715,1.3903584368560216,1.784088620611003,-0.3900662799552978,-1.044692625124553,-2.5785918159280428,-1.3193698884932636,0.42305764502783877,-0.7275810276248871,-1.548623891938159,-1.5260330324024227,0.7695060065797602,1.1205839262677475,0.9081501840759503,0.2981647176865847,-0.5721996866994705,-1.5090459367647826,0.7506333981343386,1.5733004362285037,-0.04703705384809499,0.4680216085387725,2.1063780689833873,-0.7299003888097821,0.4281522375279572,-0.5565964106988283,0.5550074331119446,1.4538814515840304,-0.5242761857362512,1.5851144383450977,-0.4839271918549374,-0.22226391231192297,0.20514792900166504,0.998486075254841,0.4692079876528167,0.0922979922432298,0.8156064617945102,-0.9036920914242179,1.3339651888486534,0.026011655012142122,0.25406908018394436,0.39819020629706114,0.7408442235335811,-0.581680192990201,0.7942897499014123,0.7588018954892162,0.8559649988912167,0.5196177194859225,0.49615394382343486,-1.3180990767373284,-0.0655875737773847,-1.0299116857455028,-0.27845423796497415,0.7601800437854018,-0.9066027011227964,-0.15312376369645234,-0.09002463244996343,0.7823817781087942,-1.0545466362956926,-0.46886613067437816],\"yaxis\":\"y13\",\"type\":\"scatter\"},{\"line\":{\"color\":\"rgba(128, 128, 128, 1.0)\",\"dash\":\"solid\",\"shape\":\"linear\",\"width\":1.3},\"marker\":{\"size\":2,\"symbol\":\"circle\"},\"mode\":\"markers\",\"name\":\"D\",\"text\":\"\",\"x\":[-0.18779694634083663,-0.9768747777936239,-0.9617060813443279,0.197065643612768,1.340929397816748,-1.3232533615754345,-2.0259340620314905,1.3720424743423618,0.6520890648028659,-0.41932683948669475,-1.363335162205523,-0.8553587408318004,-0.7394635951661027,0.25100966446739315,0.46718515105682107,-0.14146017827537008,-0.8279070301033035,-1.2119684379998945,0.20379101308495634,-0.9806731774649406,-0.5065649028838257,0.2810541046395991,-0.31782190707209146,-1.555986660814328,0.7662497570438935,-0.9369888348926171,0.27703325083280234,-0.6598593028247899,-0.9449459439451559,1.240520266816322,1.4264679639399598,-1.1730627067184463,-1.5066605928163657,0.8353550894476148,1.4982801480009753,0.8319700031342894,-1.1224839719439021,1.1185069740427773,-0.7614187418957616,0.5155454754170532,-0.34313811507216047,-0.5414476086799445,-1.112452714008785,0.7326274817406409,-0.5943387925000364,-0.4768340115793844,-1.3461081871655403,-0.12933353067823591,-0.40297665230636653,0.006557246081532544,1.3759861896026329,0.8846754036912591,0.09002571983935631,-1.2988629551569582,-0.029904874246396315,-0.42125574952617945,-0.8341864428969682,0.7529585537739358,-0.7075920400841483,-2.1632808308173335,1.7443130641008164,-0.38944158912883836,0.21387131131547868,-0.0633731793682945,-1.1337636365715162,-1.2983826748255411,0.20214958039855968,0.7709008558343915,0.6403445108383367,1.4424670532120223,0.24946478264779043,-0.046289137694677,-0.4934786116564103,-1.4398876714346023,0.31282870406445396,-1.423669106617544,0.45553142449835166,-0.16737708318922284,-0.30008922482127587,1.909902496996236,1.8619771416593967,0.09810651617958872,0.18514539299598032,0.5998217990174387,1.0632358038761172,-0.5620680822496272,0.7183843577275988,-1.9999902663899565,1.0166886446016847,0.2155427008896977,-0.7327144551915384,0.4835586454875864,-0.2782704871827044,0.001205405455120271,1.1669882507631362,-1.6734428564239001,-0.5234730162476214,-0.13811272513660197,0.6254559955851808,0.6580416784041457],\"xaxis\":\"x14\",\"y\":[0.41371642531357067,-1.3511298102848268,0.1548960633662548,0.2928423242436081,0.7046512836948919,-0.6160201190253954,0.544751394270657,0.46700210861198205,-1.1278814020881793,1.1095264509129468,0.9871547617479811,0.10444303057914157,0.404101184393867,-2.9148312003696115,1.2156172430718628,-0.28901698882451426,0.14140592739261507,-1.9166557047872312,-2.3364319402593763,0.4592299824160191,1.7309655473170684,0.19302300285031457,0.07416925441607174,1.6347327130881728,0.08955963658162003,1.216997807773552,0.3391924959976665,0.3049230463012404,0.6474674154960272,0.14905018984328233,2.3167978527966997,0.7364660739370348,0.3749318565262947,0.9288897792774973,-0.1942921808366397,0.31374923783511927,-0.6079657468292041,-0.8364045591854122,-0.7840679371807482,1.0034262747637828,-0.7200611813953035,-0.43342952172403715,1.3903584368560216,1.784088620611003,-0.3900662799552978,-1.044692625124553,-2.5785918159280428,-1.3193698884932636,0.42305764502783877,-0.7275810276248871,-1.548623891938159,-1.5260330324024227,0.7695060065797602,1.1205839262677475,0.9081501840759503,0.2981647176865847,-0.5721996866994705,-1.5090459367647826,0.7506333981343386,1.5733004362285037,-0.04703705384809499,0.4680216085387725,2.1063780689833873,-0.7299003888097821,0.4281522375279572,-0.5565964106988283,0.5550074331119446,1.4538814515840304,-0.5242761857362512,1.5851144383450977,-0.4839271918549374,-0.22226391231192297,0.20514792900166504,0.998486075254841,0.4692079876528167,0.0922979922432298,0.8156064617945102,-0.9036920914242179,1.3339651888486534,0.026011655012142122,0.25406908018394436,0.39819020629706114,0.7408442235335811,-0.581680192990201,0.7942897499014123,0.7588018954892162,0.8559649988912167,0.5196177194859225,0.49615394382343486,-1.3180990767373284,-0.0655875737773847,-1.0299116857455028,-0.27845423796497415,0.7601800437854018,-0.9066027011227964,-0.15312376369645234,-0.09002463244996343,0.7823817781087942,-1.0545466362956926,-0.46886613067437816],\"yaxis\":\"y14\",\"type\":\"scatter\"},{\"line\":{\"color\":\"rgba(128, 128, 128, 1.0)\",\"dash\":\"solid\",\"shape\":\"linear\",\"width\":1.3},\"marker\":{\"size\":2,\"symbol\":\"circle\"},\"mode\":\"markers\",\"name\":\"D\",\"text\":\"\",\"x\":[0.6660146560201892,0.5245301219101601,0.43382115747247946,0.8922340331365296,0.8641193282139618,-0.8518098206905238,0.18674029589743224,-0.014966937815831102,0.8551665114170287,0.8033261909999732,0.7897675971271274,1.157613005222821,0.5768556584854428,0.09813920891181775,-0.0944376339307584,1.3464222806889485,0.11846229120565024,-0.009303944483732791,1.231058845983251,2.2088575509275388,-0.5073938218683697,0.2556528001810601,-0.33435944939541534,-0.26933313547809634,-0.2399048498378512,0.2977345355677345,1.0401035561278884,-0.5821201256028381,0.7723124656962943,0.5125797344957835,-0.013627234680034723,-0.780425103771722,-0.11937830807855235,-1.509037019591643,1.564078622891511,2.102246836330988,0.5793156107984813,-0.3065155403892706,0.06770748488154607,1.347588081700279,0.12928862811571487,0.5883049998270433,-0.036559080202275024,-0.9130238681804977,-1.5333996429703753,-0.14377471822498186,-0.5504419759634435,-1.5401212296701923,-1.8433989526979813,-0.583256548398268,0.32345071378172074,0.38295802563406856,-0.056606779498337347,0.8107134398157455,0.9601107970202513,-1.5712034070309444,0.16131022295292374,-0.8010373423945429,0.4902610871771294,-0.11670838307325197,-1.1104100431849937,0.46191709144271115,1.0787446245295178,0.1440328540082415,0.6524455869633207,0.6695182330624644,-0.8741455985258808,0.054670067158501916,1.906599426857935,1.1270859571613916,-1.7572582737086777,-0.29063767269565344,-0.056676472901348085,0.40500520904624226,0.7672363718859002,0.8323565380863586,0.40169683772101256,-1.104880019485082,0.49044070982808574,-1.5181676326203275,0.35957198183196376,0.8312408765990674,-0.8063142176087974,-0.20880199080181536,0.5325485848875602,-0.5584023159513228,2.0180821936843527,0.9407008534666642,-0.5193374212520715,-1.8557339657719096,-0.14640750311683007,0.9623322966157689,1.568791046309809,-1.3142857595514221,-0.3460336058002607,-1.6696987761631563,1.0667422218903113,-0.8842207201397441,-0.2705983021728778,0.438881212106342],\"xaxis\":\"x15\",\"y\":[0.41371642531357067,-1.3511298102848268,0.1548960633662548,0.2928423242436081,0.7046512836948919,-0.6160201190253954,0.544751394270657,0.46700210861198205,-1.1278814020881793,1.1095264509129468,0.9871547617479811,0.10444303057914157,0.404101184393867,-2.9148312003696115,1.2156172430718628,-0.28901698882451426,0.14140592739261507,-1.9166557047872312,-2.3364319402593763,0.4592299824160191,1.7309655473170684,0.19302300285031457,0.07416925441607174,1.6347327130881728,0.08955963658162003,1.216997807773552,0.3391924959976665,0.3049230463012404,0.6474674154960272,0.14905018984328233,2.3167978527966997,0.7364660739370348,0.3749318565262947,0.9288897792774973,-0.1942921808366397,0.31374923783511927,-0.6079657468292041,-0.8364045591854122,-0.7840679371807482,1.0034262747637828,-0.7200611813953035,-0.43342952172403715,1.3903584368560216,1.784088620611003,-0.3900662799552978,-1.044692625124553,-2.5785918159280428,-1.3193698884932636,0.42305764502783877,-0.7275810276248871,-1.548623891938159,-1.5260330324024227,0.7695060065797602,1.1205839262677475,0.9081501840759503,0.2981647176865847,-0.5721996866994705,-1.5090459367647826,0.7506333981343386,1.5733004362285037,-0.04703705384809499,0.4680216085387725,2.1063780689833873,-0.7299003888097821,0.4281522375279572,-0.5565964106988283,0.5550074331119446,1.4538814515840304,-0.5242761857362512,1.5851144383450977,-0.4839271918549374,-0.22226391231192297,0.20514792900166504,0.998486075254841,0.4692079876528167,0.0922979922432298,0.8156064617945102,-0.9036920914242179,1.3339651888486534,0.026011655012142122,0.25406908018394436,0.39819020629706114,0.7408442235335811,-0.581680192990201,0.7942897499014123,0.7588018954892162,0.8559649988912167,0.5196177194859225,0.49615394382343486,-1.3180990767373284,-0.0655875737773847,-1.0299116857455028,-0.27845423796497415,0.7601800437854018,-0.9066027011227964,-0.15312376369645234,-0.09002463244996343,0.7823817781087942,-1.0545466362956926,-0.46886613067437816],\"yaxis\":\"y15\",\"type\":\"scatter\"},{\"histfunc\":\"count\",\"histnorm\":\"\",\"marker\":{\"color\":\"rgba(128, 0, 128, 1.0)\",\"line\":{\"color\":\"#4D5663\",\"width\":1.3}},\"name\":\"D\",\"nbinsx\":10,\"opacity\":0.8,\"orientation\":\"v\",\"x\":[0.41371642531357067,-1.3511298102848268,0.1548960633662548,0.2928423242436081,0.7046512836948919,-0.6160201190253954,0.544751394270657,0.46700210861198205,-1.1278814020881793,1.1095264509129468,0.9871547617479811,0.10444303057914157,0.404101184393867,-2.9148312003696115,1.2156172430718628,-0.28901698882451426,0.14140592739261507,-1.9166557047872312,-2.3364319402593763,0.4592299824160191,1.7309655473170684,0.19302300285031457,0.07416925441607174,1.6347327130881728,0.08955963658162003,1.216997807773552,0.3391924959976665,0.3049230463012404,0.6474674154960272,0.14905018984328233,2.3167978527966997,0.7364660739370348,0.3749318565262947,0.9288897792774973,-0.1942921808366397,0.31374923783511927,-0.6079657468292041,-0.8364045591854122,-0.7840679371807482,1.0034262747637828,-0.7200611813953035,-0.43342952172403715,1.3903584368560216,1.784088620611003,-0.3900662799552978,-1.044692625124553,-2.5785918159280428,-1.3193698884932636,0.42305764502783877,-0.7275810276248871,-1.548623891938159,-1.5260330324024227,0.7695060065797602,1.1205839262677475,0.9081501840759503,0.2981647176865847,-0.5721996866994705,-1.5090459367647826,0.7506333981343386,1.5733004362285037,-0.04703705384809499,0.4680216085387725,2.1063780689833873,-0.7299003888097821,0.4281522375279572,-0.5565964106988283,0.5550074331119446,1.4538814515840304,-0.5242761857362512,1.5851144383450977,-0.4839271918549374,-0.22226391231192297,0.20514792900166504,0.998486075254841,0.4692079876528167,0.0922979922432298,0.8156064617945102,-0.9036920914242179,1.3339651888486534,0.026011655012142122,0.25406908018394436,0.39819020629706114,0.7408442235335811,-0.581680192990201,0.7942897499014123,0.7588018954892162,0.8559649988912167,0.5196177194859225,0.49615394382343486,-1.3180990767373284,-0.0655875737773847,-1.0299116857455028,-0.27845423796497415,0.7601800437854018,-0.9066027011227964,-0.15312376369645234,-0.09002463244996343,0.7823817781087942,-1.0545466362956926,-0.46886613067437816],\"xaxis\":\"x16\",\"yaxis\":\"y16\",\"type\":\"histogram\"}],                        {\"bargap\":0.02,\"legend\":{\"bgcolor\":\"#F5F6F9\",\"font\":{\"color\":\"#4D5663\"}},\"paper_bgcolor\":\"#F5F6F9\",\"plot_bgcolor\":\"#F5F6F9\",\"showlegend\":false,\"template\":{\"data\":{\"barpolar\":[{\"marker\":{\"line\":{\"color\":\"#E5ECF6\",\"width\":0.5},\"pattern\":{\"fillmode\":\"overlay\",\"size\":10,\"solidity\":0.2}},\"type\":\"barpolar\"}],\"bar\":[{\"error_x\":{\"color\":\"#2a3f5f\"},\"error_y\":{\"color\":\"#2a3f5f\"},\"marker\":{\"line\":{\"color\":\"#E5ECF6\",\"width\":0.5},\"pattern\":{\"fillmode\":\"overlay\",\"size\":10,\"solidity\":0.2}},\"type\":\"bar\"}],\"carpet\":[{\"aaxis\":{\"endlinecolor\":\"#2a3f5f\",\"gridcolor\":\"white\",\"linecolor\":\"white\",\"minorgridcolor\":\"white\",\"startlinecolor\":\"#2a3f5f\"},\"baxis\":{\"endlinecolor\":\"#2a3f5f\",\"gridcolor\":\"white\",\"linecolor\":\"white\",\"minorgridcolor\":\"white\",\"startlinecolor\":\"#2a3f5f\"},\"type\":\"carpet\"}],\"choropleth\":[{\"colorbar\":{\"outlinewidth\":0,\"ticks\":\"\"},\"type\":\"choropleth\"}],\"contourcarpet\":[{\"colorbar\":{\"outlinewidth\":0,\"ticks\":\"\"},\"type\":\"contourcarpet\"}],\"contour\":[{\"colorbar\":{\"outlinewidth\":0,\"ticks\":\"\"},\"colorscale\":[[0.0,\"#0d0887\"],[0.1111111111111111,\"#46039f\"],[0.2222222222222222,\"#7201a8\"],[0.3333333333333333,\"#9c179e\"],[0.4444444444444444,\"#bd3786\"],[0.5555555555555556,\"#d8576b\"],[0.6666666666666666,\"#ed7953\"],[0.7777777777777778,\"#fb9f3a\"],[0.8888888888888888,\"#fdca26\"],[1.0,\"#f0f921\"]],\"type\":\"contour\"}],\"heatmapgl\":[{\"colorbar\":{\"outlinewidth\":0,\"ticks\":\"\"},\"colorscale\":[[0.0,\"#0d0887\"],[0.1111111111111111,\"#46039f\"],[0.2222222222222222,\"#7201a8\"],[0.3333333333333333,\"#9c179e\"],[0.4444444444444444,\"#bd3786\"],[0.5555555555555556,\"#d8576b\"],[0.6666666666666666,\"#ed7953\"],[0.7777777777777778,\"#fb9f3a\"],[0.8888888888888888,\"#fdca26\"],[1.0,\"#f0f921\"]],\"type\":\"heatmapgl\"}],\"heatmap\":[{\"colorbar\":{\"outlinewidth\":0,\"ticks\":\"\"},\"colorscale\":[[0.0,\"#0d0887\"],[0.1111111111111111,\"#46039f\"],[0.2222222222222222,\"#7201a8\"],[0.3333333333333333,\"#9c179e\"],[0.4444444444444444,\"#bd3786\"],[0.5555555555555556,\"#d8576b\"],[0.6666666666666666,\"#ed7953\"],[0.7777777777777778,\"#fb9f3a\"],[0.8888888888888888,\"#fdca26\"],[1.0,\"#f0f921\"]],\"type\":\"heatmap\"}],\"histogram2dcontour\":[{\"colorbar\":{\"outlinewidth\":0,\"ticks\":\"\"},\"colorscale\":[[0.0,\"#0d0887\"],[0.1111111111111111,\"#46039f\"],[0.2222222222222222,\"#7201a8\"],[0.3333333333333333,\"#9c179e\"],[0.4444444444444444,\"#bd3786\"],[0.5555555555555556,\"#d8576b\"],[0.6666666666666666,\"#ed7953\"],[0.7777777777777778,\"#fb9f3a\"],[0.8888888888888888,\"#fdca26\"],[1.0,\"#f0f921\"]],\"type\":\"histogram2dcontour\"}],\"histogram2d\":[{\"colorbar\":{\"outlinewidth\":0,\"ticks\":\"\"},\"colorscale\":[[0.0,\"#0d0887\"],[0.1111111111111111,\"#46039f\"],[0.2222222222222222,\"#7201a8\"],[0.3333333333333333,\"#9c179e\"],[0.4444444444444444,\"#bd3786\"],[0.5555555555555556,\"#d8576b\"],[0.6666666666666666,\"#ed7953\"],[0.7777777777777778,\"#fb9f3a\"],[0.8888888888888888,\"#fdca26\"],[1.0,\"#f0f921\"]],\"type\":\"histogram2d\"}],\"histogram\":[{\"marker\":{\"pattern\":{\"fillmode\":\"overlay\",\"size\":10,\"solidity\":0.2}},\"type\":\"histogram\"}],\"mesh3d\":[{\"colorbar\":{\"outlinewidth\":0,\"ticks\":\"\"},\"type\":\"mesh3d\"}],\"parcoords\":[{\"line\":{\"colorbar\":{\"outlinewidth\":0,\"ticks\":\"\"}},\"type\":\"parcoords\"}],\"pie\":[{\"automargin\":true,\"type\":\"pie\"}],\"scatter3d\":[{\"line\":{\"colorbar\":{\"outlinewidth\":0,\"ticks\":\"\"}},\"marker\":{\"colorbar\":{\"outlinewidth\":0,\"ticks\":\"\"}},\"type\":\"scatter3d\"}],\"scattercarpet\":[{\"marker\":{\"colorbar\":{\"outlinewidth\":0,\"ticks\":\"\"}},\"type\":\"scattercarpet\"}],\"scattergeo\":[{\"marker\":{\"colorbar\":{\"outlinewidth\":0,\"ticks\":\"\"}},\"type\":\"scattergeo\"}],\"scattergl\":[{\"marker\":{\"colorbar\":{\"outlinewidth\":0,\"ticks\":\"\"}},\"type\":\"scattergl\"}],\"scattermapbox\":[{\"marker\":{\"colorbar\":{\"outlinewidth\":0,\"ticks\":\"\"}},\"type\":\"scattermapbox\"}],\"scatterpolargl\":[{\"marker\":{\"colorbar\":{\"outlinewidth\":0,\"ticks\":\"\"}},\"type\":\"scatterpolargl\"}],\"scatterpolar\":[{\"marker\":{\"colorbar\":{\"outlinewidth\":0,\"ticks\":\"\"}},\"type\":\"scatterpolar\"}],\"scatter\":[{\"fillpattern\":{\"fillmode\":\"overlay\",\"size\":10,\"solidity\":0.2},\"type\":\"scatter\"}],\"scatterternary\":[{\"marker\":{\"colorbar\":{\"outlinewidth\":0,\"ticks\":\"\"}},\"type\":\"scatterternary\"}],\"surface\":[{\"colorbar\":{\"outlinewidth\":0,\"ticks\":\"\"},\"colorscale\":[[0.0,\"#0d0887\"],[0.1111111111111111,\"#46039f\"],[0.2222222222222222,\"#7201a8\"],[0.3333333333333333,\"#9c179e\"],[0.4444444444444444,\"#bd3786\"],[0.5555555555555556,\"#d8576b\"],[0.6666666666666666,\"#ed7953\"],[0.7777777777777778,\"#fb9f3a\"],[0.8888888888888888,\"#fdca26\"],[1.0,\"#f0f921\"]],\"type\":\"surface\"}],\"table\":[{\"cells\":{\"fill\":{\"color\":\"#EBF0F8\"},\"line\":{\"color\":\"white\"}},\"header\":{\"fill\":{\"color\":\"#C8D4E3\"},\"line\":{\"color\":\"white\"}},\"type\":\"table\"}]},\"layout\":{\"annotationdefaults\":{\"arrowcolor\":\"#2a3f5f\",\"arrowhead\":0,\"arrowwidth\":1},\"autotypenumbers\":\"strict\",\"coloraxis\":{\"colorbar\":{\"outlinewidth\":0,\"ticks\":\"\"}},\"colorscale\":{\"diverging\":[[0,\"#8e0152\"],[0.1,\"#c51b7d\"],[0.2,\"#de77ae\"],[0.3,\"#f1b6da\"],[0.4,\"#fde0ef\"],[0.5,\"#f7f7f7\"],[0.6,\"#e6f5d0\"],[0.7,\"#b8e186\"],[0.8,\"#7fbc41\"],[0.9,\"#4d9221\"],[1,\"#276419\"]],\"sequential\":[[0.0,\"#0d0887\"],[0.1111111111111111,\"#46039f\"],[0.2222222222222222,\"#7201a8\"],[0.3333333333333333,\"#9c179e\"],[0.4444444444444444,\"#bd3786\"],[0.5555555555555556,\"#d8576b\"],[0.6666666666666666,\"#ed7953\"],[0.7777777777777778,\"#fb9f3a\"],[0.8888888888888888,\"#fdca26\"],[1.0,\"#f0f921\"]],\"sequentialminus\":[[0.0,\"#0d0887\"],[0.1111111111111111,\"#46039f\"],[0.2222222222222222,\"#7201a8\"],[0.3333333333333333,\"#9c179e\"],[0.4444444444444444,\"#bd3786\"],[0.5555555555555556,\"#d8576b\"],[0.6666666666666666,\"#ed7953\"],[0.7777777777777778,\"#fb9f3a\"],[0.8888888888888888,\"#fdca26\"],[1.0,\"#f0f921\"]]},\"colorway\":[\"#636efa\",\"#EF553B\",\"#00cc96\",\"#ab63fa\",\"#FFA15A\",\"#19d3f3\",\"#FF6692\",\"#B6E880\",\"#FF97FF\",\"#FECB52\"],\"font\":{\"color\":\"#2a3f5f\"},\"geo\":{\"bgcolor\":\"white\",\"lakecolor\":\"white\",\"landcolor\":\"#E5ECF6\",\"showlakes\":true,\"showland\":true,\"subunitcolor\":\"white\"},\"hoverlabel\":{\"align\":\"left\"},\"hovermode\":\"closest\",\"mapbox\":{\"style\":\"light\"},\"paper_bgcolor\":\"white\",\"plot_bgcolor\":\"#E5ECF6\",\"polar\":{\"angularaxis\":{\"gridcolor\":\"white\",\"linecolor\":\"white\",\"ticks\":\"\"},\"bgcolor\":\"#E5ECF6\",\"radialaxis\":{\"gridcolor\":\"white\",\"linecolor\":\"white\",\"ticks\":\"\"}},\"scene\":{\"xaxis\":{\"backgroundcolor\":\"#E5ECF6\",\"gridcolor\":\"white\",\"gridwidth\":2,\"linecolor\":\"white\",\"showbackground\":true,\"ticks\":\"\",\"zerolinecolor\":\"white\"},\"yaxis\":{\"backgroundcolor\":\"#E5ECF6\",\"gridcolor\":\"white\",\"gridwidth\":2,\"linecolor\":\"white\",\"showbackground\":true,\"ticks\":\"\",\"zerolinecolor\":\"white\"},\"zaxis\":{\"backgroundcolor\":\"#E5ECF6\",\"gridcolor\":\"white\",\"gridwidth\":2,\"linecolor\":\"white\",\"showbackground\":true,\"ticks\":\"\",\"zerolinecolor\":\"white\"}},\"shapedefaults\":{\"line\":{\"color\":\"#2a3f5f\"}},\"ternary\":{\"aaxis\":{\"gridcolor\":\"white\",\"linecolor\":\"white\",\"ticks\":\"\"},\"baxis\":{\"gridcolor\":\"white\",\"linecolor\":\"white\",\"ticks\":\"\"},\"bgcolor\":\"#E5ECF6\",\"caxis\":{\"gridcolor\":\"white\",\"linecolor\":\"white\",\"ticks\":\"\"}},\"title\":{\"x\":0.05},\"xaxis\":{\"automargin\":true,\"gridcolor\":\"white\",\"linecolor\":\"white\",\"ticks\":\"\",\"title\":{\"standoff\":15},\"zerolinecolor\":\"white\",\"zerolinewidth\":2},\"yaxis\":{\"automargin\":true,\"gridcolor\":\"white\",\"linecolor\":\"white\",\"ticks\":\"\",\"title\":{\"standoff\":15},\"zerolinecolor\":\"white\",\"zerolinewidth\":2}}},\"title\":{\"font\":{\"color\":\"#4D5663\"}},\"xaxis\":{\"anchor\":\"y\",\"domain\":[0.0,0.2125],\"gridcolor\":\"#E1E5ED\",\"showgrid\":false,\"tickfont\":{\"color\":\"#4D5663\"},\"title\":{\"font\":{\"color\":\"#4D5663\"},\"text\":\"\"},\"zerolinecolor\":\"#E1E5ED\"},\"yaxis\":{\"anchor\":\"x\",\"domain\":[0.8025,1.0],\"gridcolor\":\"#E1E5ED\",\"showgrid\":false,\"tickfont\":{\"color\":\"#4D5663\"},\"title\":{\"font\":{\"color\":\"#4D5663\"},\"text\":\"\"},\"zerolinecolor\":\"#E1E5ED\"},\"xaxis2\":{\"anchor\":\"y2\",\"domain\":[0.2625,0.475],\"gridcolor\":\"#E1E5ED\",\"showgrid\":false,\"tickfont\":{\"color\":\"#4D5663\"},\"title\":{\"font\":{\"color\":\"#4D5663\"},\"text\":\"\"},\"zerolinecolor\":\"#E1E5ED\"},\"yaxis2\":{\"anchor\":\"x2\",\"domain\":[0.8025,1.0],\"gridcolor\":\"#E1E5ED\",\"showgrid\":false,\"tickfont\":{\"color\":\"#4D5663\"},\"title\":{\"font\":{\"color\":\"#4D5663\"},\"text\":\"\"},\"zerolinecolor\":\"#E1E5ED\"},\"xaxis3\":{\"anchor\":\"y3\",\"domain\":[0.525,0.7375],\"gridcolor\":\"#E1E5ED\",\"showgrid\":false,\"tickfont\":{\"color\":\"#4D5663\"},\"title\":{\"font\":{\"color\":\"#4D5663\"},\"text\":\"\"},\"zerolinecolor\":\"#E1E5ED\"},\"yaxis3\":{\"anchor\":\"x3\",\"domain\":[0.8025,1.0],\"gridcolor\":\"#E1E5ED\",\"showgrid\":false,\"tickfont\":{\"color\":\"#4D5663\"},\"title\":{\"font\":{\"color\":\"#4D5663\"},\"text\":\"\"},\"zerolinecolor\":\"#E1E5ED\"},\"xaxis4\":{\"anchor\":\"y4\",\"domain\":[0.7875,1.0],\"gridcolor\":\"#E1E5ED\",\"showgrid\":false,\"tickfont\":{\"color\":\"#4D5663\"},\"title\":{\"font\":{\"color\":\"#4D5663\"},\"text\":\"\"},\"zerolinecolor\":\"#E1E5ED\"},\"yaxis4\":{\"anchor\":\"x4\",\"domain\":[0.8025,1.0],\"gridcolor\":\"#E1E5ED\",\"showgrid\":false,\"tickfont\":{\"color\":\"#4D5663\"},\"title\":{\"font\":{\"color\":\"#4D5663\"},\"text\":\"\"},\"zerolinecolor\":\"#E1E5ED\"},\"xaxis5\":{\"anchor\":\"y5\",\"domain\":[0.0,0.2125],\"gridcolor\":\"#E1E5ED\",\"showgrid\":false,\"tickfont\":{\"color\":\"#4D5663\"},\"title\":{\"font\":{\"color\":\"#4D5663\"},\"text\":\"\"},\"zerolinecolor\":\"#E1E5ED\"},\"yaxis5\":{\"anchor\":\"x5\",\"domain\":[0.535,0.7325],\"gridcolor\":\"#E1E5ED\",\"showgrid\":false,\"tickfont\":{\"color\":\"#4D5663\"},\"title\":{\"font\":{\"color\":\"#4D5663\"},\"text\":\"\"},\"zerolinecolor\":\"#E1E5ED\"},\"xaxis6\":{\"anchor\":\"y6\",\"domain\":[0.2625,0.475],\"gridcolor\":\"#E1E5ED\",\"showgrid\":false,\"tickfont\":{\"color\":\"#4D5663\"},\"title\":{\"font\":{\"color\":\"#4D5663\"},\"text\":\"\"},\"zerolinecolor\":\"#E1E5ED\"},\"yaxis6\":{\"anchor\":\"x6\",\"domain\":[0.535,0.7325],\"gridcolor\":\"#E1E5ED\",\"showgrid\":false,\"tickfont\":{\"color\":\"#4D5663\"},\"title\":{\"font\":{\"color\":\"#4D5663\"},\"text\":\"\"},\"zerolinecolor\":\"#E1E5ED\"},\"xaxis7\":{\"anchor\":\"y7\",\"domain\":[0.525,0.7375],\"gridcolor\":\"#E1E5ED\",\"showgrid\":false,\"tickfont\":{\"color\":\"#4D5663\"},\"title\":{\"font\":{\"color\":\"#4D5663\"},\"text\":\"\"},\"zerolinecolor\":\"#E1E5ED\"},\"yaxis7\":{\"anchor\":\"x7\",\"domain\":[0.535,0.7325],\"gridcolor\":\"#E1E5ED\",\"showgrid\":false,\"tickfont\":{\"color\":\"#4D5663\"},\"title\":{\"font\":{\"color\":\"#4D5663\"},\"text\":\"\"},\"zerolinecolor\":\"#E1E5ED\"},\"xaxis8\":{\"anchor\":\"y8\",\"domain\":[0.7875,1.0],\"gridcolor\":\"#E1E5ED\",\"showgrid\":false,\"tickfont\":{\"color\":\"#4D5663\"},\"title\":{\"font\":{\"color\":\"#4D5663\"},\"text\":\"\"},\"zerolinecolor\":\"#E1E5ED\"},\"yaxis8\":{\"anchor\":\"x8\",\"domain\":[0.535,0.7325],\"gridcolor\":\"#E1E5ED\",\"showgrid\":false,\"tickfont\":{\"color\":\"#4D5663\"},\"title\":{\"font\":{\"color\":\"#4D5663\"},\"text\":\"\"},\"zerolinecolor\":\"#E1E5ED\"},\"xaxis9\":{\"anchor\":\"y9\",\"domain\":[0.0,0.2125],\"gridcolor\":\"#E1E5ED\",\"showgrid\":false,\"tickfont\":{\"color\":\"#4D5663\"},\"title\":{\"font\":{\"color\":\"#4D5663\"},\"text\":\"\"},\"zerolinecolor\":\"#E1E5ED\"},\"yaxis9\":{\"anchor\":\"x9\",\"domain\":[0.2675,0.465],\"gridcolor\":\"#E1E5ED\",\"showgrid\":false,\"tickfont\":{\"color\":\"#4D5663\"},\"title\":{\"font\":{\"color\":\"#4D5663\"},\"text\":\"\"},\"zerolinecolor\":\"#E1E5ED\"},\"xaxis10\":{\"anchor\":\"y10\",\"domain\":[0.2625,0.475],\"gridcolor\":\"#E1E5ED\",\"showgrid\":false,\"tickfont\":{\"color\":\"#4D5663\"},\"title\":{\"font\":{\"color\":\"#4D5663\"},\"text\":\"\"},\"zerolinecolor\":\"#E1E5ED\"},\"yaxis10\":{\"anchor\":\"x10\",\"domain\":[0.2675,0.465],\"gridcolor\":\"#E1E5ED\",\"showgrid\":false,\"tickfont\":{\"color\":\"#4D5663\"},\"title\":{\"font\":{\"color\":\"#4D5663\"},\"text\":\"\"},\"zerolinecolor\":\"#E1E5ED\"},\"xaxis11\":{\"anchor\":\"y11\",\"domain\":[0.525,0.7375],\"gridcolor\":\"#E1E5ED\",\"showgrid\":false,\"tickfont\":{\"color\":\"#4D5663\"},\"title\":{\"font\":{\"color\":\"#4D5663\"},\"text\":\"\"},\"zerolinecolor\":\"#E1E5ED\"},\"yaxis11\":{\"anchor\":\"x11\",\"domain\":[0.2675,0.465],\"gridcolor\":\"#E1E5ED\",\"showgrid\":false,\"tickfont\":{\"color\":\"#4D5663\"},\"title\":{\"font\":{\"color\":\"#4D5663\"},\"text\":\"\"},\"zerolinecolor\":\"#E1E5ED\"},\"xaxis12\":{\"anchor\":\"y12\",\"domain\":[0.7875,1.0],\"gridcolor\":\"#E1E5ED\",\"showgrid\":false,\"tickfont\":{\"color\":\"#4D5663\"},\"title\":{\"font\":{\"color\":\"#4D5663\"},\"text\":\"\"},\"zerolinecolor\":\"#E1E5ED\"},\"yaxis12\":{\"anchor\":\"x12\",\"domain\":[0.2675,0.465],\"gridcolor\":\"#E1E5ED\",\"showgrid\":false,\"tickfont\":{\"color\":\"#4D5663\"},\"title\":{\"font\":{\"color\":\"#4D5663\"},\"text\":\"\"},\"zerolinecolor\":\"#E1E5ED\"},\"xaxis13\":{\"anchor\":\"y13\",\"domain\":[0.0,0.2125],\"gridcolor\":\"#E1E5ED\",\"showgrid\":false,\"tickfont\":{\"color\":\"#4D5663\"},\"title\":{\"font\":{\"color\":\"#4D5663\"},\"text\":\"\"},\"zerolinecolor\":\"#E1E5ED\"},\"yaxis13\":{\"anchor\":\"x13\",\"domain\":[0.0,0.1975],\"gridcolor\":\"#E1E5ED\",\"showgrid\":false,\"tickfont\":{\"color\":\"#4D5663\"},\"title\":{\"font\":{\"color\":\"#4D5663\"},\"text\":\"\"},\"zerolinecolor\":\"#E1E5ED\"},\"xaxis14\":{\"anchor\":\"y14\",\"domain\":[0.2625,0.475],\"gridcolor\":\"#E1E5ED\",\"showgrid\":false,\"tickfont\":{\"color\":\"#4D5663\"},\"title\":{\"font\":{\"color\":\"#4D5663\"},\"text\":\"\"},\"zerolinecolor\":\"#E1E5ED\"},\"yaxis14\":{\"anchor\":\"x14\",\"domain\":[0.0,0.1975],\"gridcolor\":\"#E1E5ED\",\"showgrid\":false,\"tickfont\":{\"color\":\"#4D5663\"},\"title\":{\"font\":{\"color\":\"#4D5663\"},\"text\":\"\"},\"zerolinecolor\":\"#E1E5ED\"},\"xaxis15\":{\"anchor\":\"y15\",\"domain\":[0.525,0.7375],\"gridcolor\":\"#E1E5ED\",\"showgrid\":false,\"tickfont\":{\"color\":\"#4D5663\"},\"title\":{\"font\":{\"color\":\"#4D5663\"},\"text\":\"\"},\"zerolinecolor\":\"#E1E5ED\"},\"yaxis15\":{\"anchor\":\"x15\",\"domain\":[0.0,0.1975],\"gridcolor\":\"#E1E5ED\",\"showgrid\":false,\"tickfont\":{\"color\":\"#4D5663\"},\"title\":{\"font\":{\"color\":\"#4D5663\"},\"text\":\"\"},\"zerolinecolor\":\"#E1E5ED\"},\"xaxis16\":{\"anchor\":\"y16\",\"domain\":[0.7875,1.0],\"gridcolor\":\"#E1E5ED\",\"showgrid\":false,\"tickfont\":{\"color\":\"#4D5663\"},\"title\":{\"font\":{\"color\":\"#4D5663\"},\"text\":\"\"},\"zerolinecolor\":\"#E1E5ED\"},\"yaxis16\":{\"anchor\":\"x16\",\"domain\":[0.0,0.1975],\"gridcolor\":\"#E1E5ED\",\"showgrid\":false,\"tickfont\":{\"color\":\"#4D5663\"},\"title\":{\"font\":{\"color\":\"#4D5663\"},\"text\":\"\"},\"zerolinecolor\":\"#E1E5ED\"}},                        {\"showLink\": true, \"linkText\": \"Export to plot.ly\", \"plotlyServerURL\": \"https://plot.ly\", \"responsive\": true}                    ).then(function(){\n",
       "                            \n",
       "var gd = document.getElementById('7992472d-431d-4b4b-88b7-b1db1474eee4');\n",
       "var x = new MutationObserver(function (mutations, observer) {{\n",
       "        var display = window.getComputedStyle(gd).display;\n",
       "        if (!display || display === 'none') {{\n",
       "            console.log([gd, 'removed!']);\n",
       "            Plotly.purge(gd);\n",
       "            observer.disconnect();\n",
       "        }}\n",
       "}});\n",
       "\n",
       "// Listen for the removal of the full notebook cells\n",
       "var notebookContainer = gd.closest('#notebook-container');\n",
       "if (notebookContainer) {{\n",
       "    x.observe(notebookContainer, {childList: true});\n",
       "}}\n",
       "\n",
       "// Listen for the clearing of the current output cell\n",
       "var outputEl = gd.closest('.output');\n",
       "if (outputEl) {{\n",
       "    x.observe(outputEl, {childList: true});\n",
       "}}\n",
       "\n",
       "                        })                };                });            </script>        </div>"
      ]
     },
     "metadata": {},
     "output_type": "display_data"
    }
   ],
   "source": [
    "df.scatter_matrix()"
   ]
  },
  {
   "cell_type": "code",
   "execution_count": null,
   "id": "c408147b-46a9-4398-af0d-09374eedbd8c",
   "metadata": {},
   "outputs": [],
   "source": []
  }
 ],
 "metadata": {
  "kernelspec": {
   "display_name": "Python 3 (ipykernel)",
   "language": "python",
   "name": "python3"
  },
  "language_info": {
   "codemirror_mode": {
    "name": "ipython",
    "version": 3
   },
   "file_extension": ".py",
   "mimetype": "text/x-python",
   "name": "python",
   "nbconvert_exporter": "python",
   "pygments_lexer": "ipython3",
   "version": "3.12.3"
  }
 },
 "nbformat": 4,
 "nbformat_minor": 5
}
